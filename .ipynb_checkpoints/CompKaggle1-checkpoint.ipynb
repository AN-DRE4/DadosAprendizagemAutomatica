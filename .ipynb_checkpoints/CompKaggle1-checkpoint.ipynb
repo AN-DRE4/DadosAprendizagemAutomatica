{
 "cells": [
  {
   "cell_type": "markdown",
   "metadata": {},
   "source": [
    "# Feature Engineering, Decision Tree Pruning and Hyperparameter Tuning"
   ]
  },
  {
   "cell_type": "markdown",
   "metadata": {
    "tags": []
   },
   "source": [
    "### The Data\n",
    "We will be using the datasets <em>energia_*.csv</em> and <em>meteo_*.csv</em>. \n",
    "\n",
    "The first one contains 6 features where the one used for training has 2256 entries, the one for tunning has 8760 and for testing has also 2256, including:\n",
    "\n",
    "- Data\n",
    "- Hora\n",
    "- Normal (kWh)\n",
    "- Horario Economico (kWh)\n",
    "- Autoconsumo (kWh)\n",
    "- Injecao na rede (kWh)\n",
    " \n",
    "And the second one contains 15 features where the one used for training has 2928 entries, the one for tunning has 8760 and for testing has also 1752, including:\n",
    "\n",
    "- dt\n",
    "- dt_iso\n",
    "- city_name \n",
    "- temp\n",
    "- feels_like\n",
    "- temp_min\n",
    "- temp_max\n",
    "- pressure\n",
    "- sea_level\n",
    "- grnd_level\n",
    "- humidity\n",
    "- wind_speed\n",
    "- rain_1h\n",
    "- clouds_all\n",
    "- weather_description"
   ]
  },
  {
   "cell_type": "markdown",
   "metadata": {
    "tags": []
   },
   "source": [
    "## Import Libraries"
   ]
  },
  {
   "cell_type": "code",
   "execution_count": 1,
   "metadata": {},
   "outputs": [],
   "source": [
    "import pandas as pd\n",
    "import numpy as np\n",
    "import matplotlib.pyplot as plt\n",
    "import seaborn as sns\n",
    "%matplotlib inline"
   ]
  },
  {
   "cell_type": "markdown",
   "metadata": {
    "tags": []
   },
   "source": [
    "## Get the data"
   ]
  },
  {
   "cell_type": "code",
   "execution_count": 2,
   "metadata": {},
   "outputs": [],
   "source": [
    "energy_1 = pd.read_csv('energia_202109-202112.csv')\n",
    "energy_2 = pd.read_csv('energia_202201-202212.csv')\n",
    "energy_test = pd.read_csv('energia_202301-202304.csv')\n",
    "\n",
    "meteo_1 = pd.read_csv('meteo_202109-202112.csv')\n",
    "meteo_2 = pd.read_csv('meteo_202201-202212.csv')\n",
    "meteo_test = pd.read_csv('meteo_202301-202304.csv')"
   ]
  },
  {
   "cell_type": "code",
   "execution_count": 3,
   "metadata": {},
   "outputs": [
    {
     "data": {
      "text/plain": [
       "Index(['Data', 'Hora', 'Normal (kWh)', 'Horario Economico (kWh)',\n",
       "       'Autoconsumo (kWh)', 'Injecao na rede (kWh)'],\n",
       "      dtype='object')"
      ]
     },
     "execution_count": 3,
     "metadata": {},
     "output_type": "execute_result"
    }
   ],
   "source": [
    "energy_1.columns"
   ]
  },
  {
   "cell_type": "code",
   "execution_count": 4,
   "metadata": {},
   "outputs": [
    {
     "data": {
      "text/html": [
       "<div>\n",
       "<style scoped>\n",
       "    .dataframe tbody tr th:only-of-type {\n",
       "        vertical-align: middle;\n",
       "    }\n",
       "\n",
       "    .dataframe tbody tr th {\n",
       "        vertical-align: top;\n",
       "    }\n",
       "\n",
       "    .dataframe thead th {\n",
       "        text-align: right;\n",
       "    }\n",
       "</style>\n",
       "<table border=\"1\" class=\"dataframe\">\n",
       "  <thead>\n",
       "    <tr style=\"text-align: right;\">\n",
       "      <th></th>\n",
       "      <th>Data</th>\n",
       "      <th>Hora</th>\n",
       "      <th>Normal (kWh)</th>\n",
       "      <th>Horario Economico (kWh)</th>\n",
       "      <th>Autoconsumo (kWh)</th>\n",
       "      <th>Injecao na rede (kWh)</th>\n",
       "    </tr>\n",
       "  </thead>\n",
       "  <tbody>\n",
       "    <tr>\n",
       "      <th>0</th>\n",
       "      <td>2021-09-29</td>\n",
       "      <td>0</td>\n",
       "      <td>0.0</td>\n",
       "      <td>0.0</td>\n",
       "      <td>0.0</td>\n",
       "      <td>NaN</td>\n",
       "    </tr>\n",
       "    <tr>\n",
       "      <th>1</th>\n",
       "      <td>2021-09-29</td>\n",
       "      <td>1</td>\n",
       "      <td>0.0</td>\n",
       "      <td>0.0</td>\n",
       "      <td>0.0</td>\n",
       "      <td>NaN</td>\n",
       "    </tr>\n",
       "    <tr>\n",
       "      <th>2</th>\n",
       "      <td>2021-09-29</td>\n",
       "      <td>2</td>\n",
       "      <td>0.0</td>\n",
       "      <td>0.0</td>\n",
       "      <td>0.0</td>\n",
       "      <td>NaN</td>\n",
       "    </tr>\n",
       "    <tr>\n",
       "      <th>3</th>\n",
       "      <td>2021-09-29</td>\n",
       "      <td>3</td>\n",
       "      <td>0.0</td>\n",
       "      <td>0.0</td>\n",
       "      <td>0.0</td>\n",
       "      <td>NaN</td>\n",
       "    </tr>\n",
       "    <tr>\n",
       "      <th>4</th>\n",
       "      <td>2021-09-29</td>\n",
       "      <td>4</td>\n",
       "      <td>0.0</td>\n",
       "      <td>0.0</td>\n",
       "      <td>0.0</td>\n",
       "      <td>NaN</td>\n",
       "    </tr>\n",
       "  </tbody>\n",
       "</table>\n",
       "</div>"
      ],
      "text/plain": [
       "         Data  Hora  Normal (kWh)  Horario Economico (kWh)  Autoconsumo (kWh)  \\\n",
       "0  2021-09-29     0           0.0                      0.0                0.0   \n",
       "1  2021-09-29     1           0.0                      0.0                0.0   \n",
       "2  2021-09-29     2           0.0                      0.0                0.0   \n",
       "3  2021-09-29     3           0.0                      0.0                0.0   \n",
       "4  2021-09-29     4           0.0                      0.0                0.0   \n",
       "\n",
       "  Injecao na rede (kWh)  \n",
       "0                   NaN  \n",
       "1                   NaN  \n",
       "2                   NaN  \n",
       "3                   NaN  \n",
       "4                   NaN  "
      ]
     },
     "execution_count": 4,
     "metadata": {},
     "output_type": "execute_result"
    }
   ],
   "source": [
    "energy_1.head()"
   ]
  },
  {
   "cell_type": "code",
   "execution_count": 5,
   "metadata": {},
   "outputs": [
    {
     "data": {
      "text/html": [
       "<div>\n",
       "<style scoped>\n",
       "    .dataframe tbody tr th:only-of-type {\n",
       "        vertical-align: middle;\n",
       "    }\n",
       "\n",
       "    .dataframe tbody tr th {\n",
       "        vertical-align: top;\n",
       "    }\n",
       "\n",
       "    .dataframe thead th {\n",
       "        text-align: right;\n",
       "    }\n",
       "</style>\n",
       "<table border=\"1\" class=\"dataframe\">\n",
       "  <thead>\n",
       "    <tr style=\"text-align: right;\">\n",
       "      <th></th>\n",
       "      <th>Data</th>\n",
       "      <th>Hora</th>\n",
       "      <th>Normal (kWh)</th>\n",
       "      <th>Horario Economico (kWh)</th>\n",
       "      <th>Autoconsumo (kWh)</th>\n",
       "      <th>Injecao na rede (kWh)</th>\n",
       "    </tr>\n",
       "  </thead>\n",
       "  <tbody>\n",
       "    <tr>\n",
       "      <th>0</th>\n",
       "      <td>2022-01-01</td>\n",
       "      <td>0</td>\n",
       "      <td>0.0</td>\n",
       "      <td>0.486</td>\n",
       "      <td>0.0</td>\n",
       "      <td>NaN</td>\n",
       "    </tr>\n",
       "    <tr>\n",
       "      <th>1</th>\n",
       "      <td>2022-01-01</td>\n",
       "      <td>1</td>\n",
       "      <td>0.0</td>\n",
       "      <td>0.429</td>\n",
       "      <td>0.0</td>\n",
       "      <td>NaN</td>\n",
       "    </tr>\n",
       "    <tr>\n",
       "      <th>2</th>\n",
       "      <td>2022-01-01</td>\n",
       "      <td>2</td>\n",
       "      <td>0.0</td>\n",
       "      <td>0.463</td>\n",
       "      <td>0.0</td>\n",
       "      <td>NaN</td>\n",
       "    </tr>\n",
       "    <tr>\n",
       "      <th>3</th>\n",
       "      <td>2022-01-01</td>\n",
       "      <td>3</td>\n",
       "      <td>0.0</td>\n",
       "      <td>0.545</td>\n",
       "      <td>0.0</td>\n",
       "      <td>NaN</td>\n",
       "    </tr>\n",
       "    <tr>\n",
       "      <th>4</th>\n",
       "      <td>2022-01-01</td>\n",
       "      <td>4</td>\n",
       "      <td>0.0</td>\n",
       "      <td>0.439</td>\n",
       "      <td>0.0</td>\n",
       "      <td>NaN</td>\n",
       "    </tr>\n",
       "  </tbody>\n",
       "</table>\n",
       "</div>"
      ],
      "text/plain": [
       "         Data  Hora  Normal (kWh)  Horario Economico (kWh)  Autoconsumo (kWh)  \\\n",
       "0  2022-01-01     0           0.0                    0.486                0.0   \n",
       "1  2022-01-01     1           0.0                    0.429                0.0   \n",
       "2  2022-01-01     2           0.0                    0.463                0.0   \n",
       "3  2022-01-01     3           0.0                    0.545                0.0   \n",
       "4  2022-01-01     4           0.0                    0.439                0.0   \n",
       "\n",
       "  Injecao na rede (kWh)  \n",
       "0                   NaN  \n",
       "1                   NaN  \n",
       "2                   NaN  \n",
       "3                   NaN  \n",
       "4                   NaN  "
      ]
     },
     "execution_count": 5,
     "metadata": {},
     "output_type": "execute_result"
    }
   ],
   "source": [
    "energy_2.head()"
   ]
  },
  {
   "cell_type": "code",
   "execution_count": 6,
   "metadata": {},
   "outputs": [
    {
     "name": "stdout",
     "output_type": "stream",
     "text": [
      "<class 'pandas.core.frame.DataFrame'>\n",
      "RangeIndex: 2256 entries, 0 to 2255\n",
      "Data columns (total 6 columns):\n",
      " #   Column                   Non-Null Count  Dtype  \n",
      "---  ------                   --------------  -----  \n",
      " 0   Data                     2256 non-null   object \n",
      " 1   Hora                     2256 non-null   int64  \n",
      " 2   Normal (kWh)             2256 non-null   float64\n",
      " 3   Horario Economico (kWh)  2256 non-null   float64\n",
      " 4   Autoconsumo (kWh)        2256 non-null   float64\n",
      " 5   Injecao na rede (kWh)    566 non-null    object \n",
      "dtypes: float64(3), int64(1), object(2)\n",
      "memory usage: 105.9+ KB\n"
     ]
    }
   ],
   "source": [
    "energy_1.info()"
   ]
  },
  {
   "cell_type": "code",
   "execution_count": 7,
   "metadata": {},
   "outputs": [
    {
     "name": "stdout",
     "output_type": "stream",
     "text": [
      "<class 'pandas.core.frame.DataFrame'>\n",
      "RangeIndex: 8760 entries, 0 to 8759\n",
      "Data columns (total 6 columns):\n",
      " #   Column                   Non-Null Count  Dtype  \n",
      "---  ------                   --------------  -----  \n",
      " 0   Data                     8760 non-null   object \n",
      " 1   Hora                     8760 non-null   int64  \n",
      " 2   Normal (kWh)             8760 non-null   float64\n",
      " 3   Horario Economico (kWh)  8760 non-null   float64\n",
      " 4   Autoconsumo (kWh)        8760 non-null   float64\n",
      " 5   Injecao na rede (kWh)    2673 non-null   object \n",
      "dtypes: float64(3), int64(1), object(2)\n",
      "memory usage: 410.8+ KB\n"
     ]
    }
   ],
   "source": [
    "energy_2.info()"
   ]
  },
  {
   "cell_type": "code",
   "execution_count": 8,
   "metadata": {},
   "outputs": [
    {
     "name": "stdout",
     "output_type": "stream",
     "text": [
      "<class 'pandas.core.frame.DataFrame'>\n",
      "RangeIndex: 2256 entries, 0 to 2255\n",
      "Data columns (total 6 columns):\n",
      " #   Column                   Non-Null Count  Dtype  \n",
      "---  ------                   --------------  -----  \n",
      " 0   Data                     2256 non-null   object \n",
      " 1   Hora                     2256 non-null   int64  \n",
      " 2   Normal (kWh)             2256 non-null   float64\n",
      " 3   Horario Economico (kWh)  2256 non-null   float64\n",
      " 4   Autoconsumo (kWh)        2256 non-null   float64\n",
      " 5   Injecao na rede (kWh)    0 non-null      float64\n",
      "dtypes: float64(4), int64(1), object(1)\n",
      "memory usage: 105.9+ KB\n"
     ]
    }
   ],
   "source": [
    "energy_test.info()"
   ]
  },
  {
   "cell_type": "code",
   "execution_count": 9,
   "metadata": {},
   "outputs": [
    {
     "data": {
      "text/plain": [
       "Index(['dt', 'dt_iso', 'city_name', 'temp', 'feels_like', 'temp_min',\n",
       "       'temp_max', 'pressure', 'sea_level', 'grnd_level', 'humidity',\n",
       "       'wind_speed', 'rain_1h', 'clouds_all', 'weather_description'],\n",
       "      dtype='object')"
      ]
     },
     "execution_count": 9,
     "metadata": {},
     "output_type": "execute_result"
    }
   ],
   "source": [
    "meteo_1.columns"
   ]
  },
  {
   "cell_type": "code",
   "execution_count": 10,
   "metadata": {},
   "outputs": [
    {
     "data": {
      "text/html": [
       "<div>\n",
       "<style scoped>\n",
       "    .dataframe tbody tr th:only-of-type {\n",
       "        vertical-align: middle;\n",
       "    }\n",
       "\n",
       "    .dataframe tbody tr th {\n",
       "        vertical-align: top;\n",
       "    }\n",
       "\n",
       "    .dataframe thead th {\n",
       "        text-align: right;\n",
       "    }\n",
       "</style>\n",
       "<table border=\"1\" class=\"dataframe\">\n",
       "  <thead>\n",
       "    <tr style=\"text-align: right;\">\n",
       "      <th></th>\n",
       "      <th>dt</th>\n",
       "      <th>dt_iso</th>\n",
       "      <th>city_name</th>\n",
       "      <th>temp</th>\n",
       "      <th>feels_like</th>\n",
       "      <th>temp_min</th>\n",
       "      <th>temp_max</th>\n",
       "      <th>pressure</th>\n",
       "      <th>sea_level</th>\n",
       "      <th>grnd_level</th>\n",
       "      <th>humidity</th>\n",
       "      <th>wind_speed</th>\n",
       "      <th>rain_1h</th>\n",
       "      <th>clouds_all</th>\n",
       "      <th>weather_description</th>\n",
       "    </tr>\n",
       "  </thead>\n",
       "  <tbody>\n",
       "    <tr>\n",
       "      <th>0</th>\n",
       "      <td>1630454400</td>\n",
       "      <td>2021-09-01 00:00:00 +0000 UTC</td>\n",
       "      <td>local</td>\n",
       "      <td>18.74</td>\n",
       "      <td>18.84</td>\n",
       "      <td>15.72</td>\n",
       "      <td>20.34</td>\n",
       "      <td>1015</td>\n",
       "      <td>NaN</td>\n",
       "      <td>NaN</td>\n",
       "      <td>83</td>\n",
       "      <td>1.18</td>\n",
       "      <td>NaN</td>\n",
       "      <td>78</td>\n",
       "      <td>broken clouds</td>\n",
       "    </tr>\n",
       "    <tr>\n",
       "      <th>1</th>\n",
       "      <td>1630458000</td>\n",
       "      <td>2021-09-01 01:00:00 +0000 UTC</td>\n",
       "      <td>local</td>\n",
       "      <td>18.73</td>\n",
       "      <td>18.83</td>\n",
       "      <td>15.72</td>\n",
       "      <td>20.34</td>\n",
       "      <td>1014</td>\n",
       "      <td>NaN</td>\n",
       "      <td>NaN</td>\n",
       "      <td>83</td>\n",
       "      <td>1.46</td>\n",
       "      <td>NaN</td>\n",
       "      <td>92</td>\n",
       "      <td>overcast clouds</td>\n",
       "    </tr>\n",
       "    <tr>\n",
       "      <th>2</th>\n",
       "      <td>1630461600</td>\n",
       "      <td>2021-09-01 02:00:00 +0000 UTC</td>\n",
       "      <td>local</td>\n",
       "      <td>17.84</td>\n",
       "      <td>17.98</td>\n",
       "      <td>16.72</td>\n",
       "      <td>20.34</td>\n",
       "      <td>1014</td>\n",
       "      <td>NaN</td>\n",
       "      <td>NaN</td>\n",
       "      <td>88</td>\n",
       "      <td>1.05</td>\n",
       "      <td>NaN</td>\n",
       "      <td>91</td>\n",
       "      <td>overcast clouds</td>\n",
       "    </tr>\n",
       "    <tr>\n",
       "      <th>3</th>\n",
       "      <td>1630465200</td>\n",
       "      <td>2021-09-01 03:00:00 +0000 UTC</td>\n",
       "      <td>local</td>\n",
       "      <td>18.27</td>\n",
       "      <td>18.40</td>\n",
       "      <td>16.68</td>\n",
       "      <td>20.34</td>\n",
       "      <td>1014</td>\n",
       "      <td>NaN</td>\n",
       "      <td>NaN</td>\n",
       "      <td>86</td>\n",
       "      <td>0.46</td>\n",
       "      <td>0.14</td>\n",
       "      <td>94</td>\n",
       "      <td>light rain</td>\n",
       "    </tr>\n",
       "    <tr>\n",
       "      <th>4</th>\n",
       "      <td>1630468800</td>\n",
       "      <td>2021-09-01 04:00:00 +0000 UTC</td>\n",
       "      <td>local</td>\n",
       "      <td>17.81</td>\n",
       "      <td>17.97</td>\n",
       "      <td>16.12</td>\n",
       "      <td>20.34</td>\n",
       "      <td>1013</td>\n",
       "      <td>NaN</td>\n",
       "      <td>NaN</td>\n",
       "      <td>89</td>\n",
       "      <td>0.93</td>\n",
       "      <td>1.26</td>\n",
       "      <td>95</td>\n",
       "      <td>moderate rain</td>\n",
       "    </tr>\n",
       "  </tbody>\n",
       "</table>\n",
       "</div>"
      ],
      "text/plain": [
       "           dt                         dt_iso city_name   temp  feels_like  \\\n",
       "0  1630454400  2021-09-01 00:00:00 +0000 UTC     local  18.74       18.84   \n",
       "1  1630458000  2021-09-01 01:00:00 +0000 UTC     local  18.73       18.83   \n",
       "2  1630461600  2021-09-01 02:00:00 +0000 UTC     local  17.84       17.98   \n",
       "3  1630465200  2021-09-01 03:00:00 +0000 UTC     local  18.27       18.40   \n",
       "4  1630468800  2021-09-01 04:00:00 +0000 UTC     local  17.81       17.97   \n",
       "\n",
       "   temp_min  temp_max  pressure  sea_level  grnd_level  humidity  wind_speed  \\\n",
       "0     15.72     20.34      1015        NaN         NaN        83        1.18   \n",
       "1     15.72     20.34      1014        NaN         NaN        83        1.46   \n",
       "2     16.72     20.34      1014        NaN         NaN        88        1.05   \n",
       "3     16.68     20.34      1014        NaN         NaN        86        0.46   \n",
       "4     16.12     20.34      1013        NaN         NaN        89        0.93   \n",
       "\n",
       "   rain_1h  clouds_all weather_description  \n",
       "0      NaN          78       broken clouds  \n",
       "1      NaN          92     overcast clouds  \n",
       "2      NaN          91     overcast clouds  \n",
       "3     0.14          94          light rain  \n",
       "4     1.26          95       moderate rain  "
      ]
     },
     "execution_count": 10,
     "metadata": {},
     "output_type": "execute_result"
    }
   ],
   "source": [
    "meteo_1.head()"
   ]
  },
  {
   "cell_type": "code",
   "execution_count": 11,
   "metadata": {},
   "outputs": [
    {
     "name": "stdout",
     "output_type": "stream",
     "text": [
      "<class 'pandas.core.frame.DataFrame'>\n",
      "RangeIndex: 2928 entries, 0 to 2927\n",
      "Data columns (total 15 columns):\n",
      " #   Column               Non-Null Count  Dtype  \n",
      "---  ------               --------------  -----  \n",
      " 0   dt                   2928 non-null   int64  \n",
      " 1   dt_iso               2928 non-null   object \n",
      " 2   city_name            2928 non-null   object \n",
      " 3   temp                 2928 non-null   float64\n",
      " 4   feels_like           2928 non-null   float64\n",
      " 5   temp_min             2928 non-null   float64\n",
      " 6   temp_max             2928 non-null   float64\n",
      " 7   pressure             2928 non-null   int64  \n",
      " 8   sea_level            0 non-null      float64\n",
      " 9   grnd_level           0 non-null      float64\n",
      " 10  humidity             2928 non-null   int64  \n",
      " 11  wind_speed           2928 non-null   float64\n",
      " 12  rain_1h              537 non-null    float64\n",
      " 13  clouds_all           2928 non-null   int64  \n",
      " 14  weather_description  2928 non-null   object \n",
      "dtypes: float64(8), int64(4), object(3)\n",
      "memory usage: 343.2+ KB\n"
     ]
    }
   ],
   "source": [
    "meteo_1.info()"
   ]
  },
  {
   "cell_type": "code",
   "execution_count": 12,
   "metadata": {},
   "outputs": [
    {
     "name": "stdout",
     "output_type": "stream",
     "text": [
      "<class 'pandas.core.frame.DataFrame'>\n",
      "RangeIndex: 8760 entries, 0 to 8759\n",
      "Data columns (total 15 columns):\n",
      " #   Column               Non-Null Count  Dtype  \n",
      "---  ------               --------------  -----  \n",
      " 0   dt                   8760 non-null   int64  \n",
      " 1   dt_iso               8760 non-null   object \n",
      " 2   city_name            8760 non-null   object \n",
      " 3   temp                 8760 non-null   float64\n",
      " 4   feels_like           8760 non-null   float64\n",
      " 5   temp_min             8760 non-null   float64\n",
      " 6   temp_max             8760 non-null   float64\n",
      " 7   pressure             8760 non-null   int64  \n",
      " 8   sea_level            0 non-null      float64\n",
      " 9   grnd_level           0 non-null      float64\n",
      " 10  humidity             8760 non-null   int64  \n",
      " 11  wind_speed           8760 non-null   float64\n",
      " 12  rain_1h              1898 non-null   float64\n",
      " 13  clouds_all           8760 non-null   int64  \n",
      " 14  weather_description  8760 non-null   object \n",
      "dtypes: float64(8), int64(4), object(3)\n",
      "memory usage: 1.0+ MB\n"
     ]
    }
   ],
   "source": [
    "meteo_2.info()"
   ]
  },
  {
   "cell_type": "code",
   "execution_count": 13,
   "metadata": {},
   "outputs": [
    {
     "name": "stdout",
     "output_type": "stream",
     "text": [
      "<class 'pandas.core.frame.DataFrame'>\n",
      "RangeIndex: 1752 entries, 0 to 1751\n",
      "Data columns (total 15 columns):\n",
      " #   Column               Non-Null Count  Dtype  \n",
      "---  ------               --------------  -----  \n",
      " 0   dt                   1752 non-null   int64  \n",
      " 1   dt_iso               1752 non-null   object \n",
      " 2   city_name            1752 non-null   object \n",
      " 3   temp                 1752 non-null   float64\n",
      " 4   feels_like           1752 non-null   float64\n",
      " 5   temp_min             1752 non-null   float64\n",
      " 6   temp_max             1752 non-null   float64\n",
      " 7   pressure             1752 non-null   int64  \n",
      " 8   sea_level            0 non-null      float64\n",
      " 9   grnd_level           0 non-null      float64\n",
      " 10  humidity             1752 non-null   int64  \n",
      " 11  wind_speed           1752 non-null   float64\n",
      " 12  rain_1h              206 non-null    float64\n",
      " 13  clouds_all           1752 non-null   int64  \n",
      " 14  weather_description  1752 non-null   object \n",
      "dtypes: float64(8), int64(4), object(3)\n",
      "memory usage: 205.4+ KB\n"
     ]
    }
   ],
   "source": [
    "meteo_test.info()"
   ]
  },
  {
   "cell_type": "markdown",
   "metadata": {
    "tags": []
   },
   "source": [
    "# Handling missing data and possible data transformations\n",
    "- Remove missing values, outliers, and unnecessary rows/ columns\n",
    "- Check and impute null values\n",
    "- Check Imbalanced data\n",
    "- Re-indexing and reformatting our data"
   ]
  },
  {
   "cell_type": "markdown",
   "metadata": {
    "tags": []
   },
   "source": [
    "## 1. Missing Values"
   ]
  },
  {
   "cell_type": "code",
   "execution_count": 14,
   "metadata": {
    "scrolled": false
   },
   "outputs": [
    {
     "data": {
      "text/plain": [
       "<Axes: >"
      ]
     },
     "execution_count": 14,
     "metadata": {},
     "output_type": "execute_result"
    },
    {
     "data": {
      "image/png": "[encoded data removed]",
      "text/plain": [
       "<Figure size 640x480 with 1 Axes>"
      ]
     },
     "metadata": {},
     "output_type": "display_data"
    }
   ],
   "source": [
    "sns.heatmap(energy_1.isnull(), yticklabels=False, cbar=False, cmap='viridis')"
   ]
  },
  {
   "cell_type": "code",
   "execution_count": 15,
   "metadata": {
    "scrolled": false
   },
   "outputs": [
    {
     "data": {
      "text/plain": [
       "<Axes: >"
      ]
     },
     "execution_count": 15,
     "metadata": {},
     "output_type": "execute_result"
    },
    {
     "data": {
      "image/png": "[encoded data removed]",
      "text/plain": [
       "<Figure size 640x480 with 1 Axes>"
      ]
     },
     "metadata": {},
     "output_type": "display_data"
    }
   ],
   "source": [
    "sns.heatmap(energy_2.isnull(), yticklabels=False, cbar=False, cmap='viridis')"
   ]
  },
  {
   "cell_type": "code",
   "execution_count": 16,
   "metadata": {
    "scrolled": false
   },
   "outputs": [
    {
     "data": {
      "text/plain": [
       "<Axes: >"
      ]
     },
     "execution_count": 16,
     "metadata": {},
     "output_type": "execute_result"
    },
    {
     "data": {
      "image/png": "[encoded data removed]",
      "text/plain": [
       "<Figure size 640x480 with 1 Axes>"
      ]
     },
     "metadata": {},
     "output_type": "display_data"
    }
   ],
   "source": [
    "sns.heatmap(energy_test.isnull(), yticklabels=False, cbar=False, cmap='viridis')"
   ]
  },
  {
   "cell_type": "code",
   "execution_count": 17,
   "metadata": {},
   "outputs": [
    {
     "data": {
      "text/plain": [
       "<Axes: >"
      ]
     },
     "execution_count": 17,
     "metadata": {},
     "output_type": "execute_result"
    },
    {
     "data": {
      "image/png": "[encoded data removed]",
      "text/plain": [
       "<Figure size 640x480 with 1 Axes>"
      ]
     },
     "metadata": {},
     "output_type": "display_data"
    }
   ],
   "source": [
    "sns.heatmap(meteo_1.isnull(), yticklabels=False, cbar=False, cmap='viridis')"
   ]
  },
  {
   "cell_type": "code",
   "execution_count": 18,
   "metadata": {},
   "outputs": [
    {
     "data": {
      "text/plain": [
       "<Axes: >"
      ]
     },
     "execution_count": 18,
     "metadata": {},
     "output_type": "execute_result"
    },
    {
     "data": {
      "image/png": "[encoded data removed]",
      "text/plain": [
       "<Figure size 640x480 with 1 Axes>"
      ]
     },
     "metadata": {},
     "output_type": "display_data"
    }
   ],
   "source": [
    "sns.heatmap(meteo_2.isnull(), yticklabels=False, cbar=False, cmap='viridis')"
   ]
  },
  {
   "cell_type": "code",
   "execution_count": null,
   "metadata": {},
   "outputs": [
    {
     "data": {
      "text/plain": [
       "<Axes: >"
      ]
     },
     "execution_count": 19,
     "metadata": {},
     "output_type": "execute_result"
    }
   ],
   "source": [
    "sns.heatmap(meteo_test.isnull(), yticklabels=False, cbar=False, cmap='viridis')"
   ]
  },
  {
   "cell_type": "code",
   "execution_count": null,
   "metadata": {},
   "outputs": [],
   "source": [
    "energy_1.isnull().sum()"
   ]
  },
  {
   "cell_type": "code",
   "execution_count": null,
   "metadata": {},
   "outputs": [],
   "source": [
    "energy_2.isnull().sum()"
   ]
  },
  {
   "cell_type": "code",
   "execution_count": null,
   "metadata": {},
   "outputs": [],
   "source": [
    "energy_test.isnull().sum()"
   ]
  },
  {
   "cell_type": "code",
   "execution_count": null,
   "metadata": {},
   "outputs": [],
   "source": [
    "meteo_1.isnull().sum()"
   ]
  },
  {
   "cell_type": "code",
   "execution_count": null,
   "metadata": {},
   "outputs": [],
   "source": [
    "meteo_2.isnull().sum()"
   ]
  },
  {
   "cell_type": "code",
   "execution_count": null,
   "metadata": {},
   "outputs": [],
   "source": [
    "meteo_test.isnull().sum()"
   ]
  },
  {
   "cell_type": "markdown",
   "metadata": {},
   "source": [
    "### Drop or fill\n",
    "Let's verify how the data is presented in the feature <em>Injecao na rede</em>"
   ]
  },
  {
   "cell_type": "code",
   "execution_count": null,
   "metadata": {},
   "outputs": [],
   "source": [
    "energy_1['Injecao na rede (kWh)'].head()"
   ]
  },
  {
   "cell_type": "code",
   "execution_count": null,
   "metadata": {},
   "outputs": [],
   "source": [
    "energy_1[energy_1['Injecao na rede (kWh)'].isnull()]"
   ]
  },
  {
   "cell_type": "markdown",
   "metadata": {},
   "source": [
    "Copy of the data to experiment the options"
   ]
  },
  {
   "cell_type": "code",
   "execution_count": null,
   "metadata": {},
   "outputs": [],
   "source": [
    "energy_1_m1 = energy_1.copy()\n",
    "energy_1_m2 = energy_1.copy()"
   ]
  },
  {
   "cell_type": "markdown",
   "metadata": {},
   "source": [
    "#### a) Drop"
   ]
  },
  {
   "cell_type": "code",
   "execution_count": null,
   "metadata": {},
   "outputs": [],
   "source": [
    "energy_1_m1.drop(['Injecao na rede (kWh)'], axis=1, inplace=True)\n",
    "energy_1_m1.head()"
   ]
  },
  {
   "cell_type": "markdown",
   "metadata": {},
   "source": [
    "#### b) Fill with zero"
   ]
  },
  {
   "cell_type": "code",
   "execution_count": null,
   "metadata": {},
   "outputs": [],
   "source": [
    "energy_1_m2.fillna(0, inplace=True)\n",
    "energy_1_m2.head()"
   ]
  },
  {
   "cell_type": "markdown",
   "metadata": {},
   "source": [
    "We need to choose one of the options to keep going. We will choose to fill the column since it brings added value to our goal."
   ]
  },
  {
   "cell_type": "code",
   "execution_count": null,
   "metadata": {},
   "outputs": [],
   "source": [
    "energy_1_copy = energy_1.fillna(0)\n",
    "energy_1_copy.head()"
   ]
  },
  {
   "cell_type": "markdown",
   "metadata": {},
   "source": [
    "Let's see if there are still missing values for energy"
   ]
  },
  {
   "cell_type": "code",
   "execution_count": null,
   "metadata": {
    "scrolled": false
   },
   "outputs": [],
   "source": [
    "sns.heatmap(energy_1_copy.isnull(), yticklabels=False, cbar=False, cmap='viridis')"
   ]
  },
  {
   "cell_type": "markdown",
   "metadata": {},
   "source": [
    "Now let's do the same but for the other datasets"
   ]
  },
  {
   "cell_type": "code",
   "execution_count": null,
   "metadata": {},
   "outputs": [],
   "source": [
    "energy_2_copy = energy_2.fillna(0)\n",
    "energy_2_copy.head()"
   ]
  },
  {
   "cell_type": "code",
   "execution_count": null,
   "metadata": {
    "scrolled": false
   },
   "outputs": [],
   "source": [
    "sns.heatmap(energy_2_copy.isnull(), yticklabels=False, cbar=False, cmap='viridis')"
   ]
  },
  {
   "cell_type": "code",
   "execution_count": null,
   "metadata": {},
   "outputs": [],
   "source": [
    "energy_test_copy = energy_test.fillna(0)\n",
    "energy_test_copy.head()"
   ]
  },
  {
   "cell_type": "code",
   "execution_count": null,
   "metadata": {
    "scrolled": false
   },
   "outputs": [],
   "source": [
    "sns.heatmap(energy_test_copy.isnull(), yticklabels=False, cbar=False, cmap='viridis')"
   ]
  },
  {
   "cell_type": "code",
   "execution_count": null,
   "metadata": {
    "scrolled": false
   },
   "outputs": [],
   "source": [
    "energy_1_copy.isnull().sum()"
   ]
  },
  {
   "cell_type": "code",
   "execution_count": null,
   "metadata": {},
   "outputs": [],
   "source": [
    "energy_1_copy.info()"
   ]
  },
  {
   "cell_type": "code",
   "execution_count": null,
   "metadata": {},
   "outputs": [],
   "source": [
    "energy_1_copy.head()"
   ]
  },
  {
   "cell_type": "markdown",
   "metadata": {},
   "source": [
    "Let's now verify how the data is presented in the features <em>sea_level</em>, <em>grnd_level</em> and <em>rain_1h</em>"
   ]
  },
  {
   "cell_type": "code",
   "execution_count": null,
   "metadata": {},
   "outputs": [],
   "source": [
    "meteo_1['sea_level'].head()"
   ]
  },
  {
   "cell_type": "code",
   "execution_count": null,
   "metadata": {},
   "outputs": [],
   "source": [
    "meteo_1['grnd_level'].head()"
   ]
  },
  {
   "cell_type": "code",
   "execution_count": null,
   "metadata": {},
   "outputs": [],
   "source": [
    "meteo_1['rain_1h'].head()"
   ]
  },
  {
   "cell_type": "markdown",
   "metadata": {},
   "source": [
    "Now we need to choose one of the options to keep going. We will choose to drop both the <em>sea_level</em> and <em>grnd_level</em> since they don't bring any value to our model and fill the column with the feature <em>rain_1h</em> since it brings added value to our goal."
   ]
  },
  {
   "cell_type": "code",
   "execution_count": null,
   "metadata": {},
   "outputs": [],
   "source": [
    "meteo_1_copy = meteo_1.drop(['sea_level', 'grnd_level'], axis=1, inplace=False)\n",
    "meteo_1_copy.head()"
   ]
  },
  {
   "cell_type": "markdown",
   "metadata": {},
   "source": [
    "Now we do the same to the other datasets"
   ]
  },
  {
   "cell_type": "code",
   "execution_count": null,
   "metadata": {},
   "outputs": [],
   "source": [
    "meteo_2_copy = meteo_2.drop(['sea_level', 'grnd_level'], axis=1, inplace=False)\n",
    "meteo_test_copy = meteo_test.drop(['sea_level', 'grnd_level'], axis=1, inplace=False)\n",
    "meteo_2_copy.head()"
   ]
  },
  {
   "cell_type": "code",
   "execution_count": null,
   "metadata": {},
   "outputs": [],
   "source": [
    "meteo_test_copy.head()"
   ]
  },
  {
   "cell_type": "code",
   "execution_count": null,
   "metadata": {},
   "outputs": [],
   "source": [
    "meteo_1_copy.fillna(0, inplace=True)\n",
    "meteo_1_copy.head()"
   ]
  },
  {
   "cell_type": "code",
   "execution_count": null,
   "metadata": {},
   "outputs": [],
   "source": [
    "meteo_2_copy.fillna(0, inplace=True)\n",
    "meteo_test_copy.fillna(0, inplace=True)\n",
    "meteo_2_copy.head()"
   ]
  },
  {
   "cell_type": "code",
   "execution_count": null,
   "metadata": {},
   "outputs": [],
   "source": [
    "meteo_test_copy.head()"
   ]
  },
  {
   "cell_type": "markdown",
   "metadata": {},
   "source": [
    "Let's see if there are still missing values for meteo"
   ]
  },
  {
   "cell_type": "code",
   "execution_count": null,
   "metadata": {},
   "outputs": [],
   "source": [
    "sns.heatmap(meteo_1_copy.isnull(), yticklabels=False, cbar=False, cmap='viridis')"
   ]
  },
  {
   "cell_type": "code",
   "execution_count": null,
   "metadata": {},
   "outputs": [],
   "source": [
    "sns.heatmap(meteo_2_copy.isnull(), yticklabels=False, cbar=False, cmap='viridis')"
   ]
  },
  {
   "cell_type": "code",
   "execution_count": null,
   "metadata": {},
   "outputs": [],
   "source": [
    "sns.heatmap(meteo_test_copy.isnull(), yticklabels=False, cbar=False, cmap='viridis')"
   ]
  },
  {
   "cell_type": "code",
   "execution_count": null,
   "metadata": {
    "scrolled": false
   },
   "outputs": [],
   "source": [
    "meteo_1_copy.isnull().sum()"
   ]
  },
  {
   "cell_type": "code",
   "execution_count": null,
   "metadata": {},
   "outputs": [],
   "source": [
    "meteo_1_copy.info()"
   ]
  },
  {
   "cell_type": "code",
   "execution_count": null,
   "metadata": {},
   "outputs": [],
   "source": [
    "meteo_1_copy.head()"
   ]
  },
  {
   "cell_type": "markdown",
   "metadata": {},
   "source": [
    "Looking at the dates in both files, we can see that in the <em>energy_*</em> dataset the date is separated into two columns, one with said date without it's hour and another with it's taken hour. However in the <em>meteo_*</em> dataset the date is properly defined from the year to the second it was taken, even including it's time zone.\n",
    "\n",
    "So with this it's better if we combine these dates into a single column since further ahead we will combine these datasets."
   ]
  },
  {
   "cell_type": "code",
   "execution_count": null,
   "metadata": {},
   "outputs": [],
   "source": [
    "energy_1_copy['Hora'] = energy_1_copy['Hora'].apply(lambda x: str(x).zfill(2))\n",
    "\n",
    "energy_1_copy['Data'] = energy_1_copy['Data'] + ' ' + energy_1_copy['Hora'] + ':00:00'\n",
    "energy_1_copy['Data']"
   ]
  },
  {
   "cell_type": "markdown",
   "metadata": {},
   "source": [
    "With this in this format we can now drop the <em>Hora</em> feature since it's no longer needed."
   ]
  },
  {
   "cell_type": "code",
   "execution_count": null,
   "metadata": {},
   "outputs": [],
   "source": [
    "energy_1_copy.drop(['Hora'], axis=1, inplace=True)\n",
    "energy_1_copy.head()"
   ]
  },
  {
   "cell_type": "markdown",
   "metadata": {},
   "source": [
    "Now let's do the same to the other datasets."
   ]
  },
  {
   "cell_type": "code",
   "execution_count": null,
   "metadata": {},
   "outputs": [],
   "source": [
    "energy_2_copy['Hora'] = energy_2_copy['Hora'].apply(lambda x: str(x).zfill(2))\n",
    "\n",
    "energy_2_copy['Data'] = energy_2_copy['Data'] + ' ' + energy_2_copy['Hora'] + ':00:00'\n",
    "energy_2_copy['Data']\n",
    "\n",
    "energy_test_copy['Hora'] = energy_test_copy['Hora'].apply(lambda x: str(x).zfill(2))\n",
    "\n",
    "energy_test_copy['Data'] = energy_test_copy['Data'] + ' ' + energy_test_copy['Hora'] + ':00:00'\n",
    "energy_test_copy['Data']\n",
    "\n",
    "energy_2_copy.drop(['Hora'], axis=1, inplace=True)\n",
    "energy_test_copy.drop(['Hora'], axis=1, inplace=True)\n",
    "energy_2_copy.head()"
   ]
  },
  {
   "cell_type": "code",
   "execution_count": null,
   "metadata": {},
   "outputs": [],
   "source": [
    "energy_test_copy.head()"
   ]
  },
  {
   "cell_type": "markdown",
   "metadata": {},
   "source": [
    "There are features that are of the type <em>object</em>: <em>Data</em> and <em>Injecao na rede (kWh)</em>.\n",
    "\n",
    "Let's see how many different values each feature has."
   ]
  },
  {
   "cell_type": "code",
   "execution_count": null,
   "metadata": {},
   "outputs": [],
   "source": [
    "energy_1_copy.nunique()"
   ]
  },
  {
   "cell_type": "code",
   "execution_count": null,
   "metadata": {},
   "outputs": [],
   "source": [
    "energy_1_copy['Injecao na rede (kWh)'].nunique()"
   ]
  },
  {
   "cell_type": "code",
   "execution_count": null,
   "metadata": {},
   "outputs": [],
   "source": [
    "energy_1_copy['Injecao na rede (kWh)'].describe()"
   ]
  },
  {
   "cell_type": "markdown",
   "metadata": {},
   "source": [
    "There are features that are of the type <em>object</em>: <em>dt_iso</em>, <em>city_name </em> and <em>weather_description</em>.\n",
    "\n",
    "Let's see how many different values each feature has."
   ]
  },
  {
   "cell_type": "code",
   "execution_count": null,
   "metadata": {},
   "outputs": [],
   "source": [
    "meteo_1_copy.nunique()"
   ]
  },
  {
   "cell_type": "markdown",
   "metadata": {
    "tags": []
   },
   "source": [
    "## 2. Handling categoric data"
   ]
  },
  {
   "cell_type": "markdown",
   "metadata": {},
   "source": [
    "Feature <em>city_name</em>"
   ]
  },
  {
   "cell_type": "code",
   "execution_count": null,
   "metadata": {},
   "outputs": [],
   "source": [
    "meteo_1_copy['city_name'].head()"
   ]
  },
  {
   "cell_type": "markdown",
   "metadata": {},
   "source": [
    "The unique value of <em>city_name</em> is <em>local</em>. We can drop this feature as well."
   ]
  },
  {
   "cell_type": "code",
   "execution_count": null,
   "metadata": {},
   "outputs": [],
   "source": [
    "meteo_1_copy.drop(['city_name'], axis=1, inplace=True)\n",
    "meteo_1_copy.dropna(inplace=True)"
   ]
  },
  {
   "cell_type": "code",
   "execution_count": null,
   "metadata": {
    "scrolled": false
   },
   "outputs": [],
   "source": [
    "meteo_1_copy.head()"
   ]
  },
  {
   "cell_type": "markdown",
   "metadata": {},
   "source": [
    "Let's do the same for the rest of the datasets"
   ]
  },
  {
   "cell_type": "code",
   "execution_count": null,
   "metadata": {},
   "outputs": [],
   "source": [
    "meteo_2_copy.drop(['city_name'], axis=1, inplace=True)\n",
    "meteo_2_copy.dropna(inplace=True)\n",
    "meteo_test_copy.drop(['city_name'], axis=1, inplace=True)\n",
    "meteo_test_copy.dropna(inplace=True)"
   ]
  },
  {
   "cell_type": "code",
   "execution_count": null,
   "metadata": {},
   "outputs": [],
   "source": [
    "meteo_2_copy.head()"
   ]
  },
  {
   "cell_type": "code",
   "execution_count": null,
   "metadata": {},
   "outputs": [],
   "source": [
    "meteo_test_copy.head()"
   ]
  },
  {
   "cell_type": "markdown",
   "metadata": {},
   "source": [
    "Let's see the feature <em>weather_description</em>:"
   ]
  },
  {
   "cell_type": "code",
   "execution_count": null,
   "metadata": {},
   "outputs": [],
   "source": [
    "meteo_1_copy['weather_description'].value_counts()"
   ]
  },
  {
   "cell_type": "code",
   "execution_count": null,
   "metadata": {},
   "outputs": [],
   "source": [
    "meteo_1_copy['weather_description'].value_counts().count()"
   ]
  },
  {
   "cell_type": "markdown",
   "metadata": {},
   "source": [
    "Let's create a barplot of <em>Frequency Distribution of Weather Discription</em> (style=\"darkgrid\", fontsize=12) for each dataset"
   ]
  },
  {
   "cell_type": "code",
   "execution_count": null,
   "metadata": {},
   "outputs": [],
   "source": [
    "weather_discription_count = meteo_1_copy['weather_description'].value_counts()\n",
    "sns.set(style=\"darkgrid\")\n",
    "plt.figure(figsize=(13, 6))\n",
    "sns.barplot(x=weather_discription_count.index, y=weather_discription_count.values)\n",
    "plt.title('Frequency Distribution of Weather Description in 2021')\n",
    "plt.ylabel('Number of Occurences', fontsize=12) \n",
    "plt.xlabel('Weather Description', fontsize=12) \n",
    "plt.show()"
   ]
  },
  {
   "cell_type": "code",
   "execution_count": null,
   "metadata": {},
   "outputs": [],
   "source": [
    "weather_discription_count_2 = meteo_2_copy['weather_description'].value_counts()\n",
    "sns.set(style=\"darkgrid\")\n",
    "plt.figure(figsize=(13, 6))\n",
    "sns.barplot(x=weather_discription_count_2.index, y=weather_discription_count_2.values)\n",
    "plt.title('Frequency Distribution of Weather Description in 2022') \n",
    "plt.ylabel('Number of Occurences', fontsize=12) \n",
    "plt.xlabel('Weather Description', fontsize=12)\n",
    "plt.show()"
   ]
  },
  {
   "cell_type": "code",
   "execution_count": null,
   "metadata": {},
   "outputs": [],
   "source": [
    "weather_discription_count_test = meteo_test_copy['weather_description'].value_counts()\n",
    "sns.set(style=\"darkgrid\")\n",
    "plt.figure(figsize=(13, 6))\n",
    "sns.barplot(x=weather_discription_count_test.index, y=weather_discription_count_test.values)\n",
    "plt.title('Frequency Distribution of Weather Description in 2023') \n",
    "plt.ylabel('Number of Occurences', fontsize=12) \n",
    "plt.xlabel('Weather Description', fontsize=12)\n",
    "plt.show()"
   ]
  },
  {
   "cell_type": "markdown",
   "metadata": {},
   "source": [
    "Let's create a pie plot of <em>Category Distribution of Weather Discription</em> for each of them."
   ]
  },
  {
   "cell_type": "code",
   "execution_count": null,
   "metadata": {},
   "outputs": [],
   "source": [
    "labels = meteo_1_copy['weather_description'].astype('category').cat.categories.tolist()\n",
    "counts = meteo_1_copy['weather_description'].value_counts()\n",
    "sizes = [counts[var_cat] for var_cat in labels]\n",
    "fig1, ax1 = plt.subplots(figsize=(7, 7))\n",
    "ax1.pie(sizes, labels=labels, autopct='%1.1f%%', shadow=False)\n",
    "ax1.axis('equal')\n",
    "plt.show()"
   ]
  },
  {
   "cell_type": "code",
   "execution_count": null,
   "metadata": {},
   "outputs": [],
   "source": [
    "labels_2 = meteo_2_copy['weather_description'].astype('category').cat.categories.tolist()\n",
    "counts_2 = meteo_2_copy['weather_description'].value_counts()\n",
    "sizes = [counts_2[var_cat] for var_cat in labels_2]\n",
    "fig1, ax1 = plt.subplots(figsize=(7, 7))\n",
    "ax1.pie(sizes, labels=labels_2, autopct='%1.1f%%', shadow=False)\n",
    "ax1.axis('equal')\n",
    "plt.show()"
   ]
  },
  {
   "cell_type": "code",
   "execution_count": null,
   "metadata": {},
   "outputs": [],
   "source": [
    "labels_test = meteo_test_copy['weather_description'].astype('category').cat.categories.tolist()\n",
    "counts_test = meteo_test_copy['weather_description'].value_counts()\n",
    "sizes = [counts_test[var_cat] for var_cat in labels_test]\n",
    "fig1, ax1 = plt.subplots(figsize=(7, 7))\n",
    "ax1.pie(sizes, labels=labels_test, autopct='%1.1f%%', shadow=False)\n",
    "ax1.axis('equal')\n",
    "plt.show()"
   ]
  },
  {
   "cell_type": "markdown",
   "metadata": {},
   "source": [
    "We have several options how to deal with qualitative data:"
   ]
  },
  {
   "cell_type": "markdown",
   "metadata": {},
   "source": [
    "#### a) Replace Values"
   ]
  },
  {
   "cell_type": "markdown",
   "metadata": {},
   "source": [
    "Again, we are using data copies to experiment all options."
   ]
  },
  {
   "cell_type": "code",
   "execution_count": null,
   "metadata": {},
   "outputs": [],
   "source": [
    "meteo_1_copy_r1=meteo_1_copy.copy()\n",
    "meteo_1_copy_r1.head()"
   ]
  },
  {
   "cell_type": "markdown",
   "metadata": {},
   "source": [
    "We need to create a dictionary assigning the string to a numeric value:"
   ]
  },
  {
   "cell_type": "markdown",
   "metadata": {},
   "source": [
    "sky is clear - 0, overcast clouds - 1, light rain - 2, broken clouds - 3, scattered clouds - 4, few clouds - 5, moderate rain - 6, heavy intensity rain - 7"
   ]
  },
  {
   "cell_type": "code",
   "execution_count": null,
   "metadata": {},
   "outputs": [],
   "source": [
    "replace_map = {'weather_description': {'sky is clear': 0, 'overcast clouds': 1, 'light rain': 2, 'broken clouds': 3, 'scattered clouds': 4, 'few clouds': 5, 'moderate rain': 6, 'heavy intensity rain': 7}}\n",
    "print(replace_map)"
   ]
  },
  {
   "cell_type": "markdown",
   "metadata": {},
   "source": [
    "We can create a replacement map in other way:"
   ]
  },
  {
   "cell_type": "code",
   "execution_count": null,
   "metadata": {},
   "outputs": [],
   "source": [
    "labels = meteo_1_copy_r1['weather_description'].astype('category').cat.categories.tolist()\n",
    "replace_map_comp = {'weather_description' : {k:v for k,v in zip(labels, list(range(0,len(labels)+1)))}}\n",
    "print(replace_map_comp)"
   ]
  },
  {
   "cell_type": "code",
   "execution_count": null,
   "metadata": {},
   "outputs": [],
   "source": [
    "meteo_1_copy_r1.head()"
   ]
  },
  {
   "cell_type": "markdown",
   "metadata": {},
   "source": [
    "Now we need to replace with the new values:"
   ]
  },
  {
   "cell_type": "code",
   "execution_count": null,
   "metadata": {},
   "outputs": [],
   "source": [
    "meteo_1_copy_r1.replace(replace_map_comp,inplace=True)\n",
    "meteo_1_copy_r1.head()"
   ]
  },
  {
   "cell_type": "markdown",
   "metadata": {},
   "source": [
    "Done! Now we can see that the type of values are <em>int64</em>:"
   ]
  },
  {
   "cell_type": "code",
   "execution_count": null,
   "metadata": {},
   "outputs": [],
   "source": [
    "print(meteo_1_copy_r1['weather_description'].dtypes)"
   ]
  },
  {
   "cell_type": "markdown",
   "metadata": {},
   "source": [
    "#### b) Label encoding"
   ]
  },
  {
   "cell_type": "code",
   "execution_count": null,
   "metadata": {},
   "outputs": [],
   "source": [
    "meteo_1_copy_r2=meteo_1_copy.copy()\n",
    "meteo_1_copy_r2.head()"
   ]
  },
  {
   "cell_type": "code",
   "execution_count": null,
   "metadata": {},
   "outputs": [],
   "source": [
    "print(meteo_1_copy_r2.dtypes)"
   ]
  },
  {
   "cell_type": "markdown",
   "metadata": {},
   "source": [
    "Similar to the previous examples, each string will be assigned a number. Instead of replacing the values under the column <em>incidents</em>, we are going to create a new colum to each created label."
   ]
  },
  {
   "cell_type": "code",
   "execution_count": null,
   "metadata": {},
   "outputs": [],
   "source": [
    "meteo_1_copy_r2['None'] = np.where(meteo_1_copy_r2['weather_description'].str.contains('None'), 1, 0)\n",
    "meteo_1_copy_r2.head()"
   ]
  },
  {
   "cell_type": "markdown",
   "metadata": {},
   "source": [
    "To complete the process, it is needed to replicate for each label and then drop the column <em>weather_description</em>."
   ]
  },
  {
   "cell_type": "markdown",
   "metadata": {},
   "source": [
    "Let's see another way to label encoding. This uses the <em>LabelEncoder</em> from <em>sklearn</em>."
   ]
  },
  {
   "cell_type": "code",
   "execution_count": null,
   "metadata": {},
   "outputs": [],
   "source": [
    "meteo_1_copy_r2_sk1 = meteo_1_copy.copy()\n",
    "meteo_1_copy_r2_r22=meteo_1_copy.copy()\n",
    "\n",
    "from sklearn.preprocessing import LabelEncoder\n",
    "\n",
    "lb_make = LabelEncoder()\n",
    "meteo_1_copy_r2_sk1['weather_description_code'] = lb_make.fit_transform(meteo_1_copy_r2_r22['weather_description'])\n",
    "\n",
    "meteo_1_copy_r2_sk1.head()"
   ]
  },
  {
   "cell_type": "markdown",
   "metadata": {},
   "source": [
    "It creates a new column, <em>weather_description_code</em>, with the labels assigned to feature <em>weather_description</em>. The numeric values were assigned randomly, being the crescent order not apllicable to the meaning of the qualifying words."
   ]
  },
  {
   "cell_type": "markdown",
   "metadata": {},
   "source": [
    "#### c) One-Hot encoding"
   ]
  },
  {
   "cell_type": "markdown",
   "metadata": {},
   "source": [
    "This alternative uses <em>LabelBinarizer</em> of <em>sklearn</em> and creates a matrix with bits regarding each label."
   ]
  },
  {
   "cell_type": "code",
   "execution_count": null,
   "metadata": {},
   "outputs": [],
   "source": [
    "meteo_1_copy_r3 = meteo_1_copy.copy()\n",
    "\n",
    "from sklearn.preprocessing import LabelBinarizer\n",
    "\n",
    "lb = LabelBinarizer()\n",
    "lb_results = lb.fit_transform(meteo_1_copy_r3['weather_description'])\n",
    "lb_results_df = pd.DataFrame(lb_results, columns=lb.classes_)\n",
    "\n",
    "lb_results_df.head()"
   ]
  },
  {
   "cell_type": "code",
   "execution_count": null,
   "metadata": {},
   "outputs": [],
   "source": [
    "result_df = pd.concat([meteo_1_copy_r3, lb_results_df], axis=1)\n",
    "result_df.head()"
   ]
  },
  {
   "cell_type": "markdown",
   "metadata": {},
   "source": [
    "#### d) Binary Encoding\n",
    "Similar to the previous technique, it creates a matrix of the status of the values, but this time with binary values. See the comparison between techniques below:"
   ]
  },
  {
   "cell_type": "markdown",
   "metadata": {},
   "source": [
    "|   Level   | \"Decimal encoding\" | Binary encoding | One-Hot encoding |\n",
    "| :-------: | :----------------: | :-------------: | :--------------: |\n",
    "| None      |         0          |       000       |      000001      |\n",
    "| Low       |         1          |       001       |      000010      |\n",
    "| Medium    |         2          |       010       |      000100      |\n",
    "| High      |         3          |       011       |      001000      |\n",
    "| Very_High |         4          |       100       |      010000      |"
   ]
  },
  {
   "cell_type": "markdown",
   "metadata": {},
   "source": [
    "For this technique it is needed to have the <em>category_encoders</em> installed:\n",
    "<code>!pip install category_encoders</code>"
   ]
  },
  {
   "cell_type": "code",
   "execution_count": null,
   "metadata": {},
   "outputs": [],
   "source": [
    "meteo_1_copy_r4 = meteo_1_copy.copy()\n",
    "\n",
    "import category_encoders as ce\n",
    "\n",
    "encoder = ce.BinaryEncoder(cols=['weather_description'])\n",
    "df_binary = encoder.fit_transform(meteo_1_copy_r4)\n",
    "\n",
    "df_binary.head()"
   ]
  },
  {
   "cell_type": "markdown",
   "metadata": {},
   "source": [
    "#### e) Backward difference encoding\n",
    "The values are normalized in the range of -1 to 1."
   ]
  },
  {
   "cell_type": "code",
   "execution_count": null,
   "metadata": {},
   "outputs": [],
   "source": [
    "meteo_1_copy_r5 = meteo_1_copy.copy()\n",
    "\n",
    "encoder = ce.BackwardDifferenceEncoder(cols=['weather_description'])\n",
    "df_bd = encoder.fit_transform(meteo_1_copy_r5)\n",
    "\n",
    "df_bd.head()"
   ]
  },
  {
   "cell_type": "markdown",
   "metadata": {},
   "source": [
    "#### f) Factorize\n",
    "This technique encodes the object as an enumerated type or categorical variable."
   ]
  },
  {
   "cell_type": "code",
   "execution_count": null,
   "metadata": {},
   "outputs": [],
   "source": [
    "meteo_1_copy_r6 = meteo_1_copy.copy()"
   ]
  },
  {
   "cell_type": "code",
   "execution_count": null,
   "metadata": {},
   "outputs": [],
   "source": [
    "meteo_1_copy_r6['weather_description'] = pd.factorize(meteo_1_copy_r6['weather_description'])[0] + 1\n",
    "meteo_1_copy_r6.head()"
   ]
  },
  {
   "cell_type": "markdown",
   "metadata": {},
   "source": [
    "We will choose the factorize technique to keep going."
   ]
  },
  {
   "cell_type": "code",
   "execution_count": null,
   "metadata": {
    "scrolled": true
   },
   "outputs": [],
   "source": [
    "meteo_1_copy['weather_description'] = pd.factorize(meteo_1_copy['weather_description'])[0] + 1\n",
    "meteo_1_copy.head()"
   ]
  },
  {
   "cell_type": "markdown",
   "metadata": {},
   "source": [
    "Now do the same for the others."
   ]
  },
  {
   "cell_type": "code",
   "execution_count": null,
   "metadata": {},
   "outputs": [],
   "source": [
    "meteo_2_copy['weather_description'] = pd.factorize(meteo_2_copy['weather_description'])[0] + 1\n",
    "meteo_test_copy['weather_description'] = pd.factorize(meteo_test_copy['weather_description'])[0] + 1\n",
    "meteo_2_copy.head()"
   ]
  },
  {
   "cell_type": "code",
   "execution_count": null,
   "metadata": {
    "scrolled": false
   },
   "outputs": [],
   "source": [
    "meteo_test_copy.head()"
   ]
  },
  {
   "cell_type": "markdown",
   "metadata": {},
   "source": [
    "Other option would it be to filter the <em>NaN</em> values when reading the CSV file:"
   ]
  },
  {
   "cell_type": "markdown",
   "metadata": {},
   "source": [
    "<code>data = pd.read_csv('incidents.csv', na_filter=False)</code>"
   ]
  },
  {
   "cell_type": "markdown",
   "metadata": {},
   "source": [
    "Now let's go through the same process but with the feature <em>Injecao na rede (kWh)</em>"
   ]
  },
  {
   "cell_type": "code",
   "execution_count": null,
   "metadata": {},
   "outputs": [],
   "source": [
    "energy_1_copy['Injecao na rede (kWh)'].value_counts()"
   ]
  },
  {
   "cell_type": "markdown",
   "metadata": {},
   "source": [
    "Let's create a barplot of <em>Frequency of Injection into the grid in kWh</em> (style=\"darkgrid\", fontsize=12)"
   ]
  },
  {
   "cell_type": "code",
   "execution_count": null,
   "metadata": {},
   "outputs": [],
   "source": [
    "injection_count = energy_1_copy['Injecao na rede (kWh)'].value_counts()\n",
    "sns.set(style=\"darkgrid\")\n",
    "plt.figure(figsize=(13, 6))\n",
    "sns.barplot(x=injection_count.index, y=injection_count.values)\n",
    "plt.title('Frequency Distribution of Injection in to the grid in kWh in 2021')\n",
    "plt.ylabel('Number of Occurences', fontsize=12)\n",
    "plt.xlabel('Injection in to the grid in kWh', fontsize=12)\n",
    "plt.show()"
   ]
  },
  {
   "cell_type": "code",
   "execution_count": null,
   "metadata": {},
   "outputs": [],
   "source": [
    "injection_count_2 = energy_2_copy['Injecao na rede (kWh)'].value_counts()\n",
    "sns.set(style=\"darkgrid\")\n",
    "plt.figure(figsize=(13, 6))\n",
    "sns.barplot(x=injection_count_2.index, y=injection_count_2.values)\n",
    "plt.title('Frequency Distribution of Injection in to the grid in kWh in 2022')\n",
    "plt.ylabel('Number of Occurences', fontsize=12)\n",
    "plt.xlabel('Injection in to the grid in kWh', fontsize=12)\n",
    "plt.show()"
   ]
  },
  {
   "cell_type": "code",
   "execution_count": null,
   "metadata": {},
   "outputs": [],
   "source": [
    "injection_count_test = energy_test_copy['Injecao na rede (kWh)'].value_counts()\n",
    "sns.set(style=\"darkgrid\")\n",
    "plt.figure(figsize=(13, 6))\n",
    "sns.barplot(x=injection_count_test.index, y=injection_count_test.values)\n",
    "plt.title('Frequency Distribution of Injection in to the grid in kWh in 2023')\n",
    "plt.ylabel('Number of Occurences', fontsize=12)\n",
    "plt.xlabel('Injection in to the grid in kWh', fontsize=12)\n",
    "plt.show()"
   ]
  },
  {
   "cell_type": "markdown",
   "metadata": {},
   "source": [
    "To better visualize the distribution let's remove the 0 from this graph, excluding the last dataset since all elements are currently 0. "
   ]
  },
  {
   "cell_type": "code",
   "execution_count": null,
   "metadata": {},
   "outputs": [],
   "source": [
    "unwanted_value = 0\n",
    "\n",
    "filtered_injection_count = energy_1_copy[energy_1_copy['Injecao na rede (kWh)'] != unwanted_value]['Injecao na rede (kWh)'].value_counts()\n",
    "\n",
    "sns.set(style=\"darkgrid\")\n",
    "plt.figure(figsize=(13, 6))\n",
    "sns.barplot(x=filtered_injection_count.index, y=filtered_injection_count.values)\n",
    "plt.title('Frequency Distribution of Injection in to the grid in kWh in 2021')\n",
    "plt.ylabel('Number of Occurrences', fontsize=12)\n",
    "plt.xlabel('Injection in to the grid in kWh', fontsize=12)\n",
    "plt.show()"
   ]
  },
  {
   "cell_type": "code",
   "execution_count": null,
   "metadata": {},
   "outputs": [],
   "source": [
    "unwanted_value = 0\n",
    "\n",
    "filtered_injection_count_2 = energy_2_copy[energy_2_copy['Injecao na rede (kWh)'] != unwanted_value]['Injecao na rede (kWh)'].value_counts()\n",
    "\n",
    "sns.set(style=\"darkgrid\")\n",
    "plt.figure(figsize=(13, 6))\n",
    "sns.barplot(x=filtered_injection_count_2.index, y=filtered_injection_count_2.values)\n",
    "plt.title('Frequency Distribution of Injection in to the grid in kWh in 2022')\n",
    "plt.ylabel('Number of Occurrences', fontsize=12)\n",
    "plt.xlabel('Injection in to the grid in kWh', fontsize=12)\n",
    "plt.show()"
   ]
  },
  {
   "cell_type": "markdown",
   "metadata": {},
   "source": [
    "Let's create a pie plot of <em>Category Injection into the grid in kWh</em>, also removing 0 to also better visualize the data, except for the last one since it only has 0."
   ]
  },
  {
   "cell_type": "code",
   "execution_count": null,
   "metadata": {},
   "outputs": [],
   "source": [
    "unwanted_value = 0\n",
    "\n",
    "filtered_energy_1_copy = energy_1_copy[energy_1_copy['Injecao na rede (kWh)'] != unwanted_value]\n",
    "\n",
    "labels = filtered_energy_1_copy['Injecao na rede (kWh)'].astype('category').cat.categories.tolist()\n",
    "counts = filtered_energy_1_copy['Injecao na rede (kWh)'].value_counts()\n",
    "sizes = [counts[var_cat] for var_cat in labels]\n",
    "\n",
    "fig1, ax1 = plt.subplots(figsize=(7, 7))\n",
    "ax1.pie(sizes, labels=labels, autopct='%1.1f%%', shadow=False)\n",
    "ax1.axis('equal')\n",
    "plt.show()"
   ]
  },
  {
   "cell_type": "code",
   "execution_count": null,
   "metadata": {},
   "outputs": [],
   "source": [
    "unwanted_value = 0\n",
    "\n",
    "filtered_energy_2_copy = energy_2_copy[energy_2_copy['Injecao na rede (kWh)'] != unwanted_value]\n",
    "\n",
    "labels_2 = filtered_energy_2_copy['Injecao na rede (kWh)'].astype('category').cat.categories.tolist()\n",
    "counts_2 = filtered_energy_2_copy['Injecao na rede (kWh)'].value_counts()\n",
    "sizes = [counts_2[var_cat] for var_cat in labels_2]\n",
    "\n",
    "fig1, ax1 = plt.subplots(figsize=(7, 7))\n",
    "ax1.pie(sizes, labels=labels_2, autopct='%1.1f%%', shadow=False)\n",
    "ax1.axis('equal')\n",
    "plt.show()"
   ]
  },
  {
   "cell_type": "code",
   "execution_count": null,
   "metadata": {},
   "outputs": [],
   "source": [
    "labels_test = energy_test_copy['Injecao na rede (kWh)'].astype('category').cat.categories.tolist()\n",
    "counts_test = energy_test_copy['Injecao na rede (kWh)'].value_counts()\n",
    "sizes = [counts_test[var_cat] for var_cat in labels_test]\n",
    "fig1, ax1 = plt.subplots(figsize=(7, 7))\n",
    "ax1.pie(sizes, labels=labels_test, autopct='%1.1f%%', shadow=False)\n",
    "ax1.axis('equal')\n",
    "plt.show()"
   ]
  },
  {
   "cell_type": "markdown",
   "metadata": {},
   "source": [
    "We will also choose the factorize technique to keep going."
   ]
  },
  {
   "cell_type": "code",
   "execution_count": null,
   "metadata": {},
   "outputs": [],
   "source": [
    "energy_1_copy['Injecao na rede (kWh)'] = pd.factorize(energy_1_copy['Injecao na rede (kWh)'])[0] + 1\n",
    "energy_2_copy['Injecao na rede (kWh)'] = pd.factorize(energy_2_copy['Injecao na rede (kWh)'])[0] + 1\n",
    "energy_test_copy['Injecao na rede (kWh)'] = pd.factorize(energy_test_copy['Injecao na rede (kWh)'])[0] + 1\n",
    "energy_1_copy.head()"
   ]
  },
  {
   "cell_type": "code",
   "execution_count": null,
   "metadata": {},
   "outputs": [],
   "source": [
    "energy_2_copy.head()"
   ]
  },
  {
   "cell_type": "code",
   "execution_count": null,
   "metadata": {},
   "outputs": [],
   "source": [
    "energy_test_copy.head()"
   ]
  },
  {
   "cell_type": "code",
   "execution_count": null,
   "metadata": {},
   "outputs": [],
   "source": [
    "energy_1_copy['Injecao na rede (kWh)'].value_counts()"
   ]
  },
  {
   "cell_type": "code",
   "execution_count": null,
   "metadata": {},
   "outputs": [],
   "source": [
    "energy_2_copy['Injecao na rede (kWh)'].value_counts()"
   ]
  },
  {
   "cell_type": "code",
   "execution_count": null,
   "metadata": {},
   "outputs": [],
   "source": [
    "energy_test_copy['Injecao na rede (kWh)'].value_counts()"
   ]
  },
  {
   "cell_type": "markdown",
   "metadata": {},
   "source": [
    "So now we know that 1: None, 2: Low, 3: Medium, 4: High and 5:Very High"
   ]
  },
  {
   "cell_type": "markdown",
   "metadata": {},
   "source": [
    "Since there are no more categoric columns we will resume with the file like it is."
   ]
  },
  {
   "cell_type": "markdown",
   "metadata": {},
   "source": [
    "## 3. Handling dates\n",
    "\n",
    "Datetime Properties and Methods (https://pandas.pydata.org/pandas-docs/version/0.23/api.html#datetimelike-properties)"
   ]
  },
  {
   "cell_type": "code",
   "execution_count": null,
   "metadata": {},
   "outputs": [],
   "source": [
    "energy_1_copy_dt = energy_1_copy.copy()"
   ]
  },
  {
   "cell_type": "code",
   "execution_count": null,
   "metadata": {},
   "outputs": [],
   "source": [
    "energy_1_copy_dt['Data'].head()"
   ]
  },
  {
   "cell_type": "markdown",
   "metadata": {},
   "source": [
    "We are going to convert the dates from <em>object</em> to <em>datetime</em>, specifying the format we want:"
   ]
  },
  {
   "cell_type": "code",
   "execution_count": null,
   "metadata": {},
   "outputs": [],
   "source": [
    "energy_1_copy_dt['Data'] = pd.to_datetime(energy_1_copy_dt['Data'], format='%Y-%m-%d %H:%M:%S', errors='coerce')"
   ]
  },
  {
   "cell_type": "code",
   "execution_count": null,
   "metadata": {},
   "outputs": [],
   "source": [
    "assert energy_1_copy_dt['Data'].isnull().sum()==0, 'missing record date'"
   ]
  },
  {
   "cell_type": "code",
   "execution_count": null,
   "metadata": {},
   "outputs": [],
   "source": [
    "energy_1_copy_dt['Data'].head()"
   ]
  },
  {
   "cell_type": "markdown",
   "metadata": {},
   "source": [
    "We can extract parts of the date and create new columns with that:"
   ]
  },
  {
   "cell_type": "code",
   "execution_count": null,
   "metadata": {},
   "outputs": [],
   "source": [
    "energy_1_copy_dt['Data_year'] = energy_1_copy_dt['Data'].dt.year\n",
    "energy_1_copy_dt['Data_month'] = energy_1_copy_dt['Data'].dt.month\n",
    "energy_1_copy_dt['Data_day'] = energy_1_copy_dt['Data'].dt.day\n",
    "energy_1_copy_dt['Data_hour'] = energy_1_copy_dt['Data'].dt.hour\n",
    "energy_1_copy_dt['Data_minute'] = energy_1_copy_dt['Data'].dt.minute\n",
    "energy_1_copy_dt['Data_second'] = energy_1_copy_dt['Data'].dt.second"
   ]
  },
  {
   "cell_type": "code",
   "execution_count": null,
   "metadata": {},
   "outputs": [],
   "source": [
    "energy_1_copy_dt.head()"
   ]
  },
  {
   "cell_type": "code",
   "execution_count": null,
   "metadata": {},
   "outputs": [],
   "source": [
    "energy_1_copy_dt.nunique()"
   ]
  },
  {
   "cell_type": "markdown",
   "metadata": {},
   "source": [
    "Since <em>year</em>, <em>minute</em> and <em>second</em> have only one value, we will drop them."
   ]
  },
  {
   "cell_type": "code",
   "execution_count": null,
   "metadata": {},
   "outputs": [],
   "source": [
    "energy_1_copy_dt.drop('Data_year', axis=1, inplace=True)\n",
    "energy_1_copy_dt.drop('Data_minute', axis=1, inplace=True)\n",
    "energy_1_copy_dt.drop('Data_second', axis=1, inplace=True)\n",
    "energy_1_copy_dt.dropna(inplace=True)"
   ]
  },
  {
   "cell_type": "code",
   "execution_count": null,
   "metadata": {},
   "outputs": [],
   "source": [
    "energy_1_copy_dt.head()"
   ]
  },
  {
   "cell_type": "markdown",
   "metadata": {},
   "source": [
    "Other functions to deal with dates"
   ]
  },
  {
   "cell_type": "code",
   "execution_count": null,
   "metadata": {},
   "outputs": [],
   "source": [
    "energy_1_copy_dt2 = energy_1_copy.copy()"
   ]
  },
  {
   "cell_type": "code",
   "execution_count": null,
   "metadata": {
    "scrolled": true
   },
   "outputs": [],
   "source": [
    "energy_1_copy_dt2['Data'] = pd.to_datetime(energy_1_copy_dt2['Data'])\n",
    "energy_1_copy_dt2.info()"
   ]
  },
  {
   "cell_type": "code",
   "execution_count": null,
   "metadata": {},
   "outputs": [],
   "source": [
    "energy_1_copy_dt2.head()"
   ]
  },
  {
   "cell_type": "markdown",
   "metadata": {},
   "source": [
    "We can use <em>datetime.today</em> and fetch the actual date."
   ]
  },
  {
   "cell_type": "code",
   "execution_count": null,
   "metadata": {},
   "outputs": [],
   "source": [
    "import datetime\n",
    "\n",
    "today = datetime.datetime.today()\n",
    "\n",
    "today"
   ]
  },
  {
   "cell_type": "markdown",
   "metadata": {},
   "source": [
    "It can be measured the time elapsed between the dates on the dataset and today."
   ]
  },
  {
   "cell_type": "code",
   "execution_count": null,
   "metadata": {},
   "outputs": [],
   "source": [
    "today - energy_1_copy_dt2['Data']"
   ]
  },
  {
   "cell_type": "code",
   "execution_count": null,
   "metadata": {},
   "outputs": [],
   "source": [
    "(today - energy_1_copy_dt2['Data']).dt.days"
   ]
  },
  {
   "cell_type": "markdown",
   "metadata": {},
   "source": [
    "And we can also separate each component of the date by day, month, hour, time, etc."
   ]
  },
  {
   "cell_type": "code",
   "execution_count": null,
   "metadata": {},
   "outputs": [],
   "source": [
    "energy_1_copy_dt2['day'] = energy_1_copy_dt2['Data'].dt.day\n",
    "energy_1_copy_dt2['month'] = energy_1_copy_dt2['Data'].dt.month\n",
    "energy_1_copy_dt2['hour'] = energy_1_copy_dt2['Data'].dt.hour\n",
    "energy_1_copy_dt2['time'] = energy_1_copy_dt2['Data'].dt.time\n",
    "energy_1_copy_dt2.head()"
   ]
  },
  {
   "cell_type": "markdown",
   "metadata": {},
   "source": [
    "Now we need to choose how to deal with the <em>Data</em>, and again dropping the values as we came to the conclusion before."
   ]
  },
  {
   "cell_type": "code",
   "execution_count": null,
   "metadata": {},
   "outputs": [],
   "source": [
    "energy_1_copy['Data'] = pd.to_datetime(energy_1_copy['Data'], format='%Y-%m-%d %H:%M:%S', errors='coerce')\n",
    "assert energy_1_copy['Data'].isnull().sum()==0, 'missing record date'\n",
    "energy_1_copy['Data'].head()"
   ]
  },
  {
   "cell_type": "code",
   "execution_count": null,
   "metadata": {},
   "outputs": [],
   "source": [
    "energy_2_copy['Data'] = pd.to_datetime(energy_2_copy['Data'], format='%Y-%m-%d %H:%M:%S', errors='coerce')\n",
    "assert energy_2_copy['Data'].isnull().sum()==0, 'missing record date'\n",
    "energy_2_copy['Data'].head()"
   ]
  },
  {
   "cell_type": "code",
   "execution_count": null,
   "metadata": {},
   "outputs": [],
   "source": [
    "energy_test_copy['Data'] = pd.to_datetime(energy_test_copy['Data'], format='%Y-%m-%d %H:%M:%S', errors='coerce')\n",
    "assert energy_test_copy['Data'].isnull().sum()==0, 'missing record date'\n",
    "energy_test_copy['Data'].head()"
   ]
  },
  {
   "cell_type": "code",
   "execution_count": null,
   "metadata": {},
   "outputs": [],
   "source": [
    "energy_1_copy['Data_year'] = energy_1_copy['Data'].dt.year\n",
    "energy_1_copy['Data_month'] = energy_1_copy['Data'].dt.month\n",
    "energy_1_copy['Data_day'] = energy_1_copy['Data'].dt.day\n",
    "energy_1_copy['Data_hour'] = energy_1_copy['Data'].dt.hour\n",
    "energy_1_copy['Data_minute'] = energy_1_copy['Data'].dt.minute\n",
    "energy_1_copy['Data_second'] = energy_1_copy['Data'].dt.second\n",
    "\n",
    "energy_1_copy.head()"
   ]
  },
  {
   "cell_type": "code",
   "execution_count": null,
   "metadata": {},
   "outputs": [],
   "source": [
    "energy_1_copy.drop('Data_year', axis=1, inplace=True)\n",
    "energy_1_copy.drop('Data_minute', axis=1, inplace=True)\n",
    "energy_1_copy.drop('Data_second', axis=1, inplace=True)\n",
    "energy_1_copy.dropna(inplace=True)\n",
    "energy_1_copy.head()"
   ]
  },
  {
   "cell_type": "code",
   "execution_count": null,
   "metadata": {},
   "outputs": [],
   "source": [
    "energy_1_copy.info()"
   ]
  },
  {
   "cell_type": "code",
   "execution_count": null,
   "metadata": {},
   "outputs": [],
   "source": [
    "energy_2_copy['Data_year'] = energy_2_copy['Data'].dt.year\n",
    "energy_2_copy['Data_month'] = energy_2_copy['Data'].dt.month\n",
    "energy_2_copy['Data_day'] = energy_2_copy['Data'].dt.day\n",
    "energy_2_copy['Data_hour'] = energy_2_copy['Data'].dt.hour\n",
    "energy_2_copy['Data_minute'] = energy_2_copy['Data'].dt.minute\n",
    "energy_2_copy['Data_second'] = energy_2_copy['Data'].dt.second\n",
    "\n",
    "energy_2_copy.head()"
   ]
  },
  {
   "cell_type": "code",
   "execution_count": null,
   "metadata": {},
   "outputs": [],
   "source": [
    "energy_2_copy.drop('Data_year', axis=1, inplace=True)\n",
    "energy_2_copy.drop('Data_minute', axis=1, inplace=True)\n",
    "energy_2_copy.drop('Data_second', axis=1, inplace=True)\n",
    "energy_2_copy.dropna(inplace=True)\n",
    "energy_2_copy.head()"
   ]
  },
  {
   "cell_type": "code",
   "execution_count": null,
   "metadata": {},
   "outputs": [],
   "source": [
    "energy_2_copy.info()"
   ]
  },
  {
   "cell_type": "code",
   "execution_count": null,
   "metadata": {},
   "outputs": [],
   "source": [
    "energy_test_copy['Data_year'] = energy_test_copy['Data'].dt.year\n",
    "energy_test_copy['Data_month'] = energy_test_copy['Data'].dt.month\n",
    "energy_test_copy['Data_day'] = energy_test_copy['Data'].dt.day\n",
    "energy_test_copy['Data_hour'] = energy_test_copy['Data'].dt.hour\n",
    "energy_test_copy['Data_minute'] = energy_test_copy['Data'].dt.minute\n",
    "energy_test_copy['Data_second'] = energy_test_copy['Data'].dt.second\n",
    "\n",
    "energy_test_copy.head()"
   ]
  },
  {
   "cell_type": "code",
   "execution_count": null,
   "metadata": {},
   "outputs": [],
   "source": [
    "energy_test_copy.drop('Data_year', axis=1, inplace=True)\n",
    "energy_test_copy.drop('Data_minute', axis=1, inplace=True)\n",
    "energy_test_copy.drop('Data_second', axis=1, inplace=True)\n",
    "energy_test_copy.dropna(inplace=True)\n",
    "energy_test_copy.head()"
   ]
  },
  {
   "cell_type": "code",
   "execution_count": null,
   "metadata": {},
   "outputs": [],
   "source": [
    "energy_test_copy.info()"
   ]
  },
  {
   "cell_type": "code",
   "execution_count": null,
   "metadata": {},
   "outputs": [],
   "source": [
    "meteo_1_copy.info()"
   ]
  },
  {
   "cell_type": "markdown",
   "metadata": {},
   "source": [
    "Now we need to do the same process but for the meteo dataset for the <em>dt</em> and <em>dt_iso</em> columns."
   ]
  },
  {
   "cell_type": "code",
   "execution_count": null,
   "metadata": {},
   "outputs": [],
   "source": [
    "meteo_1_copy['dt_iso'].head()"
   ]
  },
  {
   "cell_type": "code",
   "execution_count": null,
   "metadata": {},
   "outputs": [],
   "source": [
    "meteo_2_copy['dt_iso'].head()"
   ]
  },
  {
   "cell_type": "code",
   "execution_count": null,
   "metadata": {},
   "outputs": [],
   "source": [
    "meteo_test_copy['dt_iso'].head()"
   ]
  },
  {
   "cell_type": "markdown",
   "metadata": {},
   "source": [
    "Since all dates have <em>+0000</em> and <em>UTC</em>, we don't need them."
   ]
  },
  {
   "cell_type": "code",
   "execution_count": null,
   "metadata": {},
   "outputs": [],
   "source": [
    "meteo_1_copy['dt_iso'].replace(to_replace=r' \\+0000 UTC', value='', regex=True, inplace=True)\n",
    "meteo_1_copy['dt_iso'].head()"
   ]
  },
  {
   "cell_type": "code",
   "execution_count": null,
   "metadata": {},
   "outputs": [],
   "source": [
    "meteo_1_copy['dt_iso'] = pd.to_datetime(meteo_1_copy['dt_iso'], format='%Y-%m-%d %H:%M:%S', errors='coerce')\n",
    "assert meteo_1_copy['dt_iso'].isnull().sum()==0, 'missing record date'\n",
    "meteo_1_copy['dt_iso'].head()"
   ]
  },
  {
   "cell_type": "code",
   "execution_count": null,
   "metadata": {},
   "outputs": [],
   "source": [
    "meteo_2_copy['dt_iso'].replace(to_replace=r' \\+0000 UTC', value='', regex=True, inplace=True)\n",
    "meteo_2_copy['dt_iso'].head()"
   ]
  },
  {
   "cell_type": "code",
   "execution_count": null,
   "metadata": {},
   "outputs": [],
   "source": [
    "meteo_2_copy['dt_iso'] = pd.to_datetime(meteo_2_copy['dt_iso'], format='%Y-%m-%d %H:%M:%S', errors='coerce')\n",
    "assert meteo_2_copy['dt_iso'].isnull().sum()==0, 'missing record date'\n",
    "meteo_2_copy['dt_iso'].head()"
   ]
  },
  {
   "cell_type": "code",
   "execution_count": null,
   "metadata": {},
   "outputs": [],
   "source": [
    "meteo_test_copy['dt_iso'].replace(to_replace=r' \\+0000 UTC', value='', regex=True, inplace=True)\n",
    "meteo_test_copy['dt_iso'].head()"
   ]
  },
  {
   "cell_type": "code",
   "execution_count": null,
   "metadata": {},
   "outputs": [],
   "source": [
    "meteo_test_copy['dt_iso'] = pd.to_datetime(meteo_test_copy['dt_iso'], format='%Y-%m-%d %H:%M:%S', errors='coerce')\n",
    "assert meteo_test_copy['dt_iso'].isnull().sum()==0, 'missing record date'\n",
    "meteo_test_copy['dt_iso'].head()"
   ]
  },
  {
   "cell_type": "markdown",
   "metadata": {},
   "source": [
    "Since <em>dt</em> is just the same date as <em>dt_iso</em> but as a timestamp, we can remove it."
   ]
  },
  {
   "cell_type": "code",
   "execution_count": null,
   "metadata": {},
   "outputs": [],
   "source": [
    "meteo_1_copy.drop('dt', axis=1, inplace=True)\n",
    "meteo_1_copy.dropna(inplace=True)\n",
    "meteo_1_copy.head()"
   ]
  },
  {
   "cell_type": "code",
   "execution_count": null,
   "metadata": {},
   "outputs": [],
   "source": [
    "meteo_2_copy.drop('dt', axis=1, inplace=True)\n",
    "meteo_2_copy.dropna(inplace=True)\n",
    "meteo_2_copy.head()"
   ]
  },
  {
   "cell_type": "code",
   "execution_count": null,
   "metadata": {},
   "outputs": [],
   "source": [
    "meteo_test_copy.drop('dt', axis=1, inplace=True)\n",
    "meteo_test_copy.dropna(inplace=True)\n",
    "meteo_test_copy.head()"
   ]
  },
  {
   "cell_type": "code",
   "execution_count": null,
   "metadata": {},
   "outputs": [],
   "source": [
    "meteo_1_copy['dt_iso_year'] = meteo_1_copy['dt_iso'].dt.year\n",
    "meteo_1_copy['dt_iso_month'] = meteo_1_copy['dt_iso'].dt.month\n",
    "meteo_1_copy['dt_iso_day'] = meteo_1_copy['dt_iso'].dt.day\n",
    "meteo_1_copy['dt_iso_hour'] = meteo_1_copy['dt_iso'].dt.hour\n",
    "meteo_1_copy['dt_iso_minute'] = meteo_1_copy['dt_iso'].dt.minute\n",
    "meteo_1_copy['dt_iso_second'] = meteo_1_copy['dt_iso'].dt.second"
   ]
  },
  {
   "cell_type": "code",
   "execution_count": null,
   "metadata": {},
   "outputs": [],
   "source": [
    "meteo_1_copy.info()"
   ]
  },
  {
   "cell_type": "code",
   "execution_count": null,
   "metadata": {},
   "outputs": [],
   "source": [
    "meteo_1_copy.nunique()"
   ]
  },
  {
   "cell_type": "code",
   "execution_count": null,
   "metadata": {},
   "outputs": [],
   "source": [
    "meteo_2_copy['dt_iso_year'] = meteo_2_copy['dt_iso'].dt.year\n",
    "meteo_2_copy['dt_iso_month'] = meteo_2_copy['dt_iso'].dt.month\n",
    "meteo_2_copy['dt_iso_day'] = meteo_2_copy['dt_iso'].dt.day\n",
    "meteo_2_copy['dt_iso_hour'] = meteo_2_copy['dt_iso'].dt.hour\n",
    "meteo_2_copy['dt_iso_minute'] = meteo_2_copy['dt_iso'].dt.minute\n",
    "meteo_2_copy['dt_iso_second'] = meteo_2_copy['dt_iso'].dt.second"
   ]
  },
  {
   "cell_type": "code",
   "execution_count": null,
   "metadata": {},
   "outputs": [],
   "source": [
    "meteo_2_copy.info()"
   ]
  },
  {
   "cell_type": "code",
   "execution_count": null,
   "metadata": {},
   "outputs": [],
   "source": [
    "meteo_2_copy.nunique()"
   ]
  },
  {
   "cell_type": "code",
   "execution_count": null,
   "metadata": {},
   "outputs": [],
   "source": [
    "meteo_test_copy['dt_iso_year'] = meteo_test_copy['dt_iso'].dt.year\n",
    "meteo_test_copy['dt_iso_month'] = meteo_test_copy['dt_iso'].dt.month\n",
    "meteo_test_copy['dt_iso_day'] = meteo_test_copy['dt_iso'].dt.day\n",
    "meteo_test_copy['dt_iso_hour'] = meteo_test_copy['dt_iso'].dt.hour\n",
    "meteo_test_copy['dt_iso_minute'] = meteo_test_copy['dt_iso'].dt.minute\n",
    "meteo_test_copy['dt_iso_second'] = meteo_test_copy['dt_iso'].dt.second"
   ]
  },
  {
   "cell_type": "code",
   "execution_count": null,
   "metadata": {},
   "outputs": [],
   "source": [
    "meteo_test_copy.info()"
   ]
  },
  {
   "cell_type": "code",
   "execution_count": null,
   "metadata": {},
   "outputs": [],
   "source": [
    "meteo_test_copy.nunique()"
   ]
  },
  {
   "cell_type": "markdown",
   "metadata": {},
   "source": [
    "Since the <em>dt_iso_year</em>, <em>dt_iso_minute</em> and <em>dt_iso_second</em> only have one value we can drop them."
   ]
  },
  {
   "cell_type": "code",
   "execution_count": null,
   "metadata": {},
   "outputs": [],
   "source": [
    "meteo_1_copy.drop(['dt_iso_year'], axis=1, inplace=True)\n",
    "meteo_1_copy.drop(['dt_iso_minute'], axis=1, inplace=True)\n",
    "meteo_1_copy.drop(['dt_iso_second'], axis=1, inplace=True)\n",
    "meteo_1_copy.head()"
   ]
  },
  {
   "cell_type": "code",
   "execution_count": null,
   "metadata": {},
   "outputs": [],
   "source": [
    "meteo_2_copy.drop(['dt_iso_year'], axis=1, inplace=True)\n",
    "meteo_2_copy.drop(['dt_iso_minute'], axis=1, inplace=True)\n",
    "meteo_2_copy.drop(['dt_iso_second'], axis=1, inplace=True)\n",
    "meteo_2_copy.head()"
   ]
  },
  {
   "cell_type": "code",
   "execution_count": null,
   "metadata": {},
   "outputs": [],
   "source": [
    "meteo_test_copy.drop(['dt_iso_year'], axis=1, inplace=True)\n",
    "meteo_test_copy.drop(['dt_iso_minute'], axis=1, inplace=True)\n",
    "meteo_test_copy.drop(['dt_iso_second'], axis=1, inplace=True)\n",
    "meteo_test_copy.head()"
   ]
  },
  {
   "cell_type": "code",
   "execution_count": null,
   "metadata": {},
   "outputs": [],
   "source": [
    "energy_1_copy['Data'].head()"
   ]
  },
  {
   "cell_type": "code",
   "execution_count": null,
   "metadata": {
    "scrolled": true
   },
   "outputs": [],
   "source": [
    "meteo_1_copy['dt_iso'].head()"
   ]
  },
  {
   "cell_type": "code",
   "execution_count": null,
   "metadata": {},
   "outputs": [],
   "source": [
    "energy_test_copy.info()"
   ]
  },
  {
   "cell_type": "code",
   "execution_count": null,
   "metadata": {},
   "outputs": [],
   "source": [
    "meteo_test_copy.info()"
   ]
  },
  {
   "cell_type": "markdown",
   "metadata": {},
   "source": [
    "## 3. Merging datasets\n",
    "\n",
    "Now that we are done manipulating the data we are now ready to merge both csv's.\n",
    "For this we are going to be doing that based on the dates of both, more precisely the <em>Data</em> and <em>dt_iso</em> features and it's associates (aka the one with the month, day and hour represented) and also removing columns that become not needed, those being the duplicates of the month, day and hour."
   ]
  },
  {
   "cell_type": "code",
   "execution_count": null,
   "metadata": {
    "scrolled": false
   },
   "outputs": [],
   "source": [
    "# Merge based on 'Date' column\n",
    "merged_data_1 = pd.merge(energy_1_copy, meteo_1_copy, left_on='Data', right_on='dt_iso', how='inner')\n",
    "\n",
    "# Drop duplicate or unnecessary columns after merging if needed\n",
    "merged_data_1 = merged_data_1.drop(['dt_iso', 'dt_iso_month', 'dt_iso_day', 'dt_iso_hour'], axis=1)\n",
    "\n",
    "merged_data_1.info()"
   ]
  },
  {
   "cell_type": "code",
   "execution_count": null,
   "metadata": {},
   "outputs": [],
   "source": [
    "# Save merged data to a new CSV file\n",
    "merged_data_1.to_csv('merged_data_1.csv', index=False)"
   ]
  },
  {
   "cell_type": "code",
   "execution_count": null,
   "metadata": {
    "scrolled": false
   },
   "outputs": [],
   "source": [
    "# Merge based on 'Date' column\n",
    "merged_data_2 = pd.merge(energy_2_copy, meteo_2_copy, left_on='Data', right_on='dt_iso', how='inner')\n",
    "\n",
    "# Drop duplicate or unnecessary columns after merging if needed\n",
    "merged_data_2 = merged_data_2.drop(['dt_iso', 'dt_iso_month', 'dt_iso_day', 'dt_iso_hour'], axis=1)\n",
    "\n",
    "merged_data_2.info()"
   ]
  },
  {
   "cell_type": "code",
   "execution_count": null,
   "metadata": {},
   "outputs": [],
   "source": [
    "# Save merged data to a new CSV file\n",
    "merged_data_2.to_csv('merged_data_2.csv', index=False)"
   ]
  },
  {
   "cell_type": "code",
   "execution_count": null,
   "metadata": {
    "scrolled": true
   },
   "outputs": [],
   "source": [
    "# Merge based on 'Date' column\n",
    "merged_data_test = pd.merge(energy_test_copy, meteo_test_copy, left_on='Data', right_on='dt_iso', how='left')\n",
    "\n",
    "# Drop duplicate or unnecessary columns after merging if needed\n",
    "merged_data_test = merged_data_test.drop(['dt_iso', 'dt_iso_month', 'dt_iso_day', 'dt_iso_hour'], axis=1)\n",
    "\n",
    "merged_data_test.info()"
   ]
  },
  {
   "cell_type": "code",
   "execution_count": null,
   "metadata": {},
   "outputs": [],
   "source": [
    "# Save merged data to a new CSV file\n",
    "merged_data_test.to_csv('merged_data_test.csv', index=False)"
   ]
  },
  {
   "cell_type": "code",
   "execution_count": null,
   "metadata": {
    "scrolled": true
   },
   "outputs": [],
   "source": [
    "sns.pairplot(merged_data_1)"
   ]
  },
  {
   "cell_type": "code",
   "execution_count": null,
   "metadata": {
    "scrolled": false
   },
   "outputs": [],
   "source": [
    "sns.heatmap(merged_data_1.corr(numeric_only=True))"
   ]
  },
  {
   "cell_type": "markdown",
   "metadata": {},
   "source": [
    "From this we can take that the features <em>Autoconsumo (kWh)</em>, <em>temp</em>, <em>feels_like</em>, <em>temp_min</em> and <em>temp_max</em> have the most correlation with <em>Injecao na rede (kWh)</em>"
   ]
  },
  {
   "cell_type": "code",
   "execution_count": null,
   "metadata": {},
   "outputs": [],
   "source": [
    "sns.set_palette(\"GnBu_d\")\n",
    "sns.set_style('whitegrid')\n",
    "sns.jointplot(x='Injecao na rede (kWh)', y='Autoconsumo (kWh)', data=merged_data_1)"
   ]
  },
  {
   "cell_type": "code",
   "execution_count": null,
   "metadata": {},
   "outputs": [],
   "source": [
    "sns.set_palette(\"GnBu_d\")\n",
    "sns.set_style('whitegrid')\n",
    "sns.jointplot(x='Injecao na rede (kWh)', y='temp', data=merged_data_1)"
   ]
  },
  {
   "cell_type": "code",
   "execution_count": null,
   "metadata": {},
   "outputs": [],
   "source": [
    "sns.set_palette(\"GnBu_d\")\n",
    "sns.set_style('whitegrid')\n",
    "sns.jointplot(x='Injecao na rede (kWh)', y='feels_like', data=merged_data_1)"
   ]
  },
  {
   "cell_type": "code",
   "execution_count": null,
   "metadata": {},
   "outputs": [],
   "source": [
    "sns.set_palette(\"GnBu_d\")\n",
    "sns.set_style('whitegrid')\n",
    "sns.jointplot(x='Injecao na rede (kWh)', y='temp_min', data=merged_data_1)"
   ]
  },
  {
   "cell_type": "code",
   "execution_count": null,
   "metadata": {},
   "outputs": [],
   "source": [
    "sns.set_palette(\"GnBu_d\")\n",
    "sns.set_style('whitegrid')\n",
    "sns.jointplot(x='Injecao na rede (kWh)', y='temp_max', data=merged_data_1)"
   ]
  },
  {
   "cell_type": "markdown",
   "metadata": {},
   "source": [
    "## Model selection and training\n",
    "\n",
    "Now we will use our datasets to train our model in order to predict the values of <em>Injecao na rede (kWh)</em>."
   ]
  },
  {
   "cell_type": "code",
   "execution_count": null,
   "metadata": {},
   "outputs": [],
   "source": [
    "from sklearn.model_selection import train_test_split"
   ]
  },
  {
   "cell_type": "code",
   "execution_count": null,
   "metadata": {},
   "outputs": [],
   "source": [
    "X = merged_data_1.drop(['Injecao na rede (kWh)'], axis=1)\n",
    "y = merged_data_1['Injecao na rede (kWh)'].to_frame()"
   ]
  },
  {
   "cell_type": "code",
   "execution_count": null,
   "metadata": {},
   "outputs": [],
   "source": [
    "X.info()"
   ]
  },
  {
   "cell_type": "code",
   "execution_count": null,
   "metadata": {},
   "outputs": [],
   "source": [
    "y.value_counts()"
   ]
  },
  {
   "cell_type": "code",
   "execution_count": null,
   "metadata": {},
   "outputs": [],
   "source": [
    "X_train, X_test, y_train, y_test = train_test_split(X, y, test_size=0.25, random_state=2023)"
   ]
  },
  {
   "cell_type": "code",
   "execution_count": null,
   "metadata": {},
   "outputs": [],
   "source": [
    "X_train = X_train.drop(['Data', 'Data_month', 'Data_day', 'Data_hour', 'pressure', 'humidity', 'clouds_all', 'weather_description'], axis=1)\n",
    "X_test = X_test.drop(['Data', 'Data_month', 'Data_day', 'Data_hour', 'pressure', 'humidity', 'clouds_all', 'weather_description'], axis=1)"
   ]
  },
  {
   "cell_type": "code",
   "execution_count": null,
   "metadata": {},
   "outputs": [],
   "source": [
    "X_train.head()"
   ]
  },
  {
   "cell_type": "code",
   "execution_count": null,
   "metadata": {},
   "outputs": [],
   "source": [
    "from sklearn.tree import DecisionTreeClassifier\n",
    "clf = DecisionTreeClassifier(random_state=2023)\n",
    "clf.fit(X_train, y_train)"
   ]
  },
  {
   "cell_type": "code",
   "execution_count": null,
   "metadata": {},
   "outputs": [],
   "source": [
    "predictions = clf.predict(X_test)\n",
    "predictions"
   ]
  },
  {
   "cell_type": "code",
   "execution_count": null,
   "metadata": {},
   "outputs": [],
   "source": [
    "y_test"
   ]
  },
  {
   "cell_type": "code",
   "execution_count": null,
   "metadata": {},
   "outputs": [],
   "source": [
    "from sklearn.metrics import accuracy_score\n",
    "\n",
    "accuracy_score(y_test, predictions)"
   ]
  },
  {
   "cell_type": "code",
   "execution_count": null,
   "metadata": {},
   "outputs": [],
   "source": [
    "X_last = merged_data_test.drop(['Injecao na rede (kWh)'], axis=1)\n",
    "y_last = merged_data_test['Injecao na rede (kWh)'].to_frame()\n",
    "\n",
    "X.info()"
   ]
  },
  {
   "cell_type": "code",
   "execution_count": null,
   "metadata": {},
   "outputs": [],
   "source": [
    "X_last = X_last.drop(['Data', 'Data_month', 'Data_day', 'Data_hour', 'pressure', 'humidity', 'clouds_all', 'weather_description'], axis=1)\n",
    "\n",
    "X_last.info()"
   ]
  },
  {
   "cell_type": "code",
   "execution_count": null,
   "metadata": {
    "scrolled": false
   },
   "outputs": [],
   "source": [
    "predictions_last = clf.predict(X_last)\n",
    "# predictions_last.unique()\n",
    "unique_values, counts = np.unique(predictions_last, return_counts=True)\n",
    "for value, count in zip(unique_values, counts):\n",
    "    print(f\"Value: {value}, Count: {count}\")"
   ]
  },
  {
   "cell_type": "code",
   "execution_count": null,
   "metadata": {},
   "outputs": [],
   "source": [
    "accuracy_score(y_last, predictions_last)"
   ]
  },
  {
   "cell_type": "code",
   "execution_count": null,
   "metadata": {},
   "outputs": [],
   "source": [
    "import csv\n",
    "\n",
    "def convert_to_category(value):\n",
    "    if value == 1:\n",
    "        return 'None'\n",
    "    elif value == 2:\n",
    "        return 'Low'\n",
    "    elif value == 3:\n",
    "        return 'Medium'\n",
    "    elif value == 4:\n",
    "        return 'High'\n",
    "    elif value == 5:\n",
    "        return 'Very High'\n",
    "    else:\n",
    "        return 'Undefined'\n",
    "\n",
    "def array_to_csv(arr, filename):\n",
    "    index_plus_one = np.arange(len(arr)) + 1\n",
    "    # Convert values to strings based on the specified mapping\n",
    "    converted_values = np.vectorize(convert_to_category)(arr)\n",
    "    data = np.column_stack((index_plus_one, converted_values))\n",
    "    \n",
    "    with open(filename, 'w', newline='') as file:\n",
    "        writer = csv.writer(file)\n",
    "        writer.writerow(['RowId', 'Result'])\n",
    "        writer.writerows(data)\n",
    "        \n",
    "array_to_csv(predictions_last, \"submission.csv\")"
   ]
  },
  {
   "cell_type": "code",
   "execution_count": null,
   "metadata": {},
   "outputs": [],
   "source": [
    "# Convertendo a coluna 'Data' para o formato datetime\n",
    "merged_data_1['Data'] = pd.to_datetime(merged_data_1['Data'])\n",
    "merged_data_2['Data'] = pd.to_datetime(merged_data_2['Data'])\n",
    "\n"
   ]
  },
  {
   "cell_type": "code",
   "execution_count": null,
   "metadata": {},
   "outputs": [],
   "source": [
    "\n",
    "final_merged_data = pd.merge(merged_data_1, merged_data_2, on='Data', how='inner')\n",
    "final_merged_data.info()"
   ]
  },
  {
   "cell_type": "code",
   "execution_count": null,
   "metadata": {},
   "outputs": [],
   "source": [
    "\n",
    "final_merged_data = pd.concat([merged_data_1, merged_data_2], ignore_index=True)\n"
   ]
  },
  {
   "cell_type": "code",
   "execution_count": null,
   "metadata": {},
   "outputs": [],
   "source": [
    "final_merged_data.to_csv('final_merged_data.csv', index=False)"
   ]
  },
  {
   "cell_type": "code",
   "execution_count": null,
   "metadata": {},
   "outputs": [],
   "source": [
    "from sklearn.preprocessing import RobustScaler\n",
    "from sklearn.impute import SimpleImputer\n",
    "\n",
    "# Selecionando apenas as colunas numéricas\n",
    "numeric_cols = merged_data_test.select_dtypes(include='number').columns\n",
    "\n",
    "# Separando os dados numéricos\n",
    "numeric_data = merged_data_test[numeric_cols]\n",
    "\n",
    "# Preenchendo os valores ausentes\n",
    "imputer = SimpleImputer(strategy='median')\n",
    "numeric_data_imputed = imputer.fit_transform(numeric_data)\n",
    "\n",
    "# Aplicando o RobustScaler\n",
    "scaler = RobustScaler()\n",
    "numeric_data_scaled = scaler.fit_transform(numeric_data_imputed)\n",
    "\n",
    "# Criando um novo DataFrame com os dados escalados\n",
    "scaled_data = pd.DataFrame(numeric_data_scaled, columns=numeric_cols)\n",
    "\n",
    "# Substituindo os dados originais pelas versões escaladas\n",
    "merged_data_test[numeric_cols] = scaled_data\n"
   ]
  },
  {
   "cell_type": "code",
   "execution_count": null,
   "metadata": {},
   "outputs": [],
   "source": [
    "#verificar se tem valores ausentes após o tratamento\n",
    "merged_data_test.isnull().sum()"
   ]
  },
  {
   "cell_type": "code",
   "execution_count": null,
   "metadata": {},
   "outputs": [],
   "source": [
    "from sklearn.ensemble import RandomForestRegressor, GradientBoostingRegressor, VotingRegressor\n",
    "from sklearn.impute import SimpleImputer\n",
    "from sklearn.model_selection import train_test_split\n",
    "from sklearn.preprocessing import StandardScaler\n",
    "from sklearn.metrics import r2_score\n",
    "\n",
    "# Selecionar a coluna 'Normal (kWh)' como alvo (target_column)\n",
    "target_column = 'Injecao na rede (kWh)'\n",
    "\n",
    "# Separar os dados em features e target\n",
    "features = df.drop(target_column, axis=1)\n",
    "target = df[target_column]\n",
    "\n",
    "# Dividir os dados\n",
    "X_train, X_test, y_train, y_test = train_test_split(features, target, test_size=0.2, random_state=42)\n",
    "\n",
    "# Preencher valores ausentes com a média\n",
    "imputer = SimpleImputer(strategy='mean')\n",
    "X_train_imputed = imputer.fit_transform(X_train)\n",
    "X_test_imputed = imputer.transform(X_test)\n",
    "\n",
    "# Normalização/Padronização das features\n",
    "scaler = StandardScaler()\n",
    "X_train_scaled = scaler.fit_transform(X_train_imputed)\n",
    "X_test_scaled = scaler.transform(X_test_imputed)\n",
    "\n",
    "# Modelagem com ensemble com hiperparâmetros ajustados\n",
    "random_forest = RandomForestRegressor(n_estimators=100, max_depth=10, random_state=42)\n",
    "gradient_boosting = GradientBoostingRegressor(n_estimators=100, learning_rate=0.1, max_depth=5, random_state=42)\n",
    "\n",
    "ensemble = VotingRegressor(estimators=[\n",
    "    ('rf', random_forest),\n",
    "    ('gb', gradient_boosting)\n",
    "])\n",
    "\n",
    "# Treinamento do modelo\n",
    "ensemble.fit(X_train_scaled, y_train)\n",
    "\n",
    "# Avaliação do modelo\n",
    "score = ensemble.score(X_test_scaled, y_test)\n",
    "print(f'Score do modelo: {score:.2f}')\n",
    "\n",
    "# Avaliar o modelo nos dados de teste\n",
    "y_pred = ensemble.predict(X_test_scaled)\n",
    "r2 = r2_score(y_test, y_pred)\n",
    "print(f\"R² do modelo nos dados de teste: {r2:.2f}\")\n",
    "\n",
    "\n"
   ]
  },
  {
   "cell_type": "code",
   "execution_count": null,
   "metadata": {},
   "outputs": [],
   "source": [
    "from sklearn.ensemble import RandomForestRegressor, VotingRegressor\n",
    "from sklearn.impute import SimpleImputer\n",
    "from sklearn.model_selection import train_test_split\n",
    "from sklearn.preprocessing import StandardScaler\n",
    "from sklearn.metrics import r2_score\n",
    "from xgboost import XGBRegressor\n",
    "\n",
    "# Restante do código para preprocessamento e divisão dos dados é igual ao anterior...\n",
    "\n",
    "# Modelagem com XGBoost e RandomForest\n",
    "random_forest = RandomForestRegressor(n_estimators=100, max_depth=10, random_state=42)\n",
    "xgboost = XGBRegressor(n_estimators=100, learning_rate=0.1, max_depth=5, random_state=42)\n",
    "\n",
    "ensemble = VotingRegressor(estimators=[\n",
    "    ('rf', random_forest),\n",
    "    ('xgb', xgboost)\n",
    "])\n",
    "\n",
    "# Treinamento do modelo\n",
    "ensemble.fit(X_train_scaled, y_train)\n",
    "\n",
    "# Avaliação do modelo\n",
    "score = ensemble.score(X_test_scaled, y_test)\n",
    "print(f'Score do modelo: {score:.2f}')\n",
    "\n",
    "# Avaliar o modelo nos dados de teste\n",
    "y_pred = ensemble.predict(X_test_scaled)\n",
    "r2 = r2_score(y_test, y_pred)\n",
    "print(f\"R² do modelo nos dados de teste: {r2:.2f}\")\n"
   ]
  },
  {
   "cell_type": "code",
   "execution_count": null,
   "metadata": {},
   "outputs": [],
   "source": [
    "from sklearn.model_selection import train_test_split\n",
    "from sklearn.ensemble import RandomForestRegressor\n",
    "from sklearn.preprocessing import StandardScaler\n",
    "from sklearn.impute import SimpleImputer\n",
    "from sklearn.compose import ColumnTransformer\n",
    "from sklearn.pipeline import Pipeline\n",
    "from sklearn.metrics import r2_score\n",
    "from sklearn.preprocessing import OneHotEncoder\n",
    "\n",
    "# Carregando os dados (substitua 'seu_arquivo.csv' pelo nome do seu arquivo)\n",
    "df = pd.read_csv('merged_data_test.csv')\n",
    "\n",
    "# Identificar colunas não numéricas\n",
    "non_numeric_cols = df.select_dtypes(exclude=['number', 'datetime']).columns.tolist()\n",
    "\n",
    "# Se existirem colunas de data/hora, converta para valores numéricos\n",
    "df['Data'] = pd.to_datetime(df['Data']).astype(int)  # Exemplo de conversão de coluna de data\n",
    "\n",
    "# Separar os dados em features e target\n",
    "target_column = 'Injecao na rede (kWh)'\n",
    "features = df.drop(target_column, axis=1)\n",
    "target = df[target_column]\n",
    "\n",
    "# Dividir os dados em treino e teste\n",
    "X_train, X_test, y_train, y_test = train_test_split(features, target, test_size=0.2, random_state=42)\n",
    "\n",
    "# Pipeline para pré-processamento\n",
    "numeric_transformer = Pipeline(steps=[\n",
    "    ('imputer', SimpleImputer(strategy='mean')),\n",
    "    ('scaler', StandardScaler())])\n",
    "\n",
    "categorical_transformer = Pipeline(steps=[\n",
    "    ('imputer', SimpleImputer(strategy='most_frequent')),\n",
    "    ('onehot', OneHotEncoder(handle_unknown='ignore'))])\n",
    "\n",
    "preprocessor = ColumnTransformer(\n",
    "    transformers=[\n",
    "        ('num', numeric_transformer, X_train.select_dtypes(include=['number']).columns),\n",
    "        ('cat', categorical_transformer, X_train.select_dtypes(exclude=['number']).columns)])\n",
    "\n",
    "# Criar o pipeline com o pré-processamento e o regressor RandomForest\n",
    "rf = Pipeline(steps=[('preprocessor', preprocessor),\n",
    "                     ('regressor', RandomForestRegressor(random_state=42))])\n",
    "\n",
    "# Treinar o modelo\n",
    "rf.fit(X_train, y_train)\n",
    "\n",
    "# Avaliar o modelo\n",
    "y_pred = rf.predict(X_test)\n",
    "r2 = r2_score(y_test, y_pred)\n",
    "print(f\"R² do modelo nos dados de teste: {r2:.2f}\")"
   ]
  },
  {
   "cell_type": "code",
   "execution_count": null,
   "metadata": {},
   "outputs": [],
   "source": []
  }
 ],
 "metadata": {
  "kernelspec": {
   "display_name": "Python 3 (ipykernel)",
   "language": "python",
   "name": "python3"
  },
  "language_info": {
   "codemirror_mode": {
    "name": "ipython",
    "version": 3
   },
   "file_extension": ".py",
   "mimetype": "text/x-python",
   "name": "python",
   "nbconvert_exporter": "python",
   "pygments_lexer": "ipython3",
   "version": "3.10.13"
  }
 },
 "nbformat": 4,
 "nbformat_minor": 4
}
