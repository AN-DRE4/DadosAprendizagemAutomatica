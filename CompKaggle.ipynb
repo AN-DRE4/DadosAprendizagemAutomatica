{
 "cells": [
  {
   "cell_type": "markdown",
   "metadata": {},
   "source": [
    "# Feature Engineering, Decision Tree Pruning and Hyperparameter Tuning"
   ]
  },
  {
   "cell_type": "markdown",
   "metadata": {
    "tags": []
   },
   "source": [
    "### The Data\n",
    "We will be using the datasets <em>energia_*.csv</em> and <em>meteo_*.csv</em>. \n",
    "\n",
    "The first one contains 2256 cases and 6 features, including:\n",
    "\n",
    "- Data\n",
    "- Hora\n",
    "- Normal (kWh)\n",
    "- Horario Economico (kWh)\n",
    "- Autoconsumo (kWh)\n",
    "- Injecao na rede (kWh)\n",
    " \n",
    "And the second one contains also 2256 cases but instead 15 features, including:\n",
    "\n",
    "- dt\n",
    "- dt_iso\n",
    "- city_name \n",
    "- temp\n",
    "- feels_like\n",
    "- temp_min\n",
    "- temp_max\n",
    "- pressure\n",
    "- sea_level\n",
    "- grnd_level\n",
    "- humidity\n",
    "- wind_speed\n",
    "- rain_1h\n",
    "- clouds_all\n",
    "- weather_description"
   ]
  },
  {
   "cell_type": "markdown",
   "metadata": {
    "tags": []
   },
   "source": [
    "## Import Libraries"
   ]
  },
  {
   "cell_type": "code",
   "execution_count": 1,
   "metadata": {},
   "outputs": [],
   "source": [
    "import pandas as pd\n",
    "import numpy as np\n",
    "import matplotlib.pyplot as plt\n",
    "import seaborn as sns\n",
    "%matplotlib inline"
   ]
  },
  {
   "cell_type": "markdown",
   "metadata": {
    "tags": []
   },
   "source": [
    "## Get the data"
   ]
  },
  {
   "cell_type": "code",
   "execution_count": 2,
   "metadata": {},
   "outputs": [],
   "source": [
    "energy_1 = pd.read_csv('energia_202109-202112.csv')\n",
    "energy_2 = pd.read_csv('energia_202201-202212.csv')\n",
    "energy_test = pd.read_csv('energia_202301-202304.csv')\n",
    "\n",
    "meteo_1 = pd.read_csv('meteo_202109-202112.csv')\n",
    "meteo_2 = pd.read_csv('meteo_202201-202212.csv')\n",
    "meteo_test = pd.read_csv('meteo_202301-202304.csv')"
   ]
  },
  {
   "cell_type": "code",
   "execution_count": 3,
   "metadata": {},
   "outputs": [
    {
     "data": {
      "text/plain": [
       "Index(['Data', 'Hora', 'Normal (kWh)', 'Horario Economico (kWh)',\n",
       "       'Autoconsumo (kWh)', 'Injecao na rede (kWh)'],\n",
       "      dtype='object')"
      ]
     },
     "execution_count": 3,
     "metadata": {},
     "output_type": "execute_result"
    }
   ],
   "source": [
    "energy_1.columns"
   ]
  },
  {
   "cell_type": "code",
   "execution_count": 4,
   "metadata": {},
   "outputs": [
    {
     "data": {
      "text/html": [
       "<div>\n",
       "<style scoped>\n",
       "    .dataframe tbody tr th:only-of-type {\n",
       "        vertical-align: middle;\n",
       "    }\n",
       "\n",
       "    .dataframe tbody tr th {\n",
       "        vertical-align: top;\n",
       "    }\n",
       "\n",
       "    .dataframe thead th {\n",
       "        text-align: right;\n",
       "    }\n",
       "</style>\n",
       "<table border=\"1\" class=\"dataframe\">\n",
       "  <thead>\n",
       "    <tr style=\"text-align: right;\">\n",
       "      <th></th>\n",
       "      <th>Data</th>\n",
       "      <th>Hora</th>\n",
       "      <th>Normal (kWh)</th>\n",
       "      <th>Horario Economico (kWh)</th>\n",
       "      <th>Autoconsumo (kWh)</th>\n",
       "      <th>Injecao na rede (kWh)</th>\n",
       "    </tr>\n",
       "  </thead>\n",
       "  <tbody>\n",
       "    <tr>\n",
       "      <th>0</th>\n",
       "      <td>2021-09-29</td>\n",
       "      <td>0</td>\n",
       "      <td>0.0</td>\n",
       "      <td>0.0</td>\n",
       "      <td>0.0</td>\n",
       "      <td>NaN</td>\n",
       "    </tr>\n",
       "    <tr>\n",
       "      <th>1</th>\n",
       "      <td>2021-09-29</td>\n",
       "      <td>1</td>\n",
       "      <td>0.0</td>\n",
       "      <td>0.0</td>\n",
       "      <td>0.0</td>\n",
       "      <td>NaN</td>\n",
       "    </tr>\n",
       "    <tr>\n",
       "      <th>2</th>\n",
       "      <td>2021-09-29</td>\n",
       "      <td>2</td>\n",
       "      <td>0.0</td>\n",
       "      <td>0.0</td>\n",
       "      <td>0.0</td>\n",
       "      <td>NaN</td>\n",
       "    </tr>\n",
       "    <tr>\n",
       "      <th>3</th>\n",
       "      <td>2021-09-29</td>\n",
       "      <td>3</td>\n",
       "      <td>0.0</td>\n",
       "      <td>0.0</td>\n",
       "      <td>0.0</td>\n",
       "      <td>NaN</td>\n",
       "    </tr>\n",
       "    <tr>\n",
       "      <th>4</th>\n",
       "      <td>2021-09-29</td>\n",
       "      <td>4</td>\n",
       "      <td>0.0</td>\n",
       "      <td>0.0</td>\n",
       "      <td>0.0</td>\n",
       "      <td>NaN</td>\n",
       "    </tr>\n",
       "  </tbody>\n",
       "</table>\n",
       "</div>"
      ],
      "text/plain": [
       "         Data  Hora  Normal (kWh)  Horario Economico (kWh)  Autoconsumo (kWh)  \\\n",
       "0  2021-09-29     0           0.0                      0.0                0.0   \n",
       "1  2021-09-29     1           0.0                      0.0                0.0   \n",
       "2  2021-09-29     2           0.0                      0.0                0.0   \n",
       "3  2021-09-29     3           0.0                      0.0                0.0   \n",
       "4  2021-09-29     4           0.0                      0.0                0.0   \n",
       "\n",
       "  Injecao na rede (kWh)  \n",
       "0                   NaN  \n",
       "1                   NaN  \n",
       "2                   NaN  \n",
       "3                   NaN  \n",
       "4                   NaN  "
      ]
     },
     "execution_count": 4,
     "metadata": {},
     "output_type": "execute_result"
    }
   ],
   "source": [
    "energy_1.head()"
   ]
  },
  {
   "cell_type": "code",
   "execution_count": 5,
   "metadata": {},
   "outputs": [
    {
     "data": {
      "text/html": [
       "<div>\n",
       "<style scoped>\n",
       "    .dataframe tbody tr th:only-of-type {\n",
       "        vertical-align: middle;\n",
       "    }\n",
       "\n",
       "    .dataframe tbody tr th {\n",
       "        vertical-align: top;\n",
       "    }\n",
       "\n",
       "    .dataframe thead th {\n",
       "        text-align: right;\n",
       "    }\n",
       "</style>\n",
       "<table border=\"1\" class=\"dataframe\">\n",
       "  <thead>\n",
       "    <tr style=\"text-align: right;\">\n",
       "      <th></th>\n",
       "      <th>Data</th>\n",
       "      <th>Hora</th>\n",
       "      <th>Normal (kWh)</th>\n",
       "      <th>Horario Economico (kWh)</th>\n",
       "      <th>Autoconsumo (kWh)</th>\n",
       "      <th>Injecao na rede (kWh)</th>\n",
       "    </tr>\n",
       "  </thead>\n",
       "  <tbody>\n",
       "    <tr>\n",
       "      <th>0</th>\n",
       "      <td>2022-01-01</td>\n",
       "      <td>0</td>\n",
       "      <td>0.0</td>\n",
       "      <td>0.486</td>\n",
       "      <td>0.0</td>\n",
       "      <td>NaN</td>\n",
       "    </tr>\n",
       "    <tr>\n",
       "      <th>1</th>\n",
       "      <td>2022-01-01</td>\n",
       "      <td>1</td>\n",
       "      <td>0.0</td>\n",
       "      <td>0.429</td>\n",
       "      <td>0.0</td>\n",
       "      <td>NaN</td>\n",
       "    </tr>\n",
       "    <tr>\n",
       "      <th>2</th>\n",
       "      <td>2022-01-01</td>\n",
       "      <td>2</td>\n",
       "      <td>0.0</td>\n",
       "      <td>0.463</td>\n",
       "      <td>0.0</td>\n",
       "      <td>NaN</td>\n",
       "    </tr>\n",
       "    <tr>\n",
       "      <th>3</th>\n",
       "      <td>2022-01-01</td>\n",
       "      <td>3</td>\n",
       "      <td>0.0</td>\n",
       "      <td>0.545</td>\n",
       "      <td>0.0</td>\n",
       "      <td>NaN</td>\n",
       "    </tr>\n",
       "    <tr>\n",
       "      <th>4</th>\n",
       "      <td>2022-01-01</td>\n",
       "      <td>4</td>\n",
       "      <td>0.0</td>\n",
       "      <td>0.439</td>\n",
       "      <td>0.0</td>\n",
       "      <td>NaN</td>\n",
       "    </tr>\n",
       "  </tbody>\n",
       "</table>\n",
       "</div>"
      ],
      "text/plain": [
       "         Data  Hora  Normal (kWh)  Horario Economico (kWh)  Autoconsumo (kWh)  \\\n",
       "0  2022-01-01     0           0.0                    0.486                0.0   \n",
       "1  2022-01-01     1           0.0                    0.429                0.0   \n",
       "2  2022-01-01     2           0.0                    0.463                0.0   \n",
       "3  2022-01-01     3           0.0                    0.545                0.0   \n",
       "4  2022-01-01     4           0.0                    0.439                0.0   \n",
       "\n",
       "  Injecao na rede (kWh)  \n",
       "0                   NaN  \n",
       "1                   NaN  \n",
       "2                   NaN  \n",
       "3                   NaN  \n",
       "4                   NaN  "
      ]
     },
     "execution_count": 5,
     "metadata": {},
     "output_type": "execute_result"
    }
   ],
   "source": [
    "energy_2.head()"
   ]
  },
  {
   "cell_type": "code",
   "execution_count": 6,
   "metadata": {},
   "outputs": [
    {
     "name": "stdout",
     "output_type": "stream",
     "text": [
      "<class 'pandas.core.frame.DataFrame'>\n",
      "RangeIndex: 2256 entries, 0 to 2255\n",
      "Data columns (total 6 columns):\n",
      " #   Column                   Non-Null Count  Dtype  \n",
      "---  ------                   --------------  -----  \n",
      " 0   Data                     2256 non-null   object \n",
      " 1   Hora                     2256 non-null   int64  \n",
      " 2   Normal (kWh)             2256 non-null   float64\n",
      " 3   Horario Economico (kWh)  2256 non-null   float64\n",
      " 4   Autoconsumo (kWh)        2256 non-null   float64\n",
      " 5   Injecao na rede (kWh)    566 non-null    object \n",
      "dtypes: float64(3), int64(1), object(2)\n",
      "memory usage: 105.9+ KB\n"
     ]
    }
   ],
   "source": [
    "energy_1.info()"
   ]
  },
  {
   "cell_type": "code",
   "execution_count": 7,
   "metadata": {},
   "outputs": [
    {
     "data": {
      "text/plain": [
       "Index(['dt', 'dt_iso', 'city_name', 'temp', 'feels_like', 'temp_min',\n",
       "       'temp_max', 'pressure', 'sea_level', 'grnd_level', 'humidity',\n",
       "       'wind_speed', 'rain_1h', 'clouds_all', 'weather_description'],\n",
       "      dtype='object')"
      ]
     },
     "execution_count": 7,
     "metadata": {},
     "output_type": "execute_result"
    }
   ],
   "source": [
    "meteo_1.columns"
   ]
  },
  {
   "cell_type": "code",
   "execution_count": 8,
   "metadata": {},
   "outputs": [
    {
     "data": {
      "text/html": [
       "<div>\n",
       "<style scoped>\n",
       "    .dataframe tbody tr th:only-of-type {\n",
       "        vertical-align: middle;\n",
       "    }\n",
       "\n",
       "    .dataframe tbody tr th {\n",
       "        vertical-align: top;\n",
       "    }\n",
       "\n",
       "    .dataframe thead th {\n",
       "        text-align: right;\n",
       "    }\n",
       "</style>\n",
       "<table border=\"1\" class=\"dataframe\">\n",
       "  <thead>\n",
       "    <tr style=\"text-align: right;\">\n",
       "      <th></th>\n",
       "      <th>dt</th>\n",
       "      <th>dt_iso</th>\n",
       "      <th>city_name</th>\n",
       "      <th>temp</th>\n",
       "      <th>feels_like</th>\n",
       "      <th>temp_min</th>\n",
       "      <th>temp_max</th>\n",
       "      <th>pressure</th>\n",
       "      <th>sea_level</th>\n",
       "      <th>grnd_level</th>\n",
       "      <th>humidity</th>\n",
       "      <th>wind_speed</th>\n",
       "      <th>rain_1h</th>\n",
       "      <th>clouds_all</th>\n",
       "      <th>weather_description</th>\n",
       "    </tr>\n",
       "  </thead>\n",
       "  <tbody>\n",
       "    <tr>\n",
       "      <th>0</th>\n",
       "      <td>1630454400</td>\n",
       "      <td>2021-09-01 00:00:00 +0000 UTC</td>\n",
       "      <td>local</td>\n",
       "      <td>18.74</td>\n",
       "      <td>18.84</td>\n",
       "      <td>15.72</td>\n",
       "      <td>20.34</td>\n",
       "      <td>1015</td>\n",
       "      <td>NaN</td>\n",
       "      <td>NaN</td>\n",
       "      <td>83</td>\n",
       "      <td>1.18</td>\n",
       "      <td>NaN</td>\n",
       "      <td>78</td>\n",
       "      <td>broken clouds</td>\n",
       "    </tr>\n",
       "    <tr>\n",
       "      <th>1</th>\n",
       "      <td>1630458000</td>\n",
       "      <td>2021-09-01 01:00:00 +0000 UTC</td>\n",
       "      <td>local</td>\n",
       "      <td>18.73</td>\n",
       "      <td>18.83</td>\n",
       "      <td>15.72</td>\n",
       "      <td>20.34</td>\n",
       "      <td>1014</td>\n",
       "      <td>NaN</td>\n",
       "      <td>NaN</td>\n",
       "      <td>83</td>\n",
       "      <td>1.46</td>\n",
       "      <td>NaN</td>\n",
       "      <td>92</td>\n",
       "      <td>overcast clouds</td>\n",
       "    </tr>\n",
       "    <tr>\n",
       "      <th>2</th>\n",
       "      <td>1630461600</td>\n",
       "      <td>2021-09-01 02:00:00 +0000 UTC</td>\n",
       "      <td>local</td>\n",
       "      <td>17.84</td>\n",
       "      <td>17.98</td>\n",
       "      <td>16.72</td>\n",
       "      <td>20.34</td>\n",
       "      <td>1014</td>\n",
       "      <td>NaN</td>\n",
       "      <td>NaN</td>\n",
       "      <td>88</td>\n",
       "      <td>1.05</td>\n",
       "      <td>NaN</td>\n",
       "      <td>91</td>\n",
       "      <td>overcast clouds</td>\n",
       "    </tr>\n",
       "    <tr>\n",
       "      <th>3</th>\n",
       "      <td>1630465200</td>\n",
       "      <td>2021-09-01 03:00:00 +0000 UTC</td>\n",
       "      <td>local</td>\n",
       "      <td>18.27</td>\n",
       "      <td>18.40</td>\n",
       "      <td>16.68</td>\n",
       "      <td>20.34</td>\n",
       "      <td>1014</td>\n",
       "      <td>NaN</td>\n",
       "      <td>NaN</td>\n",
       "      <td>86</td>\n",
       "      <td>0.46</td>\n",
       "      <td>0.14</td>\n",
       "      <td>94</td>\n",
       "      <td>light rain</td>\n",
       "    </tr>\n",
       "    <tr>\n",
       "      <th>4</th>\n",
       "      <td>1630468800</td>\n",
       "      <td>2021-09-01 04:00:00 +0000 UTC</td>\n",
       "      <td>local</td>\n",
       "      <td>17.81</td>\n",
       "      <td>17.97</td>\n",
       "      <td>16.12</td>\n",
       "      <td>20.34</td>\n",
       "      <td>1013</td>\n",
       "      <td>NaN</td>\n",
       "      <td>NaN</td>\n",
       "      <td>89</td>\n",
       "      <td>0.93</td>\n",
       "      <td>1.26</td>\n",
       "      <td>95</td>\n",
       "      <td>moderate rain</td>\n",
       "    </tr>\n",
       "  </tbody>\n",
       "</table>\n",
       "</div>"
      ],
      "text/plain": [
       "           dt                         dt_iso city_name   temp  feels_like  \\\n",
       "0  1630454400  2021-09-01 00:00:00 +0000 UTC     local  18.74       18.84   \n",
       "1  1630458000  2021-09-01 01:00:00 +0000 UTC     local  18.73       18.83   \n",
       "2  1630461600  2021-09-01 02:00:00 +0000 UTC     local  17.84       17.98   \n",
       "3  1630465200  2021-09-01 03:00:00 +0000 UTC     local  18.27       18.40   \n",
       "4  1630468800  2021-09-01 04:00:00 +0000 UTC     local  17.81       17.97   \n",
       "\n",
       "   temp_min  temp_max  pressure  sea_level  grnd_level  humidity  wind_speed  \\\n",
       "0     15.72     20.34      1015        NaN         NaN        83        1.18   \n",
       "1     15.72     20.34      1014        NaN         NaN        83        1.46   \n",
       "2     16.72     20.34      1014        NaN         NaN        88        1.05   \n",
       "3     16.68     20.34      1014        NaN         NaN        86        0.46   \n",
       "4     16.12     20.34      1013        NaN         NaN        89        0.93   \n",
       "\n",
       "   rain_1h  clouds_all weather_description  \n",
       "0      NaN          78       broken clouds  \n",
       "1      NaN          92     overcast clouds  \n",
       "2      NaN          91     overcast clouds  \n",
       "3     0.14          94          light rain  \n",
       "4     1.26          95       moderate rain  "
      ]
     },
     "execution_count": 8,
     "metadata": {},
     "output_type": "execute_result"
    }
   ],
   "source": [
    "meteo_1.head()"
   ]
  },
  {
   "cell_type": "code",
   "execution_count": 9,
   "metadata": {},
   "outputs": [
    {
     "name": "stdout",
     "output_type": "stream",
     "text": [
      "<class 'pandas.core.frame.DataFrame'>\n",
      "RangeIndex: 2928 entries, 0 to 2927\n",
      "Data columns (total 15 columns):\n",
      " #   Column               Non-Null Count  Dtype  \n",
      "---  ------               --------------  -----  \n",
      " 0   dt                   2928 non-null   int64  \n",
      " 1   dt_iso               2928 non-null   object \n",
      " 2   city_name            2928 non-null   object \n",
      " 3   temp                 2928 non-null   float64\n",
      " 4   feels_like           2928 non-null   float64\n",
      " 5   temp_min             2928 non-null   float64\n",
      " 6   temp_max             2928 non-null   float64\n",
      " 7   pressure             2928 non-null   int64  \n",
      " 8   sea_level            0 non-null      float64\n",
      " 9   grnd_level           0 non-null      float64\n",
      " 10  humidity             2928 non-null   int64  \n",
      " 11  wind_speed           2928 non-null   float64\n",
      " 12  rain_1h              537 non-null    float64\n",
      " 13  clouds_all           2928 non-null   int64  \n",
      " 14  weather_description  2928 non-null   object \n",
      "dtypes: float64(8), int64(4), object(3)\n",
      "memory usage: 343.2+ KB\n"
     ]
    }
   ],
   "source": [
    "meteo_1.info()"
   ]
  },
  {
   "cell_type": "markdown",
   "metadata": {
    "tags": []
   },
   "source": [
    "# Handling missing data and possible data transformations\n",
    "- Remove missing values, outliers, and unnecessary rows/ columns\n",
    "- Check and impute null values\n",
    "- Check Imbalanced data\n",
    "- Re-indexing and reformatting our data"
   ]
  },
  {
   "cell_type": "markdown",
   "metadata": {
    "tags": []
   },
   "source": [
    "## 1. Missing Values"
   ]
  },
  {
   "cell_type": "code",
   "execution_count": 10,
   "metadata": {},
   "outputs": [
    {
     "data": {
      "text/plain": [
       "<Axes: >"
      ]
     },
     "execution_count": 10,
     "metadata": {},
     "output_type": "execute_result"
    },
    {
     "data": {
      "image/png": "[encoded data removed]",
      "text/plain": [
       "<Figure size 640x480 with 1 Axes>"
      ]
     },
     "metadata": {},
     "output_type": "display_data"
    }
   ],
   "source": [
    "sns.heatmap(energy_1.isnull(), yticklabels=False, cbar=False, cmap='viridis')"
   ]
  },
  {
   "cell_type": "code",
   "execution_count": 11,
   "metadata": {},
   "outputs": [
    {
     "data": {
      "text/plain": [
       "<Axes: >"
      ]
     },
     "execution_count": 11,
     "metadata": {},
     "output_type": "execute_result"
    },
    {
     "data": {
      "image/png": "[encoded data removed]",
      "text/plain": [
       "<Figure size 640x480 with 1 Axes>"
      ]
     },
     "metadata": {},
     "output_type": "display_data"
    }
   ],
   "source": [
    "sns.heatmap(meteo_1.isnull(), yticklabels=False, cbar=False, cmap='viridis')"
   ]
  },
  {
   "cell_type": "code",
   "execution_count": 12,
   "metadata": {},
   "outputs": [
    {
     "data": {
      "text/plain": [
       "Data                          0\n",
       "Hora                          0\n",
       "Normal (kWh)                  0\n",
       "Horario Economico (kWh)       0\n",
       "Autoconsumo (kWh)             0\n",
       "Injecao na rede (kWh)      1690\n",
       "dtype: int64"
      ]
     },
     "execution_count": 12,
     "metadata": {},
     "output_type": "execute_result"
    }
   ],
   "source": [
    "energy_1.isnull().sum()"
   ]
  },
  {
   "cell_type": "code",
   "execution_count": 13,
   "metadata": {},
   "outputs": [
    {
     "data": {
      "text/plain": [
       "dt                        0\n",
       "dt_iso                    0\n",
       "city_name                 0\n",
       "temp                      0\n",
       "feels_like                0\n",
       "temp_min                  0\n",
       "temp_max                  0\n",
       "pressure                  0\n",
       "sea_level              2928\n",
       "grnd_level             2928\n",
       "humidity                  0\n",
       "wind_speed                0\n",
       "rain_1h                2391\n",
       "clouds_all                0\n",
       "weather_description       0\n",
       "dtype: int64"
      ]
     },
     "execution_count": 13,
     "metadata": {},
     "output_type": "execute_result"
    }
   ],
   "source": [
    "meteo_1.isnull().sum()"
   ]
  },
  {
   "cell_type": "markdown",
   "metadata": {},
   "source": [
    "### Drop or fill\n",
    "Let's verify how the data is presented in the feature <em>Injecao na rede</em>"
   ]
  },
  {
   "cell_type": "code",
   "execution_count": 14,
   "metadata": {},
   "outputs": [
    {
     "data": {
      "text/plain": [
       "0    NaN\n",
       "1    NaN\n",
       "2    NaN\n",
       "3    NaN\n",
       "4    NaN\n",
       "Name: Injecao na rede (kWh), dtype: object"
      ]
     },
     "execution_count": 14,
     "metadata": {},
     "output_type": "execute_result"
    }
   ],
   "source": [
    "energy_1['Injecao na rede (kWh)'].head()"
   ]
  },
  {
   "cell_type": "code",
   "execution_count": 15,
   "metadata": {},
   "outputs": [
    {
     "data": {
      "text/html": [
       "<div>\n",
       "<style scoped>\n",
       "    .dataframe tbody tr th:only-of-type {\n",
       "        vertical-align: middle;\n",
       "    }\n",
       "\n",
       "    .dataframe tbody tr th {\n",
       "        vertical-align: top;\n",
       "    }\n",
       "\n",
       "    .dataframe thead th {\n",
       "        text-align: right;\n",
       "    }\n",
       "</style>\n",
       "<table border=\"1\" class=\"dataframe\">\n",
       "  <thead>\n",
       "    <tr style=\"text-align: right;\">\n",
       "      <th></th>\n",
       "      <th>Data</th>\n",
       "      <th>Hora</th>\n",
       "      <th>Normal (kWh)</th>\n",
       "      <th>Horario Economico (kWh)</th>\n",
       "      <th>Autoconsumo (kWh)</th>\n",
       "      <th>Injecao na rede (kWh)</th>\n",
       "    </tr>\n",
       "  </thead>\n",
       "  <tbody>\n",
       "    <tr>\n",
       "      <th>0</th>\n",
       "      <td>2021-09-29</td>\n",
       "      <td>0</td>\n",
       "      <td>0.000</td>\n",
       "      <td>0.000</td>\n",
       "      <td>0.0</td>\n",
       "      <td>NaN</td>\n",
       "    </tr>\n",
       "    <tr>\n",
       "      <th>1</th>\n",
       "      <td>2021-09-29</td>\n",
       "      <td>1</td>\n",
       "      <td>0.000</td>\n",
       "      <td>0.000</td>\n",
       "      <td>0.0</td>\n",
       "      <td>NaN</td>\n",
       "    </tr>\n",
       "    <tr>\n",
       "      <th>2</th>\n",
       "      <td>2021-09-29</td>\n",
       "      <td>2</td>\n",
       "      <td>0.000</td>\n",
       "      <td>0.000</td>\n",
       "      <td>0.0</td>\n",
       "      <td>NaN</td>\n",
       "    </tr>\n",
       "    <tr>\n",
       "      <th>3</th>\n",
       "      <td>2021-09-29</td>\n",
       "      <td>3</td>\n",
       "      <td>0.000</td>\n",
       "      <td>0.000</td>\n",
       "      <td>0.0</td>\n",
       "      <td>NaN</td>\n",
       "    </tr>\n",
       "    <tr>\n",
       "      <th>4</th>\n",
       "      <td>2021-09-29</td>\n",
       "      <td>4</td>\n",
       "      <td>0.000</td>\n",
       "      <td>0.000</td>\n",
       "      <td>0.0</td>\n",
       "      <td>NaN</td>\n",
       "    </tr>\n",
       "    <tr>\n",
       "      <th>...</th>\n",
       "      <td>...</td>\n",
       "      <td>...</td>\n",
       "      <td>...</td>\n",
       "      <td>...</td>\n",
       "      <td>...</td>\n",
       "      <td>...</td>\n",
       "    </tr>\n",
       "    <tr>\n",
       "      <th>2251</th>\n",
       "      <td>2021-12-31</td>\n",
       "      <td>19</td>\n",
       "      <td>2.176</td>\n",
       "      <td>0.000</td>\n",
       "      <td>0.0</td>\n",
       "      <td>NaN</td>\n",
       "    </tr>\n",
       "    <tr>\n",
       "      <th>2252</th>\n",
       "      <td>2021-12-31</td>\n",
       "      <td>20</td>\n",
       "      <td>0.732</td>\n",
       "      <td>0.000</td>\n",
       "      <td>0.0</td>\n",
       "      <td>NaN</td>\n",
       "    </tr>\n",
       "    <tr>\n",
       "      <th>2253</th>\n",
       "      <td>2021-12-31</td>\n",
       "      <td>21</td>\n",
       "      <td>0.704</td>\n",
       "      <td>0.000</td>\n",
       "      <td>0.0</td>\n",
       "      <td>NaN</td>\n",
       "    </tr>\n",
       "    <tr>\n",
       "      <th>2254</th>\n",
       "      <td>2021-12-31</td>\n",
       "      <td>22</td>\n",
       "      <td>0.000</td>\n",
       "      <td>0.424</td>\n",
       "      <td>0.0</td>\n",
       "      <td>NaN</td>\n",
       "    </tr>\n",
       "    <tr>\n",
       "      <th>2255</th>\n",
       "      <td>2021-12-31</td>\n",
       "      <td>23</td>\n",
       "      <td>0.000</td>\n",
       "      <td>0.432</td>\n",
       "      <td>0.0</td>\n",
       "      <td>NaN</td>\n",
       "    </tr>\n",
       "  </tbody>\n",
       "</table>\n",
       "<p>1690 rows × 6 columns</p>\n",
       "</div>"
      ],
      "text/plain": [
       "            Data  Hora  Normal (kWh)  Horario Economico (kWh)  \\\n",
       "0     2021-09-29     0         0.000                    0.000   \n",
       "1     2021-09-29     1         0.000                    0.000   \n",
       "2     2021-09-29     2         0.000                    0.000   \n",
       "3     2021-09-29     3         0.000                    0.000   \n",
       "4     2021-09-29     4         0.000                    0.000   \n",
       "...          ...   ...           ...                      ...   \n",
       "2251  2021-12-31    19         2.176                    0.000   \n",
       "2252  2021-12-31    20         0.732                    0.000   \n",
       "2253  2021-12-31    21         0.704                    0.000   \n",
       "2254  2021-12-31    22         0.000                    0.424   \n",
       "2255  2021-12-31    23         0.000                    0.432   \n",
       "\n",
       "      Autoconsumo (kWh) Injecao na rede (kWh)  \n",
       "0                   0.0                   NaN  \n",
       "1                   0.0                   NaN  \n",
       "2                   0.0                   NaN  \n",
       "3                   0.0                   NaN  \n",
       "4                   0.0                   NaN  \n",
       "...                 ...                   ...  \n",
       "2251                0.0                   NaN  \n",
       "2252                0.0                   NaN  \n",
       "2253                0.0                   NaN  \n",
       "2254                0.0                   NaN  \n",
       "2255                0.0                   NaN  \n",
       "\n",
       "[1690 rows x 6 columns]"
      ]
     },
     "execution_count": 15,
     "metadata": {},
     "output_type": "execute_result"
    }
   ],
   "source": [
    "energy_1[energy_1['Injecao na rede (kWh)'].isnull()]"
   ]
  },
  {
   "cell_type": "markdown",
   "metadata": {},
   "source": [
    "Copy of the data to experiment the options"
   ]
  },
  {
   "cell_type": "code",
   "execution_count": 16,
   "metadata": {},
   "outputs": [],
   "source": [
    "energy_1_m1 = energy_1.copy()\n",
    "energy_1_m2 = energy_1.copy()"
   ]
  },
  {
   "cell_type": "markdown",
   "metadata": {},
   "source": [
    "#### a) Drop"
   ]
  },
  {
   "cell_type": "code",
   "execution_count": 17,
   "metadata": {},
   "outputs": [
    {
     "data": {
      "text/html": [
       "<div>\n",
       "<style scoped>\n",
       "    .dataframe tbody tr th:only-of-type {\n",
       "        vertical-align: middle;\n",
       "    }\n",
       "\n",
       "    .dataframe tbody tr th {\n",
       "        vertical-align: top;\n",
       "    }\n",
       "\n",
       "    .dataframe thead th {\n",
       "        text-align: right;\n",
       "    }\n",
       "</style>\n",
       "<table border=\"1\" class=\"dataframe\">\n",
       "  <thead>\n",
       "    <tr style=\"text-align: right;\">\n",
       "      <th></th>\n",
       "      <th>Data</th>\n",
       "      <th>Hora</th>\n",
       "      <th>Normal (kWh)</th>\n",
       "      <th>Horario Economico (kWh)</th>\n",
       "      <th>Autoconsumo (kWh)</th>\n",
       "    </tr>\n",
       "  </thead>\n",
       "  <tbody>\n",
       "    <tr>\n",
       "      <th>0</th>\n",
       "      <td>2021-09-29</td>\n",
       "      <td>0</td>\n",
       "      <td>0.0</td>\n",
       "      <td>0.0</td>\n",
       "      <td>0.0</td>\n",
       "    </tr>\n",
       "    <tr>\n",
       "      <th>1</th>\n",
       "      <td>2021-09-29</td>\n",
       "      <td>1</td>\n",
       "      <td>0.0</td>\n",
       "      <td>0.0</td>\n",
       "      <td>0.0</td>\n",
       "    </tr>\n",
       "    <tr>\n",
       "      <th>2</th>\n",
       "      <td>2021-09-29</td>\n",
       "      <td>2</td>\n",
       "      <td>0.0</td>\n",
       "      <td>0.0</td>\n",
       "      <td>0.0</td>\n",
       "    </tr>\n",
       "    <tr>\n",
       "      <th>3</th>\n",
       "      <td>2021-09-29</td>\n",
       "      <td>3</td>\n",
       "      <td>0.0</td>\n",
       "      <td>0.0</td>\n",
       "      <td>0.0</td>\n",
       "    </tr>\n",
       "    <tr>\n",
       "      <th>4</th>\n",
       "      <td>2021-09-29</td>\n",
       "      <td>4</td>\n",
       "      <td>0.0</td>\n",
       "      <td>0.0</td>\n",
       "      <td>0.0</td>\n",
       "    </tr>\n",
       "  </tbody>\n",
       "</table>\n",
       "</div>"
      ],
      "text/plain": [
       "         Data  Hora  Normal (kWh)  Horario Economico (kWh)  Autoconsumo (kWh)\n",
       "0  2021-09-29     0           0.0                      0.0                0.0\n",
       "1  2021-09-29     1           0.0                      0.0                0.0\n",
       "2  2021-09-29     2           0.0                      0.0                0.0\n",
       "3  2021-09-29     3           0.0                      0.0                0.0\n",
       "4  2021-09-29     4           0.0                      0.0                0.0"
      ]
     },
     "execution_count": 17,
     "metadata": {},
     "output_type": "execute_result"
    }
   ],
   "source": [
    "energy_1_m1.drop(['Injecao na rede (kWh)'], axis=1, inplace=True)\n",
    "energy_1_m1.head()"
   ]
  },
  {
   "cell_type": "markdown",
   "metadata": {},
   "source": [
    "#### b) Fill with zero"
   ]
  },
  {
   "cell_type": "code",
   "execution_count": 18,
   "metadata": {},
   "outputs": [
    {
     "data": {
      "text/html": [
       "<div>\n",
       "<style scoped>\n",
       "    .dataframe tbody tr th:only-of-type {\n",
       "        vertical-align: middle;\n",
       "    }\n",
       "\n",
       "    .dataframe tbody tr th {\n",
       "        vertical-align: top;\n",
       "    }\n",
       "\n",
       "    .dataframe thead th {\n",
       "        text-align: right;\n",
       "    }\n",
       "</style>\n",
       "<table border=\"1\" class=\"dataframe\">\n",
       "  <thead>\n",
       "    <tr style=\"text-align: right;\">\n",
       "      <th></th>\n",
       "      <th>Data</th>\n",
       "      <th>Hora</th>\n",
       "      <th>Normal (kWh)</th>\n",
       "      <th>Horario Economico (kWh)</th>\n",
       "      <th>Autoconsumo (kWh)</th>\n",
       "      <th>Injecao na rede (kWh)</th>\n",
       "    </tr>\n",
       "  </thead>\n",
       "  <tbody>\n",
       "    <tr>\n",
       "      <th>0</th>\n",
       "      <td>2021-09-29</td>\n",
       "      <td>0</td>\n",
       "      <td>0.0</td>\n",
       "      <td>0.0</td>\n",
       "      <td>0.0</td>\n",
       "      <td>0</td>\n",
       "    </tr>\n",
       "    <tr>\n",
       "      <th>1</th>\n",
       "      <td>2021-09-29</td>\n",
       "      <td>1</td>\n",
       "      <td>0.0</td>\n",
       "      <td>0.0</td>\n",
       "      <td>0.0</td>\n",
       "      <td>0</td>\n",
       "    </tr>\n",
       "    <tr>\n",
       "      <th>2</th>\n",
       "      <td>2021-09-29</td>\n",
       "      <td>2</td>\n",
       "      <td>0.0</td>\n",
       "      <td>0.0</td>\n",
       "      <td>0.0</td>\n",
       "      <td>0</td>\n",
       "    </tr>\n",
       "    <tr>\n",
       "      <th>3</th>\n",
       "      <td>2021-09-29</td>\n",
       "      <td>3</td>\n",
       "      <td>0.0</td>\n",
       "      <td>0.0</td>\n",
       "      <td>0.0</td>\n",
       "      <td>0</td>\n",
       "    </tr>\n",
       "    <tr>\n",
       "      <th>4</th>\n",
       "      <td>2021-09-29</td>\n",
       "      <td>4</td>\n",
       "      <td>0.0</td>\n",
       "      <td>0.0</td>\n",
       "      <td>0.0</td>\n",
       "      <td>0</td>\n",
       "    </tr>\n",
       "  </tbody>\n",
       "</table>\n",
       "</div>"
      ],
      "text/plain": [
       "         Data  Hora  Normal (kWh)  Horario Economico (kWh)  Autoconsumo (kWh)  \\\n",
       "0  2021-09-29     0           0.0                      0.0                0.0   \n",
       "1  2021-09-29     1           0.0                      0.0                0.0   \n",
       "2  2021-09-29     2           0.0                      0.0                0.0   \n",
       "3  2021-09-29     3           0.0                      0.0                0.0   \n",
       "4  2021-09-29     4           0.0                      0.0                0.0   \n",
       "\n",
       "  Injecao na rede (kWh)  \n",
       "0                     0  \n",
       "1                     0  \n",
       "2                     0  \n",
       "3                     0  \n",
       "4                     0  "
      ]
     },
     "execution_count": 18,
     "metadata": {},
     "output_type": "execute_result"
    }
   ],
   "source": [
    "energy_1_m2.fillna(0, inplace=True)\n",
    "energy_1_m2.head()"
   ]
  },
  {
   "cell_type": "markdown",
   "metadata": {},
   "source": [
    "We need to choose one of the options to keep going. We will choose to fill the column since it brings added value to our goal."
   ]
  },
  {
   "cell_type": "code",
   "execution_count": 19,
   "metadata": {},
   "outputs": [
    {
     "data": {
      "text/html": [
       "<div>\n",
       "<style scoped>\n",
       "    .dataframe tbody tr th:only-of-type {\n",
       "        vertical-align: middle;\n",
       "    }\n",
       "\n",
       "    .dataframe tbody tr th {\n",
       "        vertical-align: top;\n",
       "    }\n",
       "\n",
       "    .dataframe thead th {\n",
       "        text-align: right;\n",
       "    }\n",
       "</style>\n",
       "<table border=\"1\" class=\"dataframe\">\n",
       "  <thead>\n",
       "    <tr style=\"text-align: right;\">\n",
       "      <th></th>\n",
       "      <th>Data</th>\n",
       "      <th>Hora</th>\n",
       "      <th>Normal (kWh)</th>\n",
       "      <th>Horario Economico (kWh)</th>\n",
       "      <th>Autoconsumo (kWh)</th>\n",
       "      <th>Injecao na rede (kWh)</th>\n",
       "    </tr>\n",
       "  </thead>\n",
       "  <tbody>\n",
       "    <tr>\n",
       "      <th>0</th>\n",
       "      <td>2021-09-29</td>\n",
       "      <td>0</td>\n",
       "      <td>0.0</td>\n",
       "      <td>0.0</td>\n",
       "      <td>0.0</td>\n",
       "      <td>0</td>\n",
       "    </tr>\n",
       "    <tr>\n",
       "      <th>1</th>\n",
       "      <td>2021-09-29</td>\n",
       "      <td>1</td>\n",
       "      <td>0.0</td>\n",
       "      <td>0.0</td>\n",
       "      <td>0.0</td>\n",
       "      <td>0</td>\n",
       "    </tr>\n",
       "    <tr>\n",
       "      <th>2</th>\n",
       "      <td>2021-09-29</td>\n",
       "      <td>2</td>\n",
       "      <td>0.0</td>\n",
       "      <td>0.0</td>\n",
       "      <td>0.0</td>\n",
       "      <td>0</td>\n",
       "    </tr>\n",
       "    <tr>\n",
       "      <th>3</th>\n",
       "      <td>2021-09-29</td>\n",
       "      <td>3</td>\n",
       "      <td>0.0</td>\n",
       "      <td>0.0</td>\n",
       "      <td>0.0</td>\n",
       "      <td>0</td>\n",
       "    </tr>\n",
       "    <tr>\n",
       "      <th>4</th>\n",
       "      <td>2021-09-29</td>\n",
       "      <td>4</td>\n",
       "      <td>0.0</td>\n",
       "      <td>0.0</td>\n",
       "      <td>0.0</td>\n",
       "      <td>0</td>\n",
       "    </tr>\n",
       "  </tbody>\n",
       "</table>\n",
       "</div>"
      ],
      "text/plain": [
       "         Data  Hora  Normal (kWh)  Horario Economico (kWh)  Autoconsumo (kWh)  \\\n",
       "0  2021-09-29     0           0.0                      0.0                0.0   \n",
       "1  2021-09-29     1           0.0                      0.0                0.0   \n",
       "2  2021-09-29     2           0.0                      0.0                0.0   \n",
       "3  2021-09-29     3           0.0                      0.0                0.0   \n",
       "4  2021-09-29     4           0.0                      0.0                0.0   \n",
       "\n",
       "  Injecao na rede (kWh)  \n",
       "0                     0  \n",
       "1                     0  \n",
       "2                     0  \n",
       "3                     0  \n",
       "4                     0  "
      ]
     },
     "execution_count": 19,
     "metadata": {},
     "output_type": "execute_result"
    }
   ],
   "source": [
    "energy_1_copy = energy_1.fillna(0)\n",
    "energy_1_copy.head()"
   ]
  },
  {
   "cell_type": "markdown",
   "metadata": {},
   "source": [
    "Let's see if there are still missing values for energy"
   ]
  },
  {
   "cell_type": "code",
   "execution_count": 20,
   "metadata": {},
   "outputs": [
    {
     "data": {
      "text/plain": [
       "<Axes: >"
      ]
     },
     "execution_count": 20,
     "metadata": {},
     "output_type": "execute_result"
    },
    {
     "data": {
      "image/png": "[encoded data removed]",
      "text/plain": [
       "<Figure size 640x480 with 1 Axes>"
      ]
     },
     "metadata": {},
     "output_type": "display_data"
    }
   ],
   "source": [
    "sns.heatmap(energy_1_copy.isnull(), yticklabels=False, cbar=False, cmap='viridis')"
   ]
  },
  {
   "cell_type": "code",
   "execution_count": 21,
   "metadata": {
    "scrolled": false
   },
   "outputs": [
    {
     "data": {
      "text/plain": [
       "Data                       0\n",
       "Hora                       0\n",
       "Normal (kWh)               0\n",
       "Horario Economico (kWh)    0\n",
       "Autoconsumo (kWh)          0\n",
       "Injecao na rede (kWh)      0\n",
       "dtype: int64"
      ]
     },
     "execution_count": 21,
     "metadata": {},
     "output_type": "execute_result"
    }
   ],
   "source": [
    "energy_1_copy.isnull().sum()"
   ]
  },
  {
   "cell_type": "code",
   "execution_count": 22,
   "metadata": {},
   "outputs": [
    {
     "name": "stdout",
     "output_type": "stream",
     "text": [
      "<class 'pandas.core.frame.DataFrame'>\n",
      "RangeIndex: 2256 entries, 0 to 2255\n",
      "Data columns (total 6 columns):\n",
      " #   Column                   Non-Null Count  Dtype  \n",
      "---  ------                   --------------  -----  \n",
      " 0   Data                     2256 non-null   object \n",
      " 1   Hora                     2256 non-null   int64  \n",
      " 2   Normal (kWh)             2256 non-null   float64\n",
      " 3   Horario Economico (kWh)  2256 non-null   float64\n",
      " 4   Autoconsumo (kWh)        2256 non-null   float64\n",
      " 5   Injecao na rede (kWh)    2256 non-null   object \n",
      "dtypes: float64(3), int64(1), object(2)\n",
      "memory usage: 105.9+ KB\n"
     ]
    }
   ],
   "source": [
    "energy_1_copy.info()"
   ]
  },
  {
   "cell_type": "code",
   "execution_count": 23,
   "metadata": {},
   "outputs": [
    {
     "data": {
      "text/html": [
       "<div>\n",
       "<style scoped>\n",
       "    .dataframe tbody tr th:only-of-type {\n",
       "        vertical-align: middle;\n",
       "    }\n",
       "\n",
       "    .dataframe tbody tr th {\n",
       "        vertical-align: top;\n",
       "    }\n",
       "\n",
       "    .dataframe thead th {\n",
       "        text-align: right;\n",
       "    }\n",
       "</style>\n",
       "<table border=\"1\" class=\"dataframe\">\n",
       "  <thead>\n",
       "    <tr style=\"text-align: right;\">\n",
       "      <th></th>\n",
       "      <th>Data</th>\n",
       "      <th>Hora</th>\n",
       "      <th>Normal (kWh)</th>\n",
       "      <th>Horario Economico (kWh)</th>\n",
       "      <th>Autoconsumo (kWh)</th>\n",
       "      <th>Injecao na rede (kWh)</th>\n",
       "    </tr>\n",
       "  </thead>\n",
       "  <tbody>\n",
       "    <tr>\n",
       "      <th>0</th>\n",
       "      <td>2021-09-29</td>\n",
       "      <td>0</td>\n",
       "      <td>0.0</td>\n",
       "      <td>0.0</td>\n",
       "      <td>0.0</td>\n",
       "      <td>0</td>\n",
       "    </tr>\n",
       "    <tr>\n",
       "      <th>1</th>\n",
       "      <td>2021-09-29</td>\n",
       "      <td>1</td>\n",
       "      <td>0.0</td>\n",
       "      <td>0.0</td>\n",
       "      <td>0.0</td>\n",
       "      <td>0</td>\n",
       "    </tr>\n",
       "    <tr>\n",
       "      <th>2</th>\n",
       "      <td>2021-09-29</td>\n",
       "      <td>2</td>\n",
       "      <td>0.0</td>\n",
       "      <td>0.0</td>\n",
       "      <td>0.0</td>\n",
       "      <td>0</td>\n",
       "    </tr>\n",
       "    <tr>\n",
       "      <th>3</th>\n",
       "      <td>2021-09-29</td>\n",
       "      <td>3</td>\n",
       "      <td>0.0</td>\n",
       "      <td>0.0</td>\n",
       "      <td>0.0</td>\n",
       "      <td>0</td>\n",
       "    </tr>\n",
       "    <tr>\n",
       "      <th>4</th>\n",
       "      <td>2021-09-29</td>\n",
       "      <td>4</td>\n",
       "      <td>0.0</td>\n",
       "      <td>0.0</td>\n",
       "      <td>0.0</td>\n",
       "      <td>0</td>\n",
       "    </tr>\n",
       "  </tbody>\n",
       "</table>\n",
       "</div>"
      ],
      "text/plain": [
       "         Data  Hora  Normal (kWh)  Horario Economico (kWh)  Autoconsumo (kWh)  \\\n",
       "0  2021-09-29     0           0.0                      0.0                0.0   \n",
       "1  2021-09-29     1           0.0                      0.0                0.0   \n",
       "2  2021-09-29     2           0.0                      0.0                0.0   \n",
       "3  2021-09-29     3           0.0                      0.0                0.0   \n",
       "4  2021-09-29     4           0.0                      0.0                0.0   \n",
       "\n",
       "  Injecao na rede (kWh)  \n",
       "0                     0  \n",
       "1                     0  \n",
       "2                     0  \n",
       "3                     0  \n",
       "4                     0  "
      ]
     },
     "execution_count": 23,
     "metadata": {},
     "output_type": "execute_result"
    }
   ],
   "source": [
    "energy_1_copy.head()"
   ]
  },
  {
   "cell_type": "markdown",
   "metadata": {},
   "source": [
    "Let's now verify how the data is presented in the features <em>sea_level</em>, <em>grnd_level</em> and <em>rain_1h</em>"
   ]
  },
  {
   "cell_type": "code",
   "execution_count": 24,
   "metadata": {},
   "outputs": [
    {
     "data": {
      "text/plain": [
       "0   NaN\n",
       "1   NaN\n",
       "2   NaN\n",
       "3   NaN\n",
       "4   NaN\n",
       "Name: sea_level, dtype: float64"
      ]
     },
     "execution_count": 24,
     "metadata": {},
     "output_type": "execute_result"
    }
   ],
   "source": [
    "meteo_1['sea_level'].head()"
   ]
  },
  {
   "cell_type": "code",
   "execution_count": 25,
   "metadata": {},
   "outputs": [
    {
     "data": {
      "text/plain": [
       "0   NaN\n",
       "1   NaN\n",
       "2   NaN\n",
       "3   NaN\n",
       "4   NaN\n",
       "Name: grnd_level, dtype: float64"
      ]
     },
     "execution_count": 25,
     "metadata": {},
     "output_type": "execute_result"
    }
   ],
   "source": [
    "meteo_1['grnd_level'].head()"
   ]
  },
  {
   "cell_type": "code",
   "execution_count": 26,
   "metadata": {},
   "outputs": [
    {
     "data": {
      "text/plain": [
       "0     NaN\n",
       "1     NaN\n",
       "2     NaN\n",
       "3    0.14\n",
       "4    1.26\n",
       "Name: rain_1h, dtype: float64"
      ]
     },
     "execution_count": 26,
     "metadata": {},
     "output_type": "execute_result"
    }
   ],
   "source": [
    "meteo_1['rain_1h'].head()"
   ]
  },
  {
   "cell_type": "markdown",
   "metadata": {},
   "source": [
    "Now we need to choose one of the options to keep going. We will choose to drop both the <em>sea_level</em> and <em>grnd_level</em> since they don't bring any value to our model and fill the column with the feature <em>rain_1h</em> since it brings added value to our goal."
   ]
  },
  {
   "cell_type": "code",
   "execution_count": 27,
   "metadata": {},
   "outputs": [
    {
     "data": {
      "text/html": [
       "<div>\n",
       "<style scoped>\n",
       "    .dataframe tbody tr th:only-of-type {\n",
       "        vertical-align: middle;\n",
       "    }\n",
       "\n",
       "    .dataframe tbody tr th {\n",
       "        vertical-align: top;\n",
       "    }\n",
       "\n",
       "    .dataframe thead th {\n",
       "        text-align: right;\n",
       "    }\n",
       "</style>\n",
       "<table border=\"1\" class=\"dataframe\">\n",
       "  <thead>\n",
       "    <tr style=\"text-align: right;\">\n",
       "      <th></th>\n",
       "      <th>dt</th>\n",
       "      <th>dt_iso</th>\n",
       "      <th>city_name</th>\n",
       "      <th>temp</th>\n",
       "      <th>feels_like</th>\n",
       "      <th>temp_min</th>\n",
       "      <th>temp_max</th>\n",
       "      <th>pressure</th>\n",
       "      <th>humidity</th>\n",
       "      <th>wind_speed</th>\n",
       "      <th>rain_1h</th>\n",
       "      <th>clouds_all</th>\n",
       "      <th>weather_description</th>\n",
       "    </tr>\n",
       "  </thead>\n",
       "  <tbody>\n",
       "    <tr>\n",
       "      <th>0</th>\n",
       "      <td>1630454400</td>\n",
       "      <td>2021-09-01 00:00:00 +0000 UTC</td>\n",
       "      <td>local</td>\n",
       "      <td>18.74</td>\n",
       "      <td>18.84</td>\n",
       "      <td>15.72</td>\n",
       "      <td>20.34</td>\n",
       "      <td>1015</td>\n",
       "      <td>83</td>\n",
       "      <td>1.18</td>\n",
       "      <td>NaN</td>\n",
       "      <td>78</td>\n",
       "      <td>broken clouds</td>\n",
       "    </tr>\n",
       "    <tr>\n",
       "      <th>1</th>\n",
       "      <td>1630458000</td>\n",
       "      <td>2021-09-01 01:00:00 +0000 UTC</td>\n",
       "      <td>local</td>\n",
       "      <td>18.73</td>\n",
       "      <td>18.83</td>\n",
       "      <td>15.72</td>\n",
       "      <td>20.34</td>\n",
       "      <td>1014</td>\n",
       "      <td>83</td>\n",
       "      <td>1.46</td>\n",
       "      <td>NaN</td>\n",
       "      <td>92</td>\n",
       "      <td>overcast clouds</td>\n",
       "    </tr>\n",
       "    <tr>\n",
       "      <th>2</th>\n",
       "      <td>1630461600</td>\n",
       "      <td>2021-09-01 02:00:00 +0000 UTC</td>\n",
       "      <td>local</td>\n",
       "      <td>17.84</td>\n",
       "      <td>17.98</td>\n",
       "      <td>16.72</td>\n",
       "      <td>20.34</td>\n",
       "      <td>1014</td>\n",
       "      <td>88</td>\n",
       "      <td>1.05</td>\n",
       "      <td>NaN</td>\n",
       "      <td>91</td>\n",
       "      <td>overcast clouds</td>\n",
       "    </tr>\n",
       "    <tr>\n",
       "      <th>3</th>\n",
       "      <td>1630465200</td>\n",
       "      <td>2021-09-01 03:00:00 +0000 UTC</td>\n",
       "      <td>local</td>\n",
       "      <td>18.27</td>\n",
       "      <td>18.40</td>\n",
       "      <td>16.68</td>\n",
       "      <td>20.34</td>\n",
       "      <td>1014</td>\n",
       "      <td>86</td>\n",
       "      <td>0.46</td>\n",
       "      <td>0.14</td>\n",
       "      <td>94</td>\n",
       "      <td>light rain</td>\n",
       "    </tr>\n",
       "    <tr>\n",
       "      <th>4</th>\n",
       "      <td>1630468800</td>\n",
       "      <td>2021-09-01 04:00:00 +0000 UTC</td>\n",
       "      <td>local</td>\n",
       "      <td>17.81</td>\n",
       "      <td>17.97</td>\n",
       "      <td>16.12</td>\n",
       "      <td>20.34</td>\n",
       "      <td>1013</td>\n",
       "      <td>89</td>\n",
       "      <td>0.93</td>\n",
       "      <td>1.26</td>\n",
       "      <td>95</td>\n",
       "      <td>moderate rain</td>\n",
       "    </tr>\n",
       "  </tbody>\n",
       "</table>\n",
       "</div>"
      ],
      "text/plain": [
       "           dt                         dt_iso city_name   temp  feels_like  \\\n",
       "0  1630454400  2021-09-01 00:00:00 +0000 UTC     local  18.74       18.84   \n",
       "1  1630458000  2021-09-01 01:00:00 +0000 UTC     local  18.73       18.83   \n",
       "2  1630461600  2021-09-01 02:00:00 +0000 UTC     local  17.84       17.98   \n",
       "3  1630465200  2021-09-01 03:00:00 +0000 UTC     local  18.27       18.40   \n",
       "4  1630468800  2021-09-01 04:00:00 +0000 UTC     local  17.81       17.97   \n",
       "\n",
       "   temp_min  temp_max  pressure  humidity  wind_speed  rain_1h  clouds_all  \\\n",
       "0     15.72     20.34      1015        83        1.18      NaN          78   \n",
       "1     15.72     20.34      1014        83        1.46      NaN          92   \n",
       "2     16.72     20.34      1014        88        1.05      NaN          91   \n",
       "3     16.68     20.34      1014        86        0.46     0.14          94   \n",
       "4     16.12     20.34      1013        89        0.93     1.26          95   \n",
       "\n",
       "  weather_description  \n",
       "0       broken clouds  \n",
       "1     overcast clouds  \n",
       "2     overcast clouds  \n",
       "3          light rain  \n",
       "4       moderate rain  "
      ]
     },
     "execution_count": 27,
     "metadata": {},
     "output_type": "execute_result"
    }
   ],
   "source": [
    "meteo_1_copy = meteo_1.drop(['sea_level', 'grnd_level'], axis=1, inplace=False)\n",
    "meteo_1_copy.head()"
   ]
  },
  {
   "cell_type": "code",
   "execution_count": 28,
   "metadata": {},
   "outputs": [
    {
     "data": {
      "text/html": [
       "<div>\n",
       "<style scoped>\n",
       "    .dataframe tbody tr th:only-of-type {\n",
       "        vertical-align: middle;\n",
       "    }\n",
       "\n",
       "    .dataframe tbody tr th {\n",
       "        vertical-align: top;\n",
       "    }\n",
       "\n",
       "    .dataframe thead th {\n",
       "        text-align: right;\n",
       "    }\n",
       "</style>\n",
       "<table border=\"1\" class=\"dataframe\">\n",
       "  <thead>\n",
       "    <tr style=\"text-align: right;\">\n",
       "      <th></th>\n",
       "      <th>dt</th>\n",
       "      <th>dt_iso</th>\n",
       "      <th>city_name</th>\n",
       "      <th>temp</th>\n",
       "      <th>feels_like</th>\n",
       "      <th>temp_min</th>\n",
       "      <th>temp_max</th>\n",
       "      <th>pressure</th>\n",
       "      <th>humidity</th>\n",
       "      <th>wind_speed</th>\n",
       "      <th>rain_1h</th>\n",
       "      <th>clouds_all</th>\n",
       "      <th>weather_description</th>\n",
       "    </tr>\n",
       "  </thead>\n",
       "  <tbody>\n",
       "    <tr>\n",
       "      <th>0</th>\n",
       "      <td>1630454400</td>\n",
       "      <td>2021-09-01 00:00:00 +0000 UTC</td>\n",
       "      <td>local</td>\n",
       "      <td>18.74</td>\n",
       "      <td>18.84</td>\n",
       "      <td>15.72</td>\n",
       "      <td>20.34</td>\n",
       "      <td>1015</td>\n",
       "      <td>83</td>\n",
       "      <td>1.18</td>\n",
       "      <td>0.00</td>\n",
       "      <td>78</td>\n",
       "      <td>broken clouds</td>\n",
       "    </tr>\n",
       "    <tr>\n",
       "      <th>1</th>\n",
       "      <td>1630458000</td>\n",
       "      <td>2021-09-01 01:00:00 +0000 UTC</td>\n",
       "      <td>local</td>\n",
       "      <td>18.73</td>\n",
       "      <td>18.83</td>\n",
       "      <td>15.72</td>\n",
       "      <td>20.34</td>\n",
       "      <td>1014</td>\n",
       "      <td>83</td>\n",
       "      <td>1.46</td>\n",
       "      <td>0.00</td>\n",
       "      <td>92</td>\n",
       "      <td>overcast clouds</td>\n",
       "    </tr>\n",
       "    <tr>\n",
       "      <th>2</th>\n",
       "      <td>1630461600</td>\n",
       "      <td>2021-09-01 02:00:00 +0000 UTC</td>\n",
       "      <td>local</td>\n",
       "      <td>17.84</td>\n",
       "      <td>17.98</td>\n",
       "      <td>16.72</td>\n",
       "      <td>20.34</td>\n",
       "      <td>1014</td>\n",
       "      <td>88</td>\n",
       "      <td>1.05</td>\n",
       "      <td>0.00</td>\n",
       "      <td>91</td>\n",
       "      <td>overcast clouds</td>\n",
       "    </tr>\n",
       "    <tr>\n",
       "      <th>3</th>\n",
       "      <td>1630465200</td>\n",
       "      <td>2021-09-01 03:00:00 +0000 UTC</td>\n",
       "      <td>local</td>\n",
       "      <td>18.27</td>\n",
       "      <td>18.40</td>\n",
       "      <td>16.68</td>\n",
       "      <td>20.34</td>\n",
       "      <td>1014</td>\n",
       "      <td>86</td>\n",
       "      <td>0.46</td>\n",
       "      <td>0.14</td>\n",
       "      <td>94</td>\n",
       "      <td>light rain</td>\n",
       "    </tr>\n",
       "    <tr>\n",
       "      <th>4</th>\n",
       "      <td>1630468800</td>\n",
       "      <td>2021-09-01 04:00:00 +0000 UTC</td>\n",
       "      <td>local</td>\n",
       "      <td>17.81</td>\n",
       "      <td>17.97</td>\n",
       "      <td>16.12</td>\n",
       "      <td>20.34</td>\n",
       "      <td>1013</td>\n",
       "      <td>89</td>\n",
       "      <td>0.93</td>\n",
       "      <td>1.26</td>\n",
       "      <td>95</td>\n",
       "      <td>moderate rain</td>\n",
       "    </tr>\n",
       "  </tbody>\n",
       "</table>\n",
       "</div>"
      ],
      "text/plain": [
       "           dt                         dt_iso city_name   temp  feels_like  \\\n",
       "0  1630454400  2021-09-01 00:00:00 +0000 UTC     local  18.74       18.84   \n",
       "1  1630458000  2021-09-01 01:00:00 +0000 UTC     local  18.73       18.83   \n",
       "2  1630461600  2021-09-01 02:00:00 +0000 UTC     local  17.84       17.98   \n",
       "3  1630465200  2021-09-01 03:00:00 +0000 UTC     local  18.27       18.40   \n",
       "4  1630468800  2021-09-01 04:00:00 +0000 UTC     local  17.81       17.97   \n",
       "\n",
       "   temp_min  temp_max  pressure  humidity  wind_speed  rain_1h  clouds_all  \\\n",
       "0     15.72     20.34      1015        83        1.18     0.00          78   \n",
       "1     15.72     20.34      1014        83        1.46     0.00          92   \n",
       "2     16.72     20.34      1014        88        1.05     0.00          91   \n",
       "3     16.68     20.34      1014        86        0.46     0.14          94   \n",
       "4     16.12     20.34      1013        89        0.93     1.26          95   \n",
       "\n",
       "  weather_description  \n",
       "0       broken clouds  \n",
       "1     overcast clouds  \n",
       "2     overcast clouds  \n",
       "3          light rain  \n",
       "4       moderate rain  "
      ]
     },
     "execution_count": 28,
     "metadata": {},
     "output_type": "execute_result"
    }
   ],
   "source": [
    "meteo_1_copy.fillna(0, inplace=True)\n",
    "meteo_1_copy.head()"
   ]
  },
  {
   "cell_type": "markdown",
   "metadata": {},
   "source": [
    "Let's see if there are still missing values for meteo"
   ]
  },
  {
   "cell_type": "code",
   "execution_count": 29,
   "metadata": {},
   "outputs": [
    {
     "data": {
      "text/plain": [
       "<Axes: >"
      ]
     },
     "execution_count": 29,
     "metadata": {},
     "output_type": "execute_result"
    },
    {
     "data": {
      "image/png": "[encoded data removed]",
      "text/plain": [
       "<Figure size 640x480 with 1 Axes>"
      ]
     },
     "metadata": {},
     "output_type": "display_data"
    }
   ],
   "source": [
    "sns.heatmap(meteo_1_copy.isnull(), yticklabels=False, cbar=False, cmap='viridis')"
   ]
  },
  {
   "cell_type": "code",
   "execution_count": 30,
   "metadata": {
    "scrolled": false
   },
   "outputs": [
    {
     "data": {
      "text/plain": [
       "dt                     0\n",
       "dt_iso                 0\n",
       "city_name              0\n",
       "temp                   0\n",
       "feels_like             0\n",
       "temp_min               0\n",
       "temp_max               0\n",
       "pressure               0\n",
       "humidity               0\n",
       "wind_speed             0\n",
       "rain_1h                0\n",
       "clouds_all             0\n",
       "weather_description    0\n",
       "dtype: int64"
      ]
     },
     "execution_count": 30,
     "metadata": {},
     "output_type": "execute_result"
    }
   ],
   "source": [
    "meteo_1_copy.isnull().sum()"
   ]
  },
  {
   "cell_type": "code",
   "execution_count": 31,
   "metadata": {},
   "outputs": [
    {
     "name": "stdout",
     "output_type": "stream",
     "text": [
      "<class 'pandas.core.frame.DataFrame'>\n",
      "RangeIndex: 2928 entries, 0 to 2927\n",
      "Data columns (total 13 columns):\n",
      " #   Column               Non-Null Count  Dtype  \n",
      "---  ------               --------------  -----  \n",
      " 0   dt                   2928 non-null   int64  \n",
      " 1   dt_iso               2928 non-null   object \n",
      " 2   city_name            2928 non-null   object \n",
      " 3   temp                 2928 non-null   float64\n",
      " 4   feels_like           2928 non-null   float64\n",
      " 5   temp_min             2928 non-null   float64\n",
      " 6   temp_max             2928 non-null   float64\n",
      " 7   pressure             2928 non-null   int64  \n",
      " 8   humidity             2928 non-null   int64  \n",
      " 9   wind_speed           2928 non-null   float64\n",
      " 10  rain_1h              2928 non-null   float64\n",
      " 11  clouds_all           2928 non-null   int64  \n",
      " 12  weather_description  2928 non-null   object \n",
      "dtypes: float64(6), int64(4), object(3)\n",
      "memory usage: 297.5+ KB\n"
     ]
    }
   ],
   "source": [
    "meteo_1_copy.info()"
   ]
  },
  {
   "cell_type": "code",
   "execution_count": 32,
   "metadata": {},
   "outputs": [
    {
     "data": {
      "text/html": [
       "<div>\n",
       "<style scoped>\n",
       "    .dataframe tbody tr th:only-of-type {\n",
       "        vertical-align: middle;\n",
       "    }\n",
       "\n",
       "    .dataframe tbody tr th {\n",
       "        vertical-align: top;\n",
       "    }\n",
       "\n",
       "    .dataframe thead th {\n",
       "        text-align: right;\n",
       "    }\n",
       "</style>\n",
       "<table border=\"1\" class=\"dataframe\">\n",
       "  <thead>\n",
       "    <tr style=\"text-align: right;\">\n",
       "      <th></th>\n",
       "      <th>dt</th>\n",
       "      <th>dt_iso</th>\n",
       "      <th>city_name</th>\n",
       "      <th>temp</th>\n",
       "      <th>feels_like</th>\n",
       "      <th>temp_min</th>\n",
       "      <th>temp_max</th>\n",
       "      <th>pressure</th>\n",
       "      <th>humidity</th>\n",
       "      <th>wind_speed</th>\n",
       "      <th>rain_1h</th>\n",
       "      <th>clouds_all</th>\n",
       "      <th>weather_description</th>\n",
       "    </tr>\n",
       "  </thead>\n",
       "  <tbody>\n",
       "    <tr>\n",
       "      <th>0</th>\n",
       "      <td>1630454400</td>\n",
       "      <td>2021-09-01 00:00:00 +0000 UTC</td>\n",
       "      <td>local</td>\n",
       "      <td>18.74</td>\n",
       "      <td>18.84</td>\n",
       "      <td>15.72</td>\n",
       "      <td>20.34</td>\n",
       "      <td>1015</td>\n",
       "      <td>83</td>\n",
       "      <td>1.18</td>\n",
       "      <td>0.00</td>\n",
       "      <td>78</td>\n",
       "      <td>broken clouds</td>\n",
       "    </tr>\n",
       "    <tr>\n",
       "      <th>1</th>\n",
       "      <td>1630458000</td>\n",
       "      <td>2021-09-01 01:00:00 +0000 UTC</td>\n",
       "      <td>local</td>\n",
       "      <td>18.73</td>\n",
       "      <td>18.83</td>\n",
       "      <td>15.72</td>\n",
       "      <td>20.34</td>\n",
       "      <td>1014</td>\n",
       "      <td>83</td>\n",
       "      <td>1.46</td>\n",
       "      <td>0.00</td>\n",
       "      <td>92</td>\n",
       "      <td>overcast clouds</td>\n",
       "    </tr>\n",
       "    <tr>\n",
       "      <th>2</th>\n",
       "      <td>1630461600</td>\n",
       "      <td>2021-09-01 02:00:00 +0000 UTC</td>\n",
       "      <td>local</td>\n",
       "      <td>17.84</td>\n",
       "      <td>17.98</td>\n",
       "      <td>16.72</td>\n",
       "      <td>20.34</td>\n",
       "      <td>1014</td>\n",
       "      <td>88</td>\n",
       "      <td>1.05</td>\n",
       "      <td>0.00</td>\n",
       "      <td>91</td>\n",
       "      <td>overcast clouds</td>\n",
       "    </tr>\n",
       "    <tr>\n",
       "      <th>3</th>\n",
       "      <td>1630465200</td>\n",
       "      <td>2021-09-01 03:00:00 +0000 UTC</td>\n",
       "      <td>local</td>\n",
       "      <td>18.27</td>\n",
       "      <td>18.40</td>\n",
       "      <td>16.68</td>\n",
       "      <td>20.34</td>\n",
       "      <td>1014</td>\n",
       "      <td>86</td>\n",
       "      <td>0.46</td>\n",
       "      <td>0.14</td>\n",
       "      <td>94</td>\n",
       "      <td>light rain</td>\n",
       "    </tr>\n",
       "    <tr>\n",
       "      <th>4</th>\n",
       "      <td>1630468800</td>\n",
       "      <td>2021-09-01 04:00:00 +0000 UTC</td>\n",
       "      <td>local</td>\n",
       "      <td>17.81</td>\n",
       "      <td>17.97</td>\n",
       "      <td>16.12</td>\n",
       "      <td>20.34</td>\n",
       "      <td>1013</td>\n",
       "      <td>89</td>\n",
       "      <td>0.93</td>\n",
       "      <td>1.26</td>\n",
       "      <td>95</td>\n",
       "      <td>moderate rain</td>\n",
       "    </tr>\n",
       "  </tbody>\n",
       "</table>\n",
       "</div>"
      ],
      "text/plain": [
       "           dt                         dt_iso city_name   temp  feels_like  \\\n",
       "0  1630454400  2021-09-01 00:00:00 +0000 UTC     local  18.74       18.84   \n",
       "1  1630458000  2021-09-01 01:00:00 +0000 UTC     local  18.73       18.83   \n",
       "2  1630461600  2021-09-01 02:00:00 +0000 UTC     local  17.84       17.98   \n",
       "3  1630465200  2021-09-01 03:00:00 +0000 UTC     local  18.27       18.40   \n",
       "4  1630468800  2021-09-01 04:00:00 +0000 UTC     local  17.81       17.97   \n",
       "\n",
       "   temp_min  temp_max  pressure  humidity  wind_speed  rain_1h  clouds_all  \\\n",
       "0     15.72     20.34      1015        83        1.18     0.00          78   \n",
       "1     15.72     20.34      1014        83        1.46     0.00          92   \n",
       "2     16.72     20.34      1014        88        1.05     0.00          91   \n",
       "3     16.68     20.34      1014        86        0.46     0.14          94   \n",
       "4     16.12     20.34      1013        89        0.93     1.26          95   \n",
       "\n",
       "  weather_description  \n",
       "0       broken clouds  \n",
       "1     overcast clouds  \n",
       "2     overcast clouds  \n",
       "3          light rain  \n",
       "4       moderate rain  "
      ]
     },
     "execution_count": 32,
     "metadata": {},
     "output_type": "execute_result"
    }
   ],
   "source": [
    "meteo_1_copy.head()"
   ]
  },
  {
   "cell_type": "markdown",
   "metadata": {},
   "source": [
    "Looking at the dates in both files, we can see that in the <em>energy_*</em> dataset the date is separated into two columns, one with said date without it's hour and another with it's taken hour. However in the <em>meteo_*</em> dataset the date is properly defined from the year to the second it was taken, even including it's time zone.\n",
    "\n",
    "So with this it's better if we combine these dates into a single column since further ahead we will combine these datasets."
   ]
  },
  {
   "cell_type": "code",
   "execution_count": 33,
   "metadata": {},
   "outputs": [
    {
     "data": {
      "text/plain": [
       "0       2021-09-29 00:00:00\n",
       "1       2021-09-29 01:00:00\n",
       "2       2021-09-29 02:00:00\n",
       "3       2021-09-29 03:00:00\n",
       "4       2021-09-29 04:00:00\n",
       "               ...         \n",
       "2251    2021-12-31 19:00:00\n",
       "2252    2021-12-31 20:00:00\n",
       "2253    2021-12-31 21:00:00\n",
       "2254    2021-12-31 22:00:00\n",
       "2255    2021-12-31 23:00:00\n",
       "Name: Data, Length: 2256, dtype: object"
      ]
     },
     "execution_count": 33,
     "metadata": {},
     "output_type": "execute_result"
    }
   ],
   "source": [
    "ene = energy_1_copy.copy()\n",
    "\n",
    "energy_1_copy['Hora'] = energy_1_copy['Hora'].apply(lambda x: str(x).zfill(2))\n",
    "#ene['Hora'][0].type()\n",
    "\n",
    "# energy_1_copy['Hora'][0]\n",
    "\n",
    "\n",
    "energy_1_copy['Data'] = energy_1_copy['Data'] + ' ' + energy_1_copy['Hora'] + ':00:00'\n",
    "energy_1_copy['Data']"
   ]
  },
  {
   "cell_type": "markdown",
   "metadata": {},
   "source": [
    "With this in this format we can now drop the <em>Hora</em> feature since it's no longer needed."
   ]
  },
  {
   "cell_type": "code",
   "execution_count": 34,
   "metadata": {},
   "outputs": [
    {
     "data": {
      "text/html": [
       "<div>\n",
       "<style scoped>\n",
       "    .dataframe tbody tr th:only-of-type {\n",
       "        vertical-align: middle;\n",
       "    }\n",
       "\n",
       "    .dataframe tbody tr th {\n",
       "        vertical-align: top;\n",
       "    }\n",
       "\n",
       "    .dataframe thead th {\n",
       "        text-align: right;\n",
       "    }\n",
       "</style>\n",
       "<table border=\"1\" class=\"dataframe\">\n",
       "  <thead>\n",
       "    <tr style=\"text-align: right;\">\n",
       "      <th></th>\n",
       "      <th>Data</th>\n",
       "      <th>Normal (kWh)</th>\n",
       "      <th>Horario Economico (kWh)</th>\n",
       "      <th>Autoconsumo (kWh)</th>\n",
       "      <th>Injecao na rede (kWh)</th>\n",
       "    </tr>\n",
       "  </thead>\n",
       "  <tbody>\n",
       "    <tr>\n",
       "      <th>0</th>\n",
       "      <td>2021-09-29 00:00:00</td>\n",
       "      <td>0.0</td>\n",
       "      <td>0.0</td>\n",
       "      <td>0.0</td>\n",
       "      <td>0</td>\n",
       "    </tr>\n",
       "    <tr>\n",
       "      <th>1</th>\n",
       "      <td>2021-09-29 01:00:00</td>\n",
       "      <td>0.0</td>\n",
       "      <td>0.0</td>\n",
       "      <td>0.0</td>\n",
       "      <td>0</td>\n",
       "    </tr>\n",
       "    <tr>\n",
       "      <th>2</th>\n",
       "      <td>2021-09-29 02:00:00</td>\n",
       "      <td>0.0</td>\n",
       "      <td>0.0</td>\n",
       "      <td>0.0</td>\n",
       "      <td>0</td>\n",
       "    </tr>\n",
       "    <tr>\n",
       "      <th>3</th>\n",
       "      <td>2021-09-29 03:00:00</td>\n",
       "      <td>0.0</td>\n",
       "      <td>0.0</td>\n",
       "      <td>0.0</td>\n",
       "      <td>0</td>\n",
       "    </tr>\n",
       "    <tr>\n",
       "      <th>4</th>\n",
       "      <td>2021-09-29 04:00:00</td>\n",
       "      <td>0.0</td>\n",
       "      <td>0.0</td>\n",
       "      <td>0.0</td>\n",
       "      <td>0</td>\n",
       "    </tr>\n",
       "  </tbody>\n",
       "</table>\n",
       "</div>"
      ],
      "text/plain": [
       "                  Data  Normal (kWh)  Horario Economico (kWh)  \\\n",
       "0  2021-09-29 00:00:00           0.0                      0.0   \n",
       "1  2021-09-29 01:00:00           0.0                      0.0   \n",
       "2  2021-09-29 02:00:00           0.0                      0.0   \n",
       "3  2021-09-29 03:00:00           0.0                      0.0   \n",
       "4  2021-09-29 04:00:00           0.0                      0.0   \n",
       "\n",
       "   Autoconsumo (kWh) Injecao na rede (kWh)  \n",
       "0                0.0                     0  \n",
       "1                0.0                     0  \n",
       "2                0.0                     0  \n",
       "3                0.0                     0  \n",
       "4                0.0                     0  "
      ]
     },
     "execution_count": 34,
     "metadata": {},
     "output_type": "execute_result"
    }
   ],
   "source": [
    "energy_1_copy.drop(['Hora'], axis=1, inplace=True)\n",
    "energy_1_copy.head()"
   ]
  },
  {
   "cell_type": "markdown",
   "metadata": {},
   "source": [
    "There are features that are of the type <em>object</em>: <em>Data</em> and <em>Injecao na rede (kWh)</em>.\n",
    "\n",
    "Let's see how many different values each feature has."
   ]
  },
  {
   "cell_type": "code",
   "execution_count": 35,
   "metadata": {},
   "outputs": [
    {
     "data": {
      "text/plain": [
       "Data                       2256\n",
       "Normal (kWh)                772\n",
       "Horario Economico (kWh)     329\n",
       "Autoconsumo (kWh)           440\n",
       "Injecao na rede (kWh)         5\n",
       "dtype: int64"
      ]
     },
     "execution_count": 35,
     "metadata": {},
     "output_type": "execute_result"
    }
   ],
   "source": [
    "energy_1_copy.nunique()"
   ]
  },
  {
   "cell_type": "code",
   "execution_count": 36,
   "metadata": {},
   "outputs": [
    {
     "data": {
      "text/plain": [
       "5"
      ]
     },
     "execution_count": 36,
     "metadata": {},
     "output_type": "execute_result"
    }
   ],
   "source": [
    "energy_1_copy['Injecao na rede (kWh)'].nunique()"
   ]
  },
  {
   "cell_type": "code",
   "execution_count": 37,
   "metadata": {},
   "outputs": [
    {
     "data": {
      "text/plain": [
       "count     2256\n",
       "unique       5\n",
       "top          0\n",
       "freq      1690\n",
       "Name: Injecao na rede (kWh), dtype: int64"
      ]
     },
     "execution_count": 37,
     "metadata": {},
     "output_type": "execute_result"
    }
   ],
   "source": [
    "energy_1_copy['Injecao na rede (kWh)'].describe()"
   ]
  },
  {
   "cell_type": "markdown",
   "metadata": {},
   "source": [
    "There are features that are of the type <em>object</em>: <em>dt_iso</em>, <em>city_name </em> and <em>weather_description</em>.\n",
    "\n",
    "Let's see how many different values each feature has."
   ]
  },
  {
   "cell_type": "code",
   "execution_count": 38,
   "metadata": {},
   "outputs": [
    {
     "data": {
      "text/plain": [
       "dt                     2928\n",
       "dt_iso                 2928\n",
       "city_name                 1\n",
       "temp                   1279\n",
       "feels_like             1476\n",
       "temp_min                262\n",
       "temp_max                256\n",
       "pressure                 35\n",
       "humidity                 70\n",
       "wind_speed              569\n",
       "rain_1h                 174\n",
       "clouds_all              101\n",
       "weather_description       8\n",
       "dtype: int64"
      ]
     },
     "execution_count": 38,
     "metadata": {},
     "output_type": "execute_result"
    }
   ],
   "source": [
    "meteo_1_copy.nunique()"
   ]
  },
  {
   "cell_type": "markdown",
   "metadata": {
    "tags": []
   },
   "source": [
    "## 2. Handling categoric data"
   ]
  },
  {
   "cell_type": "markdown",
   "metadata": {},
   "source": [
    "Feature <em>city_name</em>"
   ]
  },
  {
   "cell_type": "code",
   "execution_count": 39,
   "metadata": {},
   "outputs": [
    {
     "data": {
      "text/plain": [
       "0    local\n",
       "1    local\n",
       "2    local\n",
       "3    local\n",
       "4    local\n",
       "Name: city_name, dtype: object"
      ]
     },
     "execution_count": 39,
     "metadata": {},
     "output_type": "execute_result"
    }
   ],
   "source": [
    "meteo_1_copy['city_name'].head()"
   ]
  },
  {
   "cell_type": "markdown",
   "metadata": {},
   "source": [
    "The unique value of <em>city_name</em> is <em>Guimarães</em>. We can drop this feature as well."
   ]
  },
  {
   "cell_type": "code",
   "execution_count": 40,
   "metadata": {},
   "outputs": [],
   "source": [
    "meteo_1_copy.drop(['city_name'], axis=1, inplace=True)\n",
    "meteo_1_copy.dropna(inplace=True)"
   ]
  },
  {
   "cell_type": "code",
   "execution_count": 41,
   "metadata": {},
   "outputs": [
    {
     "data": {
      "text/html": [
       "<div>\n",
       "<style scoped>\n",
       "    .dataframe tbody tr th:only-of-type {\n",
       "        vertical-align: middle;\n",
       "    }\n",
       "\n",
       "    .dataframe tbody tr th {\n",
       "        vertical-align: top;\n",
       "    }\n",
       "\n",
       "    .dataframe thead th {\n",
       "        text-align: right;\n",
       "    }\n",
       "</style>\n",
       "<table border=\"1\" class=\"dataframe\">\n",
       "  <thead>\n",
       "    <tr style=\"text-align: right;\">\n",
       "      <th></th>\n",
       "      <th>dt</th>\n",
       "      <th>dt_iso</th>\n",
       "      <th>temp</th>\n",
       "      <th>feels_like</th>\n",
       "      <th>temp_min</th>\n",
       "      <th>temp_max</th>\n",
       "      <th>pressure</th>\n",
       "      <th>humidity</th>\n",
       "      <th>wind_speed</th>\n",
       "      <th>rain_1h</th>\n",
       "      <th>clouds_all</th>\n",
       "      <th>weather_description</th>\n",
       "    </tr>\n",
       "  </thead>\n",
       "  <tbody>\n",
       "    <tr>\n",
       "      <th>0</th>\n",
       "      <td>1630454400</td>\n",
       "      <td>2021-09-01 00:00:00 +0000 UTC</td>\n",
       "      <td>18.74</td>\n",
       "      <td>18.84</td>\n",
       "      <td>15.72</td>\n",
       "      <td>20.34</td>\n",
       "      <td>1015</td>\n",
       "      <td>83</td>\n",
       "      <td>1.18</td>\n",
       "      <td>0.00</td>\n",
       "      <td>78</td>\n",
       "      <td>broken clouds</td>\n",
       "    </tr>\n",
       "    <tr>\n",
       "      <th>1</th>\n",
       "      <td>1630458000</td>\n",
       "      <td>2021-09-01 01:00:00 +0000 UTC</td>\n",
       "      <td>18.73</td>\n",
       "      <td>18.83</td>\n",
       "      <td>15.72</td>\n",
       "      <td>20.34</td>\n",
       "      <td>1014</td>\n",
       "      <td>83</td>\n",
       "      <td>1.46</td>\n",
       "      <td>0.00</td>\n",
       "      <td>92</td>\n",
       "      <td>overcast clouds</td>\n",
       "    </tr>\n",
       "    <tr>\n",
       "      <th>2</th>\n",
       "      <td>1630461600</td>\n",
       "      <td>2021-09-01 02:00:00 +0000 UTC</td>\n",
       "      <td>17.84</td>\n",
       "      <td>17.98</td>\n",
       "      <td>16.72</td>\n",
       "      <td>20.34</td>\n",
       "      <td>1014</td>\n",
       "      <td>88</td>\n",
       "      <td>1.05</td>\n",
       "      <td>0.00</td>\n",
       "      <td>91</td>\n",
       "      <td>overcast clouds</td>\n",
       "    </tr>\n",
       "    <tr>\n",
       "      <th>3</th>\n",
       "      <td>1630465200</td>\n",
       "      <td>2021-09-01 03:00:00 +0000 UTC</td>\n",
       "      <td>18.27</td>\n",
       "      <td>18.40</td>\n",
       "      <td>16.68</td>\n",
       "      <td>20.34</td>\n",
       "      <td>1014</td>\n",
       "      <td>86</td>\n",
       "      <td>0.46</td>\n",
       "      <td>0.14</td>\n",
       "      <td>94</td>\n",
       "      <td>light rain</td>\n",
       "    </tr>\n",
       "    <tr>\n",
       "      <th>4</th>\n",
       "      <td>1630468800</td>\n",
       "      <td>2021-09-01 04:00:00 +0000 UTC</td>\n",
       "      <td>17.81</td>\n",
       "      <td>17.97</td>\n",
       "      <td>16.12</td>\n",
       "      <td>20.34</td>\n",
       "      <td>1013</td>\n",
       "      <td>89</td>\n",
       "      <td>0.93</td>\n",
       "      <td>1.26</td>\n",
       "      <td>95</td>\n",
       "      <td>moderate rain</td>\n",
       "    </tr>\n",
       "  </tbody>\n",
       "</table>\n",
       "</div>"
      ],
      "text/plain": [
       "           dt                         dt_iso   temp  feels_like  temp_min  \\\n",
       "0  1630454400  2021-09-01 00:00:00 +0000 UTC  18.74       18.84     15.72   \n",
       "1  1630458000  2021-09-01 01:00:00 +0000 UTC  18.73       18.83     15.72   \n",
       "2  1630461600  2021-09-01 02:00:00 +0000 UTC  17.84       17.98     16.72   \n",
       "3  1630465200  2021-09-01 03:00:00 +0000 UTC  18.27       18.40     16.68   \n",
       "4  1630468800  2021-09-01 04:00:00 +0000 UTC  17.81       17.97     16.12   \n",
       "\n",
       "   temp_max  pressure  humidity  wind_speed  rain_1h  clouds_all  \\\n",
       "0     20.34      1015        83        1.18     0.00          78   \n",
       "1     20.34      1014        83        1.46     0.00          92   \n",
       "2     20.34      1014        88        1.05     0.00          91   \n",
       "3     20.34      1014        86        0.46     0.14          94   \n",
       "4     20.34      1013        89        0.93     1.26          95   \n",
       "\n",
       "  weather_description  \n",
       "0       broken clouds  \n",
       "1     overcast clouds  \n",
       "2     overcast clouds  \n",
       "3          light rain  \n",
       "4       moderate rain  "
      ]
     },
     "execution_count": 41,
     "metadata": {},
     "output_type": "execute_result"
    }
   ],
   "source": [
    "meteo_1_copy.head()"
   ]
  },
  {
   "cell_type": "markdown",
   "metadata": {},
   "source": [
    "Let's see the feature <em>weather_description</em>:"
   ]
  },
  {
   "cell_type": "code",
   "execution_count": 42,
   "metadata": {},
   "outputs": [
    {
     "data": {
      "text/plain": [
       "weather_description\n",
       "sky is clear            795\n",
       "overcast clouds         667\n",
       "light rain              412\n",
       "broken clouds           402\n",
       "scattered clouds        324\n",
       "few clouds              203\n",
       "moderate rain           110\n",
       "heavy intensity rain     15\n",
       "Name: count, dtype: int64"
      ]
     },
     "execution_count": 42,
     "metadata": {},
     "output_type": "execute_result"
    }
   ],
   "source": [
    "meteo_1_copy['weather_description'].value_counts()"
   ]
  },
  {
   "cell_type": "code",
   "execution_count": 43,
   "metadata": {},
   "outputs": [
    {
     "data": {
      "text/plain": [
       "8"
      ]
     },
     "execution_count": 43,
     "metadata": {},
     "output_type": "execute_result"
    }
   ],
   "source": [
    "meteo_1_copy['weather_description'].value_counts().count()"
   ]
  },
  {
   "cell_type": "markdown",
   "metadata": {},
   "source": [
    "Let's create a barplot of <em>Frequency Distribution of Weather Discription</em> (style=\"darkgrid\", fontsize=12)"
   ]
  },
  {
   "cell_type": "code",
   "execution_count": 44,
   "metadata": {},
   "outputs": [
    {
     "data": {
      "image/png": "[encoded data removed]",
      "text/plain": [
       "<Figure size 1300x600 with 1 Axes>"
      ]
     },
     "metadata": {},
     "output_type": "display_data"
    }
   ],
   "source": [
    "weather_discription_count = meteo_1_copy['weather_description'].value_counts()\n",
    "sns.set(style=\"darkgrid\")\n",
    "plt.figure(figsize=(13, 6))\n",
    "sns.barplot(x=weather_discription_count.index, y=weather_discription_count.values)\n",
    "plt.title('Frequency Distribution of Incidents') # change the string in these 3 lines\n",
    "plt.ylabel('Number of Occurences', fontsize=12) # this one\n",
    "plt.xlabel('Incidents', fontsize=12) # and this one\n",
    "plt.show()"
   ]
  },
  {
   "cell_type": "markdown",
   "metadata": {},
   "source": [
    "Let's create a pie plot of <em>Category Distribution of Weather Discription</em>"
   ]
  },
  {
   "cell_type": "code",
   "execution_count": 45,
   "metadata": {},
   "outputs": [
    {
     "data": {
      "image/png": "[encoded data removed]",
      "text/plain": [
       "<Figure size 700x700 with 1 Axes>"
      ]
     },
     "metadata": {},
     "output_type": "display_data"
    }
   ],
   "source": [
    "labels = meteo_1_copy['weather_description'].astype('category').cat.categories.tolist()\n",
    "counts = meteo_1_copy['weather_description'].value_counts()\n",
    "sizes = [counts[var_cat] for var_cat in labels]\n",
    "fig1, ax1 = plt.subplots(figsize=(7, 7))\n",
    "ax1.pie(sizes, labels=labels, autopct='%1.1f%%', shadow=False)\n",
    "ax1.axis('equal')\n",
    "plt.show()"
   ]
  },
  {
   "cell_type": "markdown",
   "metadata": {},
   "source": [
    "We have several options how to deal with qualitative data:"
   ]
  },
  {
   "cell_type": "markdown",
   "metadata": {},
   "source": [
    "#### a) Replace Values"
   ]
  },
  {
   "cell_type": "markdown",
   "metadata": {},
   "source": [
    "Again, we are using data copies to experiment all options."
   ]
  },
  {
   "cell_type": "code",
   "execution_count": 46,
   "metadata": {},
   "outputs": [
    {
     "data": {
      "text/html": [
       "<div>\n",
       "<style scoped>\n",
       "    .dataframe tbody tr th:only-of-type {\n",
       "        vertical-align: middle;\n",
       "    }\n",
       "\n",
       "    .dataframe tbody tr th {\n",
       "        vertical-align: top;\n",
       "    }\n",
       "\n",
       "    .dataframe thead th {\n",
       "        text-align: right;\n",
       "    }\n",
       "</style>\n",
       "<table border=\"1\" class=\"dataframe\">\n",
       "  <thead>\n",
       "    <tr style=\"text-align: right;\">\n",
       "      <th></th>\n",
       "      <th>dt</th>\n",
       "      <th>dt_iso</th>\n",
       "      <th>temp</th>\n",
       "      <th>feels_like</th>\n",
       "      <th>temp_min</th>\n",
       "      <th>temp_max</th>\n",
       "      <th>pressure</th>\n",
       "      <th>humidity</th>\n",
       "      <th>wind_speed</th>\n",
       "      <th>rain_1h</th>\n",
       "      <th>clouds_all</th>\n",
       "      <th>weather_description</th>\n",
       "    </tr>\n",
       "  </thead>\n",
       "  <tbody>\n",
       "    <tr>\n",
       "      <th>0</th>\n",
       "      <td>1630454400</td>\n",
       "      <td>2021-09-01 00:00:00 +0000 UTC</td>\n",
       "      <td>18.74</td>\n",
       "      <td>18.84</td>\n",
       "      <td>15.72</td>\n",
       "      <td>20.34</td>\n",
       "      <td>1015</td>\n",
       "      <td>83</td>\n",
       "      <td>1.18</td>\n",
       "      <td>0.00</td>\n",
       "      <td>78</td>\n",
       "      <td>broken clouds</td>\n",
       "    </tr>\n",
       "    <tr>\n",
       "      <th>1</th>\n",
       "      <td>1630458000</td>\n",
       "      <td>2021-09-01 01:00:00 +0000 UTC</td>\n",
       "      <td>18.73</td>\n",
       "      <td>18.83</td>\n",
       "      <td>15.72</td>\n",
       "      <td>20.34</td>\n",
       "      <td>1014</td>\n",
       "      <td>83</td>\n",
       "      <td>1.46</td>\n",
       "      <td>0.00</td>\n",
       "      <td>92</td>\n",
       "      <td>overcast clouds</td>\n",
       "    </tr>\n",
       "    <tr>\n",
       "      <th>2</th>\n",
       "      <td>1630461600</td>\n",
       "      <td>2021-09-01 02:00:00 +0000 UTC</td>\n",
       "      <td>17.84</td>\n",
       "      <td>17.98</td>\n",
       "      <td>16.72</td>\n",
       "      <td>20.34</td>\n",
       "      <td>1014</td>\n",
       "      <td>88</td>\n",
       "      <td>1.05</td>\n",
       "      <td>0.00</td>\n",
       "      <td>91</td>\n",
       "      <td>overcast clouds</td>\n",
       "    </tr>\n",
       "    <tr>\n",
       "      <th>3</th>\n",
       "      <td>1630465200</td>\n",
       "      <td>2021-09-01 03:00:00 +0000 UTC</td>\n",
       "      <td>18.27</td>\n",
       "      <td>18.40</td>\n",
       "      <td>16.68</td>\n",
       "      <td>20.34</td>\n",
       "      <td>1014</td>\n",
       "      <td>86</td>\n",
       "      <td>0.46</td>\n",
       "      <td>0.14</td>\n",
       "      <td>94</td>\n",
       "      <td>light rain</td>\n",
       "    </tr>\n",
       "    <tr>\n",
       "      <th>4</th>\n",
       "      <td>1630468800</td>\n",
       "      <td>2021-09-01 04:00:00 +0000 UTC</td>\n",
       "      <td>17.81</td>\n",
       "      <td>17.97</td>\n",
       "      <td>16.12</td>\n",
       "      <td>20.34</td>\n",
       "      <td>1013</td>\n",
       "      <td>89</td>\n",
       "      <td>0.93</td>\n",
       "      <td>1.26</td>\n",
       "      <td>95</td>\n",
       "      <td>moderate rain</td>\n",
       "    </tr>\n",
       "  </tbody>\n",
       "</table>\n",
       "</div>"
      ],
      "text/plain": [
       "           dt                         dt_iso   temp  feels_like  temp_min  \\\n",
       "0  1630454400  2021-09-01 00:00:00 +0000 UTC  18.74       18.84     15.72   \n",
       "1  1630458000  2021-09-01 01:00:00 +0000 UTC  18.73       18.83     15.72   \n",
       "2  1630461600  2021-09-01 02:00:00 +0000 UTC  17.84       17.98     16.72   \n",
       "3  1630465200  2021-09-01 03:00:00 +0000 UTC  18.27       18.40     16.68   \n",
       "4  1630468800  2021-09-01 04:00:00 +0000 UTC  17.81       17.97     16.12   \n",
       "\n",
       "   temp_max  pressure  humidity  wind_speed  rain_1h  clouds_all  \\\n",
       "0     20.34      1015        83        1.18     0.00          78   \n",
       "1     20.34      1014        83        1.46     0.00          92   \n",
       "2     20.34      1014        88        1.05     0.00          91   \n",
       "3     20.34      1014        86        0.46     0.14          94   \n",
       "4     20.34      1013        89        0.93     1.26          95   \n",
       "\n",
       "  weather_description  \n",
       "0       broken clouds  \n",
       "1     overcast clouds  \n",
       "2     overcast clouds  \n",
       "3          light rain  \n",
       "4       moderate rain  "
      ]
     },
     "execution_count": 46,
     "metadata": {},
     "output_type": "execute_result"
    }
   ],
   "source": [
    "meteo_1_copy_r1=meteo_1_copy.copy()\n",
    "meteo_1_copy_r1.head()"
   ]
  },
  {
   "cell_type": "markdown",
   "metadata": {},
   "source": [
    "We need to create a dictionary assigning the string to a numeric value:"
   ]
  },
  {
   "cell_type": "markdown",
   "metadata": {},
   "source": [
    "sky is clear - 0, overcast clouds - 1, light rain - 2, broken clouds - 3, scattered clouds - 4, few clouds - 5, moderate rain - 6, heavy intensity rain - 7"
   ]
  },
  {
   "cell_type": "code",
   "execution_count": 47,
   "metadata": {},
   "outputs": [
    {
     "name": "stdout",
     "output_type": "stream",
     "text": [
      "{'weather_description': {'sky is clear': 0, 'overcast clouds': 1, 'light rain': 2, 'broken clouds': 3, 'scattered clouds': 4, 'few clouds': 5, 'moderate rain': 6, 'heavy intensity rain': 7}}\n"
     ]
    }
   ],
   "source": [
    "replace_map = {'weather_description': {'sky is clear': 0, 'overcast clouds': 1, 'light rain': 2, 'broken clouds': 3, 'scattered clouds': 4, 'few clouds': 5, 'moderate rain': 6, 'heavy intensity rain': 7}}\n",
    "print(replace_map)"
   ]
  },
  {
   "cell_type": "markdown",
   "metadata": {},
   "source": [
    "We can create a replacement map in other way:"
   ]
  },
  {
   "cell_type": "code",
   "execution_count": 48,
   "metadata": {},
   "outputs": [
    {
     "name": "stdout",
     "output_type": "stream",
     "text": [
      "{'weather_description': {'broken clouds': 0, 'few clouds': 1, 'heavy intensity rain': 2, 'light rain': 3, 'moderate rain': 4, 'overcast clouds': 5, 'scattered clouds': 6, 'sky is clear': 7}}\n"
     ]
    }
   ],
   "source": [
    "labels = meteo_1_copy_r1['weather_description'].astype('category').cat.categories.tolist()\n",
    "replace_map_comp = {'weather_description' : {k:v for k,v in zip(labels, list(range(0,len(labels)+1)))}}\n",
    "print(replace_map_comp)"
   ]
  },
  {
   "cell_type": "code",
   "execution_count": 49,
   "metadata": {},
   "outputs": [
    {
     "data": {
      "text/html": [
       "<div>\n",
       "<style scoped>\n",
       "    .dataframe tbody tr th:only-of-type {\n",
       "        vertical-align: middle;\n",
       "    }\n",
       "\n",
       "    .dataframe tbody tr th {\n",
       "        vertical-align: top;\n",
       "    }\n",
       "\n",
       "    .dataframe thead th {\n",
       "        text-align: right;\n",
       "    }\n",
       "</style>\n",
       "<table border=\"1\" class=\"dataframe\">\n",
       "  <thead>\n",
       "    <tr style=\"text-align: right;\">\n",
       "      <th></th>\n",
       "      <th>dt</th>\n",
       "      <th>dt_iso</th>\n",
       "      <th>temp</th>\n",
       "      <th>feels_like</th>\n",
       "      <th>temp_min</th>\n",
       "      <th>temp_max</th>\n",
       "      <th>pressure</th>\n",
       "      <th>humidity</th>\n",
       "      <th>wind_speed</th>\n",
       "      <th>rain_1h</th>\n",
       "      <th>clouds_all</th>\n",
       "      <th>weather_description</th>\n",
       "    </tr>\n",
       "  </thead>\n",
       "  <tbody>\n",
       "    <tr>\n",
       "      <th>0</th>\n",
       "      <td>1630454400</td>\n",
       "      <td>2021-09-01 00:00:00 +0000 UTC</td>\n",
       "      <td>18.74</td>\n",
       "      <td>18.84</td>\n",
       "      <td>15.72</td>\n",
       "      <td>20.34</td>\n",
       "      <td>1015</td>\n",
       "      <td>83</td>\n",
       "      <td>1.18</td>\n",
       "      <td>0.00</td>\n",
       "      <td>78</td>\n",
       "      <td>broken clouds</td>\n",
       "    </tr>\n",
       "    <tr>\n",
       "      <th>1</th>\n",
       "      <td>1630458000</td>\n",
       "      <td>2021-09-01 01:00:00 +0000 UTC</td>\n",
       "      <td>18.73</td>\n",
       "      <td>18.83</td>\n",
       "      <td>15.72</td>\n",
       "      <td>20.34</td>\n",
       "      <td>1014</td>\n",
       "      <td>83</td>\n",
       "      <td>1.46</td>\n",
       "      <td>0.00</td>\n",
       "      <td>92</td>\n",
       "      <td>overcast clouds</td>\n",
       "    </tr>\n",
       "    <tr>\n",
       "      <th>2</th>\n",
       "      <td>1630461600</td>\n",
       "      <td>2021-09-01 02:00:00 +0000 UTC</td>\n",
       "      <td>17.84</td>\n",
       "      <td>17.98</td>\n",
       "      <td>16.72</td>\n",
       "      <td>20.34</td>\n",
       "      <td>1014</td>\n",
       "      <td>88</td>\n",
       "      <td>1.05</td>\n",
       "      <td>0.00</td>\n",
       "      <td>91</td>\n",
       "      <td>overcast clouds</td>\n",
       "    </tr>\n",
       "    <tr>\n",
       "      <th>3</th>\n",
       "      <td>1630465200</td>\n",
       "      <td>2021-09-01 03:00:00 +0000 UTC</td>\n",
       "      <td>18.27</td>\n",
       "      <td>18.40</td>\n",
       "      <td>16.68</td>\n",
       "      <td>20.34</td>\n",
       "      <td>1014</td>\n",
       "      <td>86</td>\n",
       "      <td>0.46</td>\n",
       "      <td>0.14</td>\n",
       "      <td>94</td>\n",
       "      <td>light rain</td>\n",
       "    </tr>\n",
       "    <tr>\n",
       "      <th>4</th>\n",
       "      <td>1630468800</td>\n",
       "      <td>2021-09-01 04:00:00 +0000 UTC</td>\n",
       "      <td>17.81</td>\n",
       "      <td>17.97</td>\n",
       "      <td>16.12</td>\n",
       "      <td>20.34</td>\n",
       "      <td>1013</td>\n",
       "      <td>89</td>\n",
       "      <td>0.93</td>\n",
       "      <td>1.26</td>\n",
       "      <td>95</td>\n",
       "      <td>moderate rain</td>\n",
       "    </tr>\n",
       "  </tbody>\n",
       "</table>\n",
       "</div>"
      ],
      "text/plain": [
       "           dt                         dt_iso   temp  feels_like  temp_min  \\\n",
       "0  1630454400  2021-09-01 00:00:00 +0000 UTC  18.74       18.84     15.72   \n",
       "1  1630458000  2021-09-01 01:00:00 +0000 UTC  18.73       18.83     15.72   \n",
       "2  1630461600  2021-09-01 02:00:00 +0000 UTC  17.84       17.98     16.72   \n",
       "3  1630465200  2021-09-01 03:00:00 +0000 UTC  18.27       18.40     16.68   \n",
       "4  1630468800  2021-09-01 04:00:00 +0000 UTC  17.81       17.97     16.12   \n",
       "\n",
       "   temp_max  pressure  humidity  wind_speed  rain_1h  clouds_all  \\\n",
       "0     20.34      1015        83        1.18     0.00          78   \n",
       "1     20.34      1014        83        1.46     0.00          92   \n",
       "2     20.34      1014        88        1.05     0.00          91   \n",
       "3     20.34      1014        86        0.46     0.14          94   \n",
       "4     20.34      1013        89        0.93     1.26          95   \n",
       "\n",
       "  weather_description  \n",
       "0       broken clouds  \n",
       "1     overcast clouds  \n",
       "2     overcast clouds  \n",
       "3          light rain  \n",
       "4       moderate rain  "
      ]
     },
     "execution_count": 49,
     "metadata": {},
     "output_type": "execute_result"
    }
   ],
   "source": [
    "meteo_1_copy_r1.head()"
   ]
  },
  {
   "cell_type": "markdown",
   "metadata": {},
   "source": [
    "Now we need to replace with the new values:"
   ]
  },
  {
   "cell_type": "code",
   "execution_count": 50,
   "metadata": {},
   "outputs": [
    {
     "data": {
      "text/html": [
       "<div>\n",
       "<style scoped>\n",
       "    .dataframe tbody tr th:only-of-type {\n",
       "        vertical-align: middle;\n",
       "    }\n",
       "\n",
       "    .dataframe tbody tr th {\n",
       "        vertical-align: top;\n",
       "    }\n",
       "\n",
       "    .dataframe thead th {\n",
       "        text-align: right;\n",
       "    }\n",
       "</style>\n",
       "<table border=\"1\" class=\"dataframe\">\n",
       "  <thead>\n",
       "    <tr style=\"text-align: right;\">\n",
       "      <th></th>\n",
       "      <th>dt</th>\n",
       "      <th>dt_iso</th>\n",
       "      <th>temp</th>\n",
       "      <th>feels_like</th>\n",
       "      <th>temp_min</th>\n",
       "      <th>temp_max</th>\n",
       "      <th>pressure</th>\n",
       "      <th>humidity</th>\n",
       "      <th>wind_speed</th>\n",
       "      <th>rain_1h</th>\n",
       "      <th>clouds_all</th>\n",
       "      <th>weather_description</th>\n",
       "    </tr>\n",
       "  </thead>\n",
       "  <tbody>\n",
       "    <tr>\n",
       "      <th>0</th>\n",
       "      <td>1630454400</td>\n",
       "      <td>2021-09-01 00:00:00 +0000 UTC</td>\n",
       "      <td>18.74</td>\n",
       "      <td>18.84</td>\n",
       "      <td>15.72</td>\n",
       "      <td>20.34</td>\n",
       "      <td>1015</td>\n",
       "      <td>83</td>\n",
       "      <td>1.18</td>\n",
       "      <td>0.00</td>\n",
       "      <td>78</td>\n",
       "      <td>0</td>\n",
       "    </tr>\n",
       "    <tr>\n",
       "      <th>1</th>\n",
       "      <td>1630458000</td>\n",
       "      <td>2021-09-01 01:00:00 +0000 UTC</td>\n",
       "      <td>18.73</td>\n",
       "      <td>18.83</td>\n",
       "      <td>15.72</td>\n",
       "      <td>20.34</td>\n",
       "      <td>1014</td>\n",
       "      <td>83</td>\n",
       "      <td>1.46</td>\n",
       "      <td>0.00</td>\n",
       "      <td>92</td>\n",
       "      <td>5</td>\n",
       "    </tr>\n",
       "    <tr>\n",
       "      <th>2</th>\n",
       "      <td>1630461600</td>\n",
       "      <td>2021-09-01 02:00:00 +0000 UTC</td>\n",
       "      <td>17.84</td>\n",
       "      <td>17.98</td>\n",
       "      <td>16.72</td>\n",
       "      <td>20.34</td>\n",
       "      <td>1014</td>\n",
       "      <td>88</td>\n",
       "      <td>1.05</td>\n",
       "      <td>0.00</td>\n",
       "      <td>91</td>\n",
       "      <td>5</td>\n",
       "    </tr>\n",
       "    <tr>\n",
       "      <th>3</th>\n",
       "      <td>1630465200</td>\n",
       "      <td>2021-09-01 03:00:00 +0000 UTC</td>\n",
       "      <td>18.27</td>\n",
       "      <td>18.40</td>\n",
       "      <td>16.68</td>\n",
       "      <td>20.34</td>\n",
       "      <td>1014</td>\n",
       "      <td>86</td>\n",
       "      <td>0.46</td>\n",
       "      <td>0.14</td>\n",
       "      <td>94</td>\n",
       "      <td>3</td>\n",
       "    </tr>\n",
       "    <tr>\n",
       "      <th>4</th>\n",
       "      <td>1630468800</td>\n",
       "      <td>2021-09-01 04:00:00 +0000 UTC</td>\n",
       "      <td>17.81</td>\n",
       "      <td>17.97</td>\n",
       "      <td>16.12</td>\n",
       "      <td>20.34</td>\n",
       "      <td>1013</td>\n",
       "      <td>89</td>\n",
       "      <td>0.93</td>\n",
       "      <td>1.26</td>\n",
       "      <td>95</td>\n",
       "      <td>4</td>\n",
       "    </tr>\n",
       "  </tbody>\n",
       "</table>\n",
       "</div>"
      ],
      "text/plain": [
       "           dt                         dt_iso   temp  feels_like  temp_min  \\\n",
       "0  1630454400  2021-09-01 00:00:00 +0000 UTC  18.74       18.84     15.72   \n",
       "1  1630458000  2021-09-01 01:00:00 +0000 UTC  18.73       18.83     15.72   \n",
       "2  1630461600  2021-09-01 02:00:00 +0000 UTC  17.84       17.98     16.72   \n",
       "3  1630465200  2021-09-01 03:00:00 +0000 UTC  18.27       18.40     16.68   \n",
       "4  1630468800  2021-09-01 04:00:00 +0000 UTC  17.81       17.97     16.12   \n",
       "\n",
       "   temp_max  pressure  humidity  wind_speed  rain_1h  clouds_all  \\\n",
       "0     20.34      1015        83        1.18     0.00          78   \n",
       "1     20.34      1014        83        1.46     0.00          92   \n",
       "2     20.34      1014        88        1.05     0.00          91   \n",
       "3     20.34      1014        86        0.46     0.14          94   \n",
       "4     20.34      1013        89        0.93     1.26          95   \n",
       "\n",
       "   weather_description  \n",
       "0                    0  \n",
       "1                    5  \n",
       "2                    5  \n",
       "3                    3  \n",
       "4                    4  "
      ]
     },
     "execution_count": 50,
     "metadata": {},
     "output_type": "execute_result"
    }
   ],
   "source": [
    "meteo_1_copy_r1.replace(replace_map_comp,inplace=True)\n",
    "meteo_1_copy_r1.head()"
   ]
  },
  {
   "cell_type": "markdown",
   "metadata": {},
   "source": [
    "Done! Now we can see that the type of values are <em>int64</em>:"
   ]
  },
  {
   "cell_type": "code",
   "execution_count": 51,
   "metadata": {},
   "outputs": [
    {
     "name": "stdout",
     "output_type": "stream",
     "text": [
      "int64\n"
     ]
    }
   ],
   "source": [
    "print(meteo_1_copy_r1['weather_description'].dtypes)"
   ]
  },
  {
   "cell_type": "markdown",
   "metadata": {},
   "source": [
    "#### b) Label encoding"
   ]
  },
  {
   "cell_type": "code",
   "execution_count": 52,
   "metadata": {},
   "outputs": [
    {
     "data": {
      "text/html": [
       "<div>\n",
       "<style scoped>\n",
       "    .dataframe tbody tr th:only-of-type {\n",
       "        vertical-align: middle;\n",
       "    }\n",
       "\n",
       "    .dataframe tbody tr th {\n",
       "        vertical-align: top;\n",
       "    }\n",
       "\n",
       "    .dataframe thead th {\n",
       "        text-align: right;\n",
       "    }\n",
       "</style>\n",
       "<table border=\"1\" class=\"dataframe\">\n",
       "  <thead>\n",
       "    <tr style=\"text-align: right;\">\n",
       "      <th></th>\n",
       "      <th>dt</th>\n",
       "      <th>dt_iso</th>\n",
       "      <th>temp</th>\n",
       "      <th>feels_like</th>\n",
       "      <th>temp_min</th>\n",
       "      <th>temp_max</th>\n",
       "      <th>pressure</th>\n",
       "      <th>humidity</th>\n",
       "      <th>wind_speed</th>\n",
       "      <th>rain_1h</th>\n",
       "      <th>clouds_all</th>\n",
       "      <th>weather_description</th>\n",
       "    </tr>\n",
       "  </thead>\n",
       "  <tbody>\n",
       "    <tr>\n",
       "      <th>0</th>\n",
       "      <td>1630454400</td>\n",
       "      <td>2021-09-01 00:00:00 +0000 UTC</td>\n",
       "      <td>18.74</td>\n",
       "      <td>18.84</td>\n",
       "      <td>15.72</td>\n",
       "      <td>20.34</td>\n",
       "      <td>1015</td>\n",
       "      <td>83</td>\n",
       "      <td>1.18</td>\n",
       "      <td>0.00</td>\n",
       "      <td>78</td>\n",
       "      <td>broken clouds</td>\n",
       "    </tr>\n",
       "    <tr>\n",
       "      <th>1</th>\n",
       "      <td>1630458000</td>\n",
       "      <td>2021-09-01 01:00:00 +0000 UTC</td>\n",
       "      <td>18.73</td>\n",
       "      <td>18.83</td>\n",
       "      <td>15.72</td>\n",
       "      <td>20.34</td>\n",
       "      <td>1014</td>\n",
       "      <td>83</td>\n",
       "      <td>1.46</td>\n",
       "      <td>0.00</td>\n",
       "      <td>92</td>\n",
       "      <td>overcast clouds</td>\n",
       "    </tr>\n",
       "    <tr>\n",
       "      <th>2</th>\n",
       "      <td>1630461600</td>\n",
       "      <td>2021-09-01 02:00:00 +0000 UTC</td>\n",
       "      <td>17.84</td>\n",
       "      <td>17.98</td>\n",
       "      <td>16.72</td>\n",
       "      <td>20.34</td>\n",
       "      <td>1014</td>\n",
       "      <td>88</td>\n",
       "      <td>1.05</td>\n",
       "      <td>0.00</td>\n",
       "      <td>91</td>\n",
       "      <td>overcast clouds</td>\n",
       "    </tr>\n",
       "    <tr>\n",
       "      <th>3</th>\n",
       "      <td>1630465200</td>\n",
       "      <td>2021-09-01 03:00:00 +0000 UTC</td>\n",
       "      <td>18.27</td>\n",
       "      <td>18.40</td>\n",
       "      <td>16.68</td>\n",
       "      <td>20.34</td>\n",
       "      <td>1014</td>\n",
       "      <td>86</td>\n",
       "      <td>0.46</td>\n",
       "      <td>0.14</td>\n",
       "      <td>94</td>\n",
       "      <td>light rain</td>\n",
       "    </tr>\n",
       "    <tr>\n",
       "      <th>4</th>\n",
       "      <td>1630468800</td>\n",
       "      <td>2021-09-01 04:00:00 +0000 UTC</td>\n",
       "      <td>17.81</td>\n",
       "      <td>17.97</td>\n",
       "      <td>16.12</td>\n",
       "      <td>20.34</td>\n",
       "      <td>1013</td>\n",
       "      <td>89</td>\n",
       "      <td>0.93</td>\n",
       "      <td>1.26</td>\n",
       "      <td>95</td>\n",
       "      <td>moderate rain</td>\n",
       "    </tr>\n",
       "  </tbody>\n",
       "</table>\n",
       "</div>"
      ],
      "text/plain": [
       "           dt                         dt_iso   temp  feels_like  temp_min  \\\n",
       "0  1630454400  2021-09-01 00:00:00 +0000 UTC  18.74       18.84     15.72   \n",
       "1  1630458000  2021-09-01 01:00:00 +0000 UTC  18.73       18.83     15.72   \n",
       "2  1630461600  2021-09-01 02:00:00 +0000 UTC  17.84       17.98     16.72   \n",
       "3  1630465200  2021-09-01 03:00:00 +0000 UTC  18.27       18.40     16.68   \n",
       "4  1630468800  2021-09-01 04:00:00 +0000 UTC  17.81       17.97     16.12   \n",
       "\n",
       "   temp_max  pressure  humidity  wind_speed  rain_1h  clouds_all  \\\n",
       "0     20.34      1015        83        1.18     0.00          78   \n",
       "1     20.34      1014        83        1.46     0.00          92   \n",
       "2     20.34      1014        88        1.05     0.00          91   \n",
       "3     20.34      1014        86        0.46     0.14          94   \n",
       "4     20.34      1013        89        0.93     1.26          95   \n",
       "\n",
       "  weather_description  \n",
       "0       broken clouds  \n",
       "1     overcast clouds  \n",
       "2     overcast clouds  \n",
       "3          light rain  \n",
       "4       moderate rain  "
      ]
     },
     "execution_count": 52,
     "metadata": {},
     "output_type": "execute_result"
    }
   ],
   "source": [
    "meteo_1_copy_r2=meteo_1_copy.copy()\n",
    "meteo_1_copy_r2.head()"
   ]
  },
  {
   "cell_type": "code",
   "execution_count": 53,
   "metadata": {},
   "outputs": [
    {
     "name": "stdout",
     "output_type": "stream",
     "text": [
      "dt                       int64\n",
      "dt_iso                  object\n",
      "temp                   float64\n",
      "feels_like             float64\n",
      "temp_min               float64\n",
      "temp_max               float64\n",
      "pressure                 int64\n",
      "humidity                 int64\n",
      "wind_speed             float64\n",
      "rain_1h                float64\n",
      "clouds_all               int64\n",
      "weather_description     object\n",
      "dtype: object\n"
     ]
    }
   ],
   "source": [
    "print(meteo_1_copy_r2.dtypes)"
   ]
  },
  {
   "cell_type": "markdown",
   "metadata": {},
   "source": [
    "Similar to the previous examples, each string will be assigned a number. Instead of replacing the values under the column <em>incidents</em>, we are going to create a new colum to each created label."
   ]
  },
  {
   "cell_type": "code",
   "execution_count": 54,
   "metadata": {},
   "outputs": [
    {
     "data": {
      "text/html": [
       "<div>\n",
       "<style scoped>\n",
       "    .dataframe tbody tr th:only-of-type {\n",
       "        vertical-align: middle;\n",
       "    }\n",
       "\n",
       "    .dataframe tbody tr th {\n",
       "        vertical-align: top;\n",
       "    }\n",
       "\n",
       "    .dataframe thead th {\n",
       "        text-align: right;\n",
       "    }\n",
       "</style>\n",
       "<table border=\"1\" class=\"dataframe\">\n",
       "  <thead>\n",
       "    <tr style=\"text-align: right;\">\n",
       "      <th></th>\n",
       "      <th>dt</th>\n",
       "      <th>dt_iso</th>\n",
       "      <th>temp</th>\n",
       "      <th>feels_like</th>\n",
       "      <th>temp_min</th>\n",
       "      <th>temp_max</th>\n",
       "      <th>pressure</th>\n",
       "      <th>humidity</th>\n",
       "      <th>wind_speed</th>\n",
       "      <th>rain_1h</th>\n",
       "      <th>clouds_all</th>\n",
       "      <th>weather_description</th>\n",
       "      <th>None</th>\n",
       "    </tr>\n",
       "  </thead>\n",
       "  <tbody>\n",
       "    <tr>\n",
       "      <th>0</th>\n",
       "      <td>1630454400</td>\n",
       "      <td>2021-09-01 00:00:00 +0000 UTC</td>\n",
       "      <td>18.74</td>\n",
       "      <td>18.84</td>\n",
       "      <td>15.72</td>\n",
       "      <td>20.34</td>\n",
       "      <td>1015</td>\n",
       "      <td>83</td>\n",
       "      <td>1.18</td>\n",
       "      <td>0.00</td>\n",
       "      <td>78</td>\n",
       "      <td>broken clouds</td>\n",
       "      <td>0</td>\n",
       "    </tr>\n",
       "    <tr>\n",
       "      <th>1</th>\n",
       "      <td>1630458000</td>\n",
       "      <td>2021-09-01 01:00:00 +0000 UTC</td>\n",
       "      <td>18.73</td>\n",
       "      <td>18.83</td>\n",
       "      <td>15.72</td>\n",
       "      <td>20.34</td>\n",
       "      <td>1014</td>\n",
       "      <td>83</td>\n",
       "      <td>1.46</td>\n",
       "      <td>0.00</td>\n",
       "      <td>92</td>\n",
       "      <td>overcast clouds</td>\n",
       "      <td>0</td>\n",
       "    </tr>\n",
       "    <tr>\n",
       "      <th>2</th>\n",
       "      <td>1630461600</td>\n",
       "      <td>2021-09-01 02:00:00 +0000 UTC</td>\n",
       "      <td>17.84</td>\n",
       "      <td>17.98</td>\n",
       "      <td>16.72</td>\n",
       "      <td>20.34</td>\n",
       "      <td>1014</td>\n",
       "      <td>88</td>\n",
       "      <td>1.05</td>\n",
       "      <td>0.00</td>\n",
       "      <td>91</td>\n",
       "      <td>overcast clouds</td>\n",
       "      <td>0</td>\n",
       "    </tr>\n",
       "    <tr>\n",
       "      <th>3</th>\n",
       "      <td>1630465200</td>\n",
       "      <td>2021-09-01 03:00:00 +0000 UTC</td>\n",
       "      <td>18.27</td>\n",
       "      <td>18.40</td>\n",
       "      <td>16.68</td>\n",
       "      <td>20.34</td>\n",
       "      <td>1014</td>\n",
       "      <td>86</td>\n",
       "      <td>0.46</td>\n",
       "      <td>0.14</td>\n",
       "      <td>94</td>\n",
       "      <td>light rain</td>\n",
       "      <td>0</td>\n",
       "    </tr>\n",
       "    <tr>\n",
       "      <th>4</th>\n",
       "      <td>1630468800</td>\n",
       "      <td>2021-09-01 04:00:00 +0000 UTC</td>\n",
       "      <td>17.81</td>\n",
       "      <td>17.97</td>\n",
       "      <td>16.12</td>\n",
       "      <td>20.34</td>\n",
       "      <td>1013</td>\n",
       "      <td>89</td>\n",
       "      <td>0.93</td>\n",
       "      <td>1.26</td>\n",
       "      <td>95</td>\n",
       "      <td>moderate rain</td>\n",
       "      <td>0</td>\n",
       "    </tr>\n",
       "  </tbody>\n",
       "</table>\n",
       "</div>"
      ],
      "text/plain": [
       "           dt                         dt_iso   temp  feels_like  temp_min  \\\n",
       "0  1630454400  2021-09-01 00:00:00 +0000 UTC  18.74       18.84     15.72   \n",
       "1  1630458000  2021-09-01 01:00:00 +0000 UTC  18.73       18.83     15.72   \n",
       "2  1630461600  2021-09-01 02:00:00 +0000 UTC  17.84       17.98     16.72   \n",
       "3  1630465200  2021-09-01 03:00:00 +0000 UTC  18.27       18.40     16.68   \n",
       "4  1630468800  2021-09-01 04:00:00 +0000 UTC  17.81       17.97     16.12   \n",
       "\n",
       "   temp_max  pressure  humidity  wind_speed  rain_1h  clouds_all  \\\n",
       "0     20.34      1015        83        1.18     0.00          78   \n",
       "1     20.34      1014        83        1.46     0.00          92   \n",
       "2     20.34      1014        88        1.05     0.00          91   \n",
       "3     20.34      1014        86        0.46     0.14          94   \n",
       "4     20.34      1013        89        0.93     1.26          95   \n",
       "\n",
       "  weather_description  None  \n",
       "0       broken clouds     0  \n",
       "1     overcast clouds     0  \n",
       "2     overcast clouds     0  \n",
       "3          light rain     0  \n",
       "4       moderate rain     0  "
      ]
     },
     "execution_count": 54,
     "metadata": {},
     "output_type": "execute_result"
    }
   ],
   "source": [
    "meteo_1_copy_r2['None'] = np.where(meteo_1_copy_r2['weather_description'].str.contains('None'), 1, 0)\n",
    "meteo_1_copy_r2.head()"
   ]
  },
  {
   "cell_type": "markdown",
   "metadata": {},
   "source": [
    "To complete the process, it is needed to replicate for each label and then drop the column <em>weather_description</em>."
   ]
  },
  {
   "cell_type": "markdown",
   "metadata": {},
   "source": [
    "Let's see another way to label encoding. This uses the <em>LabelEncoder</em> from <em>sklearn</em>."
   ]
  },
  {
   "cell_type": "code",
   "execution_count": 55,
   "metadata": {},
   "outputs": [
    {
     "data": {
      "text/html": [
       "<div>\n",
       "<style scoped>\n",
       "    .dataframe tbody tr th:only-of-type {\n",
       "        vertical-align: middle;\n",
       "    }\n",
       "\n",
       "    .dataframe tbody tr th {\n",
       "        vertical-align: top;\n",
       "    }\n",
       "\n",
       "    .dataframe thead th {\n",
       "        text-align: right;\n",
       "    }\n",
       "</style>\n",
       "<table border=\"1\" class=\"dataframe\">\n",
       "  <thead>\n",
       "    <tr style=\"text-align: right;\">\n",
       "      <th></th>\n",
       "      <th>dt</th>\n",
       "      <th>dt_iso</th>\n",
       "      <th>temp</th>\n",
       "      <th>feels_like</th>\n",
       "      <th>temp_min</th>\n",
       "      <th>temp_max</th>\n",
       "      <th>pressure</th>\n",
       "      <th>humidity</th>\n",
       "      <th>wind_speed</th>\n",
       "      <th>rain_1h</th>\n",
       "      <th>clouds_all</th>\n",
       "      <th>weather_description</th>\n",
       "      <th>weather_description_code</th>\n",
       "    </tr>\n",
       "  </thead>\n",
       "  <tbody>\n",
       "    <tr>\n",
       "      <th>0</th>\n",
       "      <td>1630454400</td>\n",
       "      <td>2021-09-01 00:00:00 +0000 UTC</td>\n",
       "      <td>18.74</td>\n",
       "      <td>18.84</td>\n",
       "      <td>15.72</td>\n",
       "      <td>20.34</td>\n",
       "      <td>1015</td>\n",
       "      <td>83</td>\n",
       "      <td>1.18</td>\n",
       "      <td>0.00</td>\n",
       "      <td>78</td>\n",
       "      <td>broken clouds</td>\n",
       "      <td>0</td>\n",
       "    </tr>\n",
       "    <tr>\n",
       "      <th>1</th>\n",
       "      <td>1630458000</td>\n",
       "      <td>2021-09-01 01:00:00 +0000 UTC</td>\n",
       "      <td>18.73</td>\n",
       "      <td>18.83</td>\n",
       "      <td>15.72</td>\n",
       "      <td>20.34</td>\n",
       "      <td>1014</td>\n",
       "      <td>83</td>\n",
       "      <td>1.46</td>\n",
       "      <td>0.00</td>\n",
       "      <td>92</td>\n",
       "      <td>overcast clouds</td>\n",
       "      <td>5</td>\n",
       "    </tr>\n",
       "    <tr>\n",
       "      <th>2</th>\n",
       "      <td>1630461600</td>\n",
       "      <td>2021-09-01 02:00:00 +0000 UTC</td>\n",
       "      <td>17.84</td>\n",
       "      <td>17.98</td>\n",
       "      <td>16.72</td>\n",
       "      <td>20.34</td>\n",
       "      <td>1014</td>\n",
       "      <td>88</td>\n",
       "      <td>1.05</td>\n",
       "      <td>0.00</td>\n",
       "      <td>91</td>\n",
       "      <td>overcast clouds</td>\n",
       "      <td>5</td>\n",
       "    </tr>\n",
       "    <tr>\n",
       "      <th>3</th>\n",
       "      <td>1630465200</td>\n",
       "      <td>2021-09-01 03:00:00 +0000 UTC</td>\n",
       "      <td>18.27</td>\n",
       "      <td>18.40</td>\n",
       "      <td>16.68</td>\n",
       "      <td>20.34</td>\n",
       "      <td>1014</td>\n",
       "      <td>86</td>\n",
       "      <td>0.46</td>\n",
       "      <td>0.14</td>\n",
       "      <td>94</td>\n",
       "      <td>light rain</td>\n",
       "      <td>3</td>\n",
       "    </tr>\n",
       "    <tr>\n",
       "      <th>4</th>\n",
       "      <td>1630468800</td>\n",
       "      <td>2021-09-01 04:00:00 +0000 UTC</td>\n",
       "      <td>17.81</td>\n",
       "      <td>17.97</td>\n",
       "      <td>16.12</td>\n",
       "      <td>20.34</td>\n",
       "      <td>1013</td>\n",
       "      <td>89</td>\n",
       "      <td>0.93</td>\n",
       "      <td>1.26</td>\n",
       "      <td>95</td>\n",
       "      <td>moderate rain</td>\n",
       "      <td>4</td>\n",
       "    </tr>\n",
       "  </tbody>\n",
       "</table>\n",
       "</div>"
      ],
      "text/plain": [
       "           dt                         dt_iso   temp  feels_like  temp_min  \\\n",
       "0  1630454400  2021-09-01 00:00:00 +0000 UTC  18.74       18.84     15.72   \n",
       "1  1630458000  2021-09-01 01:00:00 +0000 UTC  18.73       18.83     15.72   \n",
       "2  1630461600  2021-09-01 02:00:00 +0000 UTC  17.84       17.98     16.72   \n",
       "3  1630465200  2021-09-01 03:00:00 +0000 UTC  18.27       18.40     16.68   \n",
       "4  1630468800  2021-09-01 04:00:00 +0000 UTC  17.81       17.97     16.12   \n",
       "\n",
       "   temp_max  pressure  humidity  wind_speed  rain_1h  clouds_all  \\\n",
       "0     20.34      1015        83        1.18     0.00          78   \n",
       "1     20.34      1014        83        1.46     0.00          92   \n",
       "2     20.34      1014        88        1.05     0.00          91   \n",
       "3     20.34      1014        86        0.46     0.14          94   \n",
       "4     20.34      1013        89        0.93     1.26          95   \n",
       "\n",
       "  weather_description  weather_description_code  \n",
       "0       broken clouds                         0  \n",
       "1     overcast clouds                         5  \n",
       "2     overcast clouds                         5  \n",
       "3          light rain                         3  \n",
       "4       moderate rain                         4  "
      ]
     },
     "execution_count": 55,
     "metadata": {},
     "output_type": "execute_result"
    }
   ],
   "source": [
    "meteo_1_copy_r2_sk1 = meteo_1_copy.copy()\n",
    "meteo_1_copy_r2_r22=meteo_1_copy.copy()\n",
    "\n",
    "from sklearn.preprocessing import LabelEncoder\n",
    "\n",
    "lb_make = LabelEncoder()\n",
    "meteo_1_copy_r2_sk1['weather_description_code'] = lb_make.fit_transform(meteo_1_copy_r2_r22['weather_description'])\n",
    "\n",
    "meteo_1_copy_r2_sk1.head()"
   ]
  },
  {
   "cell_type": "markdown",
   "metadata": {},
   "source": [
    "It creates a new column, <em>weather_description_code</em>, with the labels assigned to feature <em>weather_description</em>. The numeric values were assigned randomly, being the crescent order not apllicable to the meaning of the qualifying words."
   ]
  },
  {
   "cell_type": "markdown",
   "metadata": {},
   "source": [
    "#### c) One-Hot encoding"
   ]
  },
  {
   "cell_type": "markdown",
   "metadata": {},
   "source": [
    "This alternative uses <em>LabelBinarizer</em> of <em>sklearn</em> and creates a matrix with bits regarding each label."
   ]
  },
  {
   "cell_type": "code",
   "execution_count": 56,
   "metadata": {},
   "outputs": [
    {
     "data": {
      "text/html": [
       "<div>\n",
       "<style scoped>\n",
       "    .dataframe tbody tr th:only-of-type {\n",
       "        vertical-align: middle;\n",
       "    }\n",
       "\n",
       "    .dataframe tbody tr th {\n",
       "        vertical-align: top;\n",
       "    }\n",
       "\n",
       "    .dataframe thead th {\n",
       "        text-align: right;\n",
       "    }\n",
       "</style>\n",
       "<table border=\"1\" class=\"dataframe\">\n",
       "  <thead>\n",
       "    <tr style=\"text-align: right;\">\n",
       "      <th></th>\n",
       "      <th>broken clouds</th>\n",
       "      <th>few clouds</th>\n",
       "      <th>heavy intensity rain</th>\n",
       "      <th>light rain</th>\n",
       "      <th>moderate rain</th>\n",
       "      <th>overcast clouds</th>\n",
       "      <th>scattered clouds</th>\n",
       "      <th>sky is clear</th>\n",
       "    </tr>\n",
       "  </thead>\n",
       "  <tbody>\n",
       "    <tr>\n",
       "      <th>0</th>\n",
       "      <td>1</td>\n",
       "      <td>0</td>\n",
       "      <td>0</td>\n",
       "      <td>0</td>\n",
       "      <td>0</td>\n",
       "      <td>0</td>\n",
       "      <td>0</td>\n",
       "      <td>0</td>\n",
       "    </tr>\n",
       "    <tr>\n",
       "      <th>1</th>\n",
       "      <td>0</td>\n",
       "      <td>0</td>\n",
       "      <td>0</td>\n",
       "      <td>0</td>\n",
       "      <td>0</td>\n",
       "      <td>1</td>\n",
       "      <td>0</td>\n",
       "      <td>0</td>\n",
       "    </tr>\n",
       "    <tr>\n",
       "      <th>2</th>\n",
       "      <td>0</td>\n",
       "      <td>0</td>\n",
       "      <td>0</td>\n",
       "      <td>0</td>\n",
       "      <td>0</td>\n",
       "      <td>1</td>\n",
       "      <td>0</td>\n",
       "      <td>0</td>\n",
       "    </tr>\n",
       "    <tr>\n",
       "      <th>3</th>\n",
       "      <td>0</td>\n",
       "      <td>0</td>\n",
       "      <td>0</td>\n",
       "      <td>1</td>\n",
       "      <td>0</td>\n",
       "      <td>0</td>\n",
       "      <td>0</td>\n",
       "      <td>0</td>\n",
       "    </tr>\n",
       "    <tr>\n",
       "      <th>4</th>\n",
       "      <td>0</td>\n",
       "      <td>0</td>\n",
       "      <td>0</td>\n",
       "      <td>0</td>\n",
       "      <td>1</td>\n",
       "      <td>0</td>\n",
       "      <td>0</td>\n",
       "      <td>0</td>\n",
       "    </tr>\n",
       "  </tbody>\n",
       "</table>\n",
       "</div>"
      ],
      "text/plain": [
       "   broken clouds  few clouds  heavy intensity rain  light rain  moderate rain  \\\n",
       "0              1           0                     0           0              0   \n",
       "1              0           0                     0           0              0   \n",
       "2              0           0                     0           0              0   \n",
       "3              0           0                     0           1              0   \n",
       "4              0           0                     0           0              1   \n",
       "\n",
       "   overcast clouds  scattered clouds  sky is clear  \n",
       "0                0                 0             0  \n",
       "1                1                 0             0  \n",
       "2                1                 0             0  \n",
       "3                0                 0             0  \n",
       "4                0                 0             0  "
      ]
     },
     "execution_count": 56,
     "metadata": {},
     "output_type": "execute_result"
    }
   ],
   "source": [
    "meteo_1_copy_r3 = meteo_1_copy.copy()\n",
    "\n",
    "from sklearn.preprocessing import LabelBinarizer\n",
    "\n",
    "lb = LabelBinarizer()\n",
    "lb_results = lb.fit_transform(meteo_1_copy_r3['weather_description'])\n",
    "lb_results_df = pd.DataFrame(lb_results, columns=lb.classes_)\n",
    "\n",
    "lb_results_df.head()"
   ]
  },
  {
   "cell_type": "code",
   "execution_count": 57,
   "metadata": {},
   "outputs": [
    {
     "data": {
      "text/html": [
       "<div>\n",
       "<style scoped>\n",
       "    .dataframe tbody tr th:only-of-type {\n",
       "        vertical-align: middle;\n",
       "    }\n",
       "\n",
       "    .dataframe tbody tr th {\n",
       "        vertical-align: top;\n",
       "    }\n",
       "\n",
       "    .dataframe thead th {\n",
       "        text-align: right;\n",
       "    }\n",
       "</style>\n",
       "<table border=\"1\" class=\"dataframe\">\n",
       "  <thead>\n",
       "    <tr style=\"text-align: right;\">\n",
       "      <th></th>\n",
       "      <th>dt</th>\n",
       "      <th>dt_iso</th>\n",
       "      <th>temp</th>\n",
       "      <th>feels_like</th>\n",
       "      <th>temp_min</th>\n",
       "      <th>temp_max</th>\n",
       "      <th>pressure</th>\n",
       "      <th>humidity</th>\n",
       "      <th>wind_speed</th>\n",
       "      <th>rain_1h</th>\n",
       "      <th>clouds_all</th>\n",
       "      <th>weather_description</th>\n",
       "      <th>broken clouds</th>\n",
       "      <th>few clouds</th>\n",
       "      <th>heavy intensity rain</th>\n",
       "      <th>light rain</th>\n",
       "      <th>moderate rain</th>\n",
       "      <th>overcast clouds</th>\n",
       "      <th>scattered clouds</th>\n",
       "      <th>sky is clear</th>\n",
       "    </tr>\n",
       "  </thead>\n",
       "  <tbody>\n",
       "    <tr>\n",
       "      <th>0</th>\n",
       "      <td>1630454400</td>\n",
       "      <td>2021-09-01 00:00:00 +0000 UTC</td>\n",
       "      <td>18.74</td>\n",
       "      <td>18.84</td>\n",
       "      <td>15.72</td>\n",
       "      <td>20.34</td>\n",
       "      <td>1015</td>\n",
       "      <td>83</td>\n",
       "      <td>1.18</td>\n",
       "      <td>0.00</td>\n",
       "      <td>78</td>\n",
       "      <td>broken clouds</td>\n",
       "      <td>1</td>\n",
       "      <td>0</td>\n",
       "      <td>0</td>\n",
       "      <td>0</td>\n",
       "      <td>0</td>\n",
       "      <td>0</td>\n",
       "      <td>0</td>\n",
       "      <td>0</td>\n",
       "    </tr>\n",
       "    <tr>\n",
       "      <th>1</th>\n",
       "      <td>1630458000</td>\n",
       "      <td>2021-09-01 01:00:00 +0000 UTC</td>\n",
       "      <td>18.73</td>\n",
       "      <td>18.83</td>\n",
       "      <td>15.72</td>\n",
       "      <td>20.34</td>\n",
       "      <td>1014</td>\n",
       "      <td>83</td>\n",
       "      <td>1.46</td>\n",
       "      <td>0.00</td>\n",
       "      <td>92</td>\n",
       "      <td>overcast clouds</td>\n",
       "      <td>0</td>\n",
       "      <td>0</td>\n",
       "      <td>0</td>\n",
       "      <td>0</td>\n",
       "      <td>0</td>\n",
       "      <td>1</td>\n",
       "      <td>0</td>\n",
       "      <td>0</td>\n",
       "    </tr>\n",
       "    <tr>\n",
       "      <th>2</th>\n",
       "      <td>1630461600</td>\n",
       "      <td>2021-09-01 02:00:00 +0000 UTC</td>\n",
       "      <td>17.84</td>\n",
       "      <td>17.98</td>\n",
       "      <td>16.72</td>\n",
       "      <td>20.34</td>\n",
       "      <td>1014</td>\n",
       "      <td>88</td>\n",
       "      <td>1.05</td>\n",
       "      <td>0.00</td>\n",
       "      <td>91</td>\n",
       "      <td>overcast clouds</td>\n",
       "      <td>0</td>\n",
       "      <td>0</td>\n",
       "      <td>0</td>\n",
       "      <td>0</td>\n",
       "      <td>0</td>\n",
       "      <td>1</td>\n",
       "      <td>0</td>\n",
       "      <td>0</td>\n",
       "    </tr>\n",
       "    <tr>\n",
       "      <th>3</th>\n",
       "      <td>1630465200</td>\n",
       "      <td>2021-09-01 03:00:00 +0000 UTC</td>\n",
       "      <td>18.27</td>\n",
       "      <td>18.40</td>\n",
       "      <td>16.68</td>\n",
       "      <td>20.34</td>\n",
       "      <td>1014</td>\n",
       "      <td>86</td>\n",
       "      <td>0.46</td>\n",
       "      <td>0.14</td>\n",
       "      <td>94</td>\n",
       "      <td>light rain</td>\n",
       "      <td>0</td>\n",
       "      <td>0</td>\n",
       "      <td>0</td>\n",
       "      <td>1</td>\n",
       "      <td>0</td>\n",
       "      <td>0</td>\n",
       "      <td>0</td>\n",
       "      <td>0</td>\n",
       "    </tr>\n",
       "    <tr>\n",
       "      <th>4</th>\n",
       "      <td>1630468800</td>\n",
       "      <td>2021-09-01 04:00:00 +0000 UTC</td>\n",
       "      <td>17.81</td>\n",
       "      <td>17.97</td>\n",
       "      <td>16.12</td>\n",
       "      <td>20.34</td>\n",
       "      <td>1013</td>\n",
       "      <td>89</td>\n",
       "      <td>0.93</td>\n",
       "      <td>1.26</td>\n",
       "      <td>95</td>\n",
       "      <td>moderate rain</td>\n",
       "      <td>0</td>\n",
       "      <td>0</td>\n",
       "      <td>0</td>\n",
       "      <td>0</td>\n",
       "      <td>1</td>\n",
       "      <td>0</td>\n",
       "      <td>0</td>\n",
       "      <td>0</td>\n",
       "    </tr>\n",
       "  </tbody>\n",
       "</table>\n",
       "</div>"
      ],
      "text/plain": [
       "           dt                         dt_iso   temp  feels_like  temp_min  \\\n",
       "0  1630454400  2021-09-01 00:00:00 +0000 UTC  18.74       18.84     15.72   \n",
       "1  1630458000  2021-09-01 01:00:00 +0000 UTC  18.73       18.83     15.72   \n",
       "2  1630461600  2021-09-01 02:00:00 +0000 UTC  17.84       17.98     16.72   \n",
       "3  1630465200  2021-09-01 03:00:00 +0000 UTC  18.27       18.40     16.68   \n",
       "4  1630468800  2021-09-01 04:00:00 +0000 UTC  17.81       17.97     16.12   \n",
       "\n",
       "   temp_max  pressure  humidity  wind_speed  rain_1h  clouds_all  \\\n",
       "0     20.34      1015        83        1.18     0.00          78   \n",
       "1     20.34      1014        83        1.46     0.00          92   \n",
       "2     20.34      1014        88        1.05     0.00          91   \n",
       "3     20.34      1014        86        0.46     0.14          94   \n",
       "4     20.34      1013        89        0.93     1.26          95   \n",
       "\n",
       "  weather_description  broken clouds  few clouds  heavy intensity rain  \\\n",
       "0       broken clouds              1           0                     0   \n",
       "1     overcast clouds              0           0                     0   \n",
       "2     overcast clouds              0           0                     0   \n",
       "3          light rain              0           0                     0   \n",
       "4       moderate rain              0           0                     0   \n",
       "\n",
       "   light rain  moderate rain  overcast clouds  scattered clouds  sky is clear  \n",
       "0           0              0                0                 0             0  \n",
       "1           0              0                1                 0             0  \n",
       "2           0              0                1                 0             0  \n",
       "3           1              0                0                 0             0  \n",
       "4           0              1                0                 0             0  "
      ]
     },
     "execution_count": 57,
     "metadata": {},
     "output_type": "execute_result"
    }
   ],
   "source": [
    "result_df = pd.concat([meteo_1_copy_r3, lb_results_df], axis=1)\n",
    "result_df.head()"
   ]
  },
  {
   "cell_type": "markdown",
   "metadata": {},
   "source": [
    "#### d) Binary Encoding\n",
    "Similar to the previous technique, it creates a matrix of the status of the values, but this time with binary values. See the comparison between techniques below:"
   ]
  },
  {
   "cell_type": "markdown",
   "metadata": {},
   "source": [
    "|   Level   | \"Decimal encoding\" | Binary encoding | One-Hot encoding |\n",
    "| :-------: | :----------------: | :-------------: | :--------------: |\n",
    "| None      |         0          |       000       |      000001      |\n",
    "| Low       |         1          |       001       |      000010      |\n",
    "| Medium    |         2          |       010       |      000100      |\n",
    "| High      |         3          |       011       |      001000      |\n",
    "| Very_High |         4          |       100       |      010000      |"
   ]
  },
  {
   "cell_type": "markdown",
   "metadata": {},
   "source": [
    "For this technique it is needed to have the <em>category_encoders</em> installed:\n",
    "<code>!pip install category_encoders</code>"
   ]
  },
  {
   "cell_type": "code",
   "execution_count": 58,
   "metadata": {},
   "outputs": [
    {
     "data": {
      "text/html": [
       "<div>\n",
       "<style scoped>\n",
       "    .dataframe tbody tr th:only-of-type {\n",
       "        vertical-align: middle;\n",
       "    }\n",
       "\n",
       "    .dataframe tbody tr th {\n",
       "        vertical-align: top;\n",
       "    }\n",
       "\n",
       "    .dataframe thead th {\n",
       "        text-align: right;\n",
       "    }\n",
       "</style>\n",
       "<table border=\"1\" class=\"dataframe\">\n",
       "  <thead>\n",
       "    <tr style=\"text-align: right;\">\n",
       "      <th></th>\n",
       "      <th>dt</th>\n",
       "      <th>dt_iso</th>\n",
       "      <th>temp</th>\n",
       "      <th>feels_like</th>\n",
       "      <th>temp_min</th>\n",
       "      <th>temp_max</th>\n",
       "      <th>pressure</th>\n",
       "      <th>humidity</th>\n",
       "      <th>wind_speed</th>\n",
       "      <th>rain_1h</th>\n",
       "      <th>clouds_all</th>\n",
       "      <th>weather_description_0</th>\n",
       "      <th>weather_description_1</th>\n",
       "      <th>weather_description_2</th>\n",
       "      <th>weather_description_3</th>\n",
       "    </tr>\n",
       "  </thead>\n",
       "  <tbody>\n",
       "    <tr>\n",
       "      <th>0</th>\n",
       "      <td>1630454400</td>\n",
       "      <td>2021-09-01 00:00:00 +0000 UTC</td>\n",
       "      <td>18.74</td>\n",
       "      <td>18.84</td>\n",
       "      <td>15.72</td>\n",
       "      <td>20.34</td>\n",
       "      <td>1015</td>\n",
       "      <td>83</td>\n",
       "      <td>1.18</td>\n",
       "      <td>0.00</td>\n",
       "      <td>78</td>\n",
       "      <td>0</td>\n",
       "      <td>0</td>\n",
       "      <td>0</td>\n",
       "      <td>1</td>\n",
       "    </tr>\n",
       "    <tr>\n",
       "      <th>1</th>\n",
       "      <td>1630458000</td>\n",
       "      <td>2021-09-01 01:00:00 +0000 UTC</td>\n",
       "      <td>18.73</td>\n",
       "      <td>18.83</td>\n",
       "      <td>15.72</td>\n",
       "      <td>20.34</td>\n",
       "      <td>1014</td>\n",
       "      <td>83</td>\n",
       "      <td>1.46</td>\n",
       "      <td>0.00</td>\n",
       "      <td>92</td>\n",
       "      <td>0</td>\n",
       "      <td>0</td>\n",
       "      <td>1</td>\n",
       "      <td>0</td>\n",
       "    </tr>\n",
       "    <tr>\n",
       "      <th>2</th>\n",
       "      <td>1630461600</td>\n",
       "      <td>2021-09-01 02:00:00 +0000 UTC</td>\n",
       "      <td>17.84</td>\n",
       "      <td>17.98</td>\n",
       "      <td>16.72</td>\n",
       "      <td>20.34</td>\n",
       "      <td>1014</td>\n",
       "      <td>88</td>\n",
       "      <td>1.05</td>\n",
       "      <td>0.00</td>\n",
       "      <td>91</td>\n",
       "      <td>0</td>\n",
       "      <td>0</td>\n",
       "      <td>1</td>\n",
       "      <td>0</td>\n",
       "    </tr>\n",
       "    <tr>\n",
       "      <th>3</th>\n",
       "      <td>1630465200</td>\n",
       "      <td>2021-09-01 03:00:00 +0000 UTC</td>\n",
       "      <td>18.27</td>\n",
       "      <td>18.40</td>\n",
       "      <td>16.68</td>\n",
       "      <td>20.34</td>\n",
       "      <td>1014</td>\n",
       "      <td>86</td>\n",
       "      <td>0.46</td>\n",
       "      <td>0.14</td>\n",
       "      <td>94</td>\n",
       "      <td>0</td>\n",
       "      <td>0</td>\n",
       "      <td>1</td>\n",
       "      <td>1</td>\n",
       "    </tr>\n",
       "    <tr>\n",
       "      <th>4</th>\n",
       "      <td>1630468800</td>\n",
       "      <td>2021-09-01 04:00:00 +0000 UTC</td>\n",
       "      <td>17.81</td>\n",
       "      <td>17.97</td>\n",
       "      <td>16.12</td>\n",
       "      <td>20.34</td>\n",
       "      <td>1013</td>\n",
       "      <td>89</td>\n",
       "      <td>0.93</td>\n",
       "      <td>1.26</td>\n",
       "      <td>95</td>\n",
       "      <td>0</td>\n",
       "      <td>1</td>\n",
       "      <td>0</td>\n",
       "      <td>0</td>\n",
       "    </tr>\n",
       "  </tbody>\n",
       "</table>\n",
       "</div>"
      ],
      "text/plain": [
       "           dt                         dt_iso   temp  feels_like  temp_min  \\\n",
       "0  1630454400  2021-09-01 00:00:00 +0000 UTC  18.74       18.84     15.72   \n",
       "1  1630458000  2021-09-01 01:00:00 +0000 UTC  18.73       18.83     15.72   \n",
       "2  1630461600  2021-09-01 02:00:00 +0000 UTC  17.84       17.98     16.72   \n",
       "3  1630465200  2021-09-01 03:00:00 +0000 UTC  18.27       18.40     16.68   \n",
       "4  1630468800  2021-09-01 04:00:00 +0000 UTC  17.81       17.97     16.12   \n",
       "\n",
       "   temp_max  pressure  humidity  wind_speed  rain_1h  clouds_all  \\\n",
       "0     20.34      1015        83        1.18     0.00          78   \n",
       "1     20.34      1014        83        1.46     0.00          92   \n",
       "2     20.34      1014        88        1.05     0.00          91   \n",
       "3     20.34      1014        86        0.46     0.14          94   \n",
       "4     20.34      1013        89        0.93     1.26          95   \n",
       "\n",
       "   weather_description_0  weather_description_1  weather_description_2  \\\n",
       "0                      0                      0                      0   \n",
       "1                      0                      0                      1   \n",
       "2                      0                      0                      1   \n",
       "3                      0                      0                      1   \n",
       "4                      0                      1                      0   \n",
       "\n",
       "   weather_description_3  \n",
       "0                      1  \n",
       "1                      0  \n",
       "2                      0  \n",
       "3                      1  \n",
       "4                      0  "
      ]
     },
     "execution_count": 58,
     "metadata": {},
     "output_type": "execute_result"
    }
   ],
   "source": [
    "meteo_1_copy_r4 = meteo_1_copy.copy()\n",
    "\n",
    "import category_encoders as ce\n",
    "\n",
    "encoder = ce.BinaryEncoder(cols=['weather_description'])\n",
    "df_binary = encoder.fit_transform(meteo_1_copy_r4)\n",
    "\n",
    "df_binary.head()"
   ]
  },
  {
   "cell_type": "markdown",
   "metadata": {},
   "source": [
    "#### e) Backward difference encoding\n",
    "The values are normalized in the range of -1 to 1."
   ]
  },
  {
   "cell_type": "code",
   "execution_count": 59,
   "metadata": {},
   "outputs": [
    {
     "name": "stderr",
     "output_type": "stream",
     "text": [
      "C:\\Users\\nseip\\miniconda3\\envs\\aula1\\lib\\site-packages\\category_encoders\\base_contrast_encoder.py:126: FutureWarning: Intercept column might not be added anymore in future releases (c.f. issue #370)\n",
      "  warnings.warn(\"Intercept column might not be added anymore in future releases (c.f. issue #370)\",\n",
      "C:\\Users\\nseip\\miniconda3\\envs\\aula1\\lib\\site-packages\\category_encoders\\base_contrast_encoder.py:126: FutureWarning: Intercept column might not be added anymore in future releases (c.f. issue #370)\n",
      "  warnings.warn(\"Intercept column might not be added anymore in future releases (c.f. issue #370)\",\n"
     ]
    },
    {
     "data": {
      "text/html": [
       "<div>\n",
       "<style scoped>\n",
       "    .dataframe tbody tr th:only-of-type {\n",
       "        vertical-align: middle;\n",
       "    }\n",
       "\n",
       "    .dataframe tbody tr th {\n",
       "        vertical-align: top;\n",
       "    }\n",
       "\n",
       "    .dataframe thead th {\n",
       "        text-align: right;\n",
       "    }\n",
       "</style>\n",
       "<table border=\"1\" class=\"dataframe\">\n",
       "  <thead>\n",
       "    <tr style=\"text-align: right;\">\n",
       "      <th></th>\n",
       "      <th>intercept</th>\n",
       "      <th>dt</th>\n",
       "      <th>dt_iso</th>\n",
       "      <th>temp</th>\n",
       "      <th>feels_like</th>\n",
       "      <th>temp_min</th>\n",
       "      <th>temp_max</th>\n",
       "      <th>pressure</th>\n",
       "      <th>humidity</th>\n",
       "      <th>wind_speed</th>\n",
       "      <th>rain_1h</th>\n",
       "      <th>clouds_all</th>\n",
       "      <th>weather_description_0</th>\n",
       "      <th>weather_description_1</th>\n",
       "      <th>weather_description_2</th>\n",
       "      <th>weather_description_3</th>\n",
       "      <th>weather_description_4</th>\n",
       "      <th>weather_description_5</th>\n",
       "      <th>weather_description_6</th>\n",
       "    </tr>\n",
       "  </thead>\n",
       "  <tbody>\n",
       "    <tr>\n",
       "      <th>0</th>\n",
       "      <td>1</td>\n",
       "      <td>1630454400</td>\n",
       "      <td>2021-09-01 00:00:00 +0000 UTC</td>\n",
       "      <td>18.74</td>\n",
       "      <td>18.84</td>\n",
       "      <td>15.72</td>\n",
       "      <td>20.34</td>\n",
       "      <td>1015</td>\n",
       "      <td>83</td>\n",
       "      <td>1.18</td>\n",
       "      <td>0.00</td>\n",
       "      <td>78</td>\n",
       "      <td>-0.875</td>\n",
       "      <td>-0.75</td>\n",
       "      <td>-0.625</td>\n",
       "      <td>-0.5</td>\n",
       "      <td>-0.375</td>\n",
       "      <td>-0.25</td>\n",
       "      <td>-0.125</td>\n",
       "    </tr>\n",
       "    <tr>\n",
       "      <th>1</th>\n",
       "      <td>1</td>\n",
       "      <td>1630458000</td>\n",
       "      <td>2021-09-01 01:00:00 +0000 UTC</td>\n",
       "      <td>18.73</td>\n",
       "      <td>18.83</td>\n",
       "      <td>15.72</td>\n",
       "      <td>20.34</td>\n",
       "      <td>1014</td>\n",
       "      <td>83</td>\n",
       "      <td>1.46</td>\n",
       "      <td>0.00</td>\n",
       "      <td>92</td>\n",
       "      <td>0.125</td>\n",
       "      <td>-0.75</td>\n",
       "      <td>-0.625</td>\n",
       "      <td>-0.5</td>\n",
       "      <td>-0.375</td>\n",
       "      <td>-0.25</td>\n",
       "      <td>-0.125</td>\n",
       "    </tr>\n",
       "    <tr>\n",
       "      <th>2</th>\n",
       "      <td>1</td>\n",
       "      <td>1630461600</td>\n",
       "      <td>2021-09-01 02:00:00 +0000 UTC</td>\n",
       "      <td>17.84</td>\n",
       "      <td>17.98</td>\n",
       "      <td>16.72</td>\n",
       "      <td>20.34</td>\n",
       "      <td>1014</td>\n",
       "      <td>88</td>\n",
       "      <td>1.05</td>\n",
       "      <td>0.00</td>\n",
       "      <td>91</td>\n",
       "      <td>0.125</td>\n",
       "      <td>-0.75</td>\n",
       "      <td>-0.625</td>\n",
       "      <td>-0.5</td>\n",
       "      <td>-0.375</td>\n",
       "      <td>-0.25</td>\n",
       "      <td>-0.125</td>\n",
       "    </tr>\n",
       "    <tr>\n",
       "      <th>3</th>\n",
       "      <td>1</td>\n",
       "      <td>1630465200</td>\n",
       "      <td>2021-09-01 03:00:00 +0000 UTC</td>\n",
       "      <td>18.27</td>\n",
       "      <td>18.40</td>\n",
       "      <td>16.68</td>\n",
       "      <td>20.34</td>\n",
       "      <td>1014</td>\n",
       "      <td>86</td>\n",
       "      <td>0.46</td>\n",
       "      <td>0.14</td>\n",
       "      <td>94</td>\n",
       "      <td>0.125</td>\n",
       "      <td>0.25</td>\n",
       "      <td>-0.625</td>\n",
       "      <td>-0.5</td>\n",
       "      <td>-0.375</td>\n",
       "      <td>-0.25</td>\n",
       "      <td>-0.125</td>\n",
       "    </tr>\n",
       "    <tr>\n",
       "      <th>4</th>\n",
       "      <td>1</td>\n",
       "      <td>1630468800</td>\n",
       "      <td>2021-09-01 04:00:00 +0000 UTC</td>\n",
       "      <td>17.81</td>\n",
       "      <td>17.97</td>\n",
       "      <td>16.12</td>\n",
       "      <td>20.34</td>\n",
       "      <td>1013</td>\n",
       "      <td>89</td>\n",
       "      <td>0.93</td>\n",
       "      <td>1.26</td>\n",
       "      <td>95</td>\n",
       "      <td>0.125</td>\n",
       "      <td>0.25</td>\n",
       "      <td>0.375</td>\n",
       "      <td>-0.5</td>\n",
       "      <td>-0.375</td>\n",
       "      <td>-0.25</td>\n",
       "      <td>-0.125</td>\n",
       "    </tr>\n",
       "  </tbody>\n",
       "</table>\n",
       "</div>"
      ],
      "text/plain": [
       "   intercept          dt                         dt_iso   temp  feels_like  \\\n",
       "0          1  1630454400  2021-09-01 00:00:00 +0000 UTC  18.74       18.84   \n",
       "1          1  1630458000  2021-09-01 01:00:00 +0000 UTC  18.73       18.83   \n",
       "2          1  1630461600  2021-09-01 02:00:00 +0000 UTC  17.84       17.98   \n",
       "3          1  1630465200  2021-09-01 03:00:00 +0000 UTC  18.27       18.40   \n",
       "4          1  1630468800  2021-09-01 04:00:00 +0000 UTC  17.81       17.97   \n",
       "\n",
       "   temp_min  temp_max  pressure  humidity  wind_speed  rain_1h  clouds_all  \\\n",
       "0     15.72     20.34      1015        83        1.18     0.00          78   \n",
       "1     15.72     20.34      1014        83        1.46     0.00          92   \n",
       "2     16.72     20.34      1014        88        1.05     0.00          91   \n",
       "3     16.68     20.34      1014        86        0.46     0.14          94   \n",
       "4     16.12     20.34      1013        89        0.93     1.26          95   \n",
       "\n",
       "   weather_description_0  weather_description_1  weather_description_2  \\\n",
       "0                 -0.875                  -0.75                 -0.625   \n",
       "1                  0.125                  -0.75                 -0.625   \n",
       "2                  0.125                  -0.75                 -0.625   \n",
       "3                  0.125                   0.25                 -0.625   \n",
       "4                  0.125                   0.25                  0.375   \n",
       "\n",
       "   weather_description_3  weather_description_4  weather_description_5  \\\n",
       "0                   -0.5                 -0.375                  -0.25   \n",
       "1                   -0.5                 -0.375                  -0.25   \n",
       "2                   -0.5                 -0.375                  -0.25   \n",
       "3                   -0.5                 -0.375                  -0.25   \n",
       "4                   -0.5                 -0.375                  -0.25   \n",
       "\n",
       "   weather_description_6  \n",
       "0                 -0.125  \n",
       "1                 -0.125  \n",
       "2                 -0.125  \n",
       "3                 -0.125  \n",
       "4                 -0.125  "
      ]
     },
     "execution_count": 59,
     "metadata": {},
     "output_type": "execute_result"
    }
   ],
   "source": [
    "meteo_1_copy_r5 = meteo_1_copy.copy()\n",
    "\n",
    "encoder = ce.BackwardDifferenceEncoder(cols=['weather_description'])\n",
    "df_bd = encoder.fit_transform(meteo_1_copy_r5)\n",
    "\n",
    "df_bd.head()"
   ]
  },
  {
   "cell_type": "markdown",
   "metadata": {},
   "source": [
    "#### f) Factorize\n",
    "This technique encodes the object as an enumerated type or categorical variable."
   ]
  },
  {
   "cell_type": "code",
   "execution_count": 60,
   "metadata": {},
   "outputs": [],
   "source": [
    "meteo_1_copy_r6 = meteo_1_copy.copy()"
   ]
  },
  {
   "cell_type": "code",
   "execution_count": 61,
   "metadata": {},
   "outputs": [
    {
     "data": {
      "text/html": [
       "<div>\n",
       "<style scoped>\n",
       "    .dataframe tbody tr th:only-of-type {\n",
       "        vertical-align: middle;\n",
       "    }\n",
       "\n",
       "    .dataframe tbody tr th {\n",
       "        vertical-align: top;\n",
       "    }\n",
       "\n",
       "    .dataframe thead th {\n",
       "        text-align: right;\n",
       "    }\n",
       "</style>\n",
       "<table border=\"1\" class=\"dataframe\">\n",
       "  <thead>\n",
       "    <tr style=\"text-align: right;\">\n",
       "      <th></th>\n",
       "      <th>dt</th>\n",
       "      <th>dt_iso</th>\n",
       "      <th>temp</th>\n",
       "      <th>feels_like</th>\n",
       "      <th>temp_min</th>\n",
       "      <th>temp_max</th>\n",
       "      <th>pressure</th>\n",
       "      <th>humidity</th>\n",
       "      <th>wind_speed</th>\n",
       "      <th>rain_1h</th>\n",
       "      <th>clouds_all</th>\n",
       "      <th>weather_description</th>\n",
       "    </tr>\n",
       "  </thead>\n",
       "  <tbody>\n",
       "    <tr>\n",
       "      <th>0</th>\n",
       "      <td>1630454400</td>\n",
       "      <td>2021-09-01 00:00:00 +0000 UTC</td>\n",
       "      <td>18.74</td>\n",
       "      <td>18.84</td>\n",
       "      <td>15.72</td>\n",
       "      <td>20.34</td>\n",
       "      <td>1015</td>\n",
       "      <td>83</td>\n",
       "      <td>1.18</td>\n",
       "      <td>0.00</td>\n",
       "      <td>78</td>\n",
       "      <td>1</td>\n",
       "    </tr>\n",
       "    <tr>\n",
       "      <th>1</th>\n",
       "      <td>1630458000</td>\n",
       "      <td>2021-09-01 01:00:00 +0000 UTC</td>\n",
       "      <td>18.73</td>\n",
       "      <td>18.83</td>\n",
       "      <td>15.72</td>\n",
       "      <td>20.34</td>\n",
       "      <td>1014</td>\n",
       "      <td>83</td>\n",
       "      <td>1.46</td>\n",
       "      <td>0.00</td>\n",
       "      <td>92</td>\n",
       "      <td>2</td>\n",
       "    </tr>\n",
       "    <tr>\n",
       "      <th>2</th>\n",
       "      <td>1630461600</td>\n",
       "      <td>2021-09-01 02:00:00 +0000 UTC</td>\n",
       "      <td>17.84</td>\n",
       "      <td>17.98</td>\n",
       "      <td>16.72</td>\n",
       "      <td>20.34</td>\n",
       "      <td>1014</td>\n",
       "      <td>88</td>\n",
       "      <td>1.05</td>\n",
       "      <td>0.00</td>\n",
       "      <td>91</td>\n",
       "      <td>2</td>\n",
       "    </tr>\n",
       "    <tr>\n",
       "      <th>3</th>\n",
       "      <td>1630465200</td>\n",
       "      <td>2021-09-01 03:00:00 +0000 UTC</td>\n",
       "      <td>18.27</td>\n",
       "      <td>18.40</td>\n",
       "      <td>16.68</td>\n",
       "      <td>20.34</td>\n",
       "      <td>1014</td>\n",
       "      <td>86</td>\n",
       "      <td>0.46</td>\n",
       "      <td>0.14</td>\n",
       "      <td>94</td>\n",
       "      <td>3</td>\n",
       "    </tr>\n",
       "    <tr>\n",
       "      <th>4</th>\n",
       "      <td>1630468800</td>\n",
       "      <td>2021-09-01 04:00:00 +0000 UTC</td>\n",
       "      <td>17.81</td>\n",
       "      <td>17.97</td>\n",
       "      <td>16.12</td>\n",
       "      <td>20.34</td>\n",
       "      <td>1013</td>\n",
       "      <td>89</td>\n",
       "      <td>0.93</td>\n",
       "      <td>1.26</td>\n",
       "      <td>95</td>\n",
       "      <td>4</td>\n",
       "    </tr>\n",
       "  </tbody>\n",
       "</table>\n",
       "</div>"
      ],
      "text/plain": [
       "           dt                         dt_iso   temp  feels_like  temp_min  \\\n",
       "0  1630454400  2021-09-01 00:00:00 +0000 UTC  18.74       18.84     15.72   \n",
       "1  1630458000  2021-09-01 01:00:00 +0000 UTC  18.73       18.83     15.72   \n",
       "2  1630461600  2021-09-01 02:00:00 +0000 UTC  17.84       17.98     16.72   \n",
       "3  1630465200  2021-09-01 03:00:00 +0000 UTC  18.27       18.40     16.68   \n",
       "4  1630468800  2021-09-01 04:00:00 +0000 UTC  17.81       17.97     16.12   \n",
       "\n",
       "   temp_max  pressure  humidity  wind_speed  rain_1h  clouds_all  \\\n",
       "0     20.34      1015        83        1.18     0.00          78   \n",
       "1     20.34      1014        83        1.46     0.00          92   \n",
       "2     20.34      1014        88        1.05     0.00          91   \n",
       "3     20.34      1014        86        0.46     0.14          94   \n",
       "4     20.34      1013        89        0.93     1.26          95   \n",
       "\n",
       "   weather_description  \n",
       "0                    1  \n",
       "1                    2  \n",
       "2                    2  \n",
       "3                    3  \n",
       "4                    4  "
      ]
     },
     "execution_count": 61,
     "metadata": {},
     "output_type": "execute_result"
    }
   ],
   "source": [
    "meteo_1_copy_r6['weather_description'] = pd.factorize(meteo_1_copy_r6['weather_description'])[0] + 1\n",
    "meteo_1_copy_r6.head()"
   ]
  },
  {
   "cell_type": "markdown",
   "metadata": {},
   "source": [
    "We will choose the factorize technique to keep going."
   ]
  },
  {
   "cell_type": "code",
   "execution_count": 62,
   "metadata": {},
   "outputs": [
    {
     "data": {
      "text/html": [
       "<div>\n",
       "<style scoped>\n",
       "    .dataframe tbody tr th:only-of-type {\n",
       "        vertical-align: middle;\n",
       "    }\n",
       "\n",
       "    .dataframe tbody tr th {\n",
       "        vertical-align: top;\n",
       "    }\n",
       "\n",
       "    .dataframe thead th {\n",
       "        text-align: right;\n",
       "    }\n",
       "</style>\n",
       "<table border=\"1\" class=\"dataframe\">\n",
       "  <thead>\n",
       "    <tr style=\"text-align: right;\">\n",
       "      <th></th>\n",
       "      <th>dt</th>\n",
       "      <th>dt_iso</th>\n",
       "      <th>temp</th>\n",
       "      <th>feels_like</th>\n",
       "      <th>temp_min</th>\n",
       "      <th>temp_max</th>\n",
       "      <th>pressure</th>\n",
       "      <th>humidity</th>\n",
       "      <th>wind_speed</th>\n",
       "      <th>rain_1h</th>\n",
       "      <th>clouds_all</th>\n",
       "      <th>weather_description</th>\n",
       "    </tr>\n",
       "  </thead>\n",
       "  <tbody>\n",
       "    <tr>\n",
       "      <th>0</th>\n",
       "      <td>1630454400</td>\n",
       "      <td>2021-09-01 00:00:00 +0000 UTC</td>\n",
       "      <td>18.74</td>\n",
       "      <td>18.84</td>\n",
       "      <td>15.72</td>\n",
       "      <td>20.34</td>\n",
       "      <td>1015</td>\n",
       "      <td>83</td>\n",
       "      <td>1.18</td>\n",
       "      <td>0.00</td>\n",
       "      <td>78</td>\n",
       "      <td>1</td>\n",
       "    </tr>\n",
       "    <tr>\n",
       "      <th>1</th>\n",
       "      <td>1630458000</td>\n",
       "      <td>2021-09-01 01:00:00 +0000 UTC</td>\n",
       "      <td>18.73</td>\n",
       "      <td>18.83</td>\n",
       "      <td>15.72</td>\n",
       "      <td>20.34</td>\n",
       "      <td>1014</td>\n",
       "      <td>83</td>\n",
       "      <td>1.46</td>\n",
       "      <td>0.00</td>\n",
       "      <td>92</td>\n",
       "      <td>2</td>\n",
       "    </tr>\n",
       "    <tr>\n",
       "      <th>2</th>\n",
       "      <td>1630461600</td>\n",
       "      <td>2021-09-01 02:00:00 +0000 UTC</td>\n",
       "      <td>17.84</td>\n",
       "      <td>17.98</td>\n",
       "      <td>16.72</td>\n",
       "      <td>20.34</td>\n",
       "      <td>1014</td>\n",
       "      <td>88</td>\n",
       "      <td>1.05</td>\n",
       "      <td>0.00</td>\n",
       "      <td>91</td>\n",
       "      <td>2</td>\n",
       "    </tr>\n",
       "    <tr>\n",
       "      <th>3</th>\n",
       "      <td>1630465200</td>\n",
       "      <td>2021-09-01 03:00:00 +0000 UTC</td>\n",
       "      <td>18.27</td>\n",
       "      <td>18.40</td>\n",
       "      <td>16.68</td>\n",
       "      <td>20.34</td>\n",
       "      <td>1014</td>\n",
       "      <td>86</td>\n",
       "      <td>0.46</td>\n",
       "      <td>0.14</td>\n",
       "      <td>94</td>\n",
       "      <td>3</td>\n",
       "    </tr>\n",
       "    <tr>\n",
       "      <th>4</th>\n",
       "      <td>1630468800</td>\n",
       "      <td>2021-09-01 04:00:00 +0000 UTC</td>\n",
       "      <td>17.81</td>\n",
       "      <td>17.97</td>\n",
       "      <td>16.12</td>\n",
       "      <td>20.34</td>\n",
       "      <td>1013</td>\n",
       "      <td>89</td>\n",
       "      <td>0.93</td>\n",
       "      <td>1.26</td>\n",
       "      <td>95</td>\n",
       "      <td>4</td>\n",
       "    </tr>\n",
       "  </tbody>\n",
       "</table>\n",
       "</div>"
      ],
      "text/plain": [
       "           dt                         dt_iso   temp  feels_like  temp_min  \\\n",
       "0  1630454400  2021-09-01 00:00:00 +0000 UTC  18.74       18.84     15.72   \n",
       "1  1630458000  2021-09-01 01:00:00 +0000 UTC  18.73       18.83     15.72   \n",
       "2  1630461600  2021-09-01 02:00:00 +0000 UTC  17.84       17.98     16.72   \n",
       "3  1630465200  2021-09-01 03:00:00 +0000 UTC  18.27       18.40     16.68   \n",
       "4  1630468800  2021-09-01 04:00:00 +0000 UTC  17.81       17.97     16.12   \n",
       "\n",
       "   temp_max  pressure  humidity  wind_speed  rain_1h  clouds_all  \\\n",
       "0     20.34      1015        83        1.18     0.00          78   \n",
       "1     20.34      1014        83        1.46     0.00          92   \n",
       "2     20.34      1014        88        1.05     0.00          91   \n",
       "3     20.34      1014        86        0.46     0.14          94   \n",
       "4     20.34      1013        89        0.93     1.26          95   \n",
       "\n",
       "   weather_description  \n",
       "0                    1  \n",
       "1                    2  \n",
       "2                    2  \n",
       "3                    3  \n",
       "4                    4  "
      ]
     },
     "execution_count": 62,
     "metadata": {},
     "output_type": "execute_result"
    }
   ],
   "source": [
    "meteo_1_copy['weather_description'] = pd.factorize(meteo_1_copy['weather_description'])[0] + 1\n",
    "meteo_1_copy.head()"
   ]
  },
  {
   "cell_type": "markdown",
   "metadata": {},
   "source": [
    "Other option would it be to filter the <em>NaN</em> values when reading the CSV file:"
   ]
  },
  {
   "cell_type": "markdown",
   "metadata": {},
   "source": [
    "<code>data = pd.read_csv('incidents.csv', na_filter=False)</code>"
   ]
  },
  {
   "cell_type": "markdown",
   "metadata": {},
   "source": [
    "Now let's go through the same process but with the feature <em>Injecao na rede (kWh)</em>"
   ]
  },
  {
   "cell_type": "code",
   "execution_count": 63,
   "metadata": {},
   "outputs": [
    {
     "data": {
      "text/plain": [
       "Injecao na rede (kWh)\n",
       "0            1690\n",
       "High          207\n",
       "Medium        182\n",
       "Low           109\n",
       "Very High      68\n",
       "Name: count, dtype: int64"
      ]
     },
     "execution_count": 63,
     "metadata": {},
     "output_type": "execute_result"
    }
   ],
   "source": [
    "energy_1_copy['Injecao na rede (kWh)'].value_counts()"
   ]
  },
  {
   "cell_type": "markdown",
   "metadata": {},
   "source": [
    "Let's create a barplot of <em>Frequency of Injection into the grid in kWh</em> (style=\"darkgrid\", fontsize=12)"
   ]
  },
  {
   "cell_type": "code",
   "execution_count": 64,
   "metadata": {},
   "outputs": [
    {
     "data": {
      "image/png": "[encoded data removed]",
      "text/plain": [
       "<Figure size 1300x600 with 1 Axes>"
      ]
     },
     "metadata": {},
     "output_type": "display_data"
    }
   ],
   "source": [
    "injection_count = energy_1_copy['Injecao na rede (kWh)'].value_counts()\n",
    "sns.set(style=\"darkgrid\")\n",
    "plt.figure(figsize=(13, 6))\n",
    "sns.barplot(x=injection_count.index, y=injection_count.values)\n",
    "plt.title('Frequency Distribution of Incidents')\n",
    "plt.ylabel('Number of Occurences', fontsize=12)\n",
    "plt.xlabel('Incidents', fontsize=12)\n",
    "plt.show()"
   ]
  },
  {
   "cell_type": "markdown",
   "metadata": {},
   "source": [
    "To better visualize the distribution let's remove the 0 from this graph. "
   ]
  },
  {
   "cell_type": "code",
   "execution_count": 65,
   "metadata": {},
   "outputs": [
    {
     "data": {
      "image/png": "[encoded data removed]",
      "text/plain": [
       "<Figure size 1300x600 with 1 Axes>"
      ]
     },
     "metadata": {},
     "output_type": "display_data"
    }
   ],
   "source": [
    "unwanted_value = 0\n",
    "\n",
    "filtered_injection_count = energy_1_copy[energy_1_copy['Injecao na rede (kWh)'] != unwanted_value]['Injecao na rede (kWh)'].value_counts()\n",
    "\n",
    "sns.set(style=\"darkgrid\")\n",
    "plt.figure(figsize=(13, 6))\n",
    "sns.barplot(x=filtered_injection_count.index, y=filtered_injection_count.values)\n",
    "plt.title('Frequency Distribution of Incidents')\n",
    "plt.ylabel('Number of Occurrences', fontsize=12)\n",
    "plt.xlabel('Incidents', fontsize=12)\n",
    "plt.show()\n"
   ]
  },
  {
   "cell_type": "markdown",
   "metadata": {},
   "source": [
    "Let's create a pie plot of <em>Category Injection into the grid in kWh</em>, also removing 0 to also better visualize the data."
   ]
  },
  {
   "cell_type": "code",
   "execution_count": 66,
   "metadata": {},
   "outputs": [
    {
     "data": {
      "image/png": "[encoded data removed]",
      "text/plain": [
       "<Figure size 700x700 with 1 Axes>"
      ]
     },
     "metadata": {},
     "output_type": "display_data"
    }
   ],
   "source": [
    "unwanted_value = 0\n",
    "\n",
    "filtered_energy_1_copy = energy_1_copy[energy_1_copy['Injecao na rede (kWh)'] != unwanted_value]\n",
    "\n",
    "labels = filtered_energy_1_copy['Injecao na rede (kWh)'].astype('category').cat.categories.tolist()\n",
    "counts = filtered_energy_1_copy['Injecao na rede (kWh)'].value_counts()\n",
    "sizes = [counts[var_cat] for var_cat in labels]\n",
    "\n",
    "fig1, ax1 = plt.subplots(figsize=(7, 7))\n",
    "ax1.pie(sizes, labels=labels, autopct='%1.1f%%', shadow=False)\n",
    "ax1.axis('equal')\n",
    "plt.show()"
   ]
  },
  {
   "cell_type": "markdown",
   "metadata": {},
   "source": [
    "We will also choose the factorize technique to keep going."
   ]
  },
  {
   "cell_type": "code",
   "execution_count": 67,
   "metadata": {},
   "outputs": [
    {
     "data": {
      "text/html": [
       "<div>\n",
       "<style scoped>\n",
       "    .dataframe tbody tr th:only-of-type {\n",
       "        vertical-align: middle;\n",
       "    }\n",
       "\n",
       "    .dataframe tbody tr th {\n",
       "        vertical-align: top;\n",
       "    }\n",
       "\n",
       "    .dataframe thead th {\n",
       "        text-align: right;\n",
       "    }\n",
       "</style>\n",
       "<table border=\"1\" class=\"dataframe\">\n",
       "  <thead>\n",
       "    <tr style=\"text-align: right;\">\n",
       "      <th></th>\n",
       "      <th>Data</th>\n",
       "      <th>Normal (kWh)</th>\n",
       "      <th>Horario Economico (kWh)</th>\n",
       "      <th>Autoconsumo (kWh)</th>\n",
       "      <th>Injecao na rede (kWh)</th>\n",
       "    </tr>\n",
       "  </thead>\n",
       "  <tbody>\n",
       "    <tr>\n",
       "      <th>0</th>\n",
       "      <td>2021-09-29 00:00:00</td>\n",
       "      <td>0.0</td>\n",
       "      <td>0.0</td>\n",
       "      <td>0.0</td>\n",
       "      <td>1</td>\n",
       "    </tr>\n",
       "    <tr>\n",
       "      <th>1</th>\n",
       "      <td>2021-09-29 01:00:00</td>\n",
       "      <td>0.0</td>\n",
       "      <td>0.0</td>\n",
       "      <td>0.0</td>\n",
       "      <td>1</td>\n",
       "    </tr>\n",
       "    <tr>\n",
       "      <th>2</th>\n",
       "      <td>2021-09-29 02:00:00</td>\n",
       "      <td>0.0</td>\n",
       "      <td>0.0</td>\n",
       "      <td>0.0</td>\n",
       "      <td>1</td>\n",
       "    </tr>\n",
       "    <tr>\n",
       "      <th>3</th>\n",
       "      <td>2021-09-29 03:00:00</td>\n",
       "      <td>0.0</td>\n",
       "      <td>0.0</td>\n",
       "      <td>0.0</td>\n",
       "      <td>1</td>\n",
       "    </tr>\n",
       "    <tr>\n",
       "      <th>4</th>\n",
       "      <td>2021-09-29 04:00:00</td>\n",
       "      <td>0.0</td>\n",
       "      <td>0.0</td>\n",
       "      <td>0.0</td>\n",
       "      <td>1</td>\n",
       "    </tr>\n",
       "  </tbody>\n",
       "</table>\n",
       "</div>"
      ],
      "text/plain": [
       "                  Data  Normal (kWh)  Horario Economico (kWh)  \\\n",
       "0  2021-09-29 00:00:00           0.0                      0.0   \n",
       "1  2021-09-29 01:00:00           0.0                      0.0   \n",
       "2  2021-09-29 02:00:00           0.0                      0.0   \n",
       "3  2021-09-29 03:00:00           0.0                      0.0   \n",
       "4  2021-09-29 04:00:00           0.0                      0.0   \n",
       "\n",
       "   Autoconsumo (kWh)  Injecao na rede (kWh)  \n",
       "0                0.0                      1  \n",
       "1                0.0                      1  \n",
       "2                0.0                      1  \n",
       "3                0.0                      1  \n",
       "4                0.0                      1  "
      ]
     },
     "execution_count": 67,
     "metadata": {},
     "output_type": "execute_result"
    }
   ],
   "source": [
    "energy_1_copy['Injecao na rede (kWh)'] = pd.factorize(energy_1_copy['Injecao na rede (kWh)'])[0] + 1\n",
    "energy_1_copy.head()"
   ]
  },
  {
   "cell_type": "code",
   "execution_count": 68,
   "metadata": {},
   "outputs": [
    {
     "data": {
      "text/plain": [
       "Injecao na rede (kWh)\n",
       "1    1690\n",
       "4     207\n",
       "3     182\n",
       "2     109\n",
       "5      68\n",
       "Name: count, dtype: int64"
      ]
     },
     "execution_count": 68,
     "metadata": {},
     "output_type": "execute_result"
    }
   ],
   "source": [
    "energy_1_copy['Injecao na rede (kWh)'].value_counts()"
   ]
  },
  {
   "cell_type": "markdown",
   "metadata": {},
   "source": [
    "So now we know that 1: None, 2: Low, 3: Medium, 4: High and 5:Very High"
   ]
  },
  {
   "cell_type": "markdown",
   "metadata": {},
   "source": [
    "Since there are no more categoric columns we will resume with the file like it is."
   ]
  },
  {
   "cell_type": "markdown",
   "metadata": {},
   "source": [
    "## 3. Handling dates\n",
    "\n",
    "Datetime Properties and Methods (https://pandas.pydata.org/pandas-docs/version/0.23/api.html#datetimelike-properties)"
   ]
  },
  {
   "cell_type": "code",
   "execution_count": 69,
   "metadata": {},
   "outputs": [],
   "source": [
    "energy_1_copy_dt = energy_1_copy.copy()"
   ]
  },
  {
   "cell_type": "code",
   "execution_count": 70,
   "metadata": {},
   "outputs": [
    {
     "data": {
      "text/plain": [
       "0    2021-09-29 00:00:00\n",
       "1    2021-09-29 01:00:00\n",
       "2    2021-09-29 02:00:00\n",
       "3    2021-09-29 03:00:00\n",
       "4    2021-09-29 04:00:00\n",
       "Name: Data, dtype: object"
      ]
     },
     "execution_count": 70,
     "metadata": {},
     "output_type": "execute_result"
    }
   ],
   "source": [
    "energy_1_copy_dt['Data'].head()"
   ]
  },
  {
   "cell_type": "markdown",
   "metadata": {},
   "source": [
    "We are going to convert the dates from <em>object</em> to <em>datetime</em>, specifying the format we want:"
   ]
  },
  {
   "cell_type": "code",
   "execution_count": 71,
   "metadata": {},
   "outputs": [],
   "source": [
    "energy_1_copy_dt['Data'] = pd.to_datetime(energy_1_copy_dt['Data'], format='%Y-%m-%d %H:%M:%S', errors='coerce')"
   ]
  },
  {
   "cell_type": "code",
   "execution_count": 72,
   "metadata": {},
   "outputs": [],
   "source": [
    "assert energy_1_copy_dt['Data'].isnull().sum()==0, 'missing record date'"
   ]
  },
  {
   "cell_type": "code",
   "execution_count": 73,
   "metadata": {},
   "outputs": [
    {
     "data": {
      "text/plain": [
       "0   2021-09-29 00:00:00\n",
       "1   2021-09-29 01:00:00\n",
       "2   2021-09-29 02:00:00\n",
       "3   2021-09-29 03:00:00\n",
       "4   2021-09-29 04:00:00\n",
       "Name: Data, dtype: datetime64[ns]"
      ]
     },
     "execution_count": 73,
     "metadata": {},
     "output_type": "execute_result"
    }
   ],
   "source": [
    "energy_1_copy_dt['Data'].head()"
   ]
  },
  {
   "cell_type": "markdown",
   "metadata": {},
   "source": [
    "We can extract parts of the date and create new columns with that:"
   ]
  },
  {
   "cell_type": "code",
   "execution_count": 74,
   "metadata": {},
   "outputs": [],
   "source": [
    "energy_1_copy_dt['Data_year'] = energy_1_copy_dt['Data'].dt.year\n",
    "energy_1_copy_dt['Data_month'] = energy_1_copy_dt['Data'].dt.month\n",
    "energy_1_copy_dt['Data_day'] = energy_1_copy_dt['Data'].dt.day\n",
    "energy_1_copy_dt['Data_hour'] = energy_1_copy_dt['Data'].dt.hour\n",
    "energy_1_copy_dt['Data_minute'] = energy_1_copy_dt['Data'].dt.minute\n",
    "energy_1_copy_dt['Data_second'] = energy_1_copy_dt['Data'].dt.second"
   ]
  },
  {
   "cell_type": "code",
   "execution_count": 75,
   "metadata": {},
   "outputs": [
    {
     "data": {
      "text/html": [
       "<div>\n",
       "<style scoped>\n",
       "    .dataframe tbody tr th:only-of-type {\n",
       "        vertical-align: middle;\n",
       "    }\n",
       "\n",
       "    .dataframe tbody tr th {\n",
       "        vertical-align: top;\n",
       "    }\n",
       "\n",
       "    .dataframe thead th {\n",
       "        text-align: right;\n",
       "    }\n",
       "</style>\n",
       "<table border=\"1\" class=\"dataframe\">\n",
       "  <thead>\n",
       "    <tr style=\"text-align: right;\">\n",
       "      <th></th>\n",
       "      <th>Data</th>\n",
       "      <th>Normal (kWh)</th>\n",
       "      <th>Horario Economico (kWh)</th>\n",
       "      <th>Autoconsumo (kWh)</th>\n",
       "      <th>Injecao na rede (kWh)</th>\n",
       "      <th>Data_year</th>\n",
       "      <th>Data_month</th>\n",
       "      <th>Data_day</th>\n",
       "      <th>Data_hour</th>\n",
       "      <th>Data_minute</th>\n",
       "      <th>Data_second</th>\n",
       "    </tr>\n",
       "  </thead>\n",
       "  <tbody>\n",
       "    <tr>\n",
       "      <th>0</th>\n",
       "      <td>2021-09-29 00:00:00</td>\n",
       "      <td>0.0</td>\n",
       "      <td>0.0</td>\n",
       "      <td>0.0</td>\n",
       "      <td>1</td>\n",
       "      <td>2021</td>\n",
       "      <td>9</td>\n",
       "      <td>29</td>\n",
       "      <td>0</td>\n",
       "      <td>0</td>\n",
       "      <td>0</td>\n",
       "    </tr>\n",
       "    <tr>\n",
       "      <th>1</th>\n",
       "      <td>2021-09-29 01:00:00</td>\n",
       "      <td>0.0</td>\n",
       "      <td>0.0</td>\n",
       "      <td>0.0</td>\n",
       "      <td>1</td>\n",
       "      <td>2021</td>\n",
       "      <td>9</td>\n",
       "      <td>29</td>\n",
       "      <td>1</td>\n",
       "      <td>0</td>\n",
       "      <td>0</td>\n",
       "    </tr>\n",
       "    <tr>\n",
       "      <th>2</th>\n",
       "      <td>2021-09-29 02:00:00</td>\n",
       "      <td>0.0</td>\n",
       "      <td>0.0</td>\n",
       "      <td>0.0</td>\n",
       "      <td>1</td>\n",
       "      <td>2021</td>\n",
       "      <td>9</td>\n",
       "      <td>29</td>\n",
       "      <td>2</td>\n",
       "      <td>0</td>\n",
       "      <td>0</td>\n",
       "    </tr>\n",
       "    <tr>\n",
       "      <th>3</th>\n",
       "      <td>2021-09-29 03:00:00</td>\n",
       "      <td>0.0</td>\n",
       "      <td>0.0</td>\n",
       "      <td>0.0</td>\n",
       "      <td>1</td>\n",
       "      <td>2021</td>\n",
       "      <td>9</td>\n",
       "      <td>29</td>\n",
       "      <td>3</td>\n",
       "      <td>0</td>\n",
       "      <td>0</td>\n",
       "    </tr>\n",
       "    <tr>\n",
       "      <th>4</th>\n",
       "      <td>2021-09-29 04:00:00</td>\n",
       "      <td>0.0</td>\n",
       "      <td>0.0</td>\n",
       "      <td>0.0</td>\n",
       "      <td>1</td>\n",
       "      <td>2021</td>\n",
       "      <td>9</td>\n",
       "      <td>29</td>\n",
       "      <td>4</td>\n",
       "      <td>0</td>\n",
       "      <td>0</td>\n",
       "    </tr>\n",
       "  </tbody>\n",
       "</table>\n",
       "</div>"
      ],
      "text/plain": [
       "                 Data  Normal (kWh)  Horario Economico (kWh)  \\\n",
       "0 2021-09-29 00:00:00           0.0                      0.0   \n",
       "1 2021-09-29 01:00:00           0.0                      0.0   \n",
       "2 2021-09-29 02:00:00           0.0                      0.0   \n",
       "3 2021-09-29 03:00:00           0.0                      0.0   \n",
       "4 2021-09-29 04:00:00           0.0                      0.0   \n",
       "\n",
       "   Autoconsumo (kWh)  Injecao na rede (kWh)  Data_year  Data_month  Data_day  \\\n",
       "0                0.0                      1       2021           9        29   \n",
       "1                0.0                      1       2021           9        29   \n",
       "2                0.0                      1       2021           9        29   \n",
       "3                0.0                      1       2021           9        29   \n",
       "4                0.0                      1       2021           9        29   \n",
       "\n",
       "   Data_hour  Data_minute  Data_second  \n",
       "0          0            0            0  \n",
       "1          1            0            0  \n",
       "2          2            0            0  \n",
       "3          3            0            0  \n",
       "4          4            0            0  "
      ]
     },
     "execution_count": 75,
     "metadata": {},
     "output_type": "execute_result"
    }
   ],
   "source": [
    "energy_1_copy_dt.head()"
   ]
  },
  {
   "cell_type": "code",
   "execution_count": 76,
   "metadata": {},
   "outputs": [
    {
     "data": {
      "text/plain": [
       "Data                       2256\n",
       "Normal (kWh)                772\n",
       "Horario Economico (kWh)     329\n",
       "Autoconsumo (kWh)           440\n",
       "Injecao na rede (kWh)         5\n",
       "Data_year                     1\n",
       "Data_month                    4\n",
       "Data_day                     31\n",
       "Data_hour                    24\n",
       "Data_minute                   1\n",
       "Data_second                   1\n",
       "dtype: int64"
      ]
     },
     "execution_count": 76,
     "metadata": {},
     "output_type": "execute_result"
    }
   ],
   "source": [
    "energy_1_copy_dt.nunique()"
   ]
  },
  {
   "cell_type": "markdown",
   "metadata": {},
   "source": [
    "Since <em>year</em>, <em>minute</em> and <em>second</em> have only one value, we will drop them."
   ]
  },
  {
   "cell_type": "code",
   "execution_count": 77,
   "metadata": {},
   "outputs": [],
   "source": [
    "energy_1_copy_dt.drop('Data_year', axis=1, inplace=True)\n",
    "energy_1_copy_dt.drop('Data_minute', axis=1, inplace=True)\n",
    "energy_1_copy_dt.drop('Data_second', axis=1, inplace=True)\n",
    "energy_1_copy_dt.dropna(inplace=True)"
   ]
  },
  {
   "cell_type": "code",
   "execution_count": 78,
   "metadata": {},
   "outputs": [
    {
     "data": {
      "text/html": [
       "<div>\n",
       "<style scoped>\n",
       "    .dataframe tbody tr th:only-of-type {\n",
       "        vertical-align: middle;\n",
       "    }\n",
       "\n",
       "    .dataframe tbody tr th {\n",
       "        vertical-align: top;\n",
       "    }\n",
       "\n",
       "    .dataframe thead th {\n",
       "        text-align: right;\n",
       "    }\n",
       "</style>\n",
       "<table border=\"1\" class=\"dataframe\">\n",
       "  <thead>\n",
       "    <tr style=\"text-align: right;\">\n",
       "      <th></th>\n",
       "      <th>Data</th>\n",
       "      <th>Normal (kWh)</th>\n",
       "      <th>Horario Economico (kWh)</th>\n",
       "      <th>Autoconsumo (kWh)</th>\n",
       "      <th>Injecao na rede (kWh)</th>\n",
       "      <th>Data_month</th>\n",
       "      <th>Data_day</th>\n",
       "      <th>Data_hour</th>\n",
       "    </tr>\n",
       "  </thead>\n",
       "  <tbody>\n",
       "    <tr>\n",
       "      <th>0</th>\n",
       "      <td>2021-09-29 00:00:00</td>\n",
       "      <td>0.0</td>\n",
       "      <td>0.0</td>\n",
       "      <td>0.0</td>\n",
       "      <td>1</td>\n",
       "      <td>9</td>\n",
       "      <td>29</td>\n",
       "      <td>0</td>\n",
       "    </tr>\n",
       "    <tr>\n",
       "      <th>1</th>\n",
       "      <td>2021-09-29 01:00:00</td>\n",
       "      <td>0.0</td>\n",
       "      <td>0.0</td>\n",
       "      <td>0.0</td>\n",
       "      <td>1</td>\n",
       "      <td>9</td>\n",
       "      <td>29</td>\n",
       "      <td>1</td>\n",
       "    </tr>\n",
       "    <tr>\n",
       "      <th>2</th>\n",
       "      <td>2021-09-29 02:00:00</td>\n",
       "      <td>0.0</td>\n",
       "      <td>0.0</td>\n",
       "      <td>0.0</td>\n",
       "      <td>1</td>\n",
       "      <td>9</td>\n",
       "      <td>29</td>\n",
       "      <td>2</td>\n",
       "    </tr>\n",
       "    <tr>\n",
       "      <th>3</th>\n",
       "      <td>2021-09-29 03:00:00</td>\n",
       "      <td>0.0</td>\n",
       "      <td>0.0</td>\n",
       "      <td>0.0</td>\n",
       "      <td>1</td>\n",
       "      <td>9</td>\n",
       "      <td>29</td>\n",
       "      <td>3</td>\n",
       "    </tr>\n",
       "    <tr>\n",
       "      <th>4</th>\n",
       "      <td>2021-09-29 04:00:00</td>\n",
       "      <td>0.0</td>\n",
       "      <td>0.0</td>\n",
       "      <td>0.0</td>\n",
       "      <td>1</td>\n",
       "      <td>9</td>\n",
       "      <td>29</td>\n",
       "      <td>4</td>\n",
       "    </tr>\n",
       "  </tbody>\n",
       "</table>\n",
       "</div>"
      ],
      "text/plain": [
       "                 Data  Normal (kWh)  Horario Economico (kWh)  \\\n",
       "0 2021-09-29 00:00:00           0.0                      0.0   \n",
       "1 2021-09-29 01:00:00           0.0                      0.0   \n",
       "2 2021-09-29 02:00:00           0.0                      0.0   \n",
       "3 2021-09-29 03:00:00           0.0                      0.0   \n",
       "4 2021-09-29 04:00:00           0.0                      0.0   \n",
       "\n",
       "   Autoconsumo (kWh)  Injecao na rede (kWh)  Data_month  Data_day  Data_hour  \n",
       "0                0.0                      1           9        29          0  \n",
       "1                0.0                      1           9        29          1  \n",
       "2                0.0                      1           9        29          2  \n",
       "3                0.0                      1           9        29          3  \n",
       "4                0.0                      1           9        29          4  "
      ]
     },
     "execution_count": 78,
     "metadata": {},
     "output_type": "execute_result"
    }
   ],
   "source": [
    "energy_1_copy_dt.head()"
   ]
  },
  {
   "cell_type": "markdown",
   "metadata": {},
   "source": [
    "Other functions to deal with dates"
   ]
  },
  {
   "cell_type": "code",
   "execution_count": 79,
   "metadata": {},
   "outputs": [],
   "source": [
    "energy_1_copy_dt2 = energy_1_copy.copy()"
   ]
  },
  {
   "cell_type": "code",
   "execution_count": 80,
   "metadata": {
    "scrolled": true
   },
   "outputs": [
    {
     "name": "stdout",
     "output_type": "stream",
     "text": [
      "<class 'pandas.core.frame.DataFrame'>\n",
      "RangeIndex: 2256 entries, 0 to 2255\n",
      "Data columns (total 5 columns):\n",
      " #   Column                   Non-Null Count  Dtype         \n",
      "---  ------                   --------------  -----         \n",
      " 0   Data                     2256 non-null   datetime64[ns]\n",
      " 1   Normal (kWh)             2256 non-null   float64       \n",
      " 2   Horario Economico (kWh)  2256 non-null   float64       \n",
      " 3   Autoconsumo (kWh)        2256 non-null   float64       \n",
      " 4   Injecao na rede (kWh)    2256 non-null   int64         \n",
      "dtypes: datetime64[ns](1), float64(3), int64(1)\n",
      "memory usage: 88.2 KB\n"
     ]
    }
   ],
   "source": [
    "energy_1_copy_dt2['Data'] = pd.to_datetime(energy_1_copy_dt2['Data'])\n",
    "energy_1_copy_dt2.info()"
   ]
  },
  {
   "cell_type": "code",
   "execution_count": 81,
   "metadata": {},
   "outputs": [
    {
     "data": {
      "text/html": [
       "<div>\n",
       "<style scoped>\n",
       "    .dataframe tbody tr th:only-of-type {\n",
       "        vertical-align: middle;\n",
       "    }\n",
       "\n",
       "    .dataframe tbody tr th {\n",
       "        vertical-align: top;\n",
       "    }\n",
       "\n",
       "    .dataframe thead th {\n",
       "        text-align: right;\n",
       "    }\n",
       "</style>\n",
       "<table border=\"1\" class=\"dataframe\">\n",
       "  <thead>\n",
       "    <tr style=\"text-align: right;\">\n",
       "      <th></th>\n",
       "      <th>Data</th>\n",
       "      <th>Normal (kWh)</th>\n",
       "      <th>Horario Economico (kWh)</th>\n",
       "      <th>Autoconsumo (kWh)</th>\n",
       "      <th>Injecao na rede (kWh)</th>\n",
       "    </tr>\n",
       "  </thead>\n",
       "  <tbody>\n",
       "    <tr>\n",
       "      <th>0</th>\n",
       "      <td>2021-09-29 00:00:00</td>\n",
       "      <td>0.0</td>\n",
       "      <td>0.0</td>\n",
       "      <td>0.0</td>\n",
       "      <td>1</td>\n",
       "    </tr>\n",
       "    <tr>\n",
       "      <th>1</th>\n",
       "      <td>2021-09-29 01:00:00</td>\n",
       "      <td>0.0</td>\n",
       "      <td>0.0</td>\n",
       "      <td>0.0</td>\n",
       "      <td>1</td>\n",
       "    </tr>\n",
       "    <tr>\n",
       "      <th>2</th>\n",
       "      <td>2021-09-29 02:00:00</td>\n",
       "      <td>0.0</td>\n",
       "      <td>0.0</td>\n",
       "      <td>0.0</td>\n",
       "      <td>1</td>\n",
       "    </tr>\n",
       "    <tr>\n",
       "      <th>3</th>\n",
       "      <td>2021-09-29 03:00:00</td>\n",
       "      <td>0.0</td>\n",
       "      <td>0.0</td>\n",
       "      <td>0.0</td>\n",
       "      <td>1</td>\n",
       "    </tr>\n",
       "    <tr>\n",
       "      <th>4</th>\n",
       "      <td>2021-09-29 04:00:00</td>\n",
       "      <td>0.0</td>\n",
       "      <td>0.0</td>\n",
       "      <td>0.0</td>\n",
       "      <td>1</td>\n",
       "    </tr>\n",
       "  </tbody>\n",
       "</table>\n",
       "</div>"
      ],
      "text/plain": [
       "                 Data  Normal (kWh)  Horario Economico (kWh)  \\\n",
       "0 2021-09-29 00:00:00           0.0                      0.0   \n",
       "1 2021-09-29 01:00:00           0.0                      0.0   \n",
       "2 2021-09-29 02:00:00           0.0                      0.0   \n",
       "3 2021-09-29 03:00:00           0.0                      0.0   \n",
       "4 2021-09-29 04:00:00           0.0                      0.0   \n",
       "\n",
       "   Autoconsumo (kWh)  Injecao na rede (kWh)  \n",
       "0                0.0                      1  \n",
       "1                0.0                      1  \n",
       "2                0.0                      1  \n",
       "3                0.0                      1  \n",
       "4                0.0                      1  "
      ]
     },
     "execution_count": 81,
     "metadata": {},
     "output_type": "execute_result"
    }
   ],
   "source": [
    "energy_1_copy_dt2.head()"
   ]
  },
  {
   "cell_type": "markdown",
   "metadata": {},
   "source": [
    "We can use <em>datetime.today</em> and fetch the actual date."
   ]
  },
  {
   "cell_type": "code",
   "execution_count": 82,
   "metadata": {},
   "outputs": [
    {
     "data": {
      "text/plain": [
       "datetime.datetime(2023, 11, 15, 18, 42, 39, 393660)"
      ]
     },
     "execution_count": 82,
     "metadata": {},
     "output_type": "execute_result"
    }
   ],
   "source": [
    "import datetime\n",
    "\n",
    "today = datetime.datetime.today()\n",
    "\n",
    "today"
   ]
  },
  {
   "cell_type": "markdown",
   "metadata": {},
   "source": [
    "It can be measured the time elapsed between the dates on the dataset and today."
   ]
  },
  {
   "cell_type": "code",
   "execution_count": 83,
   "metadata": {},
   "outputs": [
    {
     "data": {
      "text/plain": [
       "0      777 days 18:42:39.393660\n",
       "1      777 days 17:42:39.393660\n",
       "2      777 days 16:42:39.393660\n",
       "3      777 days 15:42:39.393660\n",
       "4      777 days 14:42:39.393660\n",
       "                 ...           \n",
       "2251   683 days 23:42:39.393660\n",
       "2252   683 days 22:42:39.393660\n",
       "2253   683 days 21:42:39.393660\n",
       "2254   683 days 20:42:39.393660\n",
       "2255   683 days 19:42:39.393660\n",
       "Name: Data, Length: 2256, dtype: timedelta64[ns]"
      ]
     },
     "execution_count": 83,
     "metadata": {},
     "output_type": "execute_result"
    }
   ],
   "source": [
    "today - energy_1_copy_dt2['Data']"
   ]
  },
  {
   "cell_type": "code",
   "execution_count": 84,
   "metadata": {},
   "outputs": [
    {
     "data": {
      "text/plain": [
       "0       777\n",
       "1       777\n",
       "2       777\n",
       "3       777\n",
       "4       777\n",
       "       ... \n",
       "2251    683\n",
       "2252    683\n",
       "2253    683\n",
       "2254    683\n",
       "2255    683\n",
       "Name: Data, Length: 2256, dtype: int64"
      ]
     },
     "execution_count": 84,
     "metadata": {},
     "output_type": "execute_result"
    }
   ],
   "source": [
    "(today - energy_1_copy_dt2['Data']).dt.days"
   ]
  },
  {
   "cell_type": "markdown",
   "metadata": {},
   "source": [
    "And we can also separate each component of the date by day, month, hour, time, etc."
   ]
  },
  {
   "cell_type": "code",
   "execution_count": 85,
   "metadata": {},
   "outputs": [
    {
     "data": {
      "text/html": [
       "<div>\n",
       "<style scoped>\n",
       "    .dataframe tbody tr th:only-of-type {\n",
       "        vertical-align: middle;\n",
       "    }\n",
       "\n",
       "    .dataframe tbody tr th {\n",
       "        vertical-align: top;\n",
       "    }\n",
       "\n",
       "    .dataframe thead th {\n",
       "        text-align: right;\n",
       "    }\n",
       "</style>\n",
       "<table border=\"1\" class=\"dataframe\">\n",
       "  <thead>\n",
       "    <tr style=\"text-align: right;\">\n",
       "      <th></th>\n",
       "      <th>Data</th>\n",
       "      <th>Normal (kWh)</th>\n",
       "      <th>Horario Economico (kWh)</th>\n",
       "      <th>Autoconsumo (kWh)</th>\n",
       "      <th>Injecao na rede (kWh)</th>\n",
       "      <th>day</th>\n",
       "      <th>month</th>\n",
       "      <th>hour</th>\n",
       "      <th>time</th>\n",
       "    </tr>\n",
       "  </thead>\n",
       "  <tbody>\n",
       "    <tr>\n",
       "      <th>0</th>\n",
       "      <td>2021-09-29 00:00:00</td>\n",
       "      <td>0.0</td>\n",
       "      <td>0.0</td>\n",
       "      <td>0.0</td>\n",
       "      <td>1</td>\n",
       "      <td>29</td>\n",
       "      <td>9</td>\n",
       "      <td>0</td>\n",
       "      <td>00:00:00</td>\n",
       "    </tr>\n",
       "    <tr>\n",
       "      <th>1</th>\n",
       "      <td>2021-09-29 01:00:00</td>\n",
       "      <td>0.0</td>\n",
       "      <td>0.0</td>\n",
       "      <td>0.0</td>\n",
       "      <td>1</td>\n",
       "      <td>29</td>\n",
       "      <td>9</td>\n",
       "      <td>1</td>\n",
       "      <td>01:00:00</td>\n",
       "    </tr>\n",
       "    <tr>\n",
       "      <th>2</th>\n",
       "      <td>2021-09-29 02:00:00</td>\n",
       "      <td>0.0</td>\n",
       "      <td>0.0</td>\n",
       "      <td>0.0</td>\n",
       "      <td>1</td>\n",
       "      <td>29</td>\n",
       "      <td>9</td>\n",
       "      <td>2</td>\n",
       "      <td>02:00:00</td>\n",
       "    </tr>\n",
       "    <tr>\n",
       "      <th>3</th>\n",
       "      <td>2021-09-29 03:00:00</td>\n",
       "      <td>0.0</td>\n",
       "      <td>0.0</td>\n",
       "      <td>0.0</td>\n",
       "      <td>1</td>\n",
       "      <td>29</td>\n",
       "      <td>9</td>\n",
       "      <td>3</td>\n",
       "      <td>03:00:00</td>\n",
       "    </tr>\n",
       "    <tr>\n",
       "      <th>4</th>\n",
       "      <td>2021-09-29 04:00:00</td>\n",
       "      <td>0.0</td>\n",
       "      <td>0.0</td>\n",
       "      <td>0.0</td>\n",
       "      <td>1</td>\n",
       "      <td>29</td>\n",
       "      <td>9</td>\n",
       "      <td>4</td>\n",
       "      <td>04:00:00</td>\n",
       "    </tr>\n",
       "  </tbody>\n",
       "</table>\n",
       "</div>"
      ],
      "text/plain": [
       "                 Data  Normal (kWh)  Horario Economico (kWh)  \\\n",
       "0 2021-09-29 00:00:00           0.0                      0.0   \n",
       "1 2021-09-29 01:00:00           0.0                      0.0   \n",
       "2 2021-09-29 02:00:00           0.0                      0.0   \n",
       "3 2021-09-29 03:00:00           0.0                      0.0   \n",
       "4 2021-09-29 04:00:00           0.0                      0.0   \n",
       "\n",
       "   Autoconsumo (kWh)  Injecao na rede (kWh)  day  month  hour      time  \n",
       "0                0.0                      1   29      9     0  00:00:00  \n",
       "1                0.0                      1   29      9     1  01:00:00  \n",
       "2                0.0                      1   29      9     2  02:00:00  \n",
       "3                0.0                      1   29      9     3  03:00:00  \n",
       "4                0.0                      1   29      9     4  04:00:00  "
      ]
     },
     "execution_count": 85,
     "metadata": {},
     "output_type": "execute_result"
    }
   ],
   "source": [
    "energy_1_copy_dt2['day'] = energy_1_copy_dt2['Data'].dt.day\n",
    "energy_1_copy_dt2['month'] = energy_1_copy_dt2['Data'].dt.month\n",
    "energy_1_copy_dt2['hour'] = energy_1_copy_dt2['Data'].dt.hour\n",
    "energy_1_copy_dt2['time'] = energy_1_copy_dt2['Data'].dt.time\n",
    "energy_1_copy_dt2.head()"
   ]
  },
  {
   "cell_type": "markdown",
   "metadata": {},
   "source": [
    "Now we need to choose how to deal with the <em>Data</em>, and again dropping the values as we came to the conclusion before."
   ]
  },
  {
   "cell_type": "code",
   "execution_count": 102,
   "metadata": {},
   "outputs": [
    {
     "data": {
      "text/plain": [
       "0   2021-09-29 00:00:00\n",
       "1   2021-09-29 01:00:00\n",
       "2   2021-09-29 02:00:00\n",
       "3   2021-09-29 03:00:00\n",
       "4   2021-09-29 04:00:00\n",
       "Name: Data, dtype: datetime64[ns]"
      ]
     },
     "execution_count": 102,
     "metadata": {},
     "output_type": "execute_result"
    }
   ],
   "source": [
    "energy_1_copy['Data'] = pd.to_datetime(energy_1_copy['Data'], format='%Y-%m-%d %H:%M:%S', errors='coerce')\n",
    "assert energy_1_copy['Data'].isnull().sum()==0, 'missing record date'\n",
    "energy_1_copy['Data'].head()"
   ]
  },
  {
   "cell_type": "code",
   "execution_count": 103,
   "metadata": {},
   "outputs": [
    {
     "data": {
      "text/html": [
       "<div>\n",
       "<style scoped>\n",
       "    .dataframe tbody tr th:only-of-type {\n",
       "        vertical-align: middle;\n",
       "    }\n",
       "\n",
       "    .dataframe tbody tr th {\n",
       "        vertical-align: top;\n",
       "    }\n",
       "\n",
       "    .dataframe thead th {\n",
       "        text-align: right;\n",
       "    }\n",
       "</style>\n",
       "<table border=\"1\" class=\"dataframe\">\n",
       "  <thead>\n",
       "    <tr style=\"text-align: right;\">\n",
       "      <th></th>\n",
       "      <th>Data</th>\n",
       "      <th>Normal (kWh)</th>\n",
       "      <th>Horario Economico (kWh)</th>\n",
       "      <th>Autoconsumo (kWh)</th>\n",
       "      <th>Injecao na rede (kWh)</th>\n",
       "      <th>Data_month</th>\n",
       "      <th>Data_day</th>\n",
       "      <th>Data_year</th>\n",
       "      <th>Data_hour</th>\n",
       "      <th>Data_minute</th>\n",
       "      <th>Data_second</th>\n",
       "    </tr>\n",
       "  </thead>\n",
       "  <tbody>\n",
       "    <tr>\n",
       "      <th>0</th>\n",
       "      <td>2021-09-29 00:00:00</td>\n",
       "      <td>0.0</td>\n",
       "      <td>0.0</td>\n",
       "      <td>0.0</td>\n",
       "      <td>1</td>\n",
       "      <td>9</td>\n",
       "      <td>29</td>\n",
       "      <td>2021</td>\n",
       "      <td>0</td>\n",
       "      <td>0</td>\n",
       "      <td>0</td>\n",
       "    </tr>\n",
       "    <tr>\n",
       "      <th>1</th>\n",
       "      <td>2021-09-29 01:00:00</td>\n",
       "      <td>0.0</td>\n",
       "      <td>0.0</td>\n",
       "      <td>0.0</td>\n",
       "      <td>1</td>\n",
       "      <td>9</td>\n",
       "      <td>29</td>\n",
       "      <td>2021</td>\n",
       "      <td>1</td>\n",
       "      <td>0</td>\n",
       "      <td>0</td>\n",
       "    </tr>\n",
       "    <tr>\n",
       "      <th>2</th>\n",
       "      <td>2021-09-29 02:00:00</td>\n",
       "      <td>0.0</td>\n",
       "      <td>0.0</td>\n",
       "      <td>0.0</td>\n",
       "      <td>1</td>\n",
       "      <td>9</td>\n",
       "      <td>29</td>\n",
       "      <td>2021</td>\n",
       "      <td>2</td>\n",
       "      <td>0</td>\n",
       "      <td>0</td>\n",
       "    </tr>\n",
       "    <tr>\n",
       "      <th>3</th>\n",
       "      <td>2021-09-29 03:00:00</td>\n",
       "      <td>0.0</td>\n",
       "      <td>0.0</td>\n",
       "      <td>0.0</td>\n",
       "      <td>1</td>\n",
       "      <td>9</td>\n",
       "      <td>29</td>\n",
       "      <td>2021</td>\n",
       "      <td>3</td>\n",
       "      <td>0</td>\n",
       "      <td>0</td>\n",
       "    </tr>\n",
       "    <tr>\n",
       "      <th>4</th>\n",
       "      <td>2021-09-29 04:00:00</td>\n",
       "      <td>0.0</td>\n",
       "      <td>0.0</td>\n",
       "      <td>0.0</td>\n",
       "      <td>1</td>\n",
       "      <td>9</td>\n",
       "      <td>29</td>\n",
       "      <td>2021</td>\n",
       "      <td>4</td>\n",
       "      <td>0</td>\n",
       "      <td>0</td>\n",
       "    </tr>\n",
       "  </tbody>\n",
       "</table>\n",
       "</div>"
      ],
      "text/plain": [
       "                 Data  Normal (kWh)  Horario Economico (kWh)  \\\n",
       "0 2021-09-29 00:00:00           0.0                      0.0   \n",
       "1 2021-09-29 01:00:00           0.0                      0.0   \n",
       "2 2021-09-29 02:00:00           0.0                      0.0   \n",
       "3 2021-09-29 03:00:00           0.0                      0.0   \n",
       "4 2021-09-29 04:00:00           0.0                      0.0   \n",
       "\n",
       "   Autoconsumo (kWh)  Injecao na rede (kWh)  Data_month  Data_day  Data_year  \\\n",
       "0                0.0                      1           9        29       2021   \n",
       "1                0.0                      1           9        29       2021   \n",
       "2                0.0                      1           9        29       2021   \n",
       "3                0.0                      1           9        29       2021   \n",
       "4                0.0                      1           9        29       2021   \n",
       "\n",
       "   Data_hour  Data_minute  Data_second  \n",
       "0          0            0            0  \n",
       "1          1            0            0  \n",
       "2          2            0            0  \n",
       "3          3            0            0  \n",
       "4          4            0            0  "
      ]
     },
     "execution_count": 103,
     "metadata": {},
     "output_type": "execute_result"
    }
   ],
   "source": [
    "energy_1_copy['Data_year'] = energy_1_copy_dt['Data'].dt.year\n",
    "energy_1_copy['Data_month'] = energy_1_copy_dt['Data'].dt.month\n",
    "energy_1_copy['Data_day'] = energy_1_copy_dt['Data'].dt.day\n",
    "energy_1_copy['Data_hour'] = energy_1_copy_dt['Data'].dt.hour\n",
    "energy_1_copy['Data_minute'] = energy_1_copy_dt['Data'].dt.minute\n",
    "energy_1_copy['Data_second'] = energy_1_copy_dt['Data'].dt.second\n",
    "\n",
    "energy_1_copy.head()"
   ]
  },
  {
   "cell_type": "code",
   "execution_count": 104,
   "metadata": {},
   "outputs": [
    {
     "data": {
      "text/html": [
       "<div>\n",
       "<style scoped>\n",
       "    .dataframe tbody tr th:only-of-type {\n",
       "        vertical-align: middle;\n",
       "    }\n",
       "\n",
       "    .dataframe tbody tr th {\n",
       "        vertical-align: top;\n",
       "    }\n",
       "\n",
       "    .dataframe thead th {\n",
       "        text-align: right;\n",
       "    }\n",
       "</style>\n",
       "<table border=\"1\" class=\"dataframe\">\n",
       "  <thead>\n",
       "    <tr style=\"text-align: right;\">\n",
       "      <th></th>\n",
       "      <th>Data</th>\n",
       "      <th>Normal (kWh)</th>\n",
       "      <th>Horario Economico (kWh)</th>\n",
       "      <th>Autoconsumo (kWh)</th>\n",
       "      <th>Injecao na rede (kWh)</th>\n",
       "      <th>Data_month</th>\n",
       "      <th>Data_day</th>\n",
       "      <th>Data_hour</th>\n",
       "    </tr>\n",
       "  </thead>\n",
       "  <tbody>\n",
       "    <tr>\n",
       "      <th>0</th>\n",
       "      <td>2021-09-29 00:00:00</td>\n",
       "      <td>0.0</td>\n",
       "      <td>0.0</td>\n",
       "      <td>0.0</td>\n",
       "      <td>1</td>\n",
       "      <td>9</td>\n",
       "      <td>29</td>\n",
       "      <td>0</td>\n",
       "    </tr>\n",
       "    <tr>\n",
       "      <th>1</th>\n",
       "      <td>2021-09-29 01:00:00</td>\n",
       "      <td>0.0</td>\n",
       "      <td>0.0</td>\n",
       "      <td>0.0</td>\n",
       "      <td>1</td>\n",
       "      <td>9</td>\n",
       "      <td>29</td>\n",
       "      <td>1</td>\n",
       "    </tr>\n",
       "    <tr>\n",
       "      <th>2</th>\n",
       "      <td>2021-09-29 02:00:00</td>\n",
       "      <td>0.0</td>\n",
       "      <td>0.0</td>\n",
       "      <td>0.0</td>\n",
       "      <td>1</td>\n",
       "      <td>9</td>\n",
       "      <td>29</td>\n",
       "      <td>2</td>\n",
       "    </tr>\n",
       "    <tr>\n",
       "      <th>3</th>\n",
       "      <td>2021-09-29 03:00:00</td>\n",
       "      <td>0.0</td>\n",
       "      <td>0.0</td>\n",
       "      <td>0.0</td>\n",
       "      <td>1</td>\n",
       "      <td>9</td>\n",
       "      <td>29</td>\n",
       "      <td>3</td>\n",
       "    </tr>\n",
       "    <tr>\n",
       "      <th>4</th>\n",
       "      <td>2021-09-29 04:00:00</td>\n",
       "      <td>0.0</td>\n",
       "      <td>0.0</td>\n",
       "      <td>0.0</td>\n",
       "      <td>1</td>\n",
       "      <td>9</td>\n",
       "      <td>29</td>\n",
       "      <td>4</td>\n",
       "    </tr>\n",
       "  </tbody>\n",
       "</table>\n",
       "</div>"
      ],
      "text/plain": [
       "                 Data  Normal (kWh)  Horario Economico (kWh)  \\\n",
       "0 2021-09-29 00:00:00           0.0                      0.0   \n",
       "1 2021-09-29 01:00:00           0.0                      0.0   \n",
       "2 2021-09-29 02:00:00           0.0                      0.0   \n",
       "3 2021-09-29 03:00:00           0.0                      0.0   \n",
       "4 2021-09-29 04:00:00           0.0                      0.0   \n",
       "\n",
       "   Autoconsumo (kWh)  Injecao na rede (kWh)  Data_month  Data_day  Data_hour  \n",
       "0                0.0                      1           9        29          0  \n",
       "1                0.0                      1           9        29          1  \n",
       "2                0.0                      1           9        29          2  \n",
       "3                0.0                      1           9        29          3  \n",
       "4                0.0                      1           9        29          4  "
      ]
     },
     "execution_count": 104,
     "metadata": {},
     "output_type": "execute_result"
    }
   ],
   "source": [
    "energy_1_copy.drop('Data_year', axis=1, inplace=True)\n",
    "energy_1_copy.drop('Data_minute', axis=1, inplace=True)\n",
    "energy_1_copy.drop('Data_second', axis=1, inplace=True)\n",
    "energy_1_copy.dropna(inplace=True)\n",
    "energy_1_copy.head()"
   ]
  },
  {
   "cell_type": "code",
   "execution_count": 105,
   "metadata": {},
   "outputs": [
    {
     "name": "stdout",
     "output_type": "stream",
     "text": [
      "<class 'pandas.core.frame.DataFrame'>\n",
      "RangeIndex: 2256 entries, 0 to 2255\n",
      "Data columns (total 8 columns):\n",
      " #   Column                   Non-Null Count  Dtype         \n",
      "---  ------                   --------------  -----         \n",
      " 0   Data                     2256 non-null   datetime64[ns]\n",
      " 1   Normal (kWh)             2256 non-null   float64       \n",
      " 2   Horario Economico (kWh)  2256 non-null   float64       \n",
      " 3   Autoconsumo (kWh)        2256 non-null   float64       \n",
      " 4   Injecao na rede (kWh)    2256 non-null   int64         \n",
      " 5   Data_month               2256 non-null   int32         \n",
      " 6   Data_day                 2256 non-null   int32         \n",
      " 7   Data_hour                2256 non-null   int32         \n",
      "dtypes: datetime64[ns](1), float64(3), int32(3), int64(1)\n",
      "memory usage: 114.7 KB\n"
     ]
    }
   ],
   "source": [
    "energy_1_copy.info()"
   ]
  },
  {
   "cell_type": "code",
   "execution_count": 88,
   "metadata": {},
   "outputs": [
    {
     "name": "stdout",
     "output_type": "stream",
     "text": [
      "<class 'pandas.core.frame.DataFrame'>\n",
      "RangeIndex: 2928 entries, 0 to 2927\n",
      "Data columns (total 12 columns):\n",
      " #   Column               Non-Null Count  Dtype  \n",
      "---  ------               --------------  -----  \n",
      " 0   dt                   2928 non-null   int64  \n",
      " 1   dt_iso               2928 non-null   object \n",
      " 2   temp                 2928 non-null   float64\n",
      " 3   feels_like           2928 non-null   float64\n",
      " 4   temp_min             2928 non-null   float64\n",
      " 5   temp_max             2928 non-null   float64\n",
      " 6   pressure             2928 non-null   int64  \n",
      " 7   humidity             2928 non-null   int64  \n",
      " 8   wind_speed           2928 non-null   float64\n",
      " 9   rain_1h              2928 non-null   float64\n",
      " 10  clouds_all           2928 non-null   int64  \n",
      " 11  weather_description  2928 non-null   int64  \n",
      "dtypes: float64(6), int64(5), object(1)\n",
      "memory usage: 274.6+ KB\n"
     ]
    }
   ],
   "source": [
    "meteo_1_copy.info()"
   ]
  },
  {
   "cell_type": "markdown",
   "metadata": {},
   "source": [
    "Now we need to do the same process but for the meteo dataset for the <em>dt</em> and <em>dt_iso</em> columns."
   ]
  },
  {
   "cell_type": "code",
   "execution_count": 89,
   "metadata": {},
   "outputs": [
    {
     "data": {
      "text/plain": [
       "0    2021-09-01 00:00:00 +0000 UTC\n",
       "1    2021-09-01 01:00:00 +0000 UTC\n",
       "2    2021-09-01 02:00:00 +0000 UTC\n",
       "3    2021-09-01 03:00:00 +0000 UTC\n",
       "4    2021-09-01 04:00:00 +0000 UTC\n",
       "Name: dt_iso, dtype: object"
      ]
     },
     "execution_count": 89,
     "metadata": {},
     "output_type": "execute_result"
    }
   ],
   "source": [
    "meteo_1_copy['dt_iso'].head()"
   ]
  },
  {
   "cell_type": "markdown",
   "metadata": {},
   "source": [
    "Since all dates have <em>+0000</em> and <em>UTC</em>, we don't need them."
   ]
  },
  {
   "cell_type": "code",
   "execution_count": 90,
   "metadata": {},
   "outputs": [
    {
     "data": {
      "text/plain": [
       "0    2021-09-01 00:00:00\n",
       "1    2021-09-01 01:00:00\n",
       "2    2021-09-01 02:00:00\n",
       "3    2021-09-01 03:00:00\n",
       "4    2021-09-01 04:00:00\n",
       "Name: dt_iso, dtype: object"
      ]
     },
     "execution_count": 90,
     "metadata": {},
     "output_type": "execute_result"
    }
   ],
   "source": [
    "meteo_1_copy['dt_iso'].replace(to_replace=r' \\+0000 UTC', value='', regex=True, inplace=True)\n",
    "meteo_1_copy['dt_iso'].head()"
   ]
  },
  {
   "cell_type": "code",
   "execution_count": 91,
   "metadata": {},
   "outputs": [
    {
     "data": {
      "text/plain": [
       "0   2021-09-01 00:00:00\n",
       "1   2021-09-01 01:00:00\n",
       "2   2021-09-01 02:00:00\n",
       "3   2021-09-01 03:00:00\n",
       "4   2021-09-01 04:00:00\n",
       "Name: dt_iso, dtype: datetime64[ns]"
      ]
     },
     "execution_count": 91,
     "metadata": {},
     "output_type": "execute_result"
    }
   ],
   "source": [
    "meteo_1_copy['dt_iso'] = pd.to_datetime(meteo_1_copy['dt_iso'], format='%Y-%m-%d %H:%M:%S', errors='coerce')\n",
    "assert meteo_1_copy['dt_iso'].isnull().sum()==0, 'missing record date'\n",
    "meteo_1_copy['dt_iso'].head()"
   ]
  },
  {
   "cell_type": "markdown",
   "metadata": {},
   "source": [
    "Since <em>dt</em> is just the same date as <em>dt_iso</em> but as a timestamp, we can remove it."
   ]
  },
  {
   "cell_type": "code",
   "execution_count": 92,
   "metadata": {},
   "outputs": [
    {
     "data": {
      "text/html": [
       "<div>\n",
       "<style scoped>\n",
       "    .dataframe tbody tr th:only-of-type {\n",
       "        vertical-align: middle;\n",
       "    }\n",
       "\n",
       "    .dataframe tbody tr th {\n",
       "        vertical-align: top;\n",
       "    }\n",
       "\n",
       "    .dataframe thead th {\n",
       "        text-align: right;\n",
       "    }\n",
       "</style>\n",
       "<table border=\"1\" class=\"dataframe\">\n",
       "  <thead>\n",
       "    <tr style=\"text-align: right;\">\n",
       "      <th></th>\n",
       "      <th>dt_iso</th>\n",
       "      <th>temp</th>\n",
       "      <th>feels_like</th>\n",
       "      <th>temp_min</th>\n",
       "      <th>temp_max</th>\n",
       "      <th>pressure</th>\n",
       "      <th>humidity</th>\n",
       "      <th>wind_speed</th>\n",
       "      <th>rain_1h</th>\n",
       "      <th>clouds_all</th>\n",
       "      <th>weather_description</th>\n",
       "    </tr>\n",
       "  </thead>\n",
       "  <tbody>\n",
       "    <tr>\n",
       "      <th>0</th>\n",
       "      <td>2021-09-01 00:00:00</td>\n",
       "      <td>18.74</td>\n",
       "      <td>18.84</td>\n",
       "      <td>15.72</td>\n",
       "      <td>20.34</td>\n",
       "      <td>1015</td>\n",
       "      <td>83</td>\n",
       "      <td>1.18</td>\n",
       "      <td>0.00</td>\n",
       "      <td>78</td>\n",
       "      <td>1</td>\n",
       "    </tr>\n",
       "    <tr>\n",
       "      <th>1</th>\n",
       "      <td>2021-09-01 01:00:00</td>\n",
       "      <td>18.73</td>\n",
       "      <td>18.83</td>\n",
       "      <td>15.72</td>\n",
       "      <td>20.34</td>\n",
       "      <td>1014</td>\n",
       "      <td>83</td>\n",
       "      <td>1.46</td>\n",
       "      <td>0.00</td>\n",
       "      <td>92</td>\n",
       "      <td>2</td>\n",
       "    </tr>\n",
       "    <tr>\n",
       "      <th>2</th>\n",
       "      <td>2021-09-01 02:00:00</td>\n",
       "      <td>17.84</td>\n",
       "      <td>17.98</td>\n",
       "      <td>16.72</td>\n",
       "      <td>20.34</td>\n",
       "      <td>1014</td>\n",
       "      <td>88</td>\n",
       "      <td>1.05</td>\n",
       "      <td>0.00</td>\n",
       "      <td>91</td>\n",
       "      <td>2</td>\n",
       "    </tr>\n",
       "    <tr>\n",
       "      <th>3</th>\n",
       "      <td>2021-09-01 03:00:00</td>\n",
       "      <td>18.27</td>\n",
       "      <td>18.40</td>\n",
       "      <td>16.68</td>\n",
       "      <td>20.34</td>\n",
       "      <td>1014</td>\n",
       "      <td>86</td>\n",
       "      <td>0.46</td>\n",
       "      <td>0.14</td>\n",
       "      <td>94</td>\n",
       "      <td>3</td>\n",
       "    </tr>\n",
       "    <tr>\n",
       "      <th>4</th>\n",
       "      <td>2021-09-01 04:00:00</td>\n",
       "      <td>17.81</td>\n",
       "      <td>17.97</td>\n",
       "      <td>16.12</td>\n",
       "      <td>20.34</td>\n",
       "      <td>1013</td>\n",
       "      <td>89</td>\n",
       "      <td>0.93</td>\n",
       "      <td>1.26</td>\n",
       "      <td>95</td>\n",
       "      <td>4</td>\n",
       "    </tr>\n",
       "  </tbody>\n",
       "</table>\n",
       "</div>"
      ],
      "text/plain": [
       "               dt_iso   temp  feels_like  temp_min  temp_max  pressure  \\\n",
       "0 2021-09-01 00:00:00  18.74       18.84     15.72     20.34      1015   \n",
       "1 2021-09-01 01:00:00  18.73       18.83     15.72     20.34      1014   \n",
       "2 2021-09-01 02:00:00  17.84       17.98     16.72     20.34      1014   \n",
       "3 2021-09-01 03:00:00  18.27       18.40     16.68     20.34      1014   \n",
       "4 2021-09-01 04:00:00  17.81       17.97     16.12     20.34      1013   \n",
       "\n",
       "   humidity  wind_speed  rain_1h  clouds_all  weather_description  \n",
       "0        83        1.18     0.00          78                    1  \n",
       "1        83        1.46     0.00          92                    2  \n",
       "2        88        1.05     0.00          91                    2  \n",
       "3        86        0.46     0.14          94                    3  \n",
       "4        89        0.93     1.26          95                    4  "
      ]
     },
     "execution_count": 92,
     "metadata": {},
     "output_type": "execute_result"
    }
   ],
   "source": [
    "meteo_1_copy.drop('dt', axis=1, inplace=True)\n",
    "meteo_1_copy.dropna(inplace=True)\n",
    "meteo_1_copy.head()"
   ]
  },
  {
   "cell_type": "code",
   "execution_count": 93,
   "metadata": {},
   "outputs": [],
   "source": [
    "meteo_1_copy['dt_iso_year'] = meteo_1_copy['dt_iso'].dt.year\n",
    "meteo_1_copy['dt_iso_month'] = meteo_1_copy['dt_iso'].dt.month\n",
    "meteo_1_copy['dt_iso_day'] = meteo_1_copy['dt_iso'].dt.day\n",
    "meteo_1_copy['dt_iso_hour'] = meteo_1_copy['dt_iso'].dt.hour\n",
    "meteo_1_copy['dt_iso_minute'] = meteo_1_copy['dt_iso'].dt.minute\n",
    "meteo_1_copy['dt_iso_second'] = meteo_1_copy['dt_iso'].dt.second"
   ]
  },
  {
   "cell_type": "code",
   "execution_count": 94,
   "metadata": {},
   "outputs": [
    {
     "name": "stdout",
     "output_type": "stream",
     "text": [
      "<class 'pandas.core.frame.DataFrame'>\n",
      "RangeIndex: 2928 entries, 0 to 2927\n",
      "Data columns (total 17 columns):\n",
      " #   Column               Non-Null Count  Dtype         \n",
      "---  ------               --------------  -----         \n",
      " 0   dt_iso               2928 non-null   datetime64[ns]\n",
      " 1   temp                 2928 non-null   float64       \n",
      " 2   feels_like           2928 non-null   float64       \n",
      " 3   temp_min             2928 non-null   float64       \n",
      " 4   temp_max             2928 non-null   float64       \n",
      " 5   pressure             2928 non-null   int64         \n",
      " 6   humidity             2928 non-null   int64         \n",
      " 7   wind_speed           2928 non-null   float64       \n",
      " 8   rain_1h              2928 non-null   float64       \n",
      " 9   clouds_all           2928 non-null   int64         \n",
      " 10  weather_description  2928 non-null   int64         \n",
      " 11  dt_iso_year          2928 non-null   int32         \n",
      " 12  dt_iso_month         2928 non-null   int32         \n",
      " 13  dt_iso_day           2928 non-null   int32         \n",
      " 14  dt_iso_hour          2928 non-null   int32         \n",
      " 15  dt_iso_minute        2928 non-null   int32         \n",
      " 16  dt_iso_second        2928 non-null   int32         \n",
      "dtypes: datetime64[ns](1), float64(6), int32(6), int64(4)\n",
      "memory usage: 320.4 KB\n"
     ]
    }
   ],
   "source": [
    "meteo_1_copy.info()"
   ]
  },
  {
   "cell_type": "code",
   "execution_count": 95,
   "metadata": {},
   "outputs": [
    {
     "data": {
      "text/plain": [
       "dt_iso                 2928\n",
       "temp                   1279\n",
       "feels_like             1476\n",
       "temp_min                262\n",
       "temp_max                256\n",
       "pressure                 35\n",
       "humidity                 70\n",
       "wind_speed              569\n",
       "rain_1h                 174\n",
       "clouds_all              101\n",
       "weather_description       8\n",
       "dt_iso_year               1\n",
       "dt_iso_month              4\n",
       "dt_iso_day               31\n",
       "dt_iso_hour              24\n",
       "dt_iso_minute             1\n",
       "dt_iso_second             1\n",
       "dtype: int64"
      ]
     },
     "execution_count": 95,
     "metadata": {},
     "output_type": "execute_result"
    }
   ],
   "source": [
    "meteo_1_copy.nunique()"
   ]
  },
  {
   "cell_type": "markdown",
   "metadata": {},
   "source": [
    "Since the <em>dt_iso_year</em>, <em>dt_iso_minute</em> and <em>dt_iso_second</em> only have one value we can drop them."
   ]
  },
  {
   "cell_type": "code",
   "execution_count": 96,
   "metadata": {},
   "outputs": [
    {
     "data": {
      "text/html": [
       "<div>\n",
       "<style scoped>\n",
       "    .dataframe tbody tr th:only-of-type {\n",
       "        vertical-align: middle;\n",
       "    }\n",
       "\n",
       "    .dataframe tbody tr th {\n",
       "        vertical-align: top;\n",
       "    }\n",
       "\n",
       "    .dataframe thead th {\n",
       "        text-align: right;\n",
       "    }\n",
       "</style>\n",
       "<table border=\"1\" class=\"dataframe\">\n",
       "  <thead>\n",
       "    <tr style=\"text-align: right;\">\n",
       "      <th></th>\n",
       "      <th>dt_iso</th>\n",
       "      <th>temp</th>\n",
       "      <th>feels_like</th>\n",
       "      <th>temp_min</th>\n",
       "      <th>temp_max</th>\n",
       "      <th>pressure</th>\n",
       "      <th>humidity</th>\n",
       "      <th>wind_speed</th>\n",
       "      <th>rain_1h</th>\n",
       "      <th>clouds_all</th>\n",
       "      <th>weather_description</th>\n",
       "      <th>dt_iso_month</th>\n",
       "      <th>dt_iso_day</th>\n",
       "      <th>dt_iso_hour</th>\n",
       "    </tr>\n",
       "  </thead>\n",
       "  <tbody>\n",
       "    <tr>\n",
       "      <th>0</th>\n",
       "      <td>2021-09-01 00:00:00</td>\n",
       "      <td>18.74</td>\n",
       "      <td>18.84</td>\n",
       "      <td>15.72</td>\n",
       "      <td>20.34</td>\n",
       "      <td>1015</td>\n",
       "      <td>83</td>\n",
       "      <td>1.18</td>\n",
       "      <td>0.00</td>\n",
       "      <td>78</td>\n",
       "      <td>1</td>\n",
       "      <td>9</td>\n",
       "      <td>1</td>\n",
       "      <td>0</td>\n",
       "    </tr>\n",
       "    <tr>\n",
       "      <th>1</th>\n",
       "      <td>2021-09-01 01:00:00</td>\n",
       "      <td>18.73</td>\n",
       "      <td>18.83</td>\n",
       "      <td>15.72</td>\n",
       "      <td>20.34</td>\n",
       "      <td>1014</td>\n",
       "      <td>83</td>\n",
       "      <td>1.46</td>\n",
       "      <td>0.00</td>\n",
       "      <td>92</td>\n",
       "      <td>2</td>\n",
       "      <td>9</td>\n",
       "      <td>1</td>\n",
       "      <td>1</td>\n",
       "    </tr>\n",
       "    <tr>\n",
       "      <th>2</th>\n",
       "      <td>2021-09-01 02:00:00</td>\n",
       "      <td>17.84</td>\n",
       "      <td>17.98</td>\n",
       "      <td>16.72</td>\n",
       "      <td>20.34</td>\n",
       "      <td>1014</td>\n",
       "      <td>88</td>\n",
       "      <td>1.05</td>\n",
       "      <td>0.00</td>\n",
       "      <td>91</td>\n",
       "      <td>2</td>\n",
       "      <td>9</td>\n",
       "      <td>1</td>\n",
       "      <td>2</td>\n",
       "    </tr>\n",
       "    <tr>\n",
       "      <th>3</th>\n",
       "      <td>2021-09-01 03:00:00</td>\n",
       "      <td>18.27</td>\n",
       "      <td>18.40</td>\n",
       "      <td>16.68</td>\n",
       "      <td>20.34</td>\n",
       "      <td>1014</td>\n",
       "      <td>86</td>\n",
       "      <td>0.46</td>\n",
       "      <td>0.14</td>\n",
       "      <td>94</td>\n",
       "      <td>3</td>\n",
       "      <td>9</td>\n",
       "      <td>1</td>\n",
       "      <td>3</td>\n",
       "    </tr>\n",
       "    <tr>\n",
       "      <th>4</th>\n",
       "      <td>2021-09-01 04:00:00</td>\n",
       "      <td>17.81</td>\n",
       "      <td>17.97</td>\n",
       "      <td>16.12</td>\n",
       "      <td>20.34</td>\n",
       "      <td>1013</td>\n",
       "      <td>89</td>\n",
       "      <td>0.93</td>\n",
       "      <td>1.26</td>\n",
       "      <td>95</td>\n",
       "      <td>4</td>\n",
       "      <td>9</td>\n",
       "      <td>1</td>\n",
       "      <td>4</td>\n",
       "    </tr>\n",
       "  </tbody>\n",
       "</table>\n",
       "</div>"
      ],
      "text/plain": [
       "               dt_iso   temp  feels_like  temp_min  temp_max  pressure  \\\n",
       "0 2021-09-01 00:00:00  18.74       18.84     15.72     20.34      1015   \n",
       "1 2021-09-01 01:00:00  18.73       18.83     15.72     20.34      1014   \n",
       "2 2021-09-01 02:00:00  17.84       17.98     16.72     20.34      1014   \n",
       "3 2021-09-01 03:00:00  18.27       18.40     16.68     20.34      1014   \n",
       "4 2021-09-01 04:00:00  17.81       17.97     16.12     20.34      1013   \n",
       "\n",
       "   humidity  wind_speed  rain_1h  clouds_all  weather_description  \\\n",
       "0        83        1.18     0.00          78                    1   \n",
       "1        83        1.46     0.00          92                    2   \n",
       "2        88        1.05     0.00          91                    2   \n",
       "3        86        0.46     0.14          94                    3   \n",
       "4        89        0.93     1.26          95                    4   \n",
       "\n",
       "   dt_iso_month  dt_iso_day  dt_iso_hour  \n",
       "0             9           1            0  \n",
       "1             9           1            1  \n",
       "2             9           1            2  \n",
       "3             9           1            3  \n",
       "4             9           1            4  "
      ]
     },
     "execution_count": 96,
     "metadata": {},
     "output_type": "execute_result"
    }
   ],
   "source": [
    "meteo_1_copy.drop(['dt_iso_year'], axis=1, inplace=True)\n",
    "meteo_1_copy.drop(['dt_iso_minute'], axis=1, inplace=True)\n",
    "meteo_1_copy.drop(['dt_iso_second'], axis=1, inplace=True)\n",
    "meteo_1_copy.head()"
   ]
  },
  {
   "cell_type": "code",
   "execution_count": 97,
   "metadata": {},
   "outputs": [
    {
     "name": "stdout",
     "output_type": "stream",
     "text": [
      "<class 'pandas.core.frame.DataFrame'>\n",
      "RangeIndex: 2256 entries, 0 to 2255\n",
      "Data columns (total 7 columns):\n",
      " #   Column                   Non-Null Count  Dtype         \n",
      "---  ------                   --------------  -----         \n",
      " 0   Data                     2256 non-null   datetime64[ns]\n",
      " 1   Normal (kWh)             2256 non-null   float64       \n",
      " 2   Horario Economico (kWh)  2256 non-null   float64       \n",
      " 3   Autoconsumo (kWh)        2256 non-null   float64       \n",
      " 4   Injecao na rede (kWh)    2256 non-null   int64         \n",
      " 5   Data_month               2256 non-null   int32         \n",
      " 6   Data_day                 2256 non-null   int32         \n",
      "dtypes: datetime64[ns](1), float64(3), int32(2), int64(1)\n",
      "memory usage: 105.9 KB\n"
     ]
    }
   ],
   "source": [
    "energy_1_copy.info()"
   ]
  },
  {
   "cell_type": "code",
   "execution_count": 98,
   "metadata": {},
   "outputs": [
    {
     "name": "stdout",
     "output_type": "stream",
     "text": [
      "<class 'pandas.core.frame.DataFrame'>\n",
      "RangeIndex: 2928 entries, 0 to 2927\n",
      "Data columns (total 14 columns):\n",
      " #   Column               Non-Null Count  Dtype         \n",
      "---  ------               --------------  -----         \n",
      " 0   dt_iso               2928 non-null   datetime64[ns]\n",
      " 1   temp                 2928 non-null   float64       \n",
      " 2   feels_like           2928 non-null   float64       \n",
      " 3   temp_min             2928 non-null   float64       \n",
      " 4   temp_max             2928 non-null   float64       \n",
      " 5   pressure             2928 non-null   int64         \n",
      " 6   humidity             2928 non-null   int64         \n",
      " 7   wind_speed           2928 non-null   float64       \n",
      " 8   rain_1h              2928 non-null   float64       \n",
      " 9   clouds_all           2928 non-null   int64         \n",
      " 10  weather_description  2928 non-null   int64         \n",
      " 11  dt_iso_month         2928 non-null   int32         \n",
      " 12  dt_iso_day           2928 non-null   int32         \n",
      " 13  dt_iso_hour          2928 non-null   int32         \n",
      "dtypes: datetime64[ns](1), float64(6), int32(3), int64(4)\n",
      "memory usage: 286.1 KB\n"
     ]
    }
   ],
   "source": [
    "meteo_1_copy.info()"
   ]
  },
  {
   "cell_type": "code",
   "execution_count": 109,
   "metadata": {},
   "outputs": [
    {
     "data": {
      "text/html": [
       "<div>\n",
       "<style scoped>\n",
       "    .dataframe tbody tr th:only-of-type {\n",
       "        vertical-align: middle;\n",
       "    }\n",
       "\n",
       "    .dataframe tbody tr th {\n",
       "        vertical-align: top;\n",
       "    }\n",
       "\n",
       "    .dataframe thead th {\n",
       "        text-align: right;\n",
       "    }\n",
       "</style>\n",
       "<table border=\"1\" class=\"dataframe\">\n",
       "  <thead>\n",
       "    <tr style=\"text-align: right;\">\n",
       "      <th></th>\n",
       "      <th>Data</th>\n",
       "      <th>Normal (kWh)</th>\n",
       "      <th>Horario Economico (kWh)</th>\n",
       "      <th>Autoconsumo (kWh)</th>\n",
       "      <th>Injecao na rede (kWh)</th>\n",
       "      <th>Data_month</th>\n",
       "      <th>Data_day</th>\n",
       "      <th>Data_hour</th>\n",
       "    </tr>\n",
       "  </thead>\n",
       "  <tbody>\n",
       "    <tr>\n",
       "      <th>0</th>\n",
       "      <td>2021-09-29 00:00:00</td>\n",
       "      <td>0.0</td>\n",
       "      <td>0.0</td>\n",
       "      <td>0.0</td>\n",
       "      <td>1</td>\n",
       "      <td>9</td>\n",
       "      <td>29</td>\n",
       "      <td>0</td>\n",
       "    </tr>\n",
       "    <tr>\n",
       "      <th>1</th>\n",
       "      <td>2021-09-29 01:00:00</td>\n",
       "      <td>0.0</td>\n",
       "      <td>0.0</td>\n",
       "      <td>0.0</td>\n",
       "      <td>1</td>\n",
       "      <td>9</td>\n",
       "      <td>29</td>\n",
       "      <td>1</td>\n",
       "    </tr>\n",
       "    <tr>\n",
       "      <th>2</th>\n",
       "      <td>2021-09-29 02:00:00</td>\n",
       "      <td>0.0</td>\n",
       "      <td>0.0</td>\n",
       "      <td>0.0</td>\n",
       "      <td>1</td>\n",
       "      <td>9</td>\n",
       "      <td>29</td>\n",
       "      <td>2</td>\n",
       "    </tr>\n",
       "    <tr>\n",
       "      <th>3</th>\n",
       "      <td>2021-09-29 03:00:00</td>\n",
       "      <td>0.0</td>\n",
       "      <td>0.0</td>\n",
       "      <td>0.0</td>\n",
       "      <td>1</td>\n",
       "      <td>9</td>\n",
       "      <td>29</td>\n",
       "      <td>3</td>\n",
       "    </tr>\n",
       "    <tr>\n",
       "      <th>4</th>\n",
       "      <td>2021-09-29 04:00:00</td>\n",
       "      <td>0.0</td>\n",
       "      <td>0.0</td>\n",
       "      <td>0.0</td>\n",
       "      <td>1</td>\n",
       "      <td>9</td>\n",
       "      <td>29</td>\n",
       "      <td>4</td>\n",
       "    </tr>\n",
       "  </tbody>\n",
       "</table>\n",
       "</div>"
      ],
      "text/plain": [
       "                 Data  Normal (kWh)  Horario Economico (kWh)  \\\n",
       "0 2021-09-29 00:00:00           0.0                      0.0   \n",
       "1 2021-09-29 01:00:00           0.0                      0.0   \n",
       "2 2021-09-29 02:00:00           0.0                      0.0   \n",
       "3 2021-09-29 03:00:00           0.0                      0.0   \n",
       "4 2021-09-29 04:00:00           0.0                      0.0   \n",
       "\n",
       "   Autoconsumo (kWh)  Injecao na rede (kWh)  Data_month  Data_day  Data_hour  \n",
       "0                0.0                      1           9        29          0  \n",
       "1                0.0                      1           9        29          1  \n",
       "2                0.0                      1           9        29          2  \n",
       "3                0.0                      1           9        29          3  \n",
       "4                0.0                      1           9        29          4  "
      ]
     },
     "execution_count": 109,
     "metadata": {},
     "output_type": "execute_result"
    }
   ],
   "source": [
    "energy_1_copy.head()"
   ]
  },
  {
   "cell_type": "code",
   "execution_count": 110,
   "metadata": {
    "scrolled": true
   },
   "outputs": [
    {
     "data": {
      "text/html": [
       "<div>\n",
       "<style scoped>\n",
       "    .dataframe tbody tr th:only-of-type {\n",
       "        vertical-align: middle;\n",
       "    }\n",
       "\n",
       "    .dataframe tbody tr th {\n",
       "        vertical-align: top;\n",
       "    }\n",
       "\n",
       "    .dataframe thead th {\n",
       "        text-align: right;\n",
       "    }\n",
       "</style>\n",
       "<table border=\"1\" class=\"dataframe\">\n",
       "  <thead>\n",
       "    <tr style=\"text-align: right;\">\n",
       "      <th></th>\n",
       "      <th>dt_iso</th>\n",
       "      <th>temp</th>\n",
       "      <th>feels_like</th>\n",
       "      <th>temp_min</th>\n",
       "      <th>temp_max</th>\n",
       "      <th>pressure</th>\n",
       "      <th>humidity</th>\n",
       "      <th>wind_speed</th>\n",
       "      <th>rain_1h</th>\n",
       "      <th>clouds_all</th>\n",
       "      <th>weather_description</th>\n",
       "      <th>dt_iso_month</th>\n",
       "      <th>dt_iso_day</th>\n",
       "      <th>dt_iso_hour</th>\n",
       "    </tr>\n",
       "  </thead>\n",
       "  <tbody>\n",
       "    <tr>\n",
       "      <th>0</th>\n",
       "      <td>2021-09-01 00:00:00</td>\n",
       "      <td>18.74</td>\n",
       "      <td>18.84</td>\n",
       "      <td>15.72</td>\n",
       "      <td>20.34</td>\n",
       "      <td>1015</td>\n",
       "      <td>83</td>\n",
       "      <td>1.18</td>\n",
       "      <td>0.00</td>\n",
       "      <td>78</td>\n",
       "      <td>1</td>\n",
       "      <td>9</td>\n",
       "      <td>1</td>\n",
       "      <td>0</td>\n",
       "    </tr>\n",
       "    <tr>\n",
       "      <th>1</th>\n",
       "      <td>2021-09-01 01:00:00</td>\n",
       "      <td>18.73</td>\n",
       "      <td>18.83</td>\n",
       "      <td>15.72</td>\n",
       "      <td>20.34</td>\n",
       "      <td>1014</td>\n",
       "      <td>83</td>\n",
       "      <td>1.46</td>\n",
       "      <td>0.00</td>\n",
       "      <td>92</td>\n",
       "      <td>2</td>\n",
       "      <td>9</td>\n",
       "      <td>1</td>\n",
       "      <td>1</td>\n",
       "    </tr>\n",
       "    <tr>\n",
       "      <th>2</th>\n",
       "      <td>2021-09-01 02:00:00</td>\n",
       "      <td>17.84</td>\n",
       "      <td>17.98</td>\n",
       "      <td>16.72</td>\n",
       "      <td>20.34</td>\n",
       "      <td>1014</td>\n",
       "      <td>88</td>\n",
       "      <td>1.05</td>\n",
       "      <td>0.00</td>\n",
       "      <td>91</td>\n",
       "      <td>2</td>\n",
       "      <td>9</td>\n",
       "      <td>1</td>\n",
       "      <td>2</td>\n",
       "    </tr>\n",
       "    <tr>\n",
       "      <th>3</th>\n",
       "      <td>2021-09-01 03:00:00</td>\n",
       "      <td>18.27</td>\n",
       "      <td>18.40</td>\n",
       "      <td>16.68</td>\n",
       "      <td>20.34</td>\n",
       "      <td>1014</td>\n",
       "      <td>86</td>\n",
       "      <td>0.46</td>\n",
       "      <td>0.14</td>\n",
       "      <td>94</td>\n",
       "      <td>3</td>\n",
       "      <td>9</td>\n",
       "      <td>1</td>\n",
       "      <td>3</td>\n",
       "    </tr>\n",
       "    <tr>\n",
       "      <th>4</th>\n",
       "      <td>2021-09-01 04:00:00</td>\n",
       "      <td>17.81</td>\n",
       "      <td>17.97</td>\n",
       "      <td>16.12</td>\n",
       "      <td>20.34</td>\n",
       "      <td>1013</td>\n",
       "      <td>89</td>\n",
       "      <td>0.93</td>\n",
       "      <td>1.26</td>\n",
       "      <td>95</td>\n",
       "      <td>4</td>\n",
       "      <td>9</td>\n",
       "      <td>1</td>\n",
       "      <td>4</td>\n",
       "    </tr>\n",
       "  </tbody>\n",
       "</table>\n",
       "</div>"
      ],
      "text/plain": [
       "               dt_iso   temp  feels_like  temp_min  temp_max  pressure  \\\n",
       "0 2021-09-01 00:00:00  18.74       18.84     15.72     20.34      1015   \n",
       "1 2021-09-01 01:00:00  18.73       18.83     15.72     20.34      1014   \n",
       "2 2021-09-01 02:00:00  17.84       17.98     16.72     20.34      1014   \n",
       "3 2021-09-01 03:00:00  18.27       18.40     16.68     20.34      1014   \n",
       "4 2021-09-01 04:00:00  17.81       17.97     16.12     20.34      1013   \n",
       "\n",
       "   humidity  wind_speed  rain_1h  clouds_all  weather_description  \\\n",
       "0        83        1.18     0.00          78                    1   \n",
       "1        83        1.46     0.00          92                    2   \n",
       "2        88        1.05     0.00          91                    2   \n",
       "3        86        0.46     0.14          94                    3   \n",
       "4        89        0.93     1.26          95                    4   \n",
       "\n",
       "   dt_iso_month  dt_iso_day  dt_iso_hour  \n",
       "0             9           1            0  \n",
       "1             9           1            1  \n",
       "2             9           1            2  \n",
       "3             9           1            3  \n",
       "4             9           1            4  "
      ]
     },
     "execution_count": 110,
     "metadata": {},
     "output_type": "execute_result"
    }
   ],
   "source": [
    "meteo_1_copy.head()"
   ]
  },
  {
   "cell_type": "markdown",
   "metadata": {},
   "source": [
    "## 3. Merging datasets\n",
    "\n",
    "Now that we are done manipulating the data we are now ready to merge both csv's.\n",
    "For this we are going to be doing that based on the dates of both, more precisely the <em>Data</em> and <em>dt_iso</em> features and it's associates (aka the one with the month, day and hour represented)"
   ]
  },
  {
   "cell_type": "code",
   "execution_count": 114,
   "metadata": {},
   "outputs": [
    {
     "name": "stdout",
     "output_type": "stream",
     "text": [
      "<class 'pandas.core.frame.DataFrame'>\n",
      "RangeIndex: 2256 entries, 0 to 2255\n",
      "Data columns (total 18 columns):\n",
      " #   Column                   Non-Null Count  Dtype         \n",
      "---  ------                   --------------  -----         \n",
      " 0   Data                     2256 non-null   datetime64[ns]\n",
      " 1   Normal (kWh)             2256 non-null   float64       \n",
      " 2   Horario Economico (kWh)  2256 non-null   float64       \n",
      " 3   Autoconsumo (kWh)        2256 non-null   float64       \n",
      " 4   Injecao na rede (kWh)    2256 non-null   int64         \n",
      " 5   Data_month               2256 non-null   int32         \n",
      " 6   Data_day                 2256 non-null   int32         \n",
      " 7   Data_hour                2256 non-null   int32         \n",
      " 8   temp                     2256 non-null   float64       \n",
      " 9   feels_like               2256 non-null   float64       \n",
      " 10  temp_min                 2256 non-null   float64       \n",
      " 11  temp_max                 2256 non-null   float64       \n",
      " 12  pressure                 2256 non-null   int64         \n",
      " 13  humidity                 2256 non-null   int64         \n",
      " 14  wind_speed               2256 non-null   float64       \n",
      " 15  rain_1h                  2256 non-null   float64       \n",
      " 16  clouds_all               2256 non-null   int64         \n",
      " 17  weather_description      2256 non-null   int64         \n",
      "dtypes: datetime64[ns](1), float64(9), int32(3), int64(5)\n",
      "memory usage: 290.9 KB\n"
     ]
    }
   ],
   "source": [
    "# Merge based on 'Date' column\n",
    "merged_data = pd.merge(energy_1_copy, meteo_1_copy, left_on='Data', right_on='dt_iso', how='inner')\n",
    "\n",
    "# Drop duplicate or unnecessary columns after merging if needed\n",
    "merged_data = merged_data.drop(['dt_iso', 'dt_iso_month', 'dt_iso_day', 'dt_iso_hour'], axis=1)\n",
    "\n",
    "merged_data.info()"
   ]
  }
 ],
 "metadata": {
  "kernelspec": {
   "display_name": "Python 3 (ipykernel)",
   "language": "python",
   "name": "python3"
  },
  "language_info": {
   "codemirror_mode": {
    "name": "ipython",
    "version": 3
   },
   "file_extension": ".py",
   "mimetype": "text/x-python",
   "name": "python",
   "nbconvert_exporter": "python",
   "pygments_lexer": "ipython3",
   "version": "3.10.13"
  }
 },
 "nbformat": 4,
 "nbformat_minor": 4
}
