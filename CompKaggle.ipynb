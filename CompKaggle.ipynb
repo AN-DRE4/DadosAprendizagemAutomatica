{
 "cells": [
  {
   "cell_type": "markdown",
   "metadata": {},
   "source": [
    "# Feature Engineering, Decision Tree Pruning and Hyperparameter Tuning"
   ]
  },
  {
   "cell_type": "markdown",
   "metadata": {
    "tags": []
   },
   "source": [
    "### The Data\n",
    "We will be using the dataset <em>incidents.csv</em>. \n",
    "\n",
    "This dataset contains 5000 cases and 13 features, including:\n",
    "\n",
    "- city_name\n",
    "- magnitude_of_delay\n",
    "- delay_in_seconds\n",
    "- affected_roads\n",
    "- record_date\n",
    "- luminosity\n",
    "- avg_temperature\n",
    "- avg_atm_pressure\n",
    "- avg_humidity\n",
    "- avg_wind_speed\n",
    "- avg_precipitation\n",
    "- avg_rain\n",
    "- incidents"
   ]
  },
  {
   "cell_type": "markdown",
   "metadata": {
    "tags": []
   },
   "source": [
    "## Import Libraries"
   ]
  },
  {
   "cell_type": "code",
   "execution_count": 34,
   "metadata": {},
   "outputs": [],
   "source": [
    "import pandas as pd\n",
    "import numpy as np\n",
    "import matplotlib.pyplot as plt\n",
    "import seaborn as sns\n",
    "%matplotlib inline"
   ]
  },
  {
   "cell_type": "markdown",
   "metadata": {
    "tags": []
   },
   "source": [
    "## Get the data"
   ]
  },
  {
   "cell_type": "code",
   "execution_count": 35,
   "metadata": {},
   "outputs": [],
   "source": [
    "energy_1 = pd.read_csv('energia_202109-202112.csv')\n",
    "energy_2 = pd.read_csv('energia_202201-202212.csv')\n",
    "energy_test = pd.read_csv('energia_202301-202304.csv')\n",
    "\n",
    "meteo_1 = pd.read_csv('meteo_202109-202112.csv')\n",
    "meteo_2 = pd.read_csv('meteo_202201-202212.csv')\n",
    "meteo_test = pd.read_csv('meteo_202301-202304.csv')"
   ]
  },
  {
   "cell_type": "code",
   "execution_count": 36,
   "metadata": {},
   "outputs": [
    {
     "data": {
      "text/plain": [
       "Index(['Data', 'Hora', 'Normal (kWh)', 'Horario Economico (kWh)',\n",
       "       'Autoconsumo (kWh)', 'Injecao na rede (kWh)'],\n",
       "      dtype='object')"
      ]
     },
     "execution_count": 36,
     "metadata": {},
     "output_type": "execute_result"
    }
   ],
   "source": [
    "energy_1.columns"
   ]
  },
  {
   "cell_type": "code",
   "execution_count": 37,
   "metadata": {},
   "outputs": [
    {
     "data": {
      "text/html": [
       "<div>\n",
       "<style scoped>\n",
       "    .dataframe tbody tr th:only-of-type {\n",
       "        vertical-align: middle;\n",
       "    }\n",
       "\n",
       "    .dataframe tbody tr th {\n",
       "        vertical-align: top;\n",
       "    }\n",
       "\n",
       "    .dataframe thead th {\n",
       "        text-align: right;\n",
       "    }\n",
       "</style>\n",
       "<table border=\"1\" class=\"dataframe\">\n",
       "  <thead>\n",
       "    <tr style=\"text-align: right;\">\n",
       "      <th></th>\n",
       "      <th>Data</th>\n",
       "      <th>Hora</th>\n",
       "      <th>Normal (kWh)</th>\n",
       "      <th>Horario Economico (kWh)</th>\n",
       "      <th>Autoconsumo (kWh)</th>\n",
       "      <th>Injecao na rede (kWh)</th>\n",
       "    </tr>\n",
       "  </thead>\n",
       "  <tbody>\n",
       "    <tr>\n",
       "      <th>0</th>\n",
       "      <td>2021-09-29</td>\n",
       "      <td>0</td>\n",
       "      <td>0.0</td>\n",
       "      <td>0.0</td>\n",
       "      <td>0.0</td>\n",
       "      <td>NaN</td>\n",
       "    </tr>\n",
       "    <tr>\n",
       "      <th>1</th>\n",
       "      <td>2021-09-29</td>\n",
       "      <td>1</td>\n",
       "      <td>0.0</td>\n",
       "      <td>0.0</td>\n",
       "      <td>0.0</td>\n",
       "      <td>NaN</td>\n",
       "    </tr>\n",
       "    <tr>\n",
       "      <th>2</th>\n",
       "      <td>2021-09-29</td>\n",
       "      <td>2</td>\n",
       "      <td>0.0</td>\n",
       "      <td>0.0</td>\n",
       "      <td>0.0</td>\n",
       "      <td>NaN</td>\n",
       "    </tr>\n",
       "    <tr>\n",
       "      <th>3</th>\n",
       "      <td>2021-09-29</td>\n",
       "      <td>3</td>\n",
       "      <td>0.0</td>\n",
       "      <td>0.0</td>\n",
       "      <td>0.0</td>\n",
       "      <td>NaN</td>\n",
       "    </tr>\n",
       "    <tr>\n",
       "      <th>4</th>\n",
       "      <td>2021-09-29</td>\n",
       "      <td>4</td>\n",
       "      <td>0.0</td>\n",
       "      <td>0.0</td>\n",
       "      <td>0.0</td>\n",
       "      <td>NaN</td>\n",
       "    </tr>\n",
       "  </tbody>\n",
       "</table>\n",
       "</div>"
      ],
      "text/plain": [
       "         Data  Hora  Normal (kWh)  Horario Economico (kWh)  Autoconsumo (kWh)  \\\n",
       "0  2021-09-29     0           0.0                      0.0                0.0   \n",
       "1  2021-09-29     1           0.0                      0.0                0.0   \n",
       "2  2021-09-29     2           0.0                      0.0                0.0   \n",
       "3  2021-09-29     3           0.0                      0.0                0.0   \n",
       "4  2021-09-29     4           0.0                      0.0                0.0   \n",
       "\n",
       "  Injecao na rede (kWh)  \n",
       "0                   NaN  \n",
       "1                   NaN  \n",
       "2                   NaN  \n",
       "3                   NaN  \n",
       "4                   NaN  "
      ]
     },
     "execution_count": 37,
     "metadata": {},
     "output_type": "execute_result"
    }
   ],
   "source": [
    "energy_1.head()"
   ]
  },
  {
   "cell_type": "code",
   "execution_count": 38,
   "metadata": {},
   "outputs": [
    {
     "data": {
      "text/html": [
       "<div>\n",
       "<style scoped>\n",
       "    .dataframe tbody tr th:only-of-type {\n",
       "        vertical-align: middle;\n",
       "    }\n",
       "\n",
       "    .dataframe tbody tr th {\n",
       "        vertical-align: top;\n",
       "    }\n",
       "\n",
       "    .dataframe thead th {\n",
       "        text-align: right;\n",
       "    }\n",
       "</style>\n",
       "<table border=\"1\" class=\"dataframe\">\n",
       "  <thead>\n",
       "    <tr style=\"text-align: right;\">\n",
       "      <th></th>\n",
       "      <th>Data</th>\n",
       "      <th>Hora</th>\n",
       "      <th>Normal (kWh)</th>\n",
       "      <th>Horario Economico (kWh)</th>\n",
       "      <th>Autoconsumo (kWh)</th>\n",
       "      <th>Injecao na rede (kWh)</th>\n",
       "    </tr>\n",
       "  </thead>\n",
       "  <tbody>\n",
       "    <tr>\n",
       "      <th>0</th>\n",
       "      <td>2022-01-01</td>\n",
       "      <td>0</td>\n",
       "      <td>0.0</td>\n",
       "      <td>0.486</td>\n",
       "      <td>0.0</td>\n",
       "      <td>NaN</td>\n",
       "    </tr>\n",
       "    <tr>\n",
       "      <th>1</th>\n",
       "      <td>2022-01-01</td>\n",
       "      <td>1</td>\n",
       "      <td>0.0</td>\n",
       "      <td>0.429</td>\n",
       "      <td>0.0</td>\n",
       "      <td>NaN</td>\n",
       "    </tr>\n",
       "    <tr>\n",
       "      <th>2</th>\n",
       "      <td>2022-01-01</td>\n",
       "      <td>2</td>\n",
       "      <td>0.0</td>\n",
       "      <td>0.463</td>\n",
       "      <td>0.0</td>\n",
       "      <td>NaN</td>\n",
       "    </tr>\n",
       "    <tr>\n",
       "      <th>3</th>\n",
       "      <td>2022-01-01</td>\n",
       "      <td>3</td>\n",
       "      <td>0.0</td>\n",
       "      <td>0.545</td>\n",
       "      <td>0.0</td>\n",
       "      <td>NaN</td>\n",
       "    </tr>\n",
       "    <tr>\n",
       "      <th>4</th>\n",
       "      <td>2022-01-01</td>\n",
       "      <td>4</td>\n",
       "      <td>0.0</td>\n",
       "      <td>0.439</td>\n",
       "      <td>0.0</td>\n",
       "      <td>NaN</td>\n",
       "    </tr>\n",
       "  </tbody>\n",
       "</table>\n",
       "</div>"
      ],
      "text/plain": [
       "         Data  Hora  Normal (kWh)  Horario Economico (kWh)  Autoconsumo (kWh)  \\\n",
       "0  2022-01-01     0           0.0                    0.486                0.0   \n",
       "1  2022-01-01     1           0.0                    0.429                0.0   \n",
       "2  2022-01-01     2           0.0                    0.463                0.0   \n",
       "3  2022-01-01     3           0.0                    0.545                0.0   \n",
       "4  2022-01-01     4           0.0                    0.439                0.0   \n",
       "\n",
       "  Injecao na rede (kWh)  \n",
       "0                   NaN  \n",
       "1                   NaN  \n",
       "2                   NaN  \n",
       "3                   NaN  \n",
       "4                   NaN  "
      ]
     },
     "execution_count": 38,
     "metadata": {},
     "output_type": "execute_result"
    }
   ],
   "source": [
    "energy_2.head()"
   ]
  },
  {
   "cell_type": "code",
   "execution_count": 39,
   "metadata": {},
   "outputs": [
    {
     "name": "stdout",
     "output_type": "stream",
     "text": [
      "<class 'pandas.core.frame.DataFrame'>\n",
      "RangeIndex: 2256 entries, 0 to 2255\n",
      "Data columns (total 6 columns):\n",
      " #   Column                   Non-Null Count  Dtype  \n",
      "---  ------                   --------------  -----  \n",
      " 0   Data                     2256 non-null   object \n",
      " 1   Hora                     2256 non-null   int64  \n",
      " 2   Normal (kWh)             2256 non-null   float64\n",
      " 3   Horario Economico (kWh)  2256 non-null   float64\n",
      " 4   Autoconsumo (kWh)        2256 non-null   float64\n",
      " 5   Injecao na rede (kWh)    566 non-null    object \n",
      "dtypes: float64(3), int64(1), object(2)\n",
      "memory usage: 105.9+ KB\n"
     ]
    }
   ],
   "source": [
    "energy_1.info()"
   ]
  },
  {
   "cell_type": "markdown",
   "metadata": {
    "tags": []
   },
   "source": [
    "# Handling missing data and possible data transformations\n",
    "- Remove missing values, outliers, and unnecessary rows/ columns\n",
    "- Check and impute null values\n",
    "- Check Imbalanced data\n",
    "- Re-indexing and reformatting our data"
   ]
  },
  {
   "cell_type": "markdown",
   "metadata": {
    "tags": []
   },
   "source": [
    "## 1. Missing Values"
   ]
  },
  {
   "cell_type": "code",
   "execution_count": 40,
   "metadata": {},
   "outputs": [
    {
     "data": {
      "text/plain": [
       "<Axes: >"
      ]
     },
     "execution_count": 40,
     "metadata": {},
     "output_type": "execute_result"
    },
    {
     "data": {
      "image/png": "[encoded data removed]",
      "text/plain": [
       "<Figure size 640x480 with 1 Axes>"
      ]
     },
     "metadata": {},
     "output_type": "display_data"
    }
   ],
   "source": [
    "sns.heatmap(energy_1.isnull(), yticklabels=False, cbar=False, cmap='viridis')"
   ]
  },
  {
   "cell_type": "code",
   "execution_count": 41,
   "metadata": {},
   "outputs": [
    {
     "data": {
      "text/plain": [
       "Data                          0\n",
       "Hora                          0\n",
       "Normal (kWh)                  0\n",
       "Horario Economico (kWh)       0\n",
       "Autoconsumo (kWh)             0\n",
       "Injecao na rede (kWh)      1690\n",
       "dtype: int64"
      ]
     },
     "execution_count": 41,
     "metadata": {},
     "output_type": "execute_result"
    }
   ],
   "source": [
    "energy_1.isnull().sum()"
   ]
  },
  {
   "cell_type": "markdown",
   "metadata": {},
   "source": [
    "### Drop or fill\n",
    "Let's verify how the data is presented in the feature <em>Injecao na rede</em>"
   ]
  },
  {
   "cell_type": "code",
   "execution_count": 42,
   "metadata": {},
   "outputs": [
    {
     "data": {
      "text/plain": [
       "0    NaN\n",
       "1    NaN\n",
       "2    NaN\n",
       "3    NaN\n",
       "4    NaN\n",
       "Name: Injecao na rede (kWh), dtype: object"
      ]
     },
     "execution_count": 42,
     "metadata": {},
     "output_type": "execute_result"
    }
   ],
   "source": [
    "energy_1['Injecao na rede (kWh)'].head()"
   ]
  },
  {
   "cell_type": "code",
   "execution_count": 43,
   "metadata": {},
   "outputs": [
    {
     "data": {
      "text/html": [
       "<div>\n",
       "<style scoped>\n",
       "    .dataframe tbody tr th:only-of-type {\n",
       "        vertical-align: middle;\n",
       "    }\n",
       "\n",
       "    .dataframe tbody tr th {\n",
       "        vertical-align: top;\n",
       "    }\n",
       "\n",
       "    .dataframe thead th {\n",
       "        text-align: right;\n",
       "    }\n",
       "</style>\n",
       "<table border=\"1\" class=\"dataframe\">\n",
       "  <thead>\n",
       "    <tr style=\"text-align: right;\">\n",
       "      <th></th>\n",
       "      <th>Data</th>\n",
       "      <th>Hora</th>\n",
       "      <th>Normal (kWh)</th>\n",
       "      <th>Horario Economico (kWh)</th>\n",
       "      <th>Autoconsumo (kWh)</th>\n",
       "      <th>Injecao na rede (kWh)</th>\n",
       "    </tr>\n",
       "  </thead>\n",
       "  <tbody>\n",
       "    <tr>\n",
       "      <th>0</th>\n",
       "      <td>2021-09-29</td>\n",
       "      <td>0</td>\n",
       "      <td>0.000</td>\n",
       "      <td>0.000</td>\n",
       "      <td>0.0</td>\n",
       "      <td>NaN</td>\n",
       "    </tr>\n",
       "    <tr>\n",
       "      <th>1</th>\n",
       "      <td>2021-09-29</td>\n",
       "      <td>1</td>\n",
       "      <td>0.000</td>\n",
       "      <td>0.000</td>\n",
       "      <td>0.0</td>\n",
       "      <td>NaN</td>\n",
       "    </tr>\n",
       "    <tr>\n",
       "      <th>2</th>\n",
       "      <td>2021-09-29</td>\n",
       "      <td>2</td>\n",
       "      <td>0.000</td>\n",
       "      <td>0.000</td>\n",
       "      <td>0.0</td>\n",
       "      <td>NaN</td>\n",
       "    </tr>\n",
       "    <tr>\n",
       "      <th>3</th>\n",
       "      <td>2021-09-29</td>\n",
       "      <td>3</td>\n",
       "      <td>0.000</td>\n",
       "      <td>0.000</td>\n",
       "      <td>0.0</td>\n",
       "      <td>NaN</td>\n",
       "    </tr>\n",
       "    <tr>\n",
       "      <th>4</th>\n",
       "      <td>2021-09-29</td>\n",
       "      <td>4</td>\n",
       "      <td>0.000</td>\n",
       "      <td>0.000</td>\n",
       "      <td>0.0</td>\n",
       "      <td>NaN</td>\n",
       "    </tr>\n",
       "    <tr>\n",
       "      <th>...</th>\n",
       "      <td>...</td>\n",
       "      <td>...</td>\n",
       "      <td>...</td>\n",
       "      <td>...</td>\n",
       "      <td>...</td>\n",
       "      <td>...</td>\n",
       "    </tr>\n",
       "    <tr>\n",
       "      <th>2251</th>\n",
       "      <td>2021-12-31</td>\n",
       "      <td>19</td>\n",
       "      <td>2.176</td>\n",
       "      <td>0.000</td>\n",
       "      <td>0.0</td>\n",
       "      <td>NaN</td>\n",
       "    </tr>\n",
       "    <tr>\n",
       "      <th>2252</th>\n",
       "      <td>2021-12-31</td>\n",
       "      <td>20</td>\n",
       "      <td>0.732</td>\n",
       "      <td>0.000</td>\n",
       "      <td>0.0</td>\n",
       "      <td>NaN</td>\n",
       "    </tr>\n",
       "    <tr>\n",
       "      <th>2253</th>\n",
       "      <td>2021-12-31</td>\n",
       "      <td>21</td>\n",
       "      <td>0.704</td>\n",
       "      <td>0.000</td>\n",
       "      <td>0.0</td>\n",
       "      <td>NaN</td>\n",
       "    </tr>\n",
       "    <tr>\n",
       "      <th>2254</th>\n",
       "      <td>2021-12-31</td>\n",
       "      <td>22</td>\n",
       "      <td>0.000</td>\n",
       "      <td>0.424</td>\n",
       "      <td>0.0</td>\n",
       "      <td>NaN</td>\n",
       "    </tr>\n",
       "    <tr>\n",
       "      <th>2255</th>\n",
       "      <td>2021-12-31</td>\n",
       "      <td>23</td>\n",
       "      <td>0.000</td>\n",
       "      <td>0.432</td>\n",
       "      <td>0.0</td>\n",
       "      <td>NaN</td>\n",
       "    </tr>\n",
       "  </tbody>\n",
       "</table>\n",
       "<p>1690 rows × 6 columns</p>\n",
       "</div>"
      ],
      "text/plain": [
       "            Data  Hora  Normal (kWh)  Horario Economico (kWh)  \\\n",
       "0     2021-09-29     0         0.000                    0.000   \n",
       "1     2021-09-29     1         0.000                    0.000   \n",
       "2     2021-09-29     2         0.000                    0.000   \n",
       "3     2021-09-29     3         0.000                    0.000   \n",
       "4     2021-09-29     4         0.000                    0.000   \n",
       "...          ...   ...           ...                      ...   \n",
       "2251  2021-12-31    19         2.176                    0.000   \n",
       "2252  2021-12-31    20         0.732                    0.000   \n",
       "2253  2021-12-31    21         0.704                    0.000   \n",
       "2254  2021-12-31    22         0.000                    0.424   \n",
       "2255  2021-12-31    23         0.000                    0.432   \n",
       "\n",
       "      Autoconsumo (kWh) Injecao na rede (kWh)  \n",
       "0                   0.0                   NaN  \n",
       "1                   0.0                   NaN  \n",
       "2                   0.0                   NaN  \n",
       "3                   0.0                   NaN  \n",
       "4                   0.0                   NaN  \n",
       "...                 ...                   ...  \n",
       "2251                0.0                   NaN  \n",
       "2252                0.0                   NaN  \n",
       "2253                0.0                   NaN  \n",
       "2254                0.0                   NaN  \n",
       "2255                0.0                   NaN  \n",
       "\n",
       "[1690 rows x 6 columns]"
      ]
     },
     "execution_count": 43,
     "metadata": {},
     "output_type": "execute_result"
    }
   ],
   "source": [
    "energy_1[energy_1['Injecao na rede (kWh)'].isnull()]"
   ]
  },
  {
   "cell_type": "markdown",
   "metadata": {},
   "source": [
    "Copy of the data to experiment the options"
   ]
  },
  {
   "cell_type": "code",
   "execution_count": 44,
   "metadata": {},
   "outputs": [],
   "source": [
    "energy_1_m1 = energy_1.copy()\n",
    "energy_1_m2 = energy_1.copy()"
   ]
  },
  {
   "cell_type": "markdown",
   "metadata": {},
   "source": [
    "#### a) Drop"
   ]
  },
  {
   "cell_type": "code",
   "execution_count": 45,
   "metadata": {},
   "outputs": [
    {
     "data": {
      "text/html": [
       "<div>\n",
       "<style scoped>\n",
       "    .dataframe tbody tr th:only-of-type {\n",
       "        vertical-align: middle;\n",
       "    }\n",
       "\n",
       "    .dataframe tbody tr th {\n",
       "        vertical-align: top;\n",
       "    }\n",
       "\n",
       "    .dataframe thead th {\n",
       "        text-align: right;\n",
       "    }\n",
       "</style>\n",
       "<table border=\"1\" class=\"dataframe\">\n",
       "  <thead>\n",
       "    <tr style=\"text-align: right;\">\n",
       "      <th></th>\n",
       "      <th>Data</th>\n",
       "      <th>Hora</th>\n",
       "      <th>Normal (kWh)</th>\n",
       "      <th>Horario Economico (kWh)</th>\n",
       "      <th>Autoconsumo (kWh)</th>\n",
       "    </tr>\n",
       "  </thead>\n",
       "  <tbody>\n",
       "    <tr>\n",
       "      <th>0</th>\n",
       "      <td>2021-09-29</td>\n",
       "      <td>0</td>\n",
       "      <td>0.0</td>\n",
       "      <td>0.0</td>\n",
       "      <td>0.0</td>\n",
       "    </tr>\n",
       "    <tr>\n",
       "      <th>1</th>\n",
       "      <td>2021-09-29</td>\n",
       "      <td>1</td>\n",
       "      <td>0.0</td>\n",
       "      <td>0.0</td>\n",
       "      <td>0.0</td>\n",
       "    </tr>\n",
       "    <tr>\n",
       "      <th>2</th>\n",
       "      <td>2021-09-29</td>\n",
       "      <td>2</td>\n",
       "      <td>0.0</td>\n",
       "      <td>0.0</td>\n",
       "      <td>0.0</td>\n",
       "    </tr>\n",
       "    <tr>\n",
       "      <th>3</th>\n",
       "      <td>2021-09-29</td>\n",
       "      <td>3</td>\n",
       "      <td>0.0</td>\n",
       "      <td>0.0</td>\n",
       "      <td>0.0</td>\n",
       "    </tr>\n",
       "    <tr>\n",
       "      <th>4</th>\n",
       "      <td>2021-09-29</td>\n",
       "      <td>4</td>\n",
       "      <td>0.0</td>\n",
       "      <td>0.0</td>\n",
       "      <td>0.0</td>\n",
       "    </tr>\n",
       "  </tbody>\n",
       "</table>\n",
       "</div>"
      ],
      "text/plain": [
       "         Data  Hora  Normal (kWh)  Horario Economico (kWh)  Autoconsumo (kWh)\n",
       "0  2021-09-29     0           0.0                      0.0                0.0\n",
       "1  2021-09-29     1           0.0                      0.0                0.0\n",
       "2  2021-09-29     2           0.0                      0.0                0.0\n",
       "3  2021-09-29     3           0.0                      0.0                0.0\n",
       "4  2021-09-29     4           0.0                      0.0                0.0"
      ]
     },
     "execution_count": 45,
     "metadata": {},
     "output_type": "execute_result"
    }
   ],
   "source": [
    "energy_1_m1.drop(['Injecao na rede (kWh)'], axis=1, inplace=True)\n",
    "energy_1_m1.head()"
   ]
  },
  {
   "cell_type": "markdown",
   "metadata": {},
   "source": [
    "#### b) Fill with zero"
   ]
  },
  {
   "cell_type": "code",
   "execution_count": 46,
   "metadata": {},
   "outputs": [
    {
     "data": {
      "text/html": [
       "<div>\n",
       "<style scoped>\n",
       "    .dataframe tbody tr th:only-of-type {\n",
       "        vertical-align: middle;\n",
       "    }\n",
       "\n",
       "    .dataframe tbody tr th {\n",
       "        vertical-align: top;\n",
       "    }\n",
       "\n",
       "    .dataframe thead th {\n",
       "        text-align: right;\n",
       "    }\n",
       "</style>\n",
       "<table border=\"1\" class=\"dataframe\">\n",
       "  <thead>\n",
       "    <tr style=\"text-align: right;\">\n",
       "      <th></th>\n",
       "      <th>Data</th>\n",
       "      <th>Hora</th>\n",
       "      <th>Normal (kWh)</th>\n",
       "      <th>Horario Economico (kWh)</th>\n",
       "      <th>Autoconsumo (kWh)</th>\n",
       "      <th>Injecao na rede (kWh)</th>\n",
       "    </tr>\n",
       "  </thead>\n",
       "  <tbody>\n",
       "    <tr>\n",
       "      <th>0</th>\n",
       "      <td>2021-09-29</td>\n",
       "      <td>0</td>\n",
       "      <td>0.0</td>\n",
       "      <td>0.0</td>\n",
       "      <td>0.0</td>\n",
       "      <td>0</td>\n",
       "    </tr>\n",
       "    <tr>\n",
       "      <th>1</th>\n",
       "      <td>2021-09-29</td>\n",
       "      <td>1</td>\n",
       "      <td>0.0</td>\n",
       "      <td>0.0</td>\n",
       "      <td>0.0</td>\n",
       "      <td>0</td>\n",
       "    </tr>\n",
       "    <tr>\n",
       "      <th>2</th>\n",
       "      <td>2021-09-29</td>\n",
       "      <td>2</td>\n",
       "      <td>0.0</td>\n",
       "      <td>0.0</td>\n",
       "      <td>0.0</td>\n",
       "      <td>0</td>\n",
       "    </tr>\n",
       "    <tr>\n",
       "      <th>3</th>\n",
       "      <td>2021-09-29</td>\n",
       "      <td>3</td>\n",
       "      <td>0.0</td>\n",
       "      <td>0.0</td>\n",
       "      <td>0.0</td>\n",
       "      <td>0</td>\n",
       "    </tr>\n",
       "    <tr>\n",
       "      <th>4</th>\n",
       "      <td>2021-09-29</td>\n",
       "      <td>4</td>\n",
       "      <td>0.0</td>\n",
       "      <td>0.0</td>\n",
       "      <td>0.0</td>\n",
       "      <td>0</td>\n",
       "    </tr>\n",
       "  </tbody>\n",
       "</table>\n",
       "</div>"
      ],
      "text/plain": [
       "         Data  Hora  Normal (kWh)  Horario Economico (kWh)  Autoconsumo (kWh)  \\\n",
       "0  2021-09-29     0           0.0                      0.0                0.0   \n",
       "1  2021-09-29     1           0.0                      0.0                0.0   \n",
       "2  2021-09-29     2           0.0                      0.0                0.0   \n",
       "3  2021-09-29     3           0.0                      0.0                0.0   \n",
       "4  2021-09-29     4           0.0                      0.0                0.0   \n",
       "\n",
       "  Injecao na rede (kWh)  \n",
       "0                     0  \n",
       "1                     0  \n",
       "2                     0  \n",
       "3                     0  \n",
       "4                     0  "
      ]
     },
     "execution_count": 46,
     "metadata": {},
     "output_type": "execute_result"
    }
   ],
   "source": [
    "energy_1_m2.fillna(0, inplace=True)\n",
    "energy_1_m2.head()"
   ]
  },
  {
   "cell_type": "markdown",
   "metadata": {},
   "source": [
    "We need to choose one of the options to keep going. We will choose to fill the column since it brings added value to our goal."
   ]
  },
  {
   "cell_type": "code",
   "execution_count": 49,
   "metadata": {},
   "outputs": [
    {
     "data": {
      "text/html": [
       "<div>\n",
       "<style scoped>\n",
       "    .dataframe tbody tr th:only-of-type {\n",
       "        vertical-align: middle;\n",
       "    }\n",
       "\n",
       "    .dataframe tbody tr th {\n",
       "        vertical-align: top;\n",
       "    }\n",
       "\n",
       "    .dataframe thead th {\n",
       "        text-align: right;\n",
       "    }\n",
       "</style>\n",
       "<table border=\"1\" class=\"dataframe\">\n",
       "  <thead>\n",
       "    <tr style=\"text-align: right;\">\n",
       "      <th></th>\n",
       "      <th>Data</th>\n",
       "      <th>Hora</th>\n",
       "      <th>Normal (kWh)</th>\n",
       "      <th>Horario Economico (kWh)</th>\n",
       "      <th>Autoconsumo (kWh)</th>\n",
       "      <th>Injecao na rede (kWh)</th>\n",
       "    </tr>\n",
       "  </thead>\n",
       "  <tbody>\n",
       "    <tr>\n",
       "      <th>0</th>\n",
       "      <td>2021-09-29</td>\n",
       "      <td>0</td>\n",
       "      <td>0.0</td>\n",
       "      <td>0.0</td>\n",
       "      <td>0.0</td>\n",
       "      <td>0</td>\n",
       "    </tr>\n",
       "    <tr>\n",
       "      <th>1</th>\n",
       "      <td>2021-09-29</td>\n",
       "      <td>1</td>\n",
       "      <td>0.0</td>\n",
       "      <td>0.0</td>\n",
       "      <td>0.0</td>\n",
       "      <td>0</td>\n",
       "    </tr>\n",
       "    <tr>\n",
       "      <th>2</th>\n",
       "      <td>2021-09-29</td>\n",
       "      <td>2</td>\n",
       "      <td>0.0</td>\n",
       "      <td>0.0</td>\n",
       "      <td>0.0</td>\n",
       "      <td>0</td>\n",
       "    </tr>\n",
       "    <tr>\n",
       "      <th>3</th>\n",
       "      <td>2021-09-29</td>\n",
       "      <td>3</td>\n",
       "      <td>0.0</td>\n",
       "      <td>0.0</td>\n",
       "      <td>0.0</td>\n",
       "      <td>0</td>\n",
       "    </tr>\n",
       "    <tr>\n",
       "      <th>4</th>\n",
       "      <td>2021-09-29</td>\n",
       "      <td>4</td>\n",
       "      <td>0.0</td>\n",
       "      <td>0.0</td>\n",
       "      <td>0.0</td>\n",
       "      <td>0</td>\n",
       "    </tr>\n",
       "  </tbody>\n",
       "</table>\n",
       "</div>"
      ],
      "text/plain": [
       "         Data  Hora  Normal (kWh)  Horario Economico (kWh)  Autoconsumo (kWh)  \\\n",
       "0  2021-09-29     0           0.0                      0.0                0.0   \n",
       "1  2021-09-29     1           0.0                      0.0                0.0   \n",
       "2  2021-09-29     2           0.0                      0.0                0.0   \n",
       "3  2021-09-29     3           0.0                      0.0                0.0   \n",
       "4  2021-09-29     4           0.0                      0.0                0.0   \n",
       "\n",
       "  Injecao na rede (kWh)  \n",
       "0                     0  \n",
       "1                     0  \n",
       "2                     0  \n",
       "3                     0  \n",
       "4                     0  "
      ]
     },
     "execution_count": 49,
     "metadata": {},
     "output_type": "execute_result"
    }
   ],
   "source": [
    "energy_1_copy = energy_1.fillna(0)\n",
    "energy_1_copy.head()"
   ]
  },
  {
   "cell_type": "markdown",
   "metadata": {},
   "source": [
    "Let's see if there are still missing values"
   ]
  },
  {
   "cell_type": "raw",
   "metadata": {},
   "source": [
    "sns.heatmap(energy_1_copy.isnull(), yticklabels=False, cbar=False, cmap='viridis')"
   ]
  },
  {
   "cell_type": "code",
   "execution_count": 50,
   "metadata": {},
   "outputs": [
    {
     "data": {
      "text/plain": [
       "Data                       0\n",
       "Hora                       0\n",
       "Normal (kWh)               0\n",
       "Horario Economico (kWh)    0\n",
       "Autoconsumo (kWh)          0\n",
       "Injecao na rede (kWh)      0\n",
       "dtype: int64"
      ]
     },
     "execution_count": 50,
     "metadata": {},
     "output_type": "execute_result"
    }
   ],
   "source": [
    "energy_1_copy.isnull().sum()"
   ]
  },
  {
   "cell_type": "code",
   "execution_count": 51,
   "metadata": {},
   "outputs": [
    {
     "name": "stdout",
     "output_type": "stream",
     "text": [
      "<class 'pandas.core.frame.DataFrame'>\n",
      "RangeIndex: 2256 entries, 0 to 2255\n",
      "Data columns (total 6 columns):\n",
      " #   Column                   Non-Null Count  Dtype  \n",
      "---  ------                   --------------  -----  \n",
      " 0   Data                     2256 non-null   object \n",
      " 1   Hora                     2256 non-null   int64  \n",
      " 2   Normal (kWh)             2256 non-null   float64\n",
      " 3   Horario Economico (kWh)  2256 non-null   float64\n",
      " 4   Autoconsumo (kWh)        2256 non-null   float64\n",
      " 5   Injecao na rede (kWh)    2256 non-null   object \n",
      "dtypes: float64(3), int64(1), object(2)\n",
      "memory usage: 105.9+ KB\n"
     ]
    }
   ],
   "source": [
    "energy_1_copy.info()"
   ]
  },
  {
   "cell_type": "code",
   "execution_count": 52,
   "metadata": {},
   "outputs": [
    {
     "data": {
      "text/html": [
       "<div>\n",
       "<style scoped>\n",
       "    .dataframe tbody tr th:only-of-type {\n",
       "        vertical-align: middle;\n",
       "    }\n",
       "\n",
       "    .dataframe tbody tr th {\n",
       "        vertical-align: top;\n",
       "    }\n",
       "\n",
       "    .dataframe thead th {\n",
       "        text-align: right;\n",
       "    }\n",
       "</style>\n",
       "<table border=\"1\" class=\"dataframe\">\n",
       "  <thead>\n",
       "    <tr style=\"text-align: right;\">\n",
       "      <th></th>\n",
       "      <th>Data</th>\n",
       "      <th>Hora</th>\n",
       "      <th>Normal (kWh)</th>\n",
       "      <th>Horario Economico (kWh)</th>\n",
       "      <th>Autoconsumo (kWh)</th>\n",
       "      <th>Injecao na rede (kWh)</th>\n",
       "    </tr>\n",
       "  </thead>\n",
       "  <tbody>\n",
       "    <tr>\n",
       "      <th>0</th>\n",
       "      <td>2021-09-29</td>\n",
       "      <td>0</td>\n",
       "      <td>0.0</td>\n",
       "      <td>0.0</td>\n",
       "      <td>0.0</td>\n",
       "      <td>0</td>\n",
       "    </tr>\n",
       "    <tr>\n",
       "      <th>1</th>\n",
       "      <td>2021-09-29</td>\n",
       "      <td>1</td>\n",
       "      <td>0.0</td>\n",
       "      <td>0.0</td>\n",
       "      <td>0.0</td>\n",
       "      <td>0</td>\n",
       "    </tr>\n",
       "    <tr>\n",
       "      <th>2</th>\n",
       "      <td>2021-09-29</td>\n",
       "      <td>2</td>\n",
       "      <td>0.0</td>\n",
       "      <td>0.0</td>\n",
       "      <td>0.0</td>\n",
       "      <td>0</td>\n",
       "    </tr>\n",
       "    <tr>\n",
       "      <th>3</th>\n",
       "      <td>2021-09-29</td>\n",
       "      <td>3</td>\n",
       "      <td>0.0</td>\n",
       "      <td>0.0</td>\n",
       "      <td>0.0</td>\n",
       "      <td>0</td>\n",
       "    </tr>\n",
       "    <tr>\n",
       "      <th>4</th>\n",
       "      <td>2021-09-29</td>\n",
       "      <td>4</td>\n",
       "      <td>0.0</td>\n",
       "      <td>0.0</td>\n",
       "      <td>0.0</td>\n",
       "      <td>0</td>\n",
       "    </tr>\n",
       "  </tbody>\n",
       "</table>\n",
       "</div>"
      ],
      "text/plain": [
       "         Data  Hora  Normal (kWh)  Horario Economico (kWh)  Autoconsumo (kWh)  \\\n",
       "0  2021-09-29     0           0.0                      0.0                0.0   \n",
       "1  2021-09-29     1           0.0                      0.0                0.0   \n",
       "2  2021-09-29     2           0.0                      0.0                0.0   \n",
       "3  2021-09-29     3           0.0                      0.0                0.0   \n",
       "4  2021-09-29     4           0.0                      0.0                0.0   \n",
       "\n",
       "  Injecao na rede (kWh)  \n",
       "0                     0  \n",
       "1                     0  \n",
       "2                     0  \n",
       "3                     0  \n",
       "4                     0  "
      ]
     },
     "execution_count": 52,
     "metadata": {},
     "output_type": "execute_result"
    }
   ],
   "source": [
    "energy_1_copy.head()"
   ]
  },
  {
   "cell_type": "markdown",
   "metadata": {},
   "source": [
    "There are features that are of the type <em>object</em>: <em>Data</em> and <em>Injecao na rede (kWh)</em>.\n",
    "\n",
    "Let's see how many different values each feature has."
   ]
  },
  {
   "cell_type": "code",
   "execution_count": 53,
   "metadata": {},
   "outputs": [
    {
     "data": {
      "text/plain": [
       "Data                        94\n",
       "Hora                        24\n",
       "Normal (kWh)               772\n",
       "Horario Economico (kWh)    329\n",
       "Autoconsumo (kWh)          440\n",
       "Injecao na rede (kWh)        5\n",
       "dtype: int64"
      ]
     },
     "execution_count": 53,
     "metadata": {},
     "output_type": "execute_result"
    }
   ],
   "source": [
    "energy_1_copy.nunique()"
   ]
  },
  {
   "cell_type": "markdown",
   "metadata": {},
   "source": [
    "The features <em>city_name</em> and <em>avg_precipitation</em> have only one value. We will start with <em>avg_precipitation</em>:"
   ]
  },
  {
   "cell_type": "code",
   "execution_count": 54,
   "metadata": {},
   "outputs": [
    {
     "data": {
      "text/plain": [
       "5"
      ]
     },
     "execution_count": 54,
     "metadata": {},
     "output_type": "execute_result"
    }
   ],
   "source": [
    "energy_1_copy['Injecao na rede (kWh)'].nunique()"
   ]
  },
  {
   "cell_type": "code",
   "execution_count": 55,
   "metadata": {},
   "outputs": [
    {
     "data": {
      "text/plain": [
       "count     2256\n",
       "unique       5\n",
       "top          0\n",
       "freq      1690\n",
       "Name: Injecao na rede (kWh), dtype: int64"
      ]
     },
     "execution_count": 55,
     "metadata": {},
     "output_type": "execute_result"
    }
   ],
   "source": [
    "energy_1_copy['Injecao na rede (kWh)'].describe()"
   ]
  },
  {
   "cell_type": "markdown",
   "metadata": {
    "tags": []
   },
   "source": [
    "## 2. Handling categoric data"
   ]
  },
  {
   "cell_type": "markdown",
   "metadata": {},
   "source": [
    "Feature <em>city_name</em>"
   ]
  },
  {
   "cell_type": "code",
   "execution_count": 24,
   "metadata": {},
   "outputs": [
    {
     "data": {
      "text/plain": [
       "0    Guimaraes\n",
       "1    Guimaraes\n",
       "2    Guimaraes\n",
       "3    Guimaraes\n",
       "4    Guimaraes\n",
       "Name: city_name, dtype: object"
      ]
     },
     "execution_count": 24,
     "metadata": {},
     "output_type": "execute_result"
    }
   ],
   "source": [
    "data['city_name'].head()"
   ]
  },
  {
   "cell_type": "markdown",
   "metadata": {},
   "source": [
    "The unique value of <em>city_name</em> is <em>Guimarães</em>. We can drop this feature as well."
   ]
  },
  {
   "cell_type": "code",
   "execution_count": 25,
   "metadata": {},
   "outputs": [],
   "source": [
    "data.drop(['city_name'], axis=1, inplace=True)\n",
    "data.dropna(inplace=True)"
   ]
  },
  {
   "cell_type": "markdown",
   "metadata": {},
   "source": [
    "Let's see the feature <em>incidents</em>:"
   ]
  },
  {
   "cell_type": "code",
   "execution_count": 26,
   "metadata": {},
   "outputs": [
    {
     "data": {
      "text/plain": [
       "incidents\n",
       "High         1073\n",
       "Low           718\n",
       "Very_High     603\n",
       "Medium        578\n",
       "Name: count, dtype: int64"
      ]
     },
     "execution_count": 26,
     "metadata": {},
     "output_type": "execute_result"
    }
   ],
   "source": [
    "data['incidents'].value_counts()"
   ]
  },
  {
   "cell_type": "code",
   "execution_count": 27,
   "metadata": {},
   "outputs": [
    {
     "data": {
      "text/plain": [
       "4"
      ]
     },
     "execution_count": 27,
     "metadata": {},
     "output_type": "execute_result"
    }
   ],
   "source": [
    "data['incidents'].value_counts().count()"
   ]
  },
  {
   "cell_type": "markdown",
   "metadata": {},
   "source": [
    "Let's create a barplot of <em>Frequency Distribution of Incidents</em> (style=\"darkgrid\", fontsize=12)"
   ]
  },
  {
   "cell_type": "code",
   "execution_count": 28,
   "metadata": {},
   "outputs": [
    {
     "data": {
      "image/png": "[encoded data removed]",
      "text/plain": [
       "<Figure size 640x480 with 1 Axes>"
      ]
     },
     "metadata": {},
     "output_type": "display_data"
    }
   ],
   "source": [
    "incidents_count = data['incidents'].value_counts()\n",
    "sns.set(style=\"darkgrid\")\n",
    "sns.barplot(x=incidents_count.index, y=incidents_count.values)\n",
    "plt.title('Frequency Distribution of Incidents')\n",
    "plt.ylabel('Number of Occurences', fontsize=12)\n",
    "plt.xlabel('Incidents', fontsize=12)\n",
    "plt.show()"
   ]
  },
  {
   "cell_type": "markdown",
   "metadata": {},
   "source": [
    "Let's create a pie plot of <em>Category Distribution of Incidents</em>"
   ]
  },
  {
   "cell_type": "code",
   "execution_count": 29,
   "metadata": {},
   "outputs": [
    {
     "data": {
      "image/png": "[encoded data removed]",
      "text/plain": [
       "<Figure size 640x480 with 1 Axes>"
      ]
     },
     "metadata": {},
     "output_type": "display_data"
    }
   ],
   "source": [
    "labels = data['incidents'].astype('category').cat.categories.tolist()\n",
    "counts = data['incidents'].value_counts()\n",
    "sizes = [counts[var_cat] for var_cat in labels]\n",
    "fig1, ax1 = plt.subplots()\n",
    "ax1.pie(sizes, labels=labels, autopct='%1.1f%%', shadow=True)\n",
    "ax1.axis('equal')\n",
    "plt.show()"
   ]
  },
  {
   "cell_type": "markdown",
   "metadata": {},
   "source": [
    "We have several options how to deal with qualitative data:"
   ]
  },
  {
   "cell_type": "markdown",
   "metadata": {},
   "source": [
    "#### a) Replace Values"
   ]
  },
  {
   "cell_type": "markdown",
   "metadata": {},
   "source": [
    "Again, we are using data copies to experiment all options."
   ]
  },
  {
   "cell_type": "code",
   "execution_count": 31,
   "metadata": {},
   "outputs": [
    {
     "data": {
      "text/html": [
       "<div>\n",
       "<style scoped>\n",
       "    .dataframe tbody tr th:only-of-type {\n",
       "        vertical-align: middle;\n",
       "    }\n",
       "\n",
       "    .dataframe tbody tr th {\n",
       "        vertical-align: top;\n",
       "    }\n",
       "\n",
       "    .dataframe thead th {\n",
       "        text-align: right;\n",
       "    }\n",
       "</style>\n",
       "<table border=\"1\" class=\"dataframe\">\n",
       "  <thead>\n",
       "    <tr style=\"text-align: right;\">\n",
       "      <th></th>\n",
       "      <th>magnitude_of_delay</th>\n",
       "      <th>delay_in_seconds</th>\n",
       "      <th>record_date</th>\n",
       "      <th>luminosity</th>\n",
       "      <th>avg_temperature</th>\n",
       "      <th>avg_atm_pressure</th>\n",
       "      <th>avg_humidity</th>\n",
       "      <th>avg_wind_speed</th>\n",
       "      <th>avg_rain</th>\n",
       "      <th>incidents</th>\n",
       "    </tr>\n",
       "  </thead>\n",
       "  <tbody>\n",
       "    <tr>\n",
       "      <th>2</th>\n",
       "      <td>UNDEFINED</td>\n",
       "      <td>69</td>\n",
       "      <td>2021-03-12 15:00</td>\n",
       "      <td>LIGHT</td>\n",
       "      <td>14.0</td>\n",
       "      <td>1025.0</td>\n",
       "      <td>64.0</td>\n",
       "      <td>0.0</td>\n",
       "      <td>Sem Chuva</td>\n",
       "      <td>Low</td>\n",
       "    </tr>\n",
       "    <tr>\n",
       "      <th>3</th>\n",
       "      <td>MAJOR</td>\n",
       "      <td>2297</td>\n",
       "      <td>2021-09-29 09:00</td>\n",
       "      <td>LIGHT</td>\n",
       "      <td>15.0</td>\n",
       "      <td>1028.0</td>\n",
       "      <td>75.0</td>\n",
       "      <td>1.0</td>\n",
       "      <td>Sem Chuva</td>\n",
       "      <td>Very_High</td>\n",
       "    </tr>\n",
       "    <tr>\n",
       "      <th>4</th>\n",
       "      <td>UNDEFINED</td>\n",
       "      <td>0</td>\n",
       "      <td>2021-06-13 11:00</td>\n",
       "      <td>LIGHT</td>\n",
       "      <td>27.0</td>\n",
       "      <td>1020.0</td>\n",
       "      <td>52.0</td>\n",
       "      <td>1.0</td>\n",
       "      <td>Sem Chuva</td>\n",
       "      <td>High</td>\n",
       "    </tr>\n",
       "    <tr>\n",
       "      <th>5</th>\n",
       "      <td>UNDEFINED</td>\n",
       "      <td>0</td>\n",
       "      <td>2021-12-07 23:00</td>\n",
       "      <td>DARK</td>\n",
       "      <td>9.0</td>\n",
       "      <td>1015.0</td>\n",
       "      <td>94.0</td>\n",
       "      <td>0.0</td>\n",
       "      <td>Sem Chuva</td>\n",
       "      <td>Medium</td>\n",
       "    </tr>\n",
       "    <tr>\n",
       "      <th>6</th>\n",
       "      <td>UNDEFINED</td>\n",
       "      <td>0</td>\n",
       "      <td>2021-12-05 05:00</td>\n",
       "      <td>DARK</td>\n",
       "      <td>8.0</td>\n",
       "      <td>1026.0</td>\n",
       "      <td>87.0</td>\n",
       "      <td>1.0</td>\n",
       "      <td>Sem Chuva</td>\n",
       "      <td>Low</td>\n",
       "    </tr>\n",
       "  </tbody>\n",
       "</table>\n",
       "</div>"
      ],
      "text/plain": [
       "  magnitude_of_delay  delay_in_seconds       record_date luminosity  \\\n",
       "2          UNDEFINED                69  2021-03-12 15:00      LIGHT   \n",
       "3              MAJOR              2297  2021-09-29 09:00      LIGHT   \n",
       "4          UNDEFINED                 0  2021-06-13 11:00      LIGHT   \n",
       "5          UNDEFINED                 0  2021-12-07 23:00       DARK   \n",
       "6          UNDEFINED                 0  2021-12-05 05:00       DARK   \n",
       "\n",
       "   avg_temperature  avg_atm_pressure  avg_humidity  avg_wind_speed   avg_rain  \\\n",
       "2             14.0            1025.0          64.0             0.0  Sem Chuva   \n",
       "3             15.0            1028.0          75.0             1.0  Sem Chuva   \n",
       "4             27.0            1020.0          52.0             1.0  Sem Chuva   \n",
       "5              9.0            1015.0          94.0             0.0  Sem Chuva   \n",
       "6              8.0            1026.0          87.0             1.0  Sem Chuva   \n",
       "\n",
       "   incidents  \n",
       "2        Low  \n",
       "3  Very_High  \n",
       "4       High  \n",
       "5     Medium  \n",
       "6        Low  "
      ]
     },
     "execution_count": 31,
     "metadata": {},
     "output_type": "execute_result"
    }
   ],
   "source": [
    "data_r1=data.copy()\n",
    "data_r1.head()"
   ]
  },
  {
   "cell_type": "markdown",
   "metadata": {},
   "source": [
    "We need to create a dictionary assigning the string to a numeric value:"
   ]
  },
  {
   "cell_type": "markdown",
   "metadata": {},
   "source": [
    "None - 0, Low - 1, Medium - 2, High - 3, Very_High - 4"
   ]
  },
  {
   "cell_type": "raw",
   "metadata": {},
   "source": [
    "replace_map = {'incidents': {'None': 0, 'Low': 1, 'Medium': 2, 'High': 3, 'Very_High': 4}}"
   ]
  },
  {
   "cell_type": "markdown",
   "metadata": {},
   "source": [
    "We can create a replacement map in other way:"
   ]
  },
  {
   "cell_type": "code",
   "execution_count": 33,
   "metadata": {},
   "outputs": [
    {
     "name": "stdout",
     "output_type": "stream",
     "text": [
      "{'incidents': {'High': 1, 'Low': 2, 'Medium': 3, 'Very_High': 4}}\n"
     ]
    }
   ],
   "source": [
    "labels = data_r1['incidents'].astype('category').cat.categories.tolist()\n",
    "replace_map_comp = {'incidents' : {k:v for k,v in zip(labels, list(range(1,len(labels)+1)))}}\n",
    "print(replace_map_comp)"
   ]
  },
  {
   "cell_type": "code",
   "execution_count": 34,
   "metadata": {},
   "outputs": [
    {
     "data": {
      "text/html": [
       "<div>\n",
       "<style scoped>\n",
       "    .dataframe tbody tr th:only-of-type {\n",
       "        vertical-align: middle;\n",
       "    }\n",
       "\n",
       "    .dataframe tbody tr th {\n",
       "        vertical-align: top;\n",
       "    }\n",
       "\n",
       "    .dataframe thead th {\n",
       "        text-align: right;\n",
       "    }\n",
       "</style>\n",
       "<table border=\"1\" class=\"dataframe\">\n",
       "  <thead>\n",
       "    <tr style=\"text-align: right;\">\n",
       "      <th></th>\n",
       "      <th>magnitude_of_delay</th>\n",
       "      <th>delay_in_seconds</th>\n",
       "      <th>record_date</th>\n",
       "      <th>luminosity</th>\n",
       "      <th>avg_temperature</th>\n",
       "      <th>avg_atm_pressure</th>\n",
       "      <th>avg_humidity</th>\n",
       "      <th>avg_wind_speed</th>\n",
       "      <th>avg_rain</th>\n",
       "      <th>incidents</th>\n",
       "    </tr>\n",
       "  </thead>\n",
       "  <tbody>\n",
       "    <tr>\n",
       "      <th>2</th>\n",
       "      <td>UNDEFINED</td>\n",
       "      <td>69</td>\n",
       "      <td>2021-03-12 15:00</td>\n",
       "      <td>LIGHT</td>\n",
       "      <td>14.0</td>\n",
       "      <td>1025.0</td>\n",
       "      <td>64.0</td>\n",
       "      <td>0.0</td>\n",
       "      <td>Sem Chuva</td>\n",
       "      <td>Low</td>\n",
       "    </tr>\n",
       "    <tr>\n",
       "      <th>3</th>\n",
       "      <td>MAJOR</td>\n",
       "      <td>2297</td>\n",
       "      <td>2021-09-29 09:00</td>\n",
       "      <td>LIGHT</td>\n",
       "      <td>15.0</td>\n",
       "      <td>1028.0</td>\n",
       "      <td>75.0</td>\n",
       "      <td>1.0</td>\n",
       "      <td>Sem Chuva</td>\n",
       "      <td>Very_High</td>\n",
       "    </tr>\n",
       "    <tr>\n",
       "      <th>4</th>\n",
       "      <td>UNDEFINED</td>\n",
       "      <td>0</td>\n",
       "      <td>2021-06-13 11:00</td>\n",
       "      <td>LIGHT</td>\n",
       "      <td>27.0</td>\n",
       "      <td>1020.0</td>\n",
       "      <td>52.0</td>\n",
       "      <td>1.0</td>\n",
       "      <td>Sem Chuva</td>\n",
       "      <td>High</td>\n",
       "    </tr>\n",
       "    <tr>\n",
       "      <th>5</th>\n",
       "      <td>UNDEFINED</td>\n",
       "      <td>0</td>\n",
       "      <td>2021-12-07 23:00</td>\n",
       "      <td>DARK</td>\n",
       "      <td>9.0</td>\n",
       "      <td>1015.0</td>\n",
       "      <td>94.0</td>\n",
       "      <td>0.0</td>\n",
       "      <td>Sem Chuva</td>\n",
       "      <td>Medium</td>\n",
       "    </tr>\n",
       "    <tr>\n",
       "      <th>6</th>\n",
       "      <td>UNDEFINED</td>\n",
       "      <td>0</td>\n",
       "      <td>2021-12-05 05:00</td>\n",
       "      <td>DARK</td>\n",
       "      <td>8.0</td>\n",
       "      <td>1026.0</td>\n",
       "      <td>87.0</td>\n",
       "      <td>1.0</td>\n",
       "      <td>Sem Chuva</td>\n",
       "      <td>Low</td>\n",
       "    </tr>\n",
       "  </tbody>\n",
       "</table>\n",
       "</div>"
      ],
      "text/plain": [
       "  magnitude_of_delay  delay_in_seconds       record_date luminosity  \\\n",
       "2          UNDEFINED                69  2021-03-12 15:00      LIGHT   \n",
       "3              MAJOR              2297  2021-09-29 09:00      LIGHT   \n",
       "4          UNDEFINED                 0  2021-06-13 11:00      LIGHT   \n",
       "5          UNDEFINED                 0  2021-12-07 23:00       DARK   \n",
       "6          UNDEFINED                 0  2021-12-05 05:00       DARK   \n",
       "\n",
       "   avg_temperature  avg_atm_pressure  avg_humidity  avg_wind_speed   avg_rain  \\\n",
       "2             14.0            1025.0          64.0             0.0  Sem Chuva   \n",
       "3             15.0            1028.0          75.0             1.0  Sem Chuva   \n",
       "4             27.0            1020.0          52.0             1.0  Sem Chuva   \n",
       "5              9.0            1015.0          94.0             0.0  Sem Chuva   \n",
       "6              8.0            1026.0          87.0             1.0  Sem Chuva   \n",
       "\n",
       "   incidents  \n",
       "2        Low  \n",
       "3  Very_High  \n",
       "4       High  \n",
       "5     Medium  \n",
       "6        Low  "
      ]
     },
     "execution_count": 34,
     "metadata": {},
     "output_type": "execute_result"
    }
   ],
   "source": [
    "data_r1.head()"
   ]
  },
  {
   "cell_type": "markdown",
   "metadata": {},
   "source": [
    "Now we need to replace with the new values:"
   ]
  },
  {
   "cell_type": "code",
   "execution_count": 35,
   "metadata": {},
   "outputs": [
    {
     "data": {
      "text/html": [
       "<div>\n",
       "<style scoped>\n",
       "    .dataframe tbody tr th:only-of-type {\n",
       "        vertical-align: middle;\n",
       "    }\n",
       "\n",
       "    .dataframe tbody tr th {\n",
       "        vertical-align: top;\n",
       "    }\n",
       "\n",
       "    .dataframe thead th {\n",
       "        text-align: right;\n",
       "    }\n",
       "</style>\n",
       "<table border=\"1\" class=\"dataframe\">\n",
       "  <thead>\n",
       "    <tr style=\"text-align: right;\">\n",
       "      <th></th>\n",
       "      <th>magnitude_of_delay</th>\n",
       "      <th>delay_in_seconds</th>\n",
       "      <th>record_date</th>\n",
       "      <th>luminosity</th>\n",
       "      <th>avg_temperature</th>\n",
       "      <th>avg_atm_pressure</th>\n",
       "      <th>avg_humidity</th>\n",
       "      <th>avg_wind_speed</th>\n",
       "      <th>avg_rain</th>\n",
       "      <th>incidents</th>\n",
       "    </tr>\n",
       "  </thead>\n",
       "  <tbody>\n",
       "    <tr>\n",
       "      <th>2</th>\n",
       "      <td>UNDEFINED</td>\n",
       "      <td>69</td>\n",
       "      <td>2021-03-12 15:00</td>\n",
       "      <td>LIGHT</td>\n",
       "      <td>14.0</td>\n",
       "      <td>1025.0</td>\n",
       "      <td>64.0</td>\n",
       "      <td>0.0</td>\n",
       "      <td>Sem Chuva</td>\n",
       "      <td>2</td>\n",
       "    </tr>\n",
       "    <tr>\n",
       "      <th>3</th>\n",
       "      <td>MAJOR</td>\n",
       "      <td>2297</td>\n",
       "      <td>2021-09-29 09:00</td>\n",
       "      <td>LIGHT</td>\n",
       "      <td>15.0</td>\n",
       "      <td>1028.0</td>\n",
       "      <td>75.0</td>\n",
       "      <td>1.0</td>\n",
       "      <td>Sem Chuva</td>\n",
       "      <td>4</td>\n",
       "    </tr>\n",
       "    <tr>\n",
       "      <th>4</th>\n",
       "      <td>UNDEFINED</td>\n",
       "      <td>0</td>\n",
       "      <td>2021-06-13 11:00</td>\n",
       "      <td>LIGHT</td>\n",
       "      <td>27.0</td>\n",
       "      <td>1020.0</td>\n",
       "      <td>52.0</td>\n",
       "      <td>1.0</td>\n",
       "      <td>Sem Chuva</td>\n",
       "      <td>1</td>\n",
       "    </tr>\n",
       "    <tr>\n",
       "      <th>5</th>\n",
       "      <td>UNDEFINED</td>\n",
       "      <td>0</td>\n",
       "      <td>2021-12-07 23:00</td>\n",
       "      <td>DARK</td>\n",
       "      <td>9.0</td>\n",
       "      <td>1015.0</td>\n",
       "      <td>94.0</td>\n",
       "      <td>0.0</td>\n",
       "      <td>Sem Chuva</td>\n",
       "      <td>3</td>\n",
       "    </tr>\n",
       "    <tr>\n",
       "      <th>6</th>\n",
       "      <td>UNDEFINED</td>\n",
       "      <td>0</td>\n",
       "      <td>2021-12-05 05:00</td>\n",
       "      <td>DARK</td>\n",
       "      <td>8.0</td>\n",
       "      <td>1026.0</td>\n",
       "      <td>87.0</td>\n",
       "      <td>1.0</td>\n",
       "      <td>Sem Chuva</td>\n",
       "      <td>2</td>\n",
       "    </tr>\n",
       "  </tbody>\n",
       "</table>\n",
       "</div>"
      ],
      "text/plain": [
       "  magnitude_of_delay  delay_in_seconds       record_date luminosity  \\\n",
       "2          UNDEFINED                69  2021-03-12 15:00      LIGHT   \n",
       "3              MAJOR              2297  2021-09-29 09:00      LIGHT   \n",
       "4          UNDEFINED                 0  2021-06-13 11:00      LIGHT   \n",
       "5          UNDEFINED                 0  2021-12-07 23:00       DARK   \n",
       "6          UNDEFINED                 0  2021-12-05 05:00       DARK   \n",
       "\n",
       "   avg_temperature  avg_atm_pressure  avg_humidity  avg_wind_speed   avg_rain  \\\n",
       "2             14.0            1025.0          64.0             0.0  Sem Chuva   \n",
       "3             15.0            1028.0          75.0             1.0  Sem Chuva   \n",
       "4             27.0            1020.0          52.0             1.0  Sem Chuva   \n",
       "5              9.0            1015.0          94.0             0.0  Sem Chuva   \n",
       "6              8.0            1026.0          87.0             1.0  Sem Chuva   \n",
       "\n",
       "   incidents  \n",
       "2          2  \n",
       "3          4  \n",
       "4          1  \n",
       "5          3  \n",
       "6          2  "
      ]
     },
     "execution_count": 35,
     "metadata": {},
     "output_type": "execute_result"
    }
   ],
   "source": [
    "data_r1.replace(replace_map_comp,inplace=True)\n",
    "data_r1.head()"
   ]
  },
  {
   "cell_type": "markdown",
   "metadata": {},
   "source": [
    "Done! Now we can see that the type of values are <em>int64</em>:"
   ]
  },
  {
   "cell_type": "code",
   "execution_count": 37,
   "metadata": {},
   "outputs": [
    {
     "name": "stdout",
     "output_type": "stream",
     "text": [
      "int64\n"
     ]
    }
   ],
   "source": [
    "print(data_r1['incidents'].dtypes)"
   ]
  },
  {
   "cell_type": "markdown",
   "metadata": {},
   "source": [
    "#### b) Label encoding"
   ]
  },
  {
   "cell_type": "code",
   "execution_count": 38,
   "metadata": {},
   "outputs": [
    {
     "data": {
      "text/html": [
       "<div>\n",
       "<style scoped>\n",
       "    .dataframe tbody tr th:only-of-type {\n",
       "        vertical-align: middle;\n",
       "    }\n",
       "\n",
       "    .dataframe tbody tr th {\n",
       "        vertical-align: top;\n",
       "    }\n",
       "\n",
       "    .dataframe thead th {\n",
       "        text-align: right;\n",
       "    }\n",
       "</style>\n",
       "<table border=\"1\" class=\"dataframe\">\n",
       "  <thead>\n",
       "    <tr style=\"text-align: right;\">\n",
       "      <th></th>\n",
       "      <th>magnitude_of_delay</th>\n",
       "      <th>delay_in_seconds</th>\n",
       "      <th>record_date</th>\n",
       "      <th>luminosity</th>\n",
       "      <th>avg_temperature</th>\n",
       "      <th>avg_atm_pressure</th>\n",
       "      <th>avg_humidity</th>\n",
       "      <th>avg_wind_speed</th>\n",
       "      <th>avg_rain</th>\n",
       "      <th>incidents</th>\n",
       "    </tr>\n",
       "  </thead>\n",
       "  <tbody>\n",
       "    <tr>\n",
       "      <th>2</th>\n",
       "      <td>UNDEFINED</td>\n",
       "      <td>69</td>\n",
       "      <td>2021-03-12 15:00</td>\n",
       "      <td>LIGHT</td>\n",
       "      <td>14.0</td>\n",
       "      <td>1025.0</td>\n",
       "      <td>64.0</td>\n",
       "      <td>0.0</td>\n",
       "      <td>Sem Chuva</td>\n",
       "      <td>Low</td>\n",
       "    </tr>\n",
       "    <tr>\n",
       "      <th>3</th>\n",
       "      <td>MAJOR</td>\n",
       "      <td>2297</td>\n",
       "      <td>2021-09-29 09:00</td>\n",
       "      <td>LIGHT</td>\n",
       "      <td>15.0</td>\n",
       "      <td>1028.0</td>\n",
       "      <td>75.0</td>\n",
       "      <td>1.0</td>\n",
       "      <td>Sem Chuva</td>\n",
       "      <td>Very_High</td>\n",
       "    </tr>\n",
       "    <tr>\n",
       "      <th>4</th>\n",
       "      <td>UNDEFINED</td>\n",
       "      <td>0</td>\n",
       "      <td>2021-06-13 11:00</td>\n",
       "      <td>LIGHT</td>\n",
       "      <td>27.0</td>\n",
       "      <td>1020.0</td>\n",
       "      <td>52.0</td>\n",
       "      <td>1.0</td>\n",
       "      <td>Sem Chuva</td>\n",
       "      <td>High</td>\n",
       "    </tr>\n",
       "    <tr>\n",
       "      <th>5</th>\n",
       "      <td>UNDEFINED</td>\n",
       "      <td>0</td>\n",
       "      <td>2021-12-07 23:00</td>\n",
       "      <td>DARK</td>\n",
       "      <td>9.0</td>\n",
       "      <td>1015.0</td>\n",
       "      <td>94.0</td>\n",
       "      <td>0.0</td>\n",
       "      <td>Sem Chuva</td>\n",
       "      <td>Medium</td>\n",
       "    </tr>\n",
       "    <tr>\n",
       "      <th>6</th>\n",
       "      <td>UNDEFINED</td>\n",
       "      <td>0</td>\n",
       "      <td>2021-12-05 05:00</td>\n",
       "      <td>DARK</td>\n",
       "      <td>8.0</td>\n",
       "      <td>1026.0</td>\n",
       "      <td>87.0</td>\n",
       "      <td>1.0</td>\n",
       "      <td>Sem Chuva</td>\n",
       "      <td>Low</td>\n",
       "    </tr>\n",
       "  </tbody>\n",
       "</table>\n",
       "</div>"
      ],
      "text/plain": [
       "  magnitude_of_delay  delay_in_seconds       record_date luminosity  \\\n",
       "2          UNDEFINED                69  2021-03-12 15:00      LIGHT   \n",
       "3              MAJOR              2297  2021-09-29 09:00      LIGHT   \n",
       "4          UNDEFINED                 0  2021-06-13 11:00      LIGHT   \n",
       "5          UNDEFINED                 0  2021-12-07 23:00       DARK   \n",
       "6          UNDEFINED                 0  2021-12-05 05:00       DARK   \n",
       "\n",
       "   avg_temperature  avg_atm_pressure  avg_humidity  avg_wind_speed   avg_rain  \\\n",
       "2             14.0            1025.0          64.0             0.0  Sem Chuva   \n",
       "3             15.0            1028.0          75.0             1.0  Sem Chuva   \n",
       "4             27.0            1020.0          52.0             1.0  Sem Chuva   \n",
       "5              9.0            1015.0          94.0             0.0  Sem Chuva   \n",
       "6              8.0            1026.0          87.0             1.0  Sem Chuva   \n",
       "\n",
       "   incidents  \n",
       "2        Low  \n",
       "3  Very_High  \n",
       "4       High  \n",
       "5     Medium  \n",
       "6        Low  "
      ]
     },
     "execution_count": 38,
     "metadata": {},
     "output_type": "execute_result"
    }
   ],
   "source": [
    "data_r2=data.copy()\n",
    "data_r2.head()"
   ]
  },
  {
   "cell_type": "code",
   "execution_count": 39,
   "metadata": {},
   "outputs": [
    {
     "name": "stdout",
     "output_type": "stream",
     "text": [
      "magnitude_of_delay     object\n",
      "delay_in_seconds        int64\n",
      "record_date            object\n",
      "luminosity             object\n",
      "avg_temperature       float64\n",
      "avg_atm_pressure      float64\n",
      "avg_humidity          float64\n",
      "avg_wind_speed        float64\n",
      "avg_rain               object\n",
      "incidents              object\n",
      "dtype: object\n"
     ]
    }
   ],
   "source": [
    "print(data_r2.dtypes)"
   ]
  },
  {
   "cell_type": "markdown",
   "metadata": {},
   "source": [
    "Similar to the previous examples, each string will be assigned a number. Instead of replacing the values under the column <em>incidents</em>, we are going to create a new colum to each created label."
   ]
  },
  {
   "cell_type": "code",
   "execution_count": 41,
   "metadata": {},
   "outputs": [
    {
     "data": {
      "text/html": [
       "<div>\n",
       "<style scoped>\n",
       "    .dataframe tbody tr th:only-of-type {\n",
       "        vertical-align: middle;\n",
       "    }\n",
       "\n",
       "    .dataframe tbody tr th {\n",
       "        vertical-align: top;\n",
       "    }\n",
       "\n",
       "    .dataframe thead th {\n",
       "        text-align: right;\n",
       "    }\n",
       "</style>\n",
       "<table border=\"1\" class=\"dataframe\">\n",
       "  <thead>\n",
       "    <tr style=\"text-align: right;\">\n",
       "      <th></th>\n",
       "      <th>magnitude_of_delay</th>\n",
       "      <th>delay_in_seconds</th>\n",
       "      <th>record_date</th>\n",
       "      <th>luminosity</th>\n",
       "      <th>avg_temperature</th>\n",
       "      <th>avg_atm_pressure</th>\n",
       "      <th>avg_humidity</th>\n",
       "      <th>avg_wind_speed</th>\n",
       "      <th>avg_rain</th>\n",
       "      <th>incidents</th>\n",
       "      <th>None</th>\n",
       "    </tr>\n",
       "  </thead>\n",
       "  <tbody>\n",
       "    <tr>\n",
       "      <th>2</th>\n",
       "      <td>UNDEFINED</td>\n",
       "      <td>69</td>\n",
       "      <td>2021-03-12 15:00</td>\n",
       "      <td>LIGHT</td>\n",
       "      <td>14.0</td>\n",
       "      <td>1025.0</td>\n",
       "      <td>64.0</td>\n",
       "      <td>0.0</td>\n",
       "      <td>Sem Chuva</td>\n",
       "      <td>Low</td>\n",
       "      <td>0</td>\n",
       "    </tr>\n",
       "    <tr>\n",
       "      <th>3</th>\n",
       "      <td>MAJOR</td>\n",
       "      <td>2297</td>\n",
       "      <td>2021-09-29 09:00</td>\n",
       "      <td>LIGHT</td>\n",
       "      <td>15.0</td>\n",
       "      <td>1028.0</td>\n",
       "      <td>75.0</td>\n",
       "      <td>1.0</td>\n",
       "      <td>Sem Chuva</td>\n",
       "      <td>Very_High</td>\n",
       "      <td>0</td>\n",
       "    </tr>\n",
       "    <tr>\n",
       "      <th>4</th>\n",
       "      <td>UNDEFINED</td>\n",
       "      <td>0</td>\n",
       "      <td>2021-06-13 11:00</td>\n",
       "      <td>LIGHT</td>\n",
       "      <td>27.0</td>\n",
       "      <td>1020.0</td>\n",
       "      <td>52.0</td>\n",
       "      <td>1.0</td>\n",
       "      <td>Sem Chuva</td>\n",
       "      <td>High</td>\n",
       "      <td>0</td>\n",
       "    </tr>\n",
       "    <tr>\n",
       "      <th>5</th>\n",
       "      <td>UNDEFINED</td>\n",
       "      <td>0</td>\n",
       "      <td>2021-12-07 23:00</td>\n",
       "      <td>DARK</td>\n",
       "      <td>9.0</td>\n",
       "      <td>1015.0</td>\n",
       "      <td>94.0</td>\n",
       "      <td>0.0</td>\n",
       "      <td>Sem Chuva</td>\n",
       "      <td>Medium</td>\n",
       "      <td>0</td>\n",
       "    </tr>\n",
       "    <tr>\n",
       "      <th>6</th>\n",
       "      <td>UNDEFINED</td>\n",
       "      <td>0</td>\n",
       "      <td>2021-12-05 05:00</td>\n",
       "      <td>DARK</td>\n",
       "      <td>8.0</td>\n",
       "      <td>1026.0</td>\n",
       "      <td>87.0</td>\n",
       "      <td>1.0</td>\n",
       "      <td>Sem Chuva</td>\n",
       "      <td>Low</td>\n",
       "      <td>0</td>\n",
       "    </tr>\n",
       "  </tbody>\n",
       "</table>\n",
       "</div>"
      ],
      "text/plain": [
       "  magnitude_of_delay  delay_in_seconds       record_date luminosity  \\\n",
       "2          UNDEFINED                69  2021-03-12 15:00      LIGHT   \n",
       "3              MAJOR              2297  2021-09-29 09:00      LIGHT   \n",
       "4          UNDEFINED                 0  2021-06-13 11:00      LIGHT   \n",
       "5          UNDEFINED                 0  2021-12-07 23:00       DARK   \n",
       "6          UNDEFINED                 0  2021-12-05 05:00       DARK   \n",
       "\n",
       "   avg_temperature  avg_atm_pressure  avg_humidity  avg_wind_speed   avg_rain  \\\n",
       "2             14.0            1025.0          64.0             0.0  Sem Chuva   \n",
       "3             15.0            1028.0          75.0             1.0  Sem Chuva   \n",
       "4             27.0            1020.0          52.0             1.0  Sem Chuva   \n",
       "5              9.0            1015.0          94.0             0.0  Sem Chuva   \n",
       "6              8.0            1026.0          87.0             1.0  Sem Chuva   \n",
       "\n",
       "   incidents  None  \n",
       "2        Low     0  \n",
       "3  Very_High     0  \n",
       "4       High     0  \n",
       "5     Medium     0  \n",
       "6        Low     0  "
      ]
     },
     "execution_count": 41,
     "metadata": {},
     "output_type": "execute_result"
    }
   ],
   "source": [
    "data_r2['None'] = np.where(data_r2['incidents'].str.contains('None'), 1, 0)\n",
    "data_r2.head()"
   ]
  },
  {
   "cell_type": "markdown",
   "metadata": {},
   "source": [
    "To complete the process, it is needed to replicate for each label and then drop the column <em>incidents</em>."
   ]
  },
  {
   "cell_type": "markdown",
   "metadata": {},
   "source": [
    "Let's see another way to label encoding. This uses the <em>LabelEncoder</em> from <em>sklearn</em>."
   ]
  },
  {
   "cell_type": "code",
   "execution_count": 42,
   "metadata": {},
   "outputs": [
    {
     "data": {
      "text/html": [
       "<div>\n",
       "<style scoped>\n",
       "    .dataframe tbody tr th:only-of-type {\n",
       "        vertical-align: middle;\n",
       "    }\n",
       "\n",
       "    .dataframe tbody tr th {\n",
       "        vertical-align: top;\n",
       "    }\n",
       "\n",
       "    .dataframe thead th {\n",
       "        text-align: right;\n",
       "    }\n",
       "</style>\n",
       "<table border=\"1\" class=\"dataframe\">\n",
       "  <thead>\n",
       "    <tr style=\"text-align: right;\">\n",
       "      <th></th>\n",
       "      <th>magnitude_of_delay</th>\n",
       "      <th>delay_in_seconds</th>\n",
       "      <th>record_date</th>\n",
       "      <th>luminosity</th>\n",
       "      <th>avg_temperature</th>\n",
       "      <th>avg_atm_pressure</th>\n",
       "      <th>avg_humidity</th>\n",
       "      <th>avg_wind_speed</th>\n",
       "      <th>avg_rain</th>\n",
       "      <th>incidents</th>\n",
       "      <th>incidents_code</th>\n",
       "    </tr>\n",
       "  </thead>\n",
       "  <tbody>\n",
       "    <tr>\n",
       "      <th>2</th>\n",
       "      <td>UNDEFINED</td>\n",
       "      <td>69</td>\n",
       "      <td>2021-03-12 15:00</td>\n",
       "      <td>LIGHT</td>\n",
       "      <td>14.0</td>\n",
       "      <td>1025.0</td>\n",
       "      <td>64.0</td>\n",
       "      <td>0.0</td>\n",
       "      <td>Sem Chuva</td>\n",
       "      <td>Low</td>\n",
       "      <td>1</td>\n",
       "    </tr>\n",
       "    <tr>\n",
       "      <th>3</th>\n",
       "      <td>MAJOR</td>\n",
       "      <td>2297</td>\n",
       "      <td>2021-09-29 09:00</td>\n",
       "      <td>LIGHT</td>\n",
       "      <td>15.0</td>\n",
       "      <td>1028.0</td>\n",
       "      <td>75.0</td>\n",
       "      <td>1.0</td>\n",
       "      <td>Sem Chuva</td>\n",
       "      <td>Very_High</td>\n",
       "      <td>3</td>\n",
       "    </tr>\n",
       "    <tr>\n",
       "      <th>4</th>\n",
       "      <td>UNDEFINED</td>\n",
       "      <td>0</td>\n",
       "      <td>2021-06-13 11:00</td>\n",
       "      <td>LIGHT</td>\n",
       "      <td>27.0</td>\n",
       "      <td>1020.0</td>\n",
       "      <td>52.0</td>\n",
       "      <td>1.0</td>\n",
       "      <td>Sem Chuva</td>\n",
       "      <td>High</td>\n",
       "      <td>0</td>\n",
       "    </tr>\n",
       "    <tr>\n",
       "      <th>5</th>\n",
       "      <td>UNDEFINED</td>\n",
       "      <td>0</td>\n",
       "      <td>2021-12-07 23:00</td>\n",
       "      <td>DARK</td>\n",
       "      <td>9.0</td>\n",
       "      <td>1015.0</td>\n",
       "      <td>94.0</td>\n",
       "      <td>0.0</td>\n",
       "      <td>Sem Chuva</td>\n",
       "      <td>Medium</td>\n",
       "      <td>2</td>\n",
       "    </tr>\n",
       "    <tr>\n",
       "      <th>6</th>\n",
       "      <td>UNDEFINED</td>\n",
       "      <td>0</td>\n",
       "      <td>2021-12-05 05:00</td>\n",
       "      <td>DARK</td>\n",
       "      <td>8.0</td>\n",
       "      <td>1026.0</td>\n",
       "      <td>87.0</td>\n",
       "      <td>1.0</td>\n",
       "      <td>Sem Chuva</td>\n",
       "      <td>Low</td>\n",
       "      <td>1</td>\n",
       "    </tr>\n",
       "  </tbody>\n",
       "</table>\n",
       "</div>"
      ],
      "text/plain": [
       "  magnitude_of_delay  delay_in_seconds       record_date luminosity  \\\n",
       "2          UNDEFINED                69  2021-03-12 15:00      LIGHT   \n",
       "3              MAJOR              2297  2021-09-29 09:00      LIGHT   \n",
       "4          UNDEFINED                 0  2021-06-13 11:00      LIGHT   \n",
       "5          UNDEFINED                 0  2021-12-07 23:00       DARK   \n",
       "6          UNDEFINED                 0  2021-12-05 05:00       DARK   \n",
       "\n",
       "   avg_temperature  avg_atm_pressure  avg_humidity  avg_wind_speed   avg_rain  \\\n",
       "2             14.0            1025.0          64.0             0.0  Sem Chuva   \n",
       "3             15.0            1028.0          75.0             1.0  Sem Chuva   \n",
       "4             27.0            1020.0          52.0             1.0  Sem Chuva   \n",
       "5              9.0            1015.0          94.0             0.0  Sem Chuva   \n",
       "6              8.0            1026.0          87.0             1.0  Sem Chuva   \n",
       "\n",
       "   incidents  incidents_code  \n",
       "2        Low               1  \n",
       "3  Very_High               3  \n",
       "4       High               0  \n",
       "5     Medium               2  \n",
       "6        Low               1  "
      ]
     },
     "execution_count": 42,
     "metadata": {},
     "output_type": "execute_result"
    }
   ],
   "source": [
    "data_r2_sk1 = data.copy()\n",
    "data_r22=data.copy()\n",
    "\n",
    "from sklearn.preprocessing import LabelEncoder\n",
    "\n",
    "lb_make = LabelEncoder()\n",
    "data_r2_sk1['incidents_code'] = lb_make.fit_transform(data_r22['incidents'])\n",
    "\n",
    "data_r2_sk1.head()"
   ]
  },
  {
   "cell_type": "markdown",
   "metadata": {},
   "source": [
    "It creates a new column, <em>incidents_code</em>, with the labels assigned to feature <em>incidents</em>. The numeric values were assigned randomly, being the crescent order not apllicable to the meaning of the qualifying words."
   ]
  },
  {
   "cell_type": "markdown",
   "metadata": {},
   "source": [
    "#### c) One-Hot encoding"
   ]
  },
  {
   "cell_type": "markdown",
   "metadata": {},
   "source": [
    "This alternative uses <em>LabelBinarizer</em> of <em>sklearn</em> and creates a matrix with bits regarding each label."
   ]
  },
  {
   "cell_type": "code",
   "execution_count": 44,
   "metadata": {},
   "outputs": [
    {
     "data": {
      "text/html": [
       "<div>\n",
       "<style scoped>\n",
       "    .dataframe tbody tr th:only-of-type {\n",
       "        vertical-align: middle;\n",
       "    }\n",
       "\n",
       "    .dataframe tbody tr th {\n",
       "        vertical-align: top;\n",
       "    }\n",
       "\n",
       "    .dataframe thead th {\n",
       "        text-align: right;\n",
       "    }\n",
       "</style>\n",
       "<table border=\"1\" class=\"dataframe\">\n",
       "  <thead>\n",
       "    <tr style=\"text-align: right;\">\n",
       "      <th></th>\n",
       "      <th>High</th>\n",
       "      <th>Low</th>\n",
       "      <th>Medium</th>\n",
       "      <th>Very_High</th>\n",
       "    </tr>\n",
       "  </thead>\n",
       "  <tbody>\n",
       "    <tr>\n",
       "      <th>0</th>\n",
       "      <td>0</td>\n",
       "      <td>1</td>\n",
       "      <td>0</td>\n",
       "      <td>0</td>\n",
       "    </tr>\n",
       "    <tr>\n",
       "      <th>1</th>\n",
       "      <td>0</td>\n",
       "      <td>0</td>\n",
       "      <td>0</td>\n",
       "      <td>1</td>\n",
       "    </tr>\n",
       "    <tr>\n",
       "      <th>2</th>\n",
       "      <td>1</td>\n",
       "      <td>0</td>\n",
       "      <td>0</td>\n",
       "      <td>0</td>\n",
       "    </tr>\n",
       "    <tr>\n",
       "      <th>3</th>\n",
       "      <td>0</td>\n",
       "      <td>0</td>\n",
       "      <td>1</td>\n",
       "      <td>0</td>\n",
       "    </tr>\n",
       "    <tr>\n",
       "      <th>4</th>\n",
       "      <td>0</td>\n",
       "      <td>1</td>\n",
       "      <td>0</td>\n",
       "      <td>0</td>\n",
       "    </tr>\n",
       "  </tbody>\n",
       "</table>\n",
       "</div>"
      ],
      "text/plain": [
       "   High  Low  Medium  Very_High\n",
       "0     0    1       0          0\n",
       "1     0    0       0          1\n",
       "2     1    0       0          0\n",
       "3     0    0       1          0\n",
       "4     0    1       0          0"
      ]
     },
     "execution_count": 44,
     "metadata": {},
     "output_type": "execute_result"
    }
   ],
   "source": [
    "data_r3 = data.copy()\n",
    "\n",
    "from sklearn.preprocessing import LabelBinarizer\n",
    "\n",
    "lb = LabelBinarizer()\n",
    "lb_results = lb.fit_transform(data_r3['incidents'])\n",
    "lb_results_df = pd.DataFrame(lb_results, columns=lb.classes_)\n",
    "\n",
    "lb_results_df.head()"
   ]
  },
  {
   "cell_type": "code",
   "execution_count": 46,
   "metadata": {},
   "outputs": [
    {
     "data": {
      "text/html": [
       "<div>\n",
       "<style scoped>\n",
       "    .dataframe tbody tr th:only-of-type {\n",
       "        vertical-align: middle;\n",
       "    }\n",
       "\n",
       "    .dataframe tbody tr th {\n",
       "        vertical-align: top;\n",
       "    }\n",
       "\n",
       "    .dataframe thead th {\n",
       "        text-align: right;\n",
       "    }\n",
       "</style>\n",
       "<table border=\"1\" class=\"dataframe\">\n",
       "  <thead>\n",
       "    <tr style=\"text-align: right;\">\n",
       "      <th></th>\n",
       "      <th>magnitude_of_delay</th>\n",
       "      <th>delay_in_seconds</th>\n",
       "      <th>record_date</th>\n",
       "      <th>luminosity</th>\n",
       "      <th>avg_temperature</th>\n",
       "      <th>avg_atm_pressure</th>\n",
       "      <th>avg_humidity</th>\n",
       "      <th>avg_wind_speed</th>\n",
       "      <th>avg_rain</th>\n",
       "      <th>incidents</th>\n",
       "      <th>High</th>\n",
       "      <th>Low</th>\n",
       "      <th>Medium</th>\n",
       "      <th>Very_High</th>\n",
       "    </tr>\n",
       "  </thead>\n",
       "  <tbody>\n",
       "    <tr>\n",
       "      <th>2</th>\n",
       "      <td>UNDEFINED</td>\n",
       "      <td>69.0</td>\n",
       "      <td>2021-03-12 15:00</td>\n",
       "      <td>LIGHT</td>\n",
       "      <td>14.0</td>\n",
       "      <td>1025.0</td>\n",
       "      <td>64.0</td>\n",
       "      <td>0.0</td>\n",
       "      <td>Sem Chuva</td>\n",
       "      <td>Low</td>\n",
       "      <td>1.0</td>\n",
       "      <td>0.0</td>\n",
       "      <td>0.0</td>\n",
       "      <td>0.0</td>\n",
       "    </tr>\n",
       "    <tr>\n",
       "      <th>3</th>\n",
       "      <td>MAJOR</td>\n",
       "      <td>2297.0</td>\n",
       "      <td>2021-09-29 09:00</td>\n",
       "      <td>LIGHT</td>\n",
       "      <td>15.0</td>\n",
       "      <td>1028.0</td>\n",
       "      <td>75.0</td>\n",
       "      <td>1.0</td>\n",
       "      <td>Sem Chuva</td>\n",
       "      <td>Very_High</td>\n",
       "      <td>0.0</td>\n",
       "      <td>0.0</td>\n",
       "      <td>1.0</td>\n",
       "      <td>0.0</td>\n",
       "    </tr>\n",
       "    <tr>\n",
       "      <th>4</th>\n",
       "      <td>UNDEFINED</td>\n",
       "      <td>0.0</td>\n",
       "      <td>2021-06-13 11:00</td>\n",
       "      <td>LIGHT</td>\n",
       "      <td>27.0</td>\n",
       "      <td>1020.0</td>\n",
       "      <td>52.0</td>\n",
       "      <td>1.0</td>\n",
       "      <td>Sem Chuva</td>\n",
       "      <td>High</td>\n",
       "      <td>0.0</td>\n",
       "      <td>1.0</td>\n",
       "      <td>0.0</td>\n",
       "      <td>0.0</td>\n",
       "    </tr>\n",
       "    <tr>\n",
       "      <th>5</th>\n",
       "      <td>UNDEFINED</td>\n",
       "      <td>0.0</td>\n",
       "      <td>2021-12-07 23:00</td>\n",
       "      <td>DARK</td>\n",
       "      <td>9.0</td>\n",
       "      <td>1015.0</td>\n",
       "      <td>94.0</td>\n",
       "      <td>0.0</td>\n",
       "      <td>Sem Chuva</td>\n",
       "      <td>Medium</td>\n",
       "      <td>1.0</td>\n",
       "      <td>0.0</td>\n",
       "      <td>0.0</td>\n",
       "      <td>0.0</td>\n",
       "    </tr>\n",
       "    <tr>\n",
       "      <th>6</th>\n",
       "      <td>UNDEFINED</td>\n",
       "      <td>0.0</td>\n",
       "      <td>2021-12-05 05:00</td>\n",
       "      <td>DARK</td>\n",
       "      <td>8.0</td>\n",
       "      <td>1026.0</td>\n",
       "      <td>87.0</td>\n",
       "      <td>1.0</td>\n",
       "      <td>Sem Chuva</td>\n",
       "      <td>Low</td>\n",
       "      <td>0.0</td>\n",
       "      <td>0.0</td>\n",
       "      <td>0.0</td>\n",
       "      <td>1.0</td>\n",
       "    </tr>\n",
       "  </tbody>\n",
       "</table>\n",
       "</div>"
      ],
      "text/plain": [
       "  magnitude_of_delay  delay_in_seconds       record_date luminosity  \\\n",
       "2          UNDEFINED              69.0  2021-03-12 15:00      LIGHT   \n",
       "3              MAJOR            2297.0  2021-09-29 09:00      LIGHT   \n",
       "4          UNDEFINED               0.0  2021-06-13 11:00      LIGHT   \n",
       "5          UNDEFINED               0.0  2021-12-07 23:00       DARK   \n",
       "6          UNDEFINED               0.0  2021-12-05 05:00       DARK   \n",
       "\n",
       "   avg_temperature  avg_atm_pressure  avg_humidity  avg_wind_speed   avg_rain  \\\n",
       "2             14.0            1025.0          64.0             0.0  Sem Chuva   \n",
       "3             15.0            1028.0          75.0             1.0  Sem Chuva   \n",
       "4             27.0            1020.0          52.0             1.0  Sem Chuva   \n",
       "5              9.0            1015.0          94.0             0.0  Sem Chuva   \n",
       "6              8.0            1026.0          87.0             1.0  Sem Chuva   \n",
       "\n",
       "   incidents  High  Low  Medium  Very_High  \n",
       "2        Low   1.0  0.0     0.0        0.0  \n",
       "3  Very_High   0.0  0.0     1.0        0.0  \n",
       "4       High   0.0  1.0     0.0        0.0  \n",
       "5     Medium   1.0  0.0     0.0        0.0  \n",
       "6        Low   0.0  0.0     0.0        1.0  "
      ]
     },
     "execution_count": 46,
     "metadata": {},
     "output_type": "execute_result"
    }
   ],
   "source": [
    "result_df = pd.concat([data_r3, lb_results_df], axis=1)\n",
    "result_df.head()"
   ]
  },
  {
   "cell_type": "markdown",
   "metadata": {},
   "source": [
    "#### d) Binary Encoding\n",
    "Similar to the previous technique, it creates a matrix of the status of the values, but this time with binary values. See the comparison between techniques below:"
   ]
  },
  {
   "cell_type": "markdown",
   "metadata": {},
   "source": [
    "|   Level   | \"Decimal encoding\" | Binary encoding | One-Hot encoding |\n",
    "| :-------: | :----------------: | :-------------: | :--------------: |\n",
    "| None      |         0          |       000       |      000001      |\n",
    "| Low       |         1          |       001       |      000010      |\n",
    "| Medium    |         2          |       010       |      000100      |\n",
    "| High      |         3          |       011       |      001000      |\n",
    "| Very_High |         4          |       100       |      010000      |"
   ]
  },
  {
   "cell_type": "markdown",
   "metadata": {},
   "source": [
    "For this technique it is needed to have the <em>category_encoders</em> installed:\n",
    "<code>!pip install category_encoders</code>"
   ]
  },
  {
   "cell_type": "code",
   "execution_count": 50,
   "metadata": {},
   "outputs": [
    {
     "data": {
      "text/html": [
       "<div>\n",
       "<style scoped>\n",
       "    .dataframe tbody tr th:only-of-type {\n",
       "        vertical-align: middle;\n",
       "    }\n",
       "\n",
       "    .dataframe tbody tr th {\n",
       "        vertical-align: top;\n",
       "    }\n",
       "\n",
       "    .dataframe thead th {\n",
       "        text-align: right;\n",
       "    }\n",
       "</style>\n",
       "<table border=\"1\" class=\"dataframe\">\n",
       "  <thead>\n",
       "    <tr style=\"text-align: right;\">\n",
       "      <th></th>\n",
       "      <th>magnitude_of_delay</th>\n",
       "      <th>delay_in_seconds</th>\n",
       "      <th>record_date</th>\n",
       "      <th>luminosity</th>\n",
       "      <th>avg_temperature</th>\n",
       "      <th>avg_atm_pressure</th>\n",
       "      <th>avg_humidity</th>\n",
       "      <th>avg_wind_speed</th>\n",
       "      <th>avg_rain</th>\n",
       "      <th>incidents_0</th>\n",
       "      <th>incidents_1</th>\n",
       "      <th>incidents_2</th>\n",
       "    </tr>\n",
       "  </thead>\n",
       "  <tbody>\n",
       "    <tr>\n",
       "      <th>2</th>\n",
       "      <td>UNDEFINED</td>\n",
       "      <td>69</td>\n",
       "      <td>2021-03-12 15:00</td>\n",
       "      <td>LIGHT</td>\n",
       "      <td>14.0</td>\n",
       "      <td>1025.0</td>\n",
       "      <td>64.0</td>\n",
       "      <td>0.0</td>\n",
       "      <td>Sem Chuva</td>\n",
       "      <td>0</td>\n",
       "      <td>0</td>\n",
       "      <td>1</td>\n",
       "    </tr>\n",
       "    <tr>\n",
       "      <th>3</th>\n",
       "      <td>MAJOR</td>\n",
       "      <td>2297</td>\n",
       "      <td>2021-09-29 09:00</td>\n",
       "      <td>LIGHT</td>\n",
       "      <td>15.0</td>\n",
       "      <td>1028.0</td>\n",
       "      <td>75.0</td>\n",
       "      <td>1.0</td>\n",
       "      <td>Sem Chuva</td>\n",
       "      <td>0</td>\n",
       "      <td>1</td>\n",
       "      <td>0</td>\n",
       "    </tr>\n",
       "    <tr>\n",
       "      <th>4</th>\n",
       "      <td>UNDEFINED</td>\n",
       "      <td>0</td>\n",
       "      <td>2021-06-13 11:00</td>\n",
       "      <td>LIGHT</td>\n",
       "      <td>27.0</td>\n",
       "      <td>1020.0</td>\n",
       "      <td>52.0</td>\n",
       "      <td>1.0</td>\n",
       "      <td>Sem Chuva</td>\n",
       "      <td>0</td>\n",
       "      <td>1</td>\n",
       "      <td>1</td>\n",
       "    </tr>\n",
       "    <tr>\n",
       "      <th>5</th>\n",
       "      <td>UNDEFINED</td>\n",
       "      <td>0</td>\n",
       "      <td>2021-12-07 23:00</td>\n",
       "      <td>DARK</td>\n",
       "      <td>9.0</td>\n",
       "      <td>1015.0</td>\n",
       "      <td>94.0</td>\n",
       "      <td>0.0</td>\n",
       "      <td>Sem Chuva</td>\n",
       "      <td>1</td>\n",
       "      <td>0</td>\n",
       "      <td>0</td>\n",
       "    </tr>\n",
       "    <tr>\n",
       "      <th>6</th>\n",
       "      <td>UNDEFINED</td>\n",
       "      <td>0</td>\n",
       "      <td>2021-12-05 05:00</td>\n",
       "      <td>DARK</td>\n",
       "      <td>8.0</td>\n",
       "      <td>1026.0</td>\n",
       "      <td>87.0</td>\n",
       "      <td>1.0</td>\n",
       "      <td>Sem Chuva</td>\n",
       "      <td>0</td>\n",
       "      <td>0</td>\n",
       "      <td>1</td>\n",
       "    </tr>\n",
       "  </tbody>\n",
       "</table>\n",
       "</div>"
      ],
      "text/plain": [
       "  magnitude_of_delay  delay_in_seconds       record_date luminosity  \\\n",
       "2          UNDEFINED                69  2021-03-12 15:00      LIGHT   \n",
       "3              MAJOR              2297  2021-09-29 09:00      LIGHT   \n",
       "4          UNDEFINED                 0  2021-06-13 11:00      LIGHT   \n",
       "5          UNDEFINED                 0  2021-12-07 23:00       DARK   \n",
       "6          UNDEFINED                 0  2021-12-05 05:00       DARK   \n",
       "\n",
       "   avg_temperature  avg_atm_pressure  avg_humidity  avg_wind_speed   avg_rain  \\\n",
       "2             14.0            1025.0          64.0             0.0  Sem Chuva   \n",
       "3             15.0            1028.0          75.0             1.0  Sem Chuva   \n",
       "4             27.0            1020.0          52.0             1.0  Sem Chuva   \n",
       "5              9.0            1015.0          94.0             0.0  Sem Chuva   \n",
       "6              8.0            1026.0          87.0             1.0  Sem Chuva   \n",
       "\n",
       "   incidents_0  incidents_1  incidents_2  \n",
       "2            0            0            1  \n",
       "3            0            1            0  \n",
       "4            0            1            1  \n",
       "5            1            0            0  \n",
       "6            0            0            1  "
      ]
     },
     "execution_count": 50,
     "metadata": {},
     "output_type": "execute_result"
    }
   ],
   "source": [
    "data_r4 = data.copy()\n",
    "\n",
    "import category_encoders as ce\n",
    "\n",
    "encoder = ce.BinaryEncoder(cols=['incidents'])\n",
    "df_binary = encoder.fit_transform(data_r4)\n",
    "\n",
    "df_binary.head()"
   ]
  },
  {
   "cell_type": "markdown",
   "metadata": {},
   "source": [
    "#### e) Backward difference encoding\n",
    "The values are normalized in the range of -1 to 1."
   ]
  },
  {
   "cell_type": "code",
   "execution_count": 51,
   "metadata": {},
   "outputs": [
    {
     "name": "stderr",
     "output_type": "stream",
     "text": [
      "C:\\Users\\nseip\\miniconda3\\envs\\aula1\\lib\\site-packages\\category_encoders\\base_contrast_encoder.py:126: FutureWarning: Intercept column might not be added anymore in future releases (c.f. issue #370)\n",
      "  warnings.warn(\"Intercept column might not be added anymore in future releases (c.f. issue #370)\",\n",
      "C:\\Users\\nseip\\miniconda3\\envs\\aula1\\lib\\site-packages\\category_encoders\\base_contrast_encoder.py:126: FutureWarning: Intercept column might not be added anymore in future releases (c.f. issue #370)\n",
      "  warnings.warn(\"Intercept column might not be added anymore in future releases (c.f. issue #370)\",\n"
     ]
    },
    {
     "data": {
      "text/html": [
       "<div>\n",
       "<style scoped>\n",
       "    .dataframe tbody tr th:only-of-type {\n",
       "        vertical-align: middle;\n",
       "    }\n",
       "\n",
       "    .dataframe tbody tr th {\n",
       "        vertical-align: top;\n",
       "    }\n",
       "\n",
       "    .dataframe thead th {\n",
       "        text-align: right;\n",
       "    }\n",
       "</style>\n",
       "<table border=\"1\" class=\"dataframe\">\n",
       "  <thead>\n",
       "    <tr style=\"text-align: right;\">\n",
       "      <th></th>\n",
       "      <th>intercept</th>\n",
       "      <th>magnitude_of_delay</th>\n",
       "      <th>delay_in_seconds</th>\n",
       "      <th>record_date</th>\n",
       "      <th>luminosity</th>\n",
       "      <th>avg_temperature</th>\n",
       "      <th>avg_atm_pressure</th>\n",
       "      <th>avg_humidity</th>\n",
       "      <th>avg_wind_speed</th>\n",
       "      <th>avg_rain</th>\n",
       "      <th>incidents_0</th>\n",
       "      <th>incidents_1</th>\n",
       "      <th>incidents_2</th>\n",
       "    </tr>\n",
       "  </thead>\n",
       "  <tbody>\n",
       "    <tr>\n",
       "      <th>2</th>\n",
       "      <td>1</td>\n",
       "      <td>UNDEFINED</td>\n",
       "      <td>69</td>\n",
       "      <td>2021-03-12 15:00</td>\n",
       "      <td>LIGHT</td>\n",
       "      <td>14.0</td>\n",
       "      <td>1025.0</td>\n",
       "      <td>64.0</td>\n",
       "      <td>0.0</td>\n",
       "      <td>Sem Chuva</td>\n",
       "      <td>-0.75</td>\n",
       "      <td>-0.5</td>\n",
       "      <td>-0.25</td>\n",
       "    </tr>\n",
       "    <tr>\n",
       "      <th>3</th>\n",
       "      <td>1</td>\n",
       "      <td>MAJOR</td>\n",
       "      <td>2297</td>\n",
       "      <td>2021-09-29 09:00</td>\n",
       "      <td>LIGHT</td>\n",
       "      <td>15.0</td>\n",
       "      <td>1028.0</td>\n",
       "      <td>75.0</td>\n",
       "      <td>1.0</td>\n",
       "      <td>Sem Chuva</td>\n",
       "      <td>0.25</td>\n",
       "      <td>-0.5</td>\n",
       "      <td>-0.25</td>\n",
       "    </tr>\n",
       "    <tr>\n",
       "      <th>4</th>\n",
       "      <td>1</td>\n",
       "      <td>UNDEFINED</td>\n",
       "      <td>0</td>\n",
       "      <td>2021-06-13 11:00</td>\n",
       "      <td>LIGHT</td>\n",
       "      <td>27.0</td>\n",
       "      <td>1020.0</td>\n",
       "      <td>52.0</td>\n",
       "      <td>1.0</td>\n",
       "      <td>Sem Chuva</td>\n",
       "      <td>0.25</td>\n",
       "      <td>0.5</td>\n",
       "      <td>-0.25</td>\n",
       "    </tr>\n",
       "    <tr>\n",
       "      <th>5</th>\n",
       "      <td>1</td>\n",
       "      <td>UNDEFINED</td>\n",
       "      <td>0</td>\n",
       "      <td>2021-12-07 23:00</td>\n",
       "      <td>DARK</td>\n",
       "      <td>9.0</td>\n",
       "      <td>1015.0</td>\n",
       "      <td>94.0</td>\n",
       "      <td>0.0</td>\n",
       "      <td>Sem Chuva</td>\n",
       "      <td>0.25</td>\n",
       "      <td>0.5</td>\n",
       "      <td>0.75</td>\n",
       "    </tr>\n",
       "    <tr>\n",
       "      <th>6</th>\n",
       "      <td>1</td>\n",
       "      <td>UNDEFINED</td>\n",
       "      <td>0</td>\n",
       "      <td>2021-12-05 05:00</td>\n",
       "      <td>DARK</td>\n",
       "      <td>8.0</td>\n",
       "      <td>1026.0</td>\n",
       "      <td>87.0</td>\n",
       "      <td>1.0</td>\n",
       "      <td>Sem Chuva</td>\n",
       "      <td>-0.75</td>\n",
       "      <td>-0.5</td>\n",
       "      <td>-0.25</td>\n",
       "    </tr>\n",
       "  </tbody>\n",
       "</table>\n",
       "</div>"
      ],
      "text/plain": [
       "   intercept magnitude_of_delay  delay_in_seconds       record_date  \\\n",
       "2          1          UNDEFINED                69  2021-03-12 15:00   \n",
       "3          1              MAJOR              2297  2021-09-29 09:00   \n",
       "4          1          UNDEFINED                 0  2021-06-13 11:00   \n",
       "5          1          UNDEFINED                 0  2021-12-07 23:00   \n",
       "6          1          UNDEFINED                 0  2021-12-05 05:00   \n",
       "\n",
       "  luminosity  avg_temperature  avg_atm_pressure  avg_humidity  avg_wind_speed  \\\n",
       "2      LIGHT             14.0            1025.0          64.0             0.0   \n",
       "3      LIGHT             15.0            1028.0          75.0             1.0   \n",
       "4      LIGHT             27.0            1020.0          52.0             1.0   \n",
       "5       DARK              9.0            1015.0          94.0             0.0   \n",
       "6       DARK              8.0            1026.0          87.0             1.0   \n",
       "\n",
       "    avg_rain  incidents_0  incidents_1  incidents_2  \n",
       "2  Sem Chuva        -0.75         -0.5        -0.25  \n",
       "3  Sem Chuva         0.25         -0.5        -0.25  \n",
       "4  Sem Chuva         0.25          0.5        -0.25  \n",
       "5  Sem Chuva         0.25          0.5         0.75  \n",
       "6  Sem Chuva        -0.75         -0.5        -0.25  "
      ]
     },
     "execution_count": 51,
     "metadata": {},
     "output_type": "execute_result"
    }
   ],
   "source": [
    "data_r5 = data.copy()\n",
    "\n",
    "encoder = ce.BackwardDifferenceEncoder(cols=['incidents'])\n",
    "df_bd = encoder.fit_transform(data_r5)\n",
    "\n",
    "df_bd.head()"
   ]
  },
  {
   "cell_type": "markdown",
   "metadata": {},
   "source": [
    "#### f) Factorize\n",
    "This technique encodes the object as an enumerated type or categorical variable."
   ]
  },
  {
   "cell_type": "code",
   "execution_count": null,
   "metadata": {},
   "outputs": [],
   "source": []
  },
  {
   "cell_type": "code",
   "execution_count": null,
   "metadata": {},
   "outputs": [],
   "source": []
  },
  {
   "cell_type": "markdown",
   "metadata": {},
   "source": [
    "We will choose the factorize technique to keep going."
   ]
  },
  {
   "cell_type": "code",
   "execution_count": null,
   "metadata": {},
   "outputs": [],
   "source": []
  },
  {
   "cell_type": "markdown",
   "metadata": {},
   "source": [
    "Other option would it be to filter the <em>NaN</em> values when reading the CSV file:"
   ]
  },
  {
   "cell_type": "markdown",
   "metadata": {},
   "source": [
    "<code>data = pd.read_csv('incidents.csv', na_filter=False)</code>"
   ]
  },
  {
   "cell_type": "markdown",
   "metadata": {},
   "source": [
    "Regarding the features <em>magnitude_delay</em>, <em>luminosity</em> and <em>avg_rain</em>, we will factorize for now."
   ]
  },
  {
   "cell_type": "code",
   "execution_count": null,
   "metadata": {},
   "outputs": [],
   "source": []
  },
  {
   "cell_type": "markdown",
   "metadata": {},
   "source": [
    "## 3. Handling dates\n",
    "\n",
    "Datetime Properties and Methods (https://pandas.pydata.org/pandas-docs/version/0.23/api.html#datetimelike-properties)"
   ]
  },
  {
   "cell_type": "code",
   "execution_count": null,
   "metadata": {},
   "outputs": [],
   "source": []
  },
  {
   "cell_type": "code",
   "execution_count": null,
   "metadata": {},
   "outputs": [],
   "source": []
  },
  {
   "cell_type": "markdown",
   "metadata": {},
   "source": [
    "We are going to convert the dates from <em>object</em> to <em>datetime</em>, specifying the format we want:"
   ]
  },
  {
   "cell_type": "code",
   "execution_count": null,
   "metadata": {},
   "outputs": [],
   "source": []
  },
  {
   "cell_type": "code",
   "execution_count": null,
   "metadata": {},
   "outputs": [],
   "source": []
  },
  {
   "cell_type": "code",
   "execution_count": null,
   "metadata": {},
   "outputs": [],
   "source": []
  },
  {
   "cell_type": "markdown",
   "metadata": {},
   "source": [
    "We can extract parts of the date and create new columns with that:"
   ]
  },
  {
   "cell_type": "code",
   "execution_count": null,
   "metadata": {},
   "outputs": [],
   "source": []
  },
  {
   "cell_type": "code",
   "execution_count": null,
   "metadata": {},
   "outputs": [],
   "source": []
  },
  {
   "cell_type": "code",
   "execution_count": null,
   "metadata": {},
   "outputs": [],
   "source": []
  },
  {
   "cell_type": "markdown",
   "metadata": {},
   "source": [
    "Since the year and the minute have only one value, we will drop it."
   ]
  },
  {
   "cell_type": "code",
   "execution_count": null,
   "metadata": {},
   "outputs": [],
   "source": []
  },
  {
   "cell_type": "code",
   "execution_count": null,
   "metadata": {},
   "outputs": [],
   "source": []
  },
  {
   "cell_type": "markdown",
   "metadata": {},
   "source": [
    "Other functions to deal with dates"
   ]
  },
  {
   "cell_type": "code",
   "execution_count": null,
   "metadata": {},
   "outputs": [],
   "source": []
  },
  {
   "cell_type": "code",
   "execution_count": null,
   "metadata": {},
   "outputs": [],
   "source": []
  },
  {
   "cell_type": "code",
   "execution_count": null,
   "metadata": {},
   "outputs": [],
   "source": []
  },
  {
   "cell_type": "markdown",
   "metadata": {},
   "source": [
    "We can use <em>datetime.today</em> and fetch the actual date."
   ]
  },
  {
   "cell_type": "code",
   "execution_count": null,
   "metadata": {},
   "outputs": [],
   "source": []
  },
  {
   "cell_type": "markdown",
   "metadata": {},
   "source": [
    "It can be measured the time elapsed between the dates on the dataset and today."
   ]
  },
  {
   "cell_type": "code",
   "execution_count": null,
   "metadata": {},
   "outputs": [],
   "source": []
  },
  {
   "cell_type": "code",
   "execution_count": null,
   "metadata": {},
   "outputs": [],
   "source": []
  },
  {
   "cell_type": "markdown",
   "metadata": {},
   "source": [
    "And we can also separate each component of the date by day, month, hour, time, etc."
   ]
  },
  {
   "cell_type": "code",
   "execution_count": null,
   "metadata": {},
   "outputs": [],
   "source": []
  },
  {
   "cell_type": "markdown",
   "metadata": {},
   "source": [
    "Now we need to choose how to deal with the <em>record_date</em>."
   ]
  },
  {
   "cell_type": "code",
   "execution_count": null,
   "metadata": {},
   "outputs": [],
   "source": []
  },
  {
   "cell_type": "code",
   "execution_count": null,
   "metadata": {},
   "outputs": [],
   "source": []
  },
  {
   "cell_type": "markdown",
   "metadata": {},
   "source": [
    "There are other features that need to be worked on, but it's up to you now!"
   ]
  },
  {
   "cell_type": "markdown",
   "metadata": {
    "tags": []
   },
   "source": [
    "# Exploratory Data Analysis\n",
    "\n",
    "Time to put your data viz skills to the test! Try to recreate the following plots, make sure to import the libraries you'll need!"
   ]
  },
  {
   "cell_type": "code",
   "execution_count": null,
   "metadata": {},
   "outputs": [],
   "source": []
  },
  {
   "cell_type": "markdown",
   "metadata": {},
   "source": [
    "Let's analyze through a heatmap"
   ]
  },
  {
   "cell_type": "code",
   "execution_count": null,
   "metadata": {},
   "outputs": [],
   "source": []
  },
  {
   "cell_type": "markdown",
   "metadata": {},
   "source": [
    "We can see that there is a relation between \n",
    "- <em>magnitude_of_delay</em> and <em>delay_in_seconds</em>\n",
    "- <em>magnitude_of_delay</em> and <em>record_date</em>\n",
    "- <em>avg_humidity</em> and <em>luminosity<em>"
   ]
  },
  {
   "cell_type": "markdown",
   "metadata": {},
   "source": [
    "Let's see with a pairplot"
   ]
  },
  {
   "cell_type": "code",
   "execution_count": null,
   "metadata": {},
   "outputs": [],
   "source": []
  },
  {
   "cell_type": "markdown",
   "metadata": {},
   "source": [
    "It's hard to analyze the relation of all features. Let's create jointplots between the features with notice a relationship."
   ]
  },
  {
   "cell_type": "markdown",
   "metadata": {},
   "source": [
    "Jointplot of <em>Magnitude_of_delay vs. Delay_in_seconds</em>"
   ]
  },
  {
   "cell_type": "code",
   "execution_count": null,
   "metadata": {},
   "outputs": [],
   "source": []
  },
  {
   "cell_type": "markdown",
   "metadata": {},
   "source": [
    "Jointplot <em>Luminosity vs. Avg_temperature</em>"
   ]
  },
  {
   "cell_type": "code",
   "execution_count": null,
   "metadata": {},
   "outputs": [],
   "source": []
  },
  {
   "cell_type": "markdown",
   "metadata": {},
   "source": [
    "Jointplot <em>Avg_humidity vs. Delay_in_seconds</em>"
   ]
  },
  {
   "cell_type": "code",
   "execution_count": null,
   "metadata": {},
   "outputs": [],
   "source": []
  },
  {
   "cell_type": "markdown",
   "metadata": {},
   "source": [
    "Jointplot <em>Avg_temperature vs. Avg_humidity</em>"
   ]
  },
  {
   "cell_type": "code",
   "execution_count": null,
   "metadata": {},
   "outputs": [],
   "source": []
  },
  {
   "cell_type": "markdown",
   "metadata": {},
   "source": [
    "It seems there are a relation between <em>Avg_temperature</em> and <em>Avg_humidity</em>. Let´s create a lmplot <em>Avg_temperature vs. Avg_humidity</em>"
   ]
  },
  {
   "cell_type": "code",
   "execution_count": null,
   "metadata": {},
   "outputs": [],
   "source": []
  },
  {
   "cell_type": "code",
   "execution_count": null,
   "metadata": {},
   "outputs": [],
   "source": []
  },
  {
   "cell_type": "code",
   "execution_count": null,
   "metadata": {},
   "outputs": [],
   "source": []
  }
 ],
 "metadata": {
  "kernelspec": {
   "display_name": "Python 3 (ipykernel)",
   "language": "python",
   "name": "python3"
  },
  "language_info": {
   "codemirror_mode": {
    "name": "ipython",
    "version": 3
   },
   "file_extension": ".py",
   "mimetype": "text/x-python",
   "name": "python",
   "nbconvert_exporter": "python",
   "pygments_lexer": "ipython3",
   "version": "3.10.13"
  }
 },
 "nbformat": 4,
 "nbformat_minor": 4
}
